{
  "nbformat": 4,
  "nbformat_minor": 0,
  "metadata": {
    "colab": {
      "name": "CodingStudy211105.ipynb",
      "provenance": [],
      "collapsed_sections": [],
      "toc_visible": true,
      "authorship_tag": "ABX9TyPoztaLwCTXpjG5I03HAVbn",
      "include_colab_link": true
    },
    "kernelspec": {
      "name": "python3",
      "display_name": "Python 3"
    },
    "language_info": {
      "name": "python"
    }
  },
  "cells": [
    {
      "cell_type": "markdown",
      "metadata": {
        "id": "view-in-github",
        "colab_type": "text"
      },
      "source": [
        "<a href=\"https://colab.research.google.com/github/crakcode/CodingStudy/blob/main/CodingStudy211105.ipynb\" target=\"_parent\"><img src=\"https://colab.research.google.com/assets/colab-badge.svg\" alt=\"Open In Colab\"/></a>"
      ]
    },
    {
      "cell_type": "markdown",
      "metadata": {
        "id": "2EGXQ-zG7Vd8"
      },
      "source": [
        "## 구현 연습하기 \n",
        "\n",
        "\n",
        "1. 한줄로 서기(1138)\n",
        "2. 경쟁적 전염(18405) :추후 다시 풀어볼것!\n",
        "3. 회문: \n",
        "4. 붐버맨\n",
        "5. 트럭 13335\n",
        "6. 완전 이진트리 \n",
        "7. 경비원\n",
        "8. 수이어쓰기2"
      ]
    },
    {
      "cell_type": "markdown",
      "metadata": {
        "id": "LN6Lp6A37cz6"
      },
      "source": [
        "## 한줄로 서기\n",
        "\n",
        "- 문제: 백준 1138\n",
        "- N의 범위:N은 10보다 작거나 같은 자연수\n",
        "- 시간복잡도(추측):\n",
        "\n"
      ]
    },
    {
      "cell_type": "code",
      "metadata": {
        "id": "Wi4KcGpu9iUc"
      },
      "source": [
        ""
      ],
      "execution_count": null,
      "outputs": []
    },
    {
      "cell_type": "markdown",
      "metadata": {
        "id": "nlH9jtgj9iYW"
      },
      "source": [
        "## 경쟁적 전염\n",
        "\n",
        "- 문제: 백준 18405\n",
        "- N의 범위:N은 10보다 작거나 같은 자연수\n",
        "- 시간복잡도(추측):\n",
        "\n"
      ]
    },
    {
      "cell_type": "code",
      "metadata": {
        "colab": {
          "base_uri": "https://localhost:8080/",
          "height": 136
        },
        "id": "plZsx0pD9rMZ",
        "outputId": "90d9efd1-0c02-4bb0-d0e1-e1fd6a5f34e8"
      },
      "source": [
        "'''\n",
        "\n",
        "1. dq에 0이 아닌곳만 넣기\n",
        "2. dq에서 계속적으로 넣어준다. \n",
        "3. dq에서 계속적으로 뺴면서 탐색처리 해준다. \n",
        "\n",
        "'''\n",
        "from collections import deque \n",
        "\n",
        "n,k=map(int,input().split())\n",
        "\n",
        "visited=[[False]*(n) for i in range(n)]\n",
        "matrix=[]\n",
        "\n",
        "\n",
        "\n",
        "dx,dy=[0,0,-1,1],[1,-1,0,0]\n",
        "\n",
        "\n",
        "\n",
        "dq=deque()\n",
        "    \n",
        "for i in range(n):\n",
        "  temp=list(map(int,input().split()))\n",
        "  for j in range(n):\n",
        "    if temp[j]!=0:\n",
        "      dq.append((temp[j],i,j))\n",
        "  matrix.append(temp)\n",
        "\n",
        "s,X,Y=map(int,input().split())\n",
        "\n",
        "cnt=0\n",
        "\n",
        "while dq:\n",
        "  if cnt==s:\n",
        "    break\n",
        "  for _ in range(len(dq)):\n",
        "    prev,x,y=dq.popleft()\n",
        "    for k in range(4):\n",
        "      nx=x+dx[i]\n",
        "      ny=y+dy[i]\n",
        "      if (0<=nx<n and 0<=ny<n) and matrix[nx][ny]==0:\n",
        "        matrix[nx][ny]=prev\n",
        "        dq.append((prev,nx,ny))\n",
        "  cnt+=1\n",
        "\n",
        "for i in matrix:\n",
        "  print(i)\n",
        "print(matrix[X-1][Y-1])\n",
        "\n",
        "\n",
        "\n"
      ],
      "execution_count": null,
      "outputs": [
        {
          "output_type": "error",
          "ename": "IndentationError",
          "evalue": "ignored",
          "traceback": [
            "\u001b[0;36m  File \u001b[0;32m\"<ipython-input-1-0c86ed6bd18f>\"\u001b[0;36m, line \u001b[0;32m25\u001b[0m\n\u001b[0;31m    for _ in range(n):\u001b[0m\n\u001b[0m                      ^\u001b[0m\n\u001b[0;31mIndentationError\u001b[0m\u001b[0;31m:\u001b[0m expected an indented block\n"
          ]
        }
      ]
    },
    {
      "cell_type": "markdown",
      "metadata": {
        "id": "QGWHsMMuAqoB"
      },
      "source": [
        "## 큰수 만들기\n",
        "\n",
        "- 문제: 프로그래머스 \n",
        "- N의 범위:N은 10보다 작거나 같은 자연수\n",
        "- 시간복잡도(추측):\n",
        "\n"
      ]
    },
    {
      "cell_type": "code",
      "metadata": {
        "id": "hgM6lHWZAvHN"
      },
      "source": [
        "from itertools import combinations\n",
        "\n",
        "\n",
        "number=input()\n",
        "\n",
        "n=len(number)\n",
        "k=int(input())\n",
        "arr=[i for i in range(n)]\n",
        "results=[]\n",
        "\n",
        "for i in combinations(arr,n-k):\n",
        "  results.append(i)\n",
        "  print(i)\n",
        "\n",
        "m=0\n",
        "for result in results:\n",
        "  t_int=0\n",
        "  temp=\"\"\n",
        "  for i in result:\n",
        "    temp+=number[i]\n",
        "  \n",
        "  t_int=int(temp)\n",
        "  if t_int>m:\n",
        "    m=t_int\n",
        "\n",
        "print(m)  \n",
        "\n",
        "\n",
        "  \n",
        "\n",
        "\n"
      ],
      "execution_count": null,
      "outputs": []
    },
    {
      "cell_type": "code",
      "metadata": {
        "colab": {
          "base_uri": "https://localhost:8080/"
        },
        "id": "HaOKsDLuDW7o",
        "outputId": "87defef4-fec4-4f09-fa84-2863afca7c5e"
      },
      "source": [
        "from collections import deque\n",
        "\n",
        "number=input()\n",
        "k=int(input())\n",
        "arr=list(number)\n",
        "\n",
        "\n",
        "dq=deque(arr)\n",
        "\n",
        "cnt=0\n",
        "\n",
        "while True:\n",
        "  i=0\n",
        "  now=dq.popleft()\n",
        "  cnt+=1\n",
        "  while now > dq[i] and cnt!=k:\n",
        "    dq.pop(i) \n",
        "    cnt+=1\n",
        "  if cnt==k:\n",
        "    break\n",
        "\n",
        "print(dq)\n",
        "\n",
        "\n",
        "1924\n"
      ],
      "execution_count": null,
      "outputs": [
        {
          "output_type": "stream",
          "name": "stdout",
          "text": [
            "2233\n",
            "['2', '2', '3', '3']\n"
          ]
        }
      ]
    },
    {
      "cell_type": "markdown",
      "metadata": {
        "id": "Oz0uH28sCWtM"
      },
      "source": [
        "## 마법사 상어와 파이어볼\n",
        "\n",
        "- 문제: 프로그래머스 \n",
        "- N의 범위:N은 10보다 작거나 같은 자연수\n",
        "- 시간복잡도(추측):\n",
        "\n"
      ]
    },
    {
      "cell_type": "code",
      "metadata": {
        "id": "PibUxckVGFiZ"
      },
      "source": [
        ""
      ],
      "execution_count": null,
      "outputs": []
    },
    {
      "cell_type": "markdown",
      "metadata": {
        "id": "bKklMsvWGHPz"
      },
      "source": [
        "## 트리의 지름\n",
        "\n",
        "- 문제: 프로그래머스 \n",
        "- N의 범위:N은 10보다 작거나 같은 자연수\n",
        "- 시간복잡도(추측):\n",
        "\n"
      ]
    },
    {
      "cell_type": "code",
      "metadata": {
        "id": "wUFISZ2tGMV5"
      },
      "source": [
        "import sys\n",
        "input=sys.stdin.readline\n",
        "sys.setrecursionlimit(10**6)\n",
        "\n",
        "n=int(input())\n",
        "graph=[[] for i in range(n+1)]\n",
        "\n",
        "\n",
        "\n",
        "def bfs(v):\n",
        "  dq=deque()\n",
        "  dq.append(v)\n",
        "  while dq:\n",
        "    now=dq.popleft()\n",
        "    for next,w in graph[now]:\n",
        "      if distance[next]==-1:\n",
        "        distance[next]=distance[now]+w\n",
        "        dq.append(next)\n",
        "        \n",
        "\n",
        "for _ in range(n):\n",
        "  a,b,c=map(int,input().split())\n",
        "  graph[a].append((b,c))\n",
        "  graph[b].append((a,c))\n",
        "\n",
        "\n",
        "distance=[-1]*(n+1)\n",
        "distance[1]=0\n",
        "dfs(1)\n",
        "\n",
        "max_index=distance.index(max(distance))\n",
        "distance=[-1]*(n+1)\n",
        "distance[max_index]=0\n",
        "dfs(max_index)\n",
        "print(max(distance))\n",
        "\n",
        "\n",
        "\n",
        "\n"
      ],
      "execution_count": null,
      "outputs": []
    },
    {
      "cell_type": "markdown",
      "metadata": {
        "id": "OTtRIAlJOEOn"
      },
      "source": [
        "## 트리의 지름\n",
        "\n",
        "- 문제: 백준 1167 \n",
        "- N의 범위:N은 10보다 작거나 같은 자연수\n",
        "- 시간복잡도(추측):\n",
        "\n"
      ]
    },
    {
      "cell_type": "code",
      "metadata": {
        "id": "1T1hYaYsOJ5w"
      },
      "source": [
        "from collections import deque\n",
        "n=int(input())\n",
        "graph=[[] for i in range(n+1)]\n",
        "\n",
        "for _ in range(n):\n",
        "  arr=list(map(int,input().split()))\n",
        "  dq=deque(arr)\n",
        "  a=dq.popleft()\n",
        "  while len(dq)!=1:\n",
        "    b=dq.popleft()\n",
        "    w=dq.popleft()\n",
        "    graph[a].append((b,c))\n",
        "    graph[b].append((a,c))\n",
        "  print(graph)\n",
        "    \n",
        "\n",
        "\n",
        "    \n",
        "\n"
      ],
      "execution_count": null,
      "outputs": []
    },
    {
      "cell_type": "markdown",
      "metadata": {
        "id": "x1kESQ4NRywl"
      },
      "source": [
        "## 트리의 순회\n",
        "\n",
        "- 문제: 백준 1167 \n",
        "- N의 범위:N은 10보다 작거나 같은 자연수\n",
        "- 시간복잡도(추측):\n",
        "\n"
      ]
    },
    {
      "cell_type": "code",
      "metadata": {
        "colab": {
          "base_uri": "https://localhost:8080/"
        },
        "id": "qUCE6VlgfC0e",
        "outputId": "d5124483-6ab3-4b81-d3c1-c1f311b3b60a"
      },
      "source": [
        "n=int(input())\n",
        "\n",
        "arr=[i for i in range(1,n+1)]\n",
        "visited=[False]*(n+1)\n",
        "\n",
        "def DFS(v):\n",
        "  if v<=n:\n",
        "    visited[v]=True\n",
        "    DFS(2*v+1)\n",
        "    print(v)\n",
        "    DFS(2*v)\n",
        "DFS(1)\n",
        "\n"
      ],
      "execution_count": null,
      "outputs": [
        {
          "output_type": "stream",
          "name": "stdout",
          "text": [
            "7\n",
            "7\n",
            "3\n",
            "6\n",
            "1\n",
            "5\n",
            "2\n",
            "4\n"
          ]
        }
      ]
    },
    {
      "cell_type": "markdown",
      "metadata": {
        "id": "fxVeLIrtV4ut"
      },
      "source": [
        "## 프고르매이\n"
      ]
    },
    {
      "cell_type": "markdown",
      "metadata": {
        "id": "aYBLlJU4NeNr"
      },
      "source": [
        "# 새 섹션"
      ]
    },
    {
      "cell_type": "code",
      "metadata": {
        "colab": {
          "base_uri": "https://localhost:8080/"
        },
        "id": "pWglnNmlV58k",
        "outputId": "07e044cb-dc33-4c1b-f355-bbe9c5b199c5"
      },
      "source": [
        "from collections import deque \n",
        "people=[2, 3, 4] \n",
        "tshirts=[1,2,3]\n",
        "\n",
        "\n",
        "\n",
        "people.sort()\n",
        "tshirts.sort()\n",
        "\n",
        "cnt=0\n",
        "for p in people:\n",
        "  for t in tshirts:\n",
        "    if p<=t:\n",
        "      idx=tshirts.index(t)\n",
        "      tshirts.pop(idx)\n",
        "      cnt+=1\n",
        "\n",
        "print(cnt)\n",
        "    \n",
        "\n",
        "    "
      ],
      "execution_count": null,
      "outputs": [
        {
          "output_type": "stream",
          "name": "stdout",
          "text": [
            "2\n"
          ]
        }
      ]
    },
    {
      "cell_type": "code",
      "metadata": {
        "colab": {
          "base_uri": "https://localhost:8080/"
        },
        "id": "ePvhmM-SZ7we",
        "outputId": "1262c6af-9be9-4eca-df6b-e332e71f96b8"
      },
      "source": [
        "a=\"sdSd\"\n",
        "a=a.lower()\n",
        "print(a)"
      ],
      "execution_count": null,
      "outputs": [
        {
          "output_type": "stream",
          "name": "stdout",
          "text": [
            "sdsd\n"
          ]
        }
      ]
    },
    {
      "cell_type": "code",
      "metadata": {
        "colab": {
          "base_uri": "https://localhost:8080/"
        },
        "id": "g4caOgqTwBzp",
        "outputId": "5b7d4c19-b477-4875-8232-ddbb08f319bc"
      },
      "source": [
        "a=\"anagram\"\n",
        "b=\"MARGANA\"\n",
        "\n",
        "a=a.lower()\n",
        "b=b.lower()\n",
        "    \n",
        "h={}\n",
        "n=len(a)\n",
        "\n",
        "\n",
        "for x in participant:\n",
        "  if h in d:\n",
        "    h[x]+=1 \n",
        "  else:\n",
        "    h[x]=1    \n",
        "\n",
        "for i in a:\n",
        "  h[i]=h.get(i,0)+1\n",
        "\n",
        "for i in b:\n",
        "  h[i]-=1\n",
        "print(h.items())\n",
        "\n",
        "flag=True \n",
        "for k,v in h.items():\n",
        "  if v!=0:\n",
        "    flag=False\n",
        "\n",
        "print(flag)"
      ],
      "execution_count": null,
      "outputs": [
        {
          "output_type": "stream",
          "name": "stdout",
          "text": [
            "dict_items([('a', 0), ('n', 0), ('g', 0), ('r', 0), ('m', 0)])\n",
            "True\n"
          ]
        }
      ]
    },
    {
      "cell_type": "code",
      "metadata": {
        "id": "qDgwhCKKxciS"
      },
      "source": [
        "a=\"anagram\"\n",
        "b=\"MARGANA\"\n",
        "\n",
        "a=a.lower()\n",
        "b=b.lower()\n",
        "    \n",
        "h={}\n",
        "n=len(a)\n",
        "\n",
        "\n",
        "for x in a:\n",
        "  if x in h:\n",
        "    h[x]+=1\n",
        "  else:\n",
        "    h[x]=1   \n",
        "\n",
        "for x in b:\n",
        "  if x in h:\n",
        "    h[x]-=1\n",
        "  else:\n",
        "    h[x]=1\n",
        "    "
      ],
      "execution_count": null,
      "outputs": []
    },
    {
      "cell_type": "code",
      "metadata": {
        "colab": {
          "base_uri": "https://localhost:8080/"
        },
        "id": "keam9Fik0czD",
        "outputId": "808504f1-f49c-4bc0-b443-78752add146d"
      },
      "source": [
        "import math \n",
        "\n",
        "# 4 9 5 8\n",
        "# 2\t3\t4\n",
        "monster=list(map(int,input().split()))\n",
        "s1,s2,s3=map(int,input().split())\n",
        "\n",
        "\n",
        "\n",
        "cnt1,cnt2=0,0\n",
        "\n",
        "for i in range(1,s1+1):\n",
        "  for j in range(1,s2+1):\n",
        "    for k in range(1,s3+1):\n",
        "      print(i,j,k)\n",
        "      if 1+i+j+k not in monster:\n",
        "        cnt1+=1\n",
        "      else:\n",
        "        cnt2+=1\n",
        "result=cnt1/(cnt1+cnt2)\n",
        "print(math.trunc(result*1000))\n",
        "# print(str(result*1000)[:3])\n",
        "# 0\n"
      ],
      "execution_count": null,
      "outputs": [
        {
          "output_type": "stream",
          "name": "stdout",
          "text": [
            "4 9 5 8\n",
            "2 3 3 \n",
            "1 1 1\n",
            "1 1 2\n",
            "1 1 3\n",
            "1 2 1\n",
            "1 2 2\n",
            "1 2 3\n",
            "1 3 1\n",
            "1 3 2\n",
            "1 3 3\n",
            "2 1 1\n",
            "2 1 2\n",
            "2 1 3\n",
            "2 2 1\n",
            "2 2 2\n",
            "2 2 3\n",
            "2 3 1\n",
            "2 3 2\n",
            "2 3 3\n",
            "555\n"
          ]
        }
      ]
    },
    {
      "cell_type": "markdown",
      "metadata": {
        "id": "7O6a_DeiNfjS"
      },
      "source": [
        "# 그리디 연습하기\n",
        "\n",
        "1. 통나무 건너뛰기: 11497번\n",
        "2. 전구와 스위치 2138\n",
        "3. 신입사원 1946\n",
        "4. A와B 12904\n",
        "5. 강의실 배정 11000\n",
        "6. 센서 2212\n",
        "7. 도서관 1461\n",
        "8. 배 1092\n",
        "9. 주사위 1041\n",
        "10. 공주님의 정원 2457\n",
        "\n"
      ]
    },
    {
      "cell_type": "markdown",
      "metadata": {
        "id": "Vuhap1NoNk-7"
      },
      "source": [
        "## 통나무 건너뛰기\n",
        "\n",
        "- 문제: 백준 1167 \n",
        "- N의 범위:N은 10보다 작거나 같은 자연수\n",
        "- 시간복잡도(추측):\n",
        "\n"
      ]
    },
    {
      "cell_type": "code",
      "metadata": {
        "id": "5P3QLmsRTEAY"
      },
      "source": [
        ""
      ],
      "execution_count": null,
      "outputs": []
    },
    {
      "cell_type": "markdown",
      "metadata": {
        "id": "ue59tpQ-Zk9x"
      },
      "source": [
        "## 신입사원"
      ]
    },
    {
      "cell_type": "code",
      "metadata": {
        "id": "KHlwHrryZmcn"
      },
      "source": [
        "\n",
        "\n",
        "# 서류 심사 순위를 오름차순으로 정렬하면 \n",
        "# 맨앞에 있는 애가 기준이 되어 얘보다 모든값들은 서류 심사 순위가 낮다.\n",
        "\n",
        "# 따라서 서류심사가 아니라 최소한 면접심사 순위는 얘보다 높아야한다.\n",
        "# 그러면 처음에는 얘의 면접심사를 넣어주고 얘보다 순위가 높은애이면 min의 값을 초기화 시키고 \n",
        "# 계속적으로 비교한다.\n",
        "\n",
        "t=int(input())\n",
        "for _ in range(t):\n",
        "  n=int(input())\n",
        "  arr=[]\n",
        "  for _ in range(n):\n",
        "    a,b=map(int,input().split())\n",
        "    arr.append((a,b))\n",
        "  # 정렬하게 되면 결국 서류심사 1순위는 얘가 된다. \n",
        "  # 그럼 나머지는 얘보다 면접심사라도 높아야 한다. \n",
        "\n",
        "  arr.sort()\n",
        "\n",
        "  m=arr[0][1]\n",
        "  cnt=1\n",
        "  for i in range(1,n):\n",
        "    if arr[i][1]<m:\n",
        "      m=arr[i][1]\n",
        "      cnt+=1\n",
        "  print(cnt)\n",
        "\n",
        "\n",
        "\n",
        "\n",
        "\n",
        "\n"
      ],
      "execution_count": null,
      "outputs": []
    },
    {
      "cell_type": "code",
      "metadata": {
        "colab": {
          "base_uri": "https://localhost:8080/"
        },
        "id": "VDCZqRuS1qcc",
        "outputId": "df912ad0-f36d-465c-feae-161845bceb31"
      },
      "source": [
        "s=input()\n",
        "t=input()\n",
        "\n",
        "h={}\n",
        "\n",
        "for x in t:\n",
        "  if x in h:\n",
        "    h[x]+=1\n",
        "  else:\n",
        "    h[x]=1\n",
        "\n",
        "for x in s:\n",
        "  if x in h:\n",
        "    h[x]-=1\n",
        "\n",
        "hash_tb=list(h.items())\n",
        "n=len(t)-len(s)\n",
        "\n",
        "\n",
        "for _ in range(n):\n",
        "  hash_tb.sort(key=lambda x:x[1],reverse=True)\n",
        "  if s[::-1]==t[:len(s)]:\n",
        "    s=s[::-1]\n",
        "    s+=\"B\"\n",
        "  else:\n",
        "    s+=\"A\"\n",
        "\n",
        "if s==t:\n",
        "  print(1)\n",
        "else:\n",
        "  print(0)\n",
        "\n",
        "\n",
        "\n",
        "\n",
        "\n",
        "\n"
      ],
      "execution_count": 19,
      "outputs": [
        {
          "output_type": "stream",
          "name": "stdout",
          "text": [
            "AB\n",
            "ABB\n",
            "AB\n",
            "[('B', 1), ('A', 0)]\n",
            "ABA\n"
          ]
        }
      ]
    },
    {
      "cell_type": "code",
      "metadata": {
        "id": "DvlDJ-cw9izB"
      },
      "source": [
        "# 반대로 생각 \n",
        "\n",
        "# t의 입장에서 s를 만드는것으로 생각해본다. \n",
        "\n",
        "# 1. a 를 붙인다. -> a를 뺀다.\n",
        "# 2. 뒤집어서 b를 붙인다. -> b를 뺴고 뒤집는다.\n",
        "\n",
        "s=list(map(str,input()))\n",
        "t=list(map(str,input()))\n",
        "\n",
        "\n",
        "flag=False\n",
        "\n",
        "while t:\n",
        "  if t[-1]==\"A\":\n",
        "    t.pop()\n",
        "  elif t[-1]==\"B\":\n",
        "    t.pop()\n",
        "    t=t.reverse()\n",
        "  if s==t:\n",
        "    flag=True\n",
        "\n",
        "if flag:\n",
        "  print(1)\n",
        "else:\n",
        "  print(0)\n",
        "\n",
        "\n"
      ],
      "execution_count": null,
      "outputs": []
    },
    {
      "cell_type": "code",
      "metadata": {
        "colab": {
          "base_uri": "https://localhost:8080/"
        },
        "id": "77DcR-XZAV7r",
        "outputId": "1a4aaecb-f012-4e48-a8b9-b7b56d13549d"
      },
      "source": [
        "\n",
        "dq=deque([1,2,3])\n",
        "\n",
        "dq=list(dq)\n",
        "print(len(dq))"
      ],
      "execution_count": 38,
      "outputs": [
        {
          "output_type": "stream",
          "name": "stdout",
          "text": [
            "3\n"
          ]
        }
      ]
    },
    {
      "cell_type": "code",
      "metadata": {
        "colab": {
          "base_uri": "https://localhost:8080/"
        },
        "id": "adZ16t_14LQK",
        "outputId": "775d6fe1-00ce-4d36-c09b-b884243d040a"
      },
      "source": [
        "\n",
        "s=\"ABB\"\n",
        "print(s[::-1])"
      ],
      "execution_count": 20,
      "outputs": [
        {
          "output_type": "stream",
          "name": "stdout",
          "text": [
            "BBA\n"
          ]
        }
      ]
    },
    {
      "cell_type": "code",
      "metadata": {
        "id": "NWnP3irr2ouK"
      },
      "source": [
        ""
      ],
      "execution_count": null,
      "outputs": []
    }
  ]
}
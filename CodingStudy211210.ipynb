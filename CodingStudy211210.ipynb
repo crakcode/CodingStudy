{
  "nbformat": 4,
  "nbformat_minor": 0,
  "metadata": {
    "colab": {
      "name": "CodingStudy211210.ipynb",
      "provenance": [],
      "collapsed_sections": [],
      "authorship_tag": "ABX9TyNEY/5MR3rXlu1a6edejliV",
      "include_colab_link": true
    },
    "kernelspec": {
      "name": "python3",
      "display_name": "Python 3"
    },
    "language_info": {
      "name": "python"
    }
  },
  "cells": [
    {
      "cell_type": "markdown",
      "metadata": {
        "id": "view-in-github",
        "colab_type": "text"
      },
      "source": [
        "<a href=\"https://colab.research.google.com/github/crakcode/CodingStudy/blob/main/CodingStudy211210.ipynb\" target=\"_parent\"><img src=\"https://colab.research.google.com/assets/colab-badge.svg\" alt=\"Open In Colab\"/></a>"
      ]
    },
    {
      "cell_type": "markdown",
      "metadata": {
        "id": "csU-0HIyAlZL"
      },
      "source": [
        "## 프로그래머스 \n",
        "\n",
        "\n",
        "## 백준\n",
        "- N-Queen\n",
        "- 트리의 지름\n",
        "- 웜홀\n",
        "- 후위표기식\n",
        "- 피보나치수 6\n",
        "- 트리의 순회 \n",
        "\n"
      ]
    },
    {
      "cell_type": "code",
      "metadata": {
        "colab": {
          "base_uri": "https://localhost:8080/"
        },
        "id": "5MfMv881IpQZ",
        "outputId": "804cb894-b965-4b54-82f1-ddfa0d50b33c"
      },
      "source": [
        "\n",
        "## 트리구현 \n",
        "\n",
        "\n",
        "class Node:\n",
        "  def __init__(self,value):\n",
        "    self.value = value\n",
        "    self.left = None\n",
        "    self.right = None\n",
        "\n",
        "class BST:\n",
        "\n",
        "  def __init__(self,root):\n",
        "    self.root=root\n",
        "\n",
        "  def insert(self,value):\n",
        "    self.current_node=self.root\n",
        "    while True:\n",
        "      if value<self.current_node.value:\n",
        "        if self.current_node.left!=None:\n",
        "          self.current_node=self.current_node.left\n",
        "        else:\n",
        "          self.current_node.left=Node(value)\n",
        "          break\n",
        "      else:\n",
        "        if self.current_node.right!=None:\n",
        "          self.current_node=self.current_node.right\n",
        "        else:\n",
        "          self.current_node.right=Node(value)\n",
        "          break \n",
        "  \n",
        "  def search(self,value):\n",
        "    self.current_node=self.root\n",
        "    \n",
        "    while self.current_node:\n",
        "      if value==self.current_node.value:\n",
        "        return True\n",
        "      elif value>self.current_node.value:\n",
        "        self.current_node=self.current_node.right\n",
        "      else:\n",
        "        self.current_node=self.current_node.left\n",
        "    \n",
        "    return False \n",
        "\n",
        "\n",
        "\n",
        "\n",
        "\n",
        "\n",
        "\n",
        "\n",
        "\n",
        "    return self.root\n",
        "\n",
        "bst=BST(Node(2))\n",
        "bst.insert(3)\n",
        "bst.insert(1)\n",
        "\n",
        "print(bst.search(3))\n"
      ],
      "execution_count": 14,
      "outputs": [
        {
          "output_type": "stream",
          "name": "stdout",
          "text": [
            "True\n"
          ]
        }
      ]
    },
    {
      "cell_type": "code",
      "metadata": {
        "id": "hb1f2dQ-wLgw"
      },
      "source": [
        "\n",
        "\n",
        "\n",
        "def find(n):\n",
        "  A=[[1,1],[1,0]]\n",
        "  temp=[[0]*2 for i in range(2)]\n",
        "  for k in range(2):\n",
        "    for i in range(2):\n",
        "      for j in range(2):\n",
        "        A[k][i]*A[j][k]\n",
        "        \n",
        "\n",
        "\n",
        "\n",
        "\n",
        "\n",
        "\n",
        "\n",
        "\n",
        "\n",
        "\n"
      ],
      "execution_count": null,
      "outputs": []
    },
    {
      "cell_type": "code",
      "metadata": {
        "colab": {
          "base_uri": "https://localhost:8080/"
        },
        "id": "-YV76LaPzf7r",
        "outputId": "785f3e13-d0c1-4b36-ee2e-a16e537b2ac2"
      },
      "source": [
        "A=[[1,1],[1,0]]\n",
        "def multi(a,b):\n",
        "    temp=[[0]*len(b[0]) for _ in range(2)]\n",
        "    for i in range(2):\n",
        "        for j in range(len(b[0])):\n",
        "            sum=0\n",
        "            for k in range(2):\n",
        "                sum+=a[i][k]*b[k][j]\n",
        "            temp[i][j]=sum\n",
        "    return tempe\n",
        "print(multi(A,A))"
      ],
      "execution_count": 9,
      "outputs": [
        {
          "output_type": "stream",
          "name": "stdout",
          "text": [
            "[[2, 1], [1, 1]]\n"
          ]
        }
      ]
    }
  ]
}
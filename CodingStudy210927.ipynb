{
  "nbformat": 4,
  "nbformat_minor": 0,
  "metadata": {
    "colab": {
      "name": "CodingStudy210927.ipynb",
      "provenance": [],
      "collapsed_sections": [],
      "authorship_tag": "ABX9TyPEAoK6+aFnwKrIv/UzVriv",
      "include_colab_link": true
    },
    "kernelspec": {
      "name": "python3",
      "display_name": "Python 3"
    },
    "language_info": {
      "name": "python"
    }
  },
  "cells": [
    {
      "cell_type": "markdown",
      "metadata": {
        "id": "view-in-github",
        "colab_type": "text"
      },
      "source": [
        "<a href=\"https://colab.research.google.com/github/crakcode/CodingStudy/blob/main/CodingStudy210927.ipynb\" target=\"_parent\"><img src=\"https://colab.research.google.com/assets/colab-badge.svg\" alt=\"Open In Colab\"/></a>"
      ]
    },
    {
      "cell_type": "markdown",
      "metadata": {
        "id": "O2Cop0iBoLH7"
      },
      "source": [
        "### 공주님을 구해라 \n",
        "\n",
        "[문제링크](https://www.acmicpc.net/problem/15652)\n",
        "\n",
        "- 문제 정보: 백준 12851번\n",
        "- 출처: SolvedAC\n",
        "\n",
        "\n"
      ]
    },
    {
      "cell_type": "code",
      "metadata": {
        "colab": {
          "base_uri": "https://localhost:8080/"
        },
        "id": "NRKGnfna9989",
        "outputId": "f9443503-cc36-414b-b657-e49806d10fa0"
      },
      "source": [
        "from collections import deque \n",
        "\n",
        "n,m,t=map(int,input().split())\n",
        "\n",
        "visited=[[[0,0] for i in range(m)] for i in range(n)]\n",
        "matrix=[]\n",
        "\n",
        "for _ in range(n):\n",
        "  temp=list(map(int,input().split()))\n",
        "  matrix.append(temp)\n",
        "\n",
        "for i in matrix:\n",
        "  print(i)\n",
        "\n",
        "dq=deque()\n",
        "dq.append((0,0,0))\n",
        "\n",
        "dx=[-1,1,0,0]\n",
        "dy=[0,0,-1,1]\n",
        "\n",
        "\n",
        "def bfs():\n",
        "  x,y,w=dq.popleft()\n",
        "  if x==n-1 and y==m-1:\n",
        "    return visited[x][y][w]\n",
        "  for i in range(4):\n",
        "    nx=x+dx[i]\n",
        "    ny=y+dy[i]\n",
        "    if 0<=nx<n and 0<=ny<m:\n",
        "      if matrix[nx][ny]==2:\n",
        "        visited[nx][ny][1]=visited[x][y][0]+1\n",
        "        dq.append((nx,ny,1))\n",
        "      if matrix[nx][ny]==1 and w==1:\n",
        "        visited[nx][ny][0]=visited[x][y][1]+1\n",
        "        dq.append((nx,ny,0))\n",
        "\n",
        "      if matrix[nx][ny]==0 and w==1:\n",
        "        visited[nx][ny][0]=visited[x][y][1]+1\n",
        "        dq.append((nx,ny,0))\n",
        "\n",
        "      if matrix[nx][ny]==0 and visited[nx][ny][w]==0:\n",
        "        visited[nx][ny][w]=visited[x][y][w]+1\n",
        "        dq.append((nx,ny,w))\n",
        "bfs()\n",
        "\n",
        "for i in visited:\n",
        "  print(i)\n",
        "\n",
        "\n",
        "\n",
        "\n",
        "\n",
        "\n",
        "\n",
        "\n"
      ],
      "execution_count": null,
      "outputs": [
        {
          "output_type": "stream",
          "name": "stdout",
          "text": [
            "4 4 16\n",
            "0 0 0 1\n",
            "0 0 1 1\n",
            "0 2 0 1\n",
            "0 1 0 0\n",
            "[0, 0, 0, 1]\n",
            "[0, 0, 1, 1]\n",
            "[0, 2, 0, 1]\n",
            "[0, 1, 0, 0]\n",
            "[[0, 0], [1, 0], [0, 0], [0, 0]]\n",
            "[[1, 0], [0, 0], [0, 0], [0, 0]]\n",
            "[[0, 0], [0, 0], [0, 0], [0, 0]]\n",
            "[[0, 0], [0, 0], [0, 0], [0, 0]]\n"
          ]
        }
      ]
    },
    {
      "cell_type": "code",
      "metadata": {
        "colab": {
          "base_uri": "https://localhost:8080/"
        },
        "id": "zbpVjAlm9ZiI",
        "outputId": "c0250e7e-3d65-4912-e830-60dbd12f625e"
      },
      "source": [
        "from collections import deque \n",
        "'''\n",
        "1. visited라고 새로운 행렬을 만들어서 거리값을 저장해준다.\n",
        "2. 2 일때는 최소 거리를 구해준다. \n",
        "3. 나머지 부분에서 최소거리를 구한다. \n",
        "\n",
        "\n",
        "'''\n",
        "\n",
        "n,m,t=map(int,input().split())\n",
        "matrix=[]\n",
        "for _ in range(n):\n",
        "  temp=list(map(int,input().split()))\n",
        "  matrix.append(temp)\n",
        "\n",
        "dq=deque()\n",
        "dq.append((0,0))\n",
        "dx=[-1,1,0,0]\n",
        "dy=[0,0,-1,1]\n",
        "\n",
        "visited=[[0]*(m) for i in range(n)]\n",
        "visited[0][0]=1\n",
        "\n",
        "def bfs():\n",
        "  temp=12314124121\n",
        "  while dq:\n",
        "    x,y=dq.popleft()\n",
        "    if matrix[x][y]==2:\n",
        "      temp=abs(n-1-x)+abs(m-1-y)+visited[x][y]-1\n",
        "    if x==n-1 and y==m-1:\n",
        "      return min(visited[x][y]-1,temp)\n",
        "    for i in range(4):\n",
        "      nx=x+dx[i]\n",
        "      ny=y+dy[i]\n",
        "      if 0<=nx<n and 0<=ny<m:\n",
        "        if matrix[nx][ny]!=1 and not visited[nx][ny]:\n",
        "          visited[nx][ny]=visited[x][y]+1\n",
        "          dq.append((nx,ny))\n",
        "  return temp \n",
        "\n",
        "res=bfs()\n",
        "\n",
        "if res>t:\n",
        "  print(\"Fail\")\n",
        "else:\n",
        "  print(res)\n",
        "\n"
      ],
      "execution_count": 50,
      "outputs": [
        {
          "output_type": "stream",
          "name": "stdout",
          "text": [
            "3 3 100\n",
            "0 0 0\n",
            "1 1 1\n",
            "0 2 0\n",
            "Fail\n"
          ]
        }
      ]
    },
    {
      "cell_type": "code",
      "metadata": {
        "id": "bDnlWj99TIhO"
      },
      "source": [
        "from collections import deque \n",
        "\n",
        "\n",
        "dx=[-1,1,0,0]\n",
        "dy=[0,0,1,-1]\n",
        "\n",
        "dq=deque()\n",
        "\n",
        "\n",
        "def bfs():\n",
        "  x,y,w=dq.popleft()\n",
        "  if x==n-1 and y==m-1:\n",
        "    return visited[x][y][w]\n",
        "  for i in range(4):\n",
        "    nx=x+dx[i]\n",
        "    ny=y+dy[i]\n",
        "    if 0<=nx<n and 0<=ny<m:\n",
        "      \n",
        "      if matrix[nx][ny]=='1' and w==1:\n",
        "        visited[nx][ny][0]=visited[x][y][1]+1\n",
        "        dq.append((nx,ny,0))\n",
        "      \n",
        "      if matrix[nx][ny]=='0' and visited[nx][ny][w]==0:\n",
        "        visited[nx][ny][w]=visited[x][y][w]+1\n",
        "        dq.append((nx,ny,w))\n",
        "\n",
        "\n",
        "\n",
        "\n"
      ],
      "execution_count": null,
      "outputs": []
    },
    {
      "cell_type": "markdown",
      "metadata": {
        "id": "O8hsuegY-HAX"
      },
      "source": [
        "### 피자굽기 \n",
        "\n",
        "[문제링크](https://www.acmicpc.net/problem/15652)\n",
        "\n",
        "- 문제 정보: 백준 12851번\n",
        "- 출처: SolvedAC\n",
        "\n",
        "수빈이는 동생과 숨바꼭질을 하고 있다. 수빈이는 현재 점 N(0 ≤ N ≤ 100,000)에 있고, 동생은 점 K(0 ≤ K ≤ 100,000)에 있다. 수빈이는 걷거나 순간이동을 할 수 있다. 만약, 수빈이의 위치가 X일 때 걷는다면 1초 후에 X-1 또는 X+1로 이동하게 된다. 순간이동을 하는 경우에는 1초 후에 2*X의 위치로 이동하게 된다.\n",
        "\n"
      ]
    },
    {
      "cell_type": "code",
      "metadata": {
        "id": "jPv2e4y8-HAY",
        "colab": {
          "base_uri": "https://localhost:8080/"
        },
        "outputId": "2322b66b-c2e3-419c-d62a-eba2345a1e31"
      },
      "source": [
        "from collections import deque \n",
        "n,m=map(int,input().split())\n",
        "\n",
        "oven=list(map(int,input().split()))\n",
        "pizza=list(map(int,input().split()))\n",
        "\n",
        "dq=deque(pizza)\n",
        "flag=True \n",
        "\n",
        "while dq:\n",
        "  if flag is False:\n",
        "    break\n",
        "  piz=dq.popleft()\n",
        "  if 0<=piz<=max(pizza):\n",
        "    temp=0\n",
        "    for i in range(len(oven)):\n",
        "      if oven[i]<piz:\n",
        "        temp=i\n",
        "        break\n",
        "      if i==len(oven)-1:\n",
        "        temp=i\n",
        "  else:\n",
        "    flag=False \n",
        "    break \n",
        "  oven=oven[:temp]\n",
        "\n",
        "if flag is False:\n",
        "  print(0)\n",
        "else:\n",
        "  print(len(oven))\n",
        "      \n",
        "\n",
        "\n",
        "\n",
        "\n",
        "\n",
        "\n",
        "\n",
        "\n",
        "\n",
        "\n",
        "\n",
        "\n",
        "\n",
        "\n",
        "\n"
      ],
      "execution_count": null,
      "outputs": [
        {
          "output_type": "stream",
          "name": "stdout",
          "text": [
            "7 3\n",
            "5 6 4 3 6 2 3\n",
            "3 2 5\n",
            "2\n"
          ]
        }
      ]
    },
    {
      "cell_type": "code",
      "metadata": {
        "id": "7vBC4qR7XliV",
        "colab": {
          "base_uri": "https://localhost:8080/"
        },
        "outputId": "b8fd829a-c736-44ed-fe15-27adffcb3d3c"
      },
      "source": [
        "\n",
        "from collections import deque \n",
        "'''\n",
        "1. 지금 까지 나왔던 지름중 가장 작은 값으로 바꿔준다.\n",
        "\n",
        "2. 오븐과 피자의 인덱스를 다르게 정의한다. \n",
        "2-1. 현재위치 오븐에 피자가 들어갈수있으면: 피자를 넣고 다음 피자로 넘어간다.\n",
        "    *피자를 넣는 경우 pizza index와 깊이(depth)를 변경해준다. \n",
        "    *depth값은 1부터 시작이지만 index는 0부터 시작이기에 마지막에는 +1을 해서구한다.\n",
        "2-2. 현재위치 오븐에 피자가 들어갈수없으면: 다음 오븐으로 넘어간다. \n",
        "\n",
        "3. 위를 반복하여 피자의 인덱스가 받은 피자개수보다 크다면 depth+1를 넣는다. \n",
        "'''\n",
        "\n",
        "n,m=map(int,input().split())\n",
        "\n",
        "oven=list(map(int,input().split()))\n",
        "pizza=list(map(int,input().split()))\n",
        "\n",
        "def get():\n",
        "\n",
        "  for i in range(1, n):\n",
        "    oven[i] = min(oven[i], oven[i-1])\n",
        "\n",
        "  pizza_Idx = 0\n",
        "  depth = n-1\n",
        "\n",
        "  for i in range(n-1,-1,-1):\n",
        "    if pizza_Idx >= len(pizza):\n",
        "        return depth+1\n",
        "\n",
        "    if oven[i] >= pizza[pizza_Idx]:\n",
        "        pizza_Idx += 1\n",
        "        depth = i\n",
        "  return -1\n",
        "\n",
        "res=get()\n",
        "\n",
        "if res==-1:\n",
        "  print(0)\n",
        "else:\n",
        "  print(res)"
      ],
      "execution_count": 53,
      "outputs": [
        {
          "output_type": "stream",
          "name": "stdout",
          "text": [
            "7 3\n",
            "5 6 4 3 6 2 3\n",
            "3 2 5\n",
            "2\n"
          ]
        }
      ]
    },
    {
      "cell_type": "code",
      "metadata": {
        "colab": {
          "base_uri": "https://localhost:8080/"
        },
        "id": "7SsP28josDvV",
        "outputId": "a0a39a8c-5017-49b9-ef6d-d116ff415bcb"
      },
      "source": [
        ""
      ],
      "execution_count": 51,
      "outputs": [
        {
          "output_type": "stream",
          "name": "stdout",
          "text": [
            "5\n",
            "4\n",
            "3\n",
            "2\n",
            "1\n",
            "0\n"
          ]
        }
      ]
    },
    {
      "cell_type": "markdown",
      "metadata": {
        "id": "m_SAwIoU-HTQ"
      },
      "source": [
        "### 소수를 분수로 \n",
        "\n",
        "[문제링크](https://www.acmicpc.net/problem/15652)\n",
        "\n",
        "- 문제 정보: 백준 12851번\n",
        "- 출처: SolvedAC\n",
        "\n",
        "수빈이는 동생과 숨바꼭질을 하고 있다. 수빈이는 현재 점 N(0 ≤ N ≤ 100,000)에 있고, 동생은 점 K(0 ≤ K ≤ 100,000)에 있다. 수빈이는 걷거나 순간이동을 할 수 있다. 만약, 수빈이의 위치가 X일 때 걷는다면 1초 후에 X-1 또는 X+1로 이동하게 된다. 순간이동을 하는 경우에는 1초 후에 2*X의 위치로 이동하게 된다.\n",
        "\n"
      ]
    },
    {
      "cell_type": "code",
      "metadata": {
        "id": "lXsNdq_2-HTR"
      },
      "source": [
        ""
      ],
      "execution_count": null,
      "outputs": []
    },
    {
      "cell_type": "markdown",
      "metadata": {
        "id": "bJuhmPEq-Hrf"
      },
      "source": [
        "### 숨바꼭질2\n",
        "\n",
        "[문제링크](https://www.acmicpc.net/problem/15652)\n",
        "\n",
        "- 문제 정보: 백준 12851번\n",
        "- 출처: SolvedAC\n",
        "\n",
        "수빈이는 동생과 숨바꼭질을 하고 있다. 수빈이는 현재 점 N(0 ≤ N ≤ 100,000)에 있고, 동생은 점 K(0 ≤ K ≤ 100,000)에 있다. 수빈이는 걷거나 순간이동을 할 수 있다. 만약, 수빈이의 위치가 X일 때 걷는다면 1초 후에 X-1 또는 X+1로 이동하게 된다. 순간이동을 하는 경우에는 1초 후에 2*X의 위치로 이동하게 된다.\n",
        "\n"
      ]
    },
    {
      "cell_type": "code",
      "metadata": {
        "id": "Q1zCddhL-Hrf"
      },
      "source": [
        ""
      ],
      "execution_count": null,
      "outputs": []
    },
    {
      "cell_type": "markdown",
      "metadata": {
        "id": "acTqLius-Hx4"
      },
      "source": [
        "### 숨바꼭질2\n",
        "\n",
        "[문제링크](https://www.acmicpc.net/problem/15652)\n",
        "\n",
        "- 문제 정보: 백준 12851번\n",
        "- 출처: SolvedAC\n",
        "\n",
        "수빈이는 동생과 숨바꼭질을 하고 있다. 수빈이는 현재 점 N(0 ≤ N ≤ 100,000)에 있고, 동생은 점 K(0 ≤ K ≤ 100,000)에 있다. 수빈이는 걷거나 순간이동을 할 수 있다. 만약, 수빈이의 위치가 X일 때 걷는다면 1초 후에 X-1 또는 X+1로 이동하게 된다. 순간이동을 하는 경우에는 1초 후에 2*X의 위치로 이동하게 된다.\n",
        "\n"
      ]
    },
    {
      "cell_type": "code",
      "metadata": {
        "id": "kzceBUif-Hx4"
      },
      "source": [
        ""
      ],
      "execution_count": null,
      "outputs": []
    }
  ]
}
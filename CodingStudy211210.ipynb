{
  "nbformat": 4,
  "nbformat_minor": 0,
  "metadata": {
    "colab": {
      "name": "CodingStudy211210.ipynb",
      "provenance": [],
      "collapsed_sections": [],
      "toc_visible": true,
      "authorship_tag": "ABX9TyNH1qorFB4+Hp4UrJQeD8f6",
      "include_colab_link": true
    },
    "kernelspec": {
      "name": "python3",
      "display_name": "Python 3"
    },
    "language_info": {
      "name": "python"
    }
  },
  "cells": [
    {
      "cell_type": "markdown",
      "metadata": {
        "id": "view-in-github",
        "colab_type": "text"
      },
      "source": [
        "<a href=\"https://colab.research.google.com/github/crakcode/CodingStudy/blob/main/CodingStudy211210.ipynb\" target=\"_parent\"><img src=\"https://colab.research.google.com/assets/colab-badge.svg\" alt=\"Open In Colab\"/></a>"
      ]
    },
    {
      "cell_type": "markdown",
      "metadata": {
        "id": "csU-0HIyAlZL"
      },
      "source": [
        "\n",
        "\n",
        "\n",
        "## 프로그래머스 \n",
        "- \n",
        "\n",
        "## 백준\n",
        "- N-Queen\n",
        "- 트리의 지름\n",
        "- 웜홀\n",
        "- 후위표기식\n",
        "- 피보나치수 6\n",
        "- 트리의 순회 \n",
        "\n"
      ]
    },
    {
      "cell_type": "code",
      "metadata": {
        "colab": {
          "base_uri": "https://localhost:8080/"
        },
        "id": "5MfMv881IpQZ",
        "outputId": "804cb894-b965-4b54-82f1-ddfa0d50b33c"
      },
      "source": [
        "\n",
        "## 트리구현 \n",
        "\n",
        "\n",
        "class Node:\n",
        "  def __init__(self,value):\n",
        "    self.value = value\n",
        "    self.left = None\n",
        "    self.right = None\n",
        "\n",
        "class BST:\n",
        "\n",
        "  def __init__(self,root):\n",
        "    self.root=root\n",
        "\n",
        "  def insert(self,value):\n",
        "    self.current_node=self.root\n",
        "    while True:\n",
        "      if value<self.current_node.value:\n",
        "        if self.current_node.left!=None:\n",
        "          self.current_node=self.current_node.left\n",
        "        else:\n",
        "          self.current_node.left=Node(value)\n",
        "          break\n",
        "      else:\n",
        "        if self.current_node.right!=None:\n",
        "          self.current_node=self.current_node.right\n",
        "        else:\n",
        "          self.current_node.right=Node(value)\n",
        "          break \n",
        "  \n",
        "  def search(self,value):\n",
        "    self.current_node=self.root\n",
        "    \n",
        "    while self.current_node:\n",
        "      if value==self.current_node.value:\n",
        "        return True\n",
        "      elif value>self.current_node.value:\n",
        "        self.current_node=self.current_node.right\n",
        "      else:\n",
        "        self.current_node=self.current_node.left\n",
        "    \n",
        "    return False \n",
        "\n",
        "\n",
        "\n",
        "\n",
        "\n",
        "\n",
        "\n",
        "\n",
        "\n",
        "    return self.root\n",
        "\n",
        "bst=BST(Node(2))\n",
        "bst.insert(3)\n",
        "bst.insert(1)\n",
        "\n",
        "print(bst.search(3))\n"
      ],
      "execution_count": null,
      "outputs": [
        {
          "output_type": "stream",
          "name": "stdout",
          "text": [
            "True\n"
          ]
        }
      ]
    },
    {
      "cell_type": "code",
      "metadata": {
        "id": "hb1f2dQ-wLgw"
      },
      "source": [
        "\n",
        "\n",
        "\n",
        "def find(n):\n",
        "  A=[[1,1],[1,0]]\n",
        "  temp=[[0]*2 for i in range(2)]\n",
        "  for k in range(2):\n",
        "    for i in range(2):\n",
        "      for j in range(2):\n",
        "        A[k][i]*A[j][k]\n",
        "        \n",
        "\n",
        "\n",
        "\n",
        "\n",
        "\n",
        "\n",
        "\n",
        "\n",
        "\n",
        "\n"
      ],
      "execution_count": null,
      "outputs": []
    },
    {
      "cell_type": "code",
      "metadata": {
        "colab": {
          "base_uri": "https://localhost:8080/"
        },
        "id": "-YV76LaPzf7r",
        "outputId": "785f3e13-d0c1-4b36-ee2e-a16e537b2ac2"
      },
      "source": [
        "A=[[1,1],[1,0]]\n",
        "def multi(a,b):\n",
        "    temp=[[0]*len(b[0]) for _ in range(2)]\n",
        "    for i in range(2):\n",
        "        for j in range(len(b[0])):\n",
        "            sum=0\n",
        "            for k in range(2):\n",
        "                sum+=a[i][k]*b[k][j]\n",
        "            temp[i][j]=sum\n",
        "    return tempe\n",
        "print(multi(A,A))"
      ],
      "execution_count": null,
      "outputs": [
        {
          "output_type": "stream",
          "name": "stdout",
          "text": [
            "[[2, 1], [1, 1]]\n"
          ]
        }
      ]
    },
    {
      "cell_type": "code",
      "metadata": {
        "id": "e1qIhPFCRK5-"
      },
      "source": [
        ""
      ],
      "execution_count": null,
      "outputs": []
    },
    {
      "cell_type": "markdown",
      "metadata": {
        "id": "qd6v2_1XRK8j"
      },
      "source": [
        "## N과 M (9)"
      ]
    },
    {
      "cell_type": "code",
      "metadata": {
        "colab": {
          "base_uri": "https://localhost:8080/"
        },
        "id": "TXX-50TSRK_Q",
        "outputId": "ac278c62-434c-4585-e511-9bfa90bff9fd"
      },
      "source": [
        "from itertools import permutations\n",
        "\n",
        "n,k=map(int,input().split())\n",
        "arr=list(map(int,input().split()))\n",
        "arr.sort()\n",
        "\n",
        "res=set()\n",
        "\n",
        "for i in permutations(arr,k):\n",
        "  res.add(i)\n",
        "\n",
        "res=list(res)\n",
        "res.sort()\n",
        "\n",
        "for i in res:\n",
        "  for a in range(len(i)):\n",
        "    print(i[a],end=' ')\n",
        "  print()\n"
      ],
      "execution_count": null,
      "outputs": [
        {
          "output_type": "stream",
          "name": "stdout",
          "text": [
            "4 2\n",
            "9 7 9 1\n",
            "1 7 \n",
            "1 9 \n",
            "7 1 \n",
            "7 9 \n",
            "9 1 \n",
            "9 7 \n",
            "9 9 \n"
          ]
        }
      ]
    },
    {
      "cell_type": "code",
      "metadata": {
        "colab": {
          "base_uri": "https://localhost:8080/"
        },
        "id": "rN0KfwcDVczc",
        "outputId": "bfc0a743-52e4-4202-8797-f6260139cd8a"
      },
      "source": [
        "string=input()\n",
        "key=input()\n",
        "\n",
        "def diff(string,key):\n",
        "  if key in string:\n",
        "    return True\n",
        "  else:\n",
        "    return False \n",
        "\n",
        "\n",
        "\n",
        "while diff(string,key):\n",
        "  string=string.replace(key,\"\")\n",
        "\n",
        "\n",
        "if string==\"\":\n",
        "  print(\"FRULA\")\n",
        "else:\n",
        "  print(string)\n",
        "\n",
        "\n"
      ],
      "execution_count": null,
      "outputs": [
        {
          "output_type": "stream",
          "name": "stdout",
          "text": [
            "12ab112ab2ab\n",
            "12ab\n",
            "FRULA\n"
          ]
        }
      ]
    },
    {
      "cell_type": "code",
      "metadata": {
        "colab": {
          "base_uri": "https://localhost:8080/"
        },
        "id": "5QSdFIb9VdTj",
        "outputId": "d830c4c1-8bc0-4e16-855d-1982d89fc84d"
      },
      "source": [
        "string=input()\n",
        "key=input()\n",
        "\n",
        "stack=[]\n",
        "\n",
        "\n",
        "for s in string:\n",
        "  stack.append(s)\n",
        "  if len(stack)>=len(key) and s==key[-1]:\n",
        "    print(stack[-(len(key)+1)])\n",
        "    if stack[-(len(key)):-1]==key:\n",
        "      for i in range(len(key)):\n",
        "        stack.pop()\n",
        "print(stack)\n",
        "\n",
        "\n",
        "\n",
        "\n",
        "\n"
      ],
      "execution_count": null,
      "outputs": [
        {
          "output_type": "stream",
          "name": "stdout",
          "text": [
            "mirkovC4nizCC44\n",
            "C4\n",
            "v\n",
            "C\n",
            "C\n",
            "['m', 'i', 'r', 'k', 'o', 'v', 'C', '4', 'n', 'i', 'z', 'C', 'C', '4', '4']\n"
          ]
        }
      ]
    },
    {
      "cell_type": "code",
      "metadata": {
        "colab": {
          "base_uri": "https://localhost:8080/"
        },
        "id": "Lg6KTIiBfwkc",
        "outputId": "7d51e390-c8b2-4448-8959-307019c6528c"
      },
      "source": [
        "'''\n",
        "1. 입력문자열을 앞에서부터 차례차례 한 글자씩 스택에 push 합니다.\n",
        "2. 현재 글자가 폭발 문자열의 마지막 글자와 일치하면 스택의 top부터 폭발문자열의 길이까지 확인하여 폭발문자열이 만들어지는지 확인합니다.\n",
        "3. 폭발문자열이 만들어진다면 만들어지는 폭발문자열을 스택에서 pop합니다.\n",
        "\n",
        "4. 1~3을 반복합니다.\n",
        "5. 문자열 순회를 마치고 스택이 비어있으면, FRULA를 출력, 비어있지 않다면 스택 속 문자열을 차례로 출력합니다.\n",
        "\n",
        "'''\n",
        "string=input()\n",
        "key=input()\n",
        "\n",
        "stack=[]\n",
        "n=len(key)\n",
        "\n",
        "\n",
        "for char in string:\n",
        "  stack.append(char)\n",
        "  if len(stack)>=n and char==key[-1]:\n",
        "    if ''.join(stack[-n:])==key:\n",
        "      del stack[-n:]\n",
        "stack=''.join(stack)\n",
        "\n",
        "if stack==\"\":\n",
        "  print(\"FRULA\")\n",
        "else:\n",
        "  print(stack)\n",
        "\n",
        "\n"
      ],
      "execution_count": null,
      "outputs": [
        {
          "output_type": "stream",
          "name": "stdout",
          "text": [
            "mirkovC4nizCC44\n",
            "C4\n",
            "mirkovniz\n"
          ]
        }
      ]
    },
    {
      "cell_type": "markdown",
      "metadata": {
        "id": "rqewa4eXsZ7x"
      },
      "source": [
        "## 행렬 제곱\n",
        "\n",
        "\n",
        "![이미지](https://mblogthumb-phinf.pstatic.net/20150219_168/dhkdwnddml_1424304421311vxNC6_PNG/1.png?type=w2)"
      ]
    },
    {
      "cell_type": "code",
      "metadata": {
        "colab": {
          "base_uri": "https://localhost:8080/"
        },
        "id": "rUL7ohEPsZ-Z",
        "outputId": "07792a11-e71f-4330-ca53-831499414a80"
      },
      "source": [
        "\n",
        "def product(matrix1,matrix2):\n",
        "  matrix=[[0]*(len(matrix2[0])) for i in range(len(matrix1))]\n",
        "  for i in range(len(matrix1)):\n",
        "    for j in range(len(matrix2[0])):\n",
        "      temp=0\n",
        "      for k in range(len(matrix1[0])):\n",
        "        temp+=matrix1[i][k]*matrix2[k][j]\n",
        "      matrix[i][j]=temp\n",
        "  return matrix\n",
        "\n",
        "\n",
        "m=[[1,0],[1,1]]\n",
        "n=[[1,0],[1,1]]\n",
        "for i in range(5):\n",
        "  m=product(m,n)\n",
        "  \n",
        "print(m)\n",
        "\n",
        "        \n",
        "\n"
      ],
      "execution_count": null,
      "outputs": [
        {
          "output_type": "stream",
          "name": "stdout",
          "text": [
            "[[ 7 10]\n",
            " [15 22]]\n"
          ]
        }
      ]
    },
    {
      "cell_type": "code",
      "source": [
        "# a,b=map(int,input().split())\n",
        "\n",
        "\n",
        "# 2의 10승이라고 가정하자 분할정복법을 이용한다. \n",
        "# base case 는 b==1 이라고 가정하자 \n",
        "\n",
        "# def divide(a,b):\n",
        "#   if b==1:\n",
        "#     return a\n",
        "  \n",
        "#   calc=divide(a,b//2)\n",
        "\n",
        "#   if b%2==0:\n",
        "#     return calc*calc\n",
        "#   else:\n",
        "#     return calc*calc*a\n",
        "\n",
        "\n",
        "# print(divide(2,10))\n",
        "\n",
        "# 위에거를 참조해서 만듬\n",
        "\n",
        "def product(matrix1, matrix2):\n",
        "    matrix = [[0] * (len(matrix2[0])) for i in range(len(matrix1))]\n",
        "    for i in range(len(matrix1)):\n",
        "        for j in range(len(matrix2[0])):\n",
        "            temp = 0\n",
        "            for k in range(len(matrix1[0])):\n",
        "                temp += matrix1[i][k] * matrix2[k][j]\n",
        "            matrix[i][j] = temp%1000\n",
        "    return matrix\n",
        "\n",
        "\n",
        "def divide(matrix,k):\n",
        "  if k==1:\n",
        "    return matrix\n",
        "  \n",
        "  temp=divide(matrix,k//2)\n",
        "\n",
        "  if k%2==0:\n",
        "    return product(temp,temp)\n",
        "  else:\n",
        "    return product(product(temp,temp),matrix)\n",
        "\n",
        "\n",
        "n,k=map(int,input().split())\n",
        "matrix=[]\n",
        "for i in range(n):\n",
        "  matrix.append(list(map(int,input().split())))\n",
        "\n",
        "result=divide(matrix,k)\n",
        "\n",
        "for row in result:\n",
        "  for ele in row:\n",
        "    print(ele,end=\"\")\n",
        "  print()\n",
        "\n",
        "\n",
        "  \n",
        "\n",
        "\n"
      ],
      "metadata": {
        "id": "yMxGKj9nwaxe"
      },
      "execution_count": null,
      "outputs": []
    },
    {
      "cell_type": "code",
      "source": [
        "# a,b=map(int,input().split())\n",
        "\n",
        "\n",
        "# 2의 10승이라고 가정하자 분할정복법을 이용한다. \n",
        "# base case 는 b==1 이라고 가정하자 \n",
        "\n",
        "def divide(a,b):\n",
        "  if b==1:\n",
        "    return a\n",
        "  \n",
        "  calc=divide(a,b//2)\n",
        "\n",
        "  if b%2==0:\n",
        "    return calc*calc\n",
        "  else:\n",
        "    return calc*calc*a\n",
        "\n",
        "\n",
        "print(divide(2,10))\n",
        "\n",
        "\n"
      ],
      "metadata": {
        "colab": {
          "base_uri": "https://localhost:8080/"
        },
        "id": "Dg_5fXvy3QcV",
        "outputId": "300536c0-d7ce-4e07-e12a-907dae871d60"
      },
      "execution_count": null,
      "outputs": [
        {
          "output_type": "stream",
          "name": "stdout",
          "text": [
            "1024\n"
          ]
        }
      ]
    },
    {
      "cell_type": "markdown",
      "source": [
        "## 이진 검색트리\n"
      ],
      "metadata": {
        "id": "rGuY4B8Q8i0Z"
      }
    },
    {
      "cell_type": "code",
      "source": [
        ""
      ],
      "metadata": {
        "id": "HutihX8B8kOn"
      },
      "execution_count": null,
      "outputs": []
    },
    {
      "cell_type": "markdown",
      "source": [
        "## 후위 표기식"
      ],
      "metadata": {
        "id": "SyxGcJAM9aJZ"
      }
    },
    {
      "cell_type": "code",
      "source": [
        "\n",
        "# A+B*C\n",
        "\n",
        "string=input()\n",
        "oper=[\"*\",\"/\",\"+\",\"-\"]\n",
        "stack=[]\n",
        "\n",
        "res=\"\"\n",
        "\n",
        "for i in string:\n",
        "  if i.isalpha():\n",
        "    res+=i\n",
        "  else:\n",
        "    if i==\"(\":\n",
        "      stack.append(i)\n",
        "    elif i==\"*\" or i==\"/\":\n",
        "      while stack and (stack[-1]==\"*\" or stack[-1]==\"/\"):\n",
        "        res+=stack.pop()\n",
        "      stack.append(i)\n",
        "    elif i==\"+\" or i==\"-\":\n",
        "      while stack and stack[-1]!=\"(\":\n",
        "        res+=stack.pop()\n",
        "      stack.append(i)\n",
        "    elif i==\")\":\n",
        "      while stack and stack[-1]!=\"(\":\n",
        "        res+=stack.pop()\n",
        "      stack.pop()\n",
        "\n",
        "\n",
        "while stack:\n",
        "  res+=stack.pop()\n",
        "\n",
        "print(res)\n",
        "\n",
        "\n",
        "\n",
        "\n",
        "\n",
        "\n"
      ],
      "metadata": {
        "colab": {
          "base_uri": "https://localhost:8080/"
        },
        "id": "EAmHI8hY9bMg",
        "outputId": "51a9f675-62b3-4719-e3ce-41f2fc89b42e"
      },
      "execution_count": null,
      "outputs": [
        {
          "output_type": "stream",
          "name": "stdout",
          "text": [
            "A*(B+C)\n",
            "ABC+*\n"
          ]
        }
      ]
    },
    {
      "cell_type": "markdown",
      "source": [
        "## 별찍기"
      ],
      "metadata": {
        "id": "G6paOfKYP0MN"
      }
    },
    {
      "cell_type": "code",
      "source": [
        "def star(n):\n",
        "  print()"
      ],
      "metadata": {
        "id": "6eBAjQijHuQr"
      },
      "execution_count": null,
      "outputs": []
    },
    {
      "cell_type": "markdown",
      "source": [
        "# N과 M(2)\n"
      ],
      "metadata": {
        "id": "0jarALsWYjpq"
      }
    },
    {
      "cell_type": "code",
      "source": [
        "'''\n",
        "걍 combinations으로 풀자잉 \n",
        "\n",
        "\n",
        "'''\n",
        "\n",
        "\n",
        "from itertools import combinations\n",
        "\n",
        "\n",
        "n,k=map(int,input().split())\n",
        "arr=[i for i in range(1,n+1)]\n",
        "res=[]\n",
        "for i in combinations(arr,k):\n",
        "  lst=list(i)\n",
        "  res.append(lst)\n",
        "\n",
        "\n",
        "for i in res:\n",
        "  for j in i:\n",
        "    print(j,end=\" \")\n",
        "  print()\n",
        "\n"
      ],
      "metadata": {
        "colab": {
          "base_uri": "https://localhost:8080/"
        },
        "id": "DyuxYtSDYmbP",
        "outputId": "7c2f898e-6ba5-4099-ec7c-27b2baef5339"
      },
      "execution_count": 12,
      "outputs": [
        {
          "output_type": "stream",
          "name": "stdout",
          "text": [
            "4 2\n",
            "[[1, 2], [1, 3], [1, 4], [2, 3], [2, 4], [3, 4]]\n",
            "1 2 \n",
            "1 3 \n",
            "1 4 \n",
            "2 3 \n",
            "2 4 \n",
            "3 4 \n"
          ]
        }
      ]
    },
    {
      "cell_type": "code",
      "source": [
        ""
      ],
      "metadata": {
        "id": "Hnq31MtuZsdS"
      },
      "execution_count": null,
      "outputs": []
    }
  ]
}
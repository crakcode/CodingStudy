{
  "nbformat": 4,
  "nbformat_minor": 0,
  "metadata": {
    "colab": {
      "name": "CodingStudy211005.ipynb",
      "provenance": [],
      "collapsed_sections": [],
      "authorship_tag": "ABX9TyOEFgcADFOeZAih1qYEP7b1",
      "include_colab_link": true
    },
    "kernelspec": {
      "name": "python3",
      "display_name": "Python 3"
    },
    "language_info": {
      "name": "python"
    }
  },
  "cells": [
    {
      "cell_type": "markdown",
      "metadata": {
        "id": "view-in-github",
        "colab_type": "text"
      },
      "source": [
        "<a href=\"https://colab.research.google.com/github/crakcode/CodingStudy/blob/main/CodingStudy211005.ipynb\" target=\"_parent\"><img src=\"https://colab.research.google.com/assets/colab-badge.svg\" alt=\"Open In Colab\"/></a>"
      ]
    },
    {
      "cell_type": "code",
      "metadata": {
        "colab": {
          "base_uri": "https://localhost:8080/"
        },
        "id": "9g6w_mUJpqa7",
        "outputId": "5a1f1948-28ee-4395-ae27-6f8b1f910560"
      },
      "source": [
        ""
      ],
      "execution_count": null,
      "outputs": [
        {
          "output_type": "stream",
          "name": "stdout",
          "text": [
            "4 4\n",
            "3 0 1 4\n",
            "[0] 3\n",
            "3\n"
          ]
        }
      ]
    },
    {
      "cell_type": "code",
      "metadata": {
        "colab": {
          "base_uri": "https://localhost:8080/"
        },
        "id": "QZEIaUIZ4YNs",
        "outputId": "15400100-5f94-4857-8673-d385cc28f638"
      },
      "source": [
        "\n",
        "n,m=map(int,input().split())\n",
        "arr=list(map(int,input().split()))\n",
        "\n",
        "'''\n",
        "1. \n",
        "\n",
        "'''\n",
        "result=0\n",
        "\n",
        "for i in range(1,m-1):\n",
        "  left_hight=arr[i]\n",
        "  for j in range(i,-1,-1):\n",
        "    if left_hight<arr[j]:\n",
        "      left_hight=arr[j]\n",
        "  right_hight=arr[i]\n",
        "  for j in range(i,m):\n",
        "    if right_hight<arr[j]:\n",
        "      right_hight=arr[j]\n",
        "  second=min(right_hight,left_hight)\n",
        "  print(second)\n",
        "  result+=(second-arr[i])\n",
        "\n",
        "print(result)\n",
        "\n",
        "\n",
        "\n",
        "\n",
        "\n",
        "    \n",
        "\n",
        "\n",
        "\n",
        "\n",
        "\n",
        "\n",
        "\n"
      ],
      "execution_count": null,
      "outputs": [
        {
          "output_type": "stream",
          "name": "stdout",
          "text": [
            "4 4\n",
            "3 0 1 4\n",
            "3\n",
            "3\n",
            "5\n"
          ]
        }
      ]
    },
    {
      "cell_type": "code",
      "metadata": {
        "id": "LtlxOHvR-ZmE"
      },
      "source": [
        "    area = 0\n",
        "    for i in range(1, w - 1):\n",
        "        # 현재 위치의 왼쪽 블록 중 가장 큰 높이를 찾는다.\n",
        "        left_height = height[i]\n",
        "        for j in range(i - 1, -1, -1):\n",
        "            if left_height < height[j]:\n",
        "                left_height = height[j]\n",
        "        # 현재 위치의 오른쪽 블록 중 가장 큰 높이를 찾는다.\n",
        "        right_height = height[i]\n",
        "        for j in range(i + 1, w):\n",
        "            if right_height < height[j]:\n",
        "                right_height = height[j]\n",
        "        # 왼쪽, 오른쪽 높이 중 작은 높이에서 현재 높이를 뺀 값을 더한다.\n",
        "        final_height = min(left_height, right_height)\n",
        "        area += final_height - height[i]\n"
      ],
      "execution_count": null,
      "outputs": []
    },
    {
      "cell_type": "code",
      "metadata": {
        "colab": {
          "base_uri": "https://localhost:8080/"
        },
        "id": "4zVz3P4nEWnm",
        "outputId": "380c26da-2b6e-4809-b3f2-c676d9408d8a"
      },
      "source": [
        "n,k=map(int,input().split())\n",
        "arr=[i for i in range(n+1)]\n",
        "'''\n",
        "수열공식 쓰기 노가다 문제 \n",
        "\n",
        "n,k를 2차원 배열로 만들어서 수열의 값을 예측한다. \n",
        "컬럼이 n이고 행이 k 이다. 직접 노가다해서 완성해보면\n",
        "- i>=1 and j>=1 인경우에 처리를 할수있다.\n",
        "dp[i][j]=dp[i-1][j]+dp[i][j-1]\n",
        "  0 1 2 3 4 5 \n",
        "0 1 1 1 1 1 1\n",
        "1 1 2 3 4 5 6\n",
        "2 1 3 6 10 15 21\n",
        "\n",
        "'''\n",
        "\n",
        "\n",
        "dp=[[1]*(n+1) for i in range(k)]\n",
        "\n",
        "for i in range(1,k):\n",
        "  for j in range(1,n+1):\n",
        "    dp[i][j]=dp[i-1][j]+dp[i][j-1]\n",
        "\n",
        "print(dp[k-1][n]%1000000000)\n",
        "\n",
        "\n"
      ],
      "execution_count": 28,
      "outputs": [
        {
          "output_type": "stream",
          "name": "stdout",
          "text": [
            "20 2\n",
            "21\n"
          ]
        }
      ]
    }
  ]
}
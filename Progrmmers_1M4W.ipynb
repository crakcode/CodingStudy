{
  "nbformat": 4,
  "nbformat_minor": 0,
  "metadata": {
    "colab": {
      "name": "Progrmmers_1M4W.ipynb",
      "provenance": [],
      "collapsed_sections": [],
      "toc_visible": true,
      "authorship_tag": "ABX9TyMbqfNWr4UNgD6e1/cJjJjB",
      "include_colab_link": true
    },
    "kernelspec": {
      "name": "python3",
      "display_name": "Python 3"
    },
    "language_info": {
      "name": "python"
    }
  },
  "cells": [
    {
      "cell_type": "markdown",
      "metadata": {
        "id": "view-in-github",
        "colab_type": "text"
      },
      "source": [
        "<a href=\"https://colab.research.google.com/github/crakcode/CodingStudy/blob/main/Progrmmers_1M4W.ipynb\" target=\"_parent\"><img src=\"https://colab.research.google.com/assets/colab-badge.svg\" alt=\"Open In Colab\"/></a>"
      ]
    },
    {
      "cell_type": "code",
      "source": [
        ""
      ],
      "metadata": {
        "id": "PziiPGiWdDpL"
      },
      "execution_count": null,
      "outputs": []
    },
    {
      "cell_type": "markdown",
      "source": [
        "## 파일명 정렬"
      ],
      "metadata": {
        "id": "ETlN006xaRp1"
      }
    },
    {
      "cell_type": "code",
      "source": [
        "(\" \"), 마침표(\".\"), 빼기 부호(\"-\""
      ],
      "metadata": {
        "id": "oIanbsg9agcC"
      },
      "execution_count": null,
      "outputs": []
    },
    {
      "cell_type": "code",
      "source": [
        "입력: [\"img12.png\", \"img10.png\", \"img02.png\", \"img1.png\", \"IMG01.GIF\", \"img2.JPG\"]\n",
        "출력: [\"img1.png\", \"IMG01.GIF\", \"img02.png\", \"img2.JPG\", \"img10.png\", \"img12.png\"]\n",
        "\n",
        "입력: [\"F-5 Freedom Fighter\", \"B-50 Superfortress\", \"A-10 Thunderbolt II\", \"F-14 Tomcat\"]\n",
        "\n",
        "# 분리하기"
      ],
      "metadata": {
        "id": "yVEhdKh0agex"
      },
      "execution_count": null,
      "outputs": []
    },
    {
      "cell_type": "code",
      "source": [
        "file_name=[\"F-5 Freedom Fighter\", \"B-50 Superfortress\", \"A-10 Thunderbolt II\", \"F-14 Tomcat\"]\n",
        "\n",
        "\n",
        "def file_split(strings):\n",
        "  num_idx=0\n",
        "  for i,string in enumerate(strings):\n",
        "    if string.isdigit():\n",
        "      num_idx=i\n",
        "      break \n",
        "  head=strings[:num_idx]\n",
        "  \n",
        "  strings=strings[num_idx:]\n",
        "  \n",
        "  tail_idx=0\n",
        "  for i,string in enumerate(strings):\n",
        "    if i>=5 or not string.isdigit():\n",
        "      tail_idx=i\n",
        "      break \n",
        "  number=strings[:tail_idx]\n",
        "  tail=strings[tail_idx:]\n",
        "\n",
        "  return head,number,tail\n",
        "\n",
        "\n",
        "\n",
        "res=[]\n",
        "for i,f in enumerate(file_name):\n",
        "  head,num,tail=file_split(f)\n",
        "  res.append((head,num,tail))\n",
        "\n",
        "res.sort(key=lambda x:(x[0].upper(), int(x[1])))\n",
        "\n",
        "result=[]\n",
        "\n",
        "for i in res:\n",
        "  i=list(i)\n",
        "  temp=\"\".join(i)\n",
        "  result.append(temp)\n",
        "\n",
        "print(result)\n"
      ],
      "metadata": {
        "colab": {
          "base_uri": "https://localhost:8080/"
        },
        "id": "edg8onh6aghp",
        "outputId": "2db98444-3194-4d32-f396-b4a8dcb0d7f8"
      },
      "execution_count": null,
      "outputs": [
        {
          "output_type": "stream",
          "name": "stdout",
          "text": [
            "['A-10 Thunderbolt II', 'B-50 Superfortress', 'F-5 Freedom Fighter', 'F-14 Tomcat']\n"
          ]
        }
      ]
    },
    {
      "cell_type": "code",
      "source": [
        "file_name=[\"F-5 Freedom Fighter\", \"B-50 Superfortress\", \"A-10 Thunderbolt II\", \"F-14 Tomcat\"]\n",
        "\n",
        "res=[]\n",
        "for f in file_name:\n",
        "  head,num,tail=\"\",\"\",\"\"\n",
        "  cnt,flag=0,False\n",
        "  for i,char in enumerate(f):\n",
        "    if char.isdigit() and cnt<=5:\n",
        "      num+=char\n",
        "      cnt+=1\n",
        "      flag=True\n",
        "    elif not flag:\n",
        "      head+=char\n",
        "    else:\n",
        "      tail=f[i:]\n",
        "      break \n",
        "  res.append((head,num,tail))\n",
        "# 우선순위를 다르게 설정하기 \n",
        "\n",
        "res.sort(key=lambda x:(x[0].upper(), int(x[1])))\n",
        "result=[]\n",
        "\n",
        "for i in res:\n",
        "  temp=\"\".join(i)\n",
        "  result.append(temp)\n",
        "\n",
        "print(result)\n"
      ],
      "metadata": {
        "colab": {
          "base_uri": "https://localhost:8080/"
        },
        "id": "TFKdYGnNb70m",
        "outputId": "71e87997-c8a9-4002-890e-84c4a222dc4c"
      },
      "execution_count": null,
      "outputs": [
        {
          "output_type": "stream",
          "name": "stdout",
          "text": [
            "['A-10 Thunderbolt II', 'B-50 Superfortress', 'F-5 Freedom Fighter', 'F-14 Tomcat']\n"
          ]
        }
      ]
    },
    {
      "cell_type": "markdown",
      "source": [
        "## 짝지어 제거하기"
      ],
      "metadata": {
        "id": "0amZkf8VagkT"
      }
    },
    {
      "cell_type": "code",
      "source": [
        "from collections import deque \n",
        "'''\n",
        "dq와 stack을 이용해서 풀었다. \n",
        "\n",
        "dq는 계속적으로 값을뺴주는 역할을 하며 \n",
        "stack은 계속적으로 맨뒷자리와 비ㄱ하는 역할을 진행한다. \n",
        "\n",
        "결국 맨뒤에있는값이랑 dq에 추출한값이 같으면 결국은 빼주는것이고 \n",
        "아닌경우에는 그냥 stack 에 넣어준다. \n",
        "\n",
        "'''\n",
        "\n",
        "\n",
        "\n",
        "s=\"baabaa\"\n",
        "\n",
        "stack=[s[0]]\n",
        "dq=deque(s[1:])\n",
        "\n",
        "\n",
        "\n",
        "while dq:\n",
        "  v=dq.popleft()\n",
        "  if len(stack)==0:\n",
        "    stack.append(v)\n",
        "    continue\n",
        "\n",
        "  if stack[-1]==v:\n",
        "    stack.pop()\n",
        "  else:\n",
        "    stack.append(v)\n",
        "  \n",
        "if len(stack)>0:\n",
        "  print(0)\n",
        "else:\n",
        "  print(1)\n",
        "\n",
        "  \n",
        "    \n"
      ],
      "metadata": {
        "colab": {
          "base_uri": "https://localhost:8080/"
        },
        "id": "TE32jkneagm5",
        "outputId": "eb4574de-7477-4ce4-850c-79ba52f81553"
      },
      "execution_count": null,
      "outputs": [
        {
          "output_type": "stream",
          "name": "stdout",
          "text": [
            "1\n"
          ]
        }
      ]
    },
    {
      "cell_type": "markdown",
      "source": [
        "## 가장 큰수"
      ],
      "metadata": {
        "id": "HpC_ptZJago5"
      }
    },
    {
      "cell_type": "code",
      "source": [
        "\n",
        "\n",
        "numbers=[3, 30, 34, 5, 9]\t\t\n",
        "\n",
        "\n",
        "values=sorted(numbers, key = lambda x : int(str(x)*4)%1000,reverse=True)\n",
        "temp=\"\"\n",
        "for i in values:\n",
        "  temp+=str(i)\n",
        "\n",
        "print(temp)\n",
        "\n",
        "\n",
        "\n",
        "\n",
        "\n",
        "\n"
      ],
      "metadata": {
        "colab": {
          "base_uri": "https://localhost:8080/"
        },
        "id": "izAnK76MeCIk",
        "outputId": "6ede8f22-3d61-47f0-b9d2-79f0af104266"
      },
      "execution_count": null,
      "outputs": [
        {
          "output_type": "stream",
          "name": "stdout",
          "text": [
            "9534330\n"
          ]
        }
      ]
    },
    {
      "cell_type": "markdown",
      "source": [
        "## N개의 최소공배수"
      ],
      "metadata": {
        "id": "0pb2e4OceCMC"
      }
    },
    {
      "cell_type": "code",
      "source": [
        "arr=[2,4,8,14]\n",
        "\n",
        "\n",
        "res=[]\n",
        "i,cnt=2,0\n",
        "while True:\n",
        "  for j in range(len(arr)):\n",
        "    if arr[j]%i==0:\n",
        "      cnt+=1\n",
        "\n",
        "  if cnt>=2:\n",
        "    res.append(i)\n",
        "    for j in range(len(arr)):\n",
        "      if arr[j]%i==0:\n",
        "        arr[j]//=i\n",
        "    i=2\n",
        "    cnt=0\n",
        "    continue\n",
        "\n",
        "  for i in range(len(arr)):\n",
        "    cnt=0\n",
        "    for j in range(i+1,len(arr)):\n",
        "      if arr[j]%arr[i]==0 and arr[i]!=1:\n",
        "        cnt+=1\n",
        "\n",
        "    if cnt>=2:\n",
        "      for k in range(len(arr)):\n",
        "        if arr[k]%arr[i]==0:\n",
        "          arr[k]//=arr[i]\n",
        "      i,cnt=2,0\n",
        "      continue\n",
        "    \n",
        "    if cnt<2 and i==len(arr)-1:\n",
        "      break \n",
        "  i+=1\n",
        "  cnt=0    \n",
        "\n",
        "print(res)\n",
        "\n",
        "\n",
        "\n",
        "\n",
        "\n",
        "02 3453 0702\n",
        "\n",
        "\n"
      ],
      "metadata": {
        "colab": {
          "base_uri": "https://localhost:8080/",
          "height": 246
        },
        "id": "hGdRLNjHeCOi",
        "outputId": "899992da-f89f-412a-d9ac-7e81270dc15c"
      },
      "execution_count": null,
      "outputs": [
        {
          "output_type": "error",
          "ename": "KeyboardInterrupt",
          "evalue": "ignored",
          "traceback": [
            "\u001b[0;31m---------------------------------------------------------------------------\u001b[0m",
            "\u001b[0;31mKeyboardInterrupt\u001b[0m                         Traceback (most recent call last)",
            "\u001b[0;32m<ipython-input-16-2d0206d86259>\u001b[0m in \u001b[0;36m<module>\u001b[0;34m()\u001b[0m\n\u001b[1;32m      5\u001b[0m \u001b[0mi\u001b[0m\u001b[0;34m,\u001b[0m\u001b[0mcnt\u001b[0m\u001b[0;34m=\u001b[0m\u001b[0;36m2\u001b[0m\u001b[0;34m,\u001b[0m\u001b[0;36m0\u001b[0m\u001b[0;34m\u001b[0m\u001b[0;34m\u001b[0m\u001b[0m\n\u001b[1;32m      6\u001b[0m \u001b[0;32mwhile\u001b[0m \u001b[0;32mTrue\u001b[0m\u001b[0;34m:\u001b[0m\u001b[0;34m\u001b[0m\u001b[0;34m\u001b[0m\u001b[0m\n\u001b[0;32m----> 7\u001b[0;31m   \u001b[0;32mfor\u001b[0m \u001b[0mj\u001b[0m \u001b[0;32min\u001b[0m \u001b[0mrange\u001b[0m\u001b[0;34m(\u001b[0m\u001b[0mlen\u001b[0m\u001b[0;34m(\u001b[0m\u001b[0marr\u001b[0m\u001b[0;34m)\u001b[0m\u001b[0;34m)\u001b[0m\u001b[0;34m:\u001b[0m\u001b[0;34m\u001b[0m\u001b[0;34m\u001b[0m\u001b[0m\n\u001b[0m\u001b[1;32m      8\u001b[0m     \u001b[0;32mif\u001b[0m \u001b[0marr\u001b[0m\u001b[0;34m[\u001b[0m\u001b[0mj\u001b[0m\u001b[0;34m]\u001b[0m\u001b[0;34m%\u001b[0m\u001b[0mi\u001b[0m\u001b[0;34m==\u001b[0m\u001b[0;36m0\u001b[0m\u001b[0;34m:\u001b[0m\u001b[0;34m\u001b[0m\u001b[0;34m\u001b[0m\u001b[0m\n\u001b[1;32m      9\u001b[0m       \u001b[0mcnt\u001b[0m\u001b[0;34m+=\u001b[0m\u001b[0;36m1\u001b[0m\u001b[0;34m\u001b[0m\u001b[0;34m\u001b[0m\u001b[0m\n",
            "\u001b[0;31mKeyboardInterrupt\u001b[0m: "
          ]
        }
      ]
    },
    {
      "cell_type": "code",
      "source": [
        "from math import gcd \n",
        "\n",
        "arr=[2,6,8,14]\t\n",
        "\n",
        "def nlcm(num):\n",
        "  answer=arr[0]      \n",
        "  for num in arr:                                 # 반복문을 처음부터 끝까지 돈다.\n",
        "    answer = answer*num // gcd(answer, num)     \n",
        "\n",
        "  return answer\n",
        "print(nlcm(arr))\n"
      ],
      "metadata": {
        "colab": {
          "base_uri": "https://localhost:8080/"
        },
        "id": "1lwHZHnyr19i",
        "outputId": "07c68b98-f604-4043-b1ca-2da6486c22d6"
      },
      "execution_count": null,
      "outputs": [
        {
          "output_type": "stream",
          "name": "stdout",
          "text": [
            "168\n"
          ]
        }
      ]
    },
    {
      "cell_type": "markdown",
      "source": [
        "## 프로그래머스 레벨체크 \n"
      ],
      "metadata": {
        "id": "rrebNnr76kvI"
      }
    },
    {
      "cell_type": "markdown",
      "source": [
        "## 베스트앨범"
      ],
      "metadata": {
        "id": "vKb21yZIeP19"
      }
    },
    {
      "cell_type": "code",
      "source": [
        "'''\n",
        "두개씩 모아 베스트 엘범 \n",
        "팝 두개씩 \n",
        "\n",
        "'''\n",
        "\n",
        "genres=[\"classic\", \"pop\", \"classic\", \"classic\", \"pop\"]\t\n",
        "plays=[500, 600, 150, 800, 2500]\t\n",
        "\n",
        "\n",
        "hash={}\n",
        "\n",
        "cnt=0\n",
        "albums=[]\n",
        "for a,b in zip(genres,plays):\n",
        "  if a in hash.keys():\n",
        "    hash[a].append([b,cnt])\n",
        "  else:\n",
        "    hash[a]=[[b,cnt]]\n",
        "  albums.append((a,b,cnt))\n",
        "  cnt+=1\n",
        "\n",
        "albums.sort(key=lambda x:x[1],reverse= True)\n",
        "start=albums.pop(0)\n",
        "\n",
        "start=start[0]\n",
        "keys=list(hash.keys())\n",
        "keys.remove(start)\n",
        "keys.insert(0,start)\n",
        "\n",
        "res=[]\n",
        "for key in keys:\n",
        "  if len(hash[key])>=2:\n",
        "    hash[key].sort(key=lambda x:(-x[0],x[1]))\n",
        "    for i in range(2):\n",
        "      res.append(hash[key][i][1])\n",
        "  else:\n",
        "    res.append(hash[key[i][0][1]])\n",
        "print(hash)\n",
        "print(res)\n",
        "\n",
        "     \n",
        "\n",
        "\n",
        "\n"
      ],
      "metadata": {
        "colab": {
          "base_uri": "https://localhost:8080/"
        },
        "id": "Lq-hdZRF6nFm",
        "outputId": "b5a246dc-e95c-4da2-8a8d-09f60d468900"
      },
      "execution_count": null,
      "outputs": [
        {
          "output_type": "stream",
          "name": "stdout",
          "text": [
            "{'classic': [[800, 3], [500, 0], [150, 2]], 'pop': [[2500, 4], [600, 1]]}\n",
            "[4, 1, 3, 0]\n"
          ]
        }
      ]
    },
    {
      "cell_type": "code",
      "source": [
        "'''\n",
        "두개씩 모아 베스트 엘범 \n",
        "팝 두개씩 \n",
        "\n",
        "'''\n",
        "\n",
        "genres=[\"classic\", \"pop\", \"classic\", \"classic\", \"pop\"]\t\n",
        "plays=[500, 600, 150, 800, 2500]\t\n",
        "\n",
        "\n",
        "hash={}\n",
        "\n",
        "cnt=0\n",
        "albums=[]\n",
        "for a,b in zip(genres,plays):\n",
        "  if a in hash.keys():\n",
        "    hash[a].append([b,cnt])\n",
        "  else:\n",
        "    hash[a]=[[b,cnt]]\n",
        "  albums.append((a,b))\n",
        "  cnt+=1\n",
        "\n",
        "albums.sort(key=lambda x:x[1],reverse= True)\n",
        "\n",
        "keys=set()\n",
        "for a,b in albums:\n",
        "  keys.add(a)\n",
        "  \n",
        "\n",
        "res=[]\n",
        "for key in keys:\n",
        "  hash[key].sort(key=lambda x:(-x[0],x[1]))\n",
        "  for i in range(2):\n",
        "    res.append(hash[key][i][1])\n",
        "\n",
        "print(res)\n",
        "     \n",
        "\n",
        "\n",
        "\n"
      ],
      "metadata": {
        "colab": {
          "base_uri": "https://localhost:8080/"
        },
        "id": "_7pmWFhHhBWe",
        "outputId": "2f30f9db-a606-4cf1-f400-eefc41e24c35"
      },
      "execution_count": null,
      "outputs": [
        {
          "output_type": "stream",
          "name": "stdout",
          "text": [
            "[4, 1, 3, 0]\n"
          ]
        }
      ]
    },
    {
      "cell_type": "code",
      "source": [
        "n=2\n",
        "s=8\n",
        "\n",
        "\n",
        "\n",
        "a=s//n\n",
        "b=s%n\n",
        "arr=[a]*(n)\n",
        "\n",
        "for i in range(b):\n",
        "  arr[n-1-i]+=1\n",
        "\n",
        "if 0 in arr:\n",
        "  result=-1\n",
        "else:\n",
        "  result=arr\n",
        "\n",
        "print(result)\n"
      ],
      "metadata": {
        "colab": {
          "base_uri": "https://localhost:8080/"
        },
        "id": "3ak0udwiAX_t",
        "outputId": "54043bcf-6dc9-4eae-e8fa-675faae54dc1"
      },
      "execution_count": null,
      "outputs": [
        {
          "output_type": "stream",
          "name": "stdout",
          "text": [
            "[4, 4]\n"
          ]
        }
      ]
    },
    {
      "cell_type": "markdown",
      "source": [
        "## 배달"
      ],
      "metadata": {
        "id": "1C9n3_BIv2l-"
      }
    },
    {
      "cell_type": "code",
      "source": [
        "'''\n",
        "걍 플로이드 워셜 \n",
        "\n",
        "\n",
        "'''\n",
        "n=5\n",
        "road=[[1,2,1],[2,3,3],[5,2,2],[1,4,2],[5,3,1],[5,4,2]]\t\t\n",
        "K=3\n",
        "INF=int(1e9)\n",
        "matrix=[[INF]*n for i in range(n)]\n",
        "for i in range(n):\n",
        "  for j in range(n):\n",
        "    if i==j:\n",
        "      matrix[i][j]=0\n",
        "\n",
        "for elements in road:\n",
        "  a,b,c=elements\n",
        "  matrix[a-1][b-1]=min(c,matrix[a-1][b-1])\n",
        "  matrix[b-1][a-1]=matrix[a-1][b-1]\n",
        "\n",
        "\n",
        "\n",
        "for k in range(n):\n",
        "  for i in range(n):\n",
        "    for j in range(n):\n",
        "      matrix[i][j]=min(matrix[i][k]+matrix[k][j],matrix[i][j])\n",
        "\n",
        "for i in matrix:\n",
        "  print(i)\n",
        "\n",
        "cnt=0\n",
        "for e in matrix[0]:\n",
        "  if e<=K:\n",
        "    cnt+=1\n",
        "print(cnt)"
      ],
      "metadata": {
        "colab": {
          "base_uri": "https://localhost:8080/"
        },
        "id": "hoPWWGW-v35d",
        "outputId": "12dcab43-dcec-4647-fa67-d4cf7f632378"
      },
      "execution_count": null,
      "outputs": [
        {
          "output_type": "stream",
          "name": "stdout",
          "text": [
            "[0, 1, 4, 2, 3]\n",
            "[1, 0, 3, 3, 2]\n",
            "[4, 3, 0, 3, 1]\n",
            "[2, 3, 3, 0, 2]\n",
            "[3, 2, 1, 2, 0]\n",
            "4\n"
          ]
        }
      ]
    },
    {
      "cell_type": "code",
      "source": [
        "'''\n",
        "걍 플로이드 워셜 \n",
        "\n",
        "\n",
        "'''\n",
        "INF=int(1e9)\n",
        "matrix=[[INF]*n for i in range(n)]\n",
        "for i in range(n):\n",
        "  for j in range(n):\n",
        "    if i==j:\n",
        "      matrix[i][j]=0\n",
        "\n",
        "for elements in road:\n",
        "  a,b,c=elements\n",
        "  matrix[a-1][b-1]=min(c,matrix[a-1][b-1])\n",
        "  matrix[b-1][a-1]=matrix[a-1][b-1]\n",
        "\n",
        "for k in range(n):\n",
        "  for i in range(n):\n",
        "    for j in range(n):\n",
        "      matrix[i][j]=min(matrix[i][k]+matrix[k][j],matrix[i][j])\n",
        "\n",
        "\n",
        "cnt=0\n",
        "for e in matrix[0]:\n",
        "  if e<=K:\n",
        "    cnt+=1\n",
        "print(cnt)"
      ],
      "metadata": {
        "id": "S7CAxkh310-e"
      },
      "execution_count": null,
      "outputs": []
    },
    {
      "cell_type": "markdown",
      "source": [
        "## 스킬트리"
      ],
      "metadata": {
        "id": "4TmK9tF8-yYM"
      }
    },
    {
      "cell_type": "code",
      "source": [
        "\n",
        "\n",
        "skill=\"CBD\"\n",
        "skill_trees=[\"BACDE\", \"CBADF\", \"AECB\", \"BDA\"]\t\n",
        "\n",
        "\n",
        "hash1={}\n",
        "\n",
        "for i,char in enumerate(skill):\n",
        "  hash1[char]=i\n",
        "print(hash1)\n",
        "\n",
        "for skills in skill_trees:\n",
        "  hash2,leng={},0\n",
        "  for i,char in enumerate(skills):\n",
        "    if char in (skill):\n",
        "      hash2[char]=leng\n",
        "      leng+=1\n",
        "  \n",
        "  \n",
        "  print(hash2)\n",
        "\n",
        "\n",
        "\n",
        "  \n",
        "\n",
        "\n",
        "\n",
        "\n",
        "\n"
      ],
      "metadata": {
        "colab": {
          "base_uri": "https://localhost:8080/"
        },
        "id": "VuetalN_AMpa",
        "outputId": "3d8fee02-6947-493e-c4ac-ed4ae8cb76a8"
      },
      "execution_count": null,
      "outputs": [
        {
          "output_type": "stream",
          "name": "stdout",
          "text": [
            "{'C': 0, 'B': 1, 'D': 2}\n",
            "{'B': 0, 'C': 1, 'D': 2}\n",
            "{'C': 0, 'B': 1, 'D': 2}\n",
            "{'C': 0, 'B': 1}\n",
            "{'B': 0, 'D': 1}\n"
          ]
        }
      ]
    },
    {
      "cell_type": "code",
      "source": [
        "from collections import deque \n",
        "\n",
        "'''\n",
        "다시풀어보기 \n",
        "\n",
        "skill 이라는 순서를 넣고 \n",
        "\n",
        "skills 라는 것을 다시 리스트로 만들어서 skill 이라는 순서를\n",
        "비교해 가며 판단해본다.  \n",
        "\n",
        "1. 만약 skill 순서에 포함되는경우 맨 앞에 있는값과 비교해본다.\n",
        "\n",
        "  1-1. 맨 앞과 다르다면 그즉시 안되는것이기에 멈춘다.\n",
        "  1-2. skill_list에서 뺴주고 넘어간다. \n",
        "\n",
        "2. 이렇게하여 flag를 만들어서 flag 의 값이 false인경우에는 순서가\n",
        "\n",
        "'''\n",
        "skill=\"CBD\"\n",
        "skill_trees=[\"BACDE\", \"CBADF\", \"AECB\", \"BDA\"]\t\n",
        "\n",
        "cnt=0\n",
        "for skills in skill_trees:\n",
        "  skill_list=list(skill)\n",
        "  flag=True \n",
        "  for s in skills:\n",
        "    if s in skill:\n",
        "      if s!=skill_list.pop(0):\n",
        "        flag=False \n",
        "        break \n",
        "  if flag:\n",
        "    cnt+=1\n",
        "      \n",
        "print(cnt)\n",
        "\n",
        "\n",
        "      \n",
        "\n",
        "\n",
        "\n",
        "\n"
      ],
      "metadata": {
        "colab": {
          "base_uri": "https://localhost:8080/"
        },
        "id": "TwlJn5saCMB5",
        "outputId": "a8fb44af-15b0-44d9-ecc3-6a12fb8640cd"
      },
      "execution_count": null,
      "outputs": [
        {
          "output_type": "stream",
          "name": "stdout",
          "text": [
            "2\n"
          ]
        }
      ]
    },
    {
      "cell_type": "markdown",
      "source": [
        "## 문자열 압축"
      ],
      "metadata": {
        "id": "Ug9nbEx1EsGz"
      }
    },
    {
      "cell_type": "code",
      "source": [
        "s=\"ababcdcdababcdcd\"\t\n",
        "\n",
        "for i in s:\n",
        "  \n"
      ],
      "metadata": {
        "id": "LgosLoAaojWp"
      },
      "execution_count": null,
      "outputs": []
    },
    {
      "cell_type": "markdown",
      "source": [
        "## 영어 끝말잇기\n"
      ],
      "metadata": {
        "id": "bVtu96qgtIri"
      }
    },
    {
      "cell_type": "code",
      "source": [
        "\n",
        "'''\n",
        "1. 뒷글자를 잘못판단해서 말하는경우: 판단 \n",
        "2. 똑같은걸 말해서 탈락하는 경우 check\n",
        "\n",
        "\n",
        "'''\n",
        "n=5\n",
        "words=[\"hello\", \"observe\", \"effect\", \"take\", \"either\", \"recognize\", \"encourage\", \"ensure\", \"establish\", \"hang\", \"gather\", \"refer\", \"reference\", \"estimate\", \"executive\"]\n",
        "check,result=[],[]\n",
        "for i,word in enumerate(words):\n",
        "  if i==0:\n",
        "    pre=word[-1]\n",
        "    check.append(word)\n",
        "    continue\n",
        "  \n",
        "  if pre!=word[0]:\n",
        "    a=i%n+1\n",
        "    i+=1\n",
        "    b=i//n if i%n==0 else i//n+1\n",
        "    result.append(a)\n",
        "    result.append(b)\n",
        "    break \n",
        "\n",
        "  if word in check:\n",
        "    a=i%n+1\n",
        "    i+=1\n",
        "    b=i//n if i%n==0 else i//n+1\n",
        "    result.append(a)\n",
        "    result.append(b)\n",
        "    break \n",
        "  pre=word[-1]\n",
        "  check.append(word)\n",
        "\n",
        "\n",
        "if len(result)==0:\n",
        "  print([0,0])\n",
        "else:\n",
        "  print(result)\n",
        "\n",
        "\n",
        "\n",
        "\n"
      ],
      "metadata": {
        "colab": {
          "base_uri": "https://localhost:8080/"
        },
        "id": "5AB9DEgktKwq",
        "outputId": "a770a59e-fcba-4d21-a1c2-3aa34b027e1e"
      },
      "execution_count": null,
      "outputs": [
        {
          "output_type": "stream",
          "name": "stdout",
          "text": [
            "[0, 0]\n"
          ]
        }
      ]
    },
    {
      "cell_type": "code",
      "source": [
        ""
      ],
      "metadata": {
        "id": "tmWMYpTZCD97"
      },
      "execution_count": null,
      "outputs": []
    },
    {
      "cell_type": "code",
      "source": [
        "어떤능력 협업능력, 각자 맡은 분야에 대한 능력\n",
        "어떤 프로젝트 졸업생 멘토링 \n",
        "어떻게 수행 에자일 방법\n"
      ],
      "metadata": {
        "id": "Nkwj-Ir5CEAj"
      },
      "execution_count": null,
      "outputs": []
    },
    {
      "cell_type": "markdown",
      "source": [
        "## 가장 먼노드"
      ],
      "metadata": {
        "id": "fNUGEMubH7v6"
      }
    },
    {
      "cell_type": "code",
      "source": [
        "'''\n",
        "내가 맞춤\n",
        "\n",
        "1. 노드간의 연결을 그래프로 표현한다.\n",
        "\n",
        "2. distance라는 배열을 만들어서 처리한다. \n",
        "\n",
        "\n",
        "'''\n",
        "\n",
        "\n",
        "\n",
        "from collections import deque \n",
        "n=6\n",
        "vertex=[[3, 6], [4, 3], [3, 2], [1, 3], [1, 2], [2, 4], [5, 2]]\t\n",
        "\n",
        "graph=[[]*(n+1) for i in range(n+1)]\n",
        "visited=[False]*(n+1)\n",
        "distance=[0]*(n+1)\n",
        "\n",
        "for a,b in vertex:\n",
        "  graph[a].append(b)\n",
        "  graph[b].append(a)\n",
        "\n",
        "dq=deque([1])\n",
        "visited[1]=True\n",
        "\n",
        "while dq:\n",
        "  v=dq.popleft()\n",
        "  for next in graph[v]:\n",
        "    if not visited[next]:\n",
        "      visited[next]=True\n",
        "      distance[next]=distance[v]+1\n",
        "      dq.append(next)\n",
        "\n",
        "param=max(distance)\n",
        "cnt=0\n",
        "for i in distance:\n",
        "  if i==param:\n",
        "    cnt+=1\n",
        "print(cnt)\n",
        "\n",
        "\n",
        "\n"
      ],
      "metadata": {
        "colab": {
          "base_uri": "https://localhost:8080/"
        },
        "id": "w_PTIWOCCEC7",
        "outputId": "49d14ff2-e485-4f6d-f4f9-07665e65999f"
      },
      "execution_count": 6,
      "outputs": [
        {
          "output_type": "stream",
          "name": "stdout",
          "text": [
            "[[], [3, 2], [3, 1, 4, 5], [6, 4, 2, 1], [3, 2], [2], [3]]\n",
            "3\n"
          ]
        }
      ]
    },
    {
      "cell_type": "code",
      "source": [
        "\n",
        "n=4\n",
        "works=[4, 3, 3]\t\t\n",
        "while n>0:\n",
        "  value=max(works)\n",
        "  idx=works.index(value)\n",
        "  works[idx]=value-1\n",
        "  n-=1\n",
        "\n",
        "res=0\n",
        "for work in works:\n",
        "  if work <=0:\n",
        "    res+=0\n",
        "    continue \n",
        "  res+=work**2\n",
        "\n",
        "print(res)\n",
        "  \n",
        "\n",
        "def sqrt(n):\n",
        "  \n"
      ],
      "metadata": {
        "colab": {
          "base_uri": "https://localhost:8080/"
        },
        "id": "jp-8su4-CEFb",
        "outputId": "aa1751d8-1d81-4f09-f22c-0ce7ba779316"
      },
      "execution_count": 14,
      "outputs": [
        {
          "output_type": "stream",
          "name": "stdout",
          "text": [
            "12\n"
          ]
        }
      ]
    },
    {
      "cell_type": "code",
      "source": [
        "import heapq\n",
        "\n",
        "\n",
        "help(heapq)"
      ],
      "metadata": {
        "colab": {
          "base_uri": "https://localhost:8080/"
        },
        "id": "jAfHsjGAOKNI",
        "outputId": "a5f9220c-9d14-42ed-97e5-faf92944ba2c"
      },
      "execution_count": 18,
      "outputs": [
        {
          "output_type": "stream",
          "name": "stdout",
          "text": [
            "Help on module heapq:\n",
            "\n",
            "NAME\n",
            "    heapq - Heap queue algorithm (a.k.a. priority queue).\n",
            "\n",
            "MODULE REFERENCE\n",
            "    https://docs.python.org/3.7/library/heapq\n",
            "    \n",
            "    The following documentation is automatically generated from the Python\n",
            "    source files.  It may be incomplete, incorrect or include features that\n",
            "    are considered implementation detail and may vary between Python\n",
            "    implementations.  When in doubt, consult the module reference at the\n",
            "    location listed above.\n",
            "\n",
            "DESCRIPTION\n",
            "    Heaps are arrays for which a[k] <= a[2*k+1] and a[k] <= a[2*k+2] for\n",
            "    all k, counting elements from 0.  For the sake of comparison,\n",
            "    non-existing elements are considered to be infinite.  The interesting\n",
            "    property of a heap is that a[0] is always its smallest element.\n",
            "    \n",
            "    Usage:\n",
            "    \n",
            "    heap = []            # creates an empty heap\n",
            "    heappush(heap, item) # pushes a new item on the heap\n",
            "    item = heappop(heap) # pops the smallest item from the heap\n",
            "    item = heap[0]       # smallest item on the heap without popping it\n",
            "    heapify(x)           # transforms list into a heap, in-place, in linear time\n",
            "    item = heapreplace(heap, item) # pops and returns smallest item, and adds\n",
            "                                   # new item; the heap size is unchanged\n",
            "    \n",
            "    Our API differs from textbook heap algorithms as follows:\n",
            "    \n",
            "    - We use 0-based indexing.  This makes the relationship between the\n",
            "      index for a node and the indexes for its children slightly less\n",
            "      obvious, but is more suitable since Python uses 0-based indexing.\n",
            "    \n",
            "    - Our heappop() method returns the smallest item, not the largest.\n",
            "    \n",
            "    These two make it possible to view the heap as a regular Python list\n",
            "    without surprises: heap[0] is the smallest item, and heap.sort()\n",
            "    maintains the heap invariant!\n",
            "\n",
            "FUNCTIONS\n",
            "    heapify(...)\n",
            "        Transform list into a heap, in-place, in O(len(heap)) time.\n",
            "    \n",
            "    heappop(...)\n",
            "        Pop the smallest item off the heap, maintaining the heap invariant.\n",
            "    \n",
            "    heappush(...)\n",
            "        heappush(heap, item) -> None. Push item onto heap, maintaining the heap invariant.\n",
            "    \n",
            "    heappushpop(...)\n",
            "        heappushpop(heap, item) -> value. Push item on the heap, then pop and return the smallest item\n",
            "        from the heap. The combined action runs more efficiently than\n",
            "        heappush() followed by a separate call to heappop().\n",
            "    \n",
            "    heapreplace(...)\n",
            "        heapreplace(heap, item) -> value. Pop and return the current smallest value, and add the new item.\n",
            "        \n",
            "        This is more efficient than heappop() followed by heappush(), and can be\n",
            "        more appropriate when using a fixed-size heap.  Note that the value\n",
            "        returned may be larger than item!  That constrains reasonable uses of\n",
            "        this routine unless written as part of a conditional replacement:\n",
            "        \n",
            "            if item > heap[0]:\n",
            "                item = heapreplace(heap, item)\n",
            "    \n",
            "    merge(*iterables, key=None, reverse=False)\n",
            "        Merge multiple sorted inputs into a single sorted output.\n",
            "        \n",
            "        Similar to sorted(itertools.chain(*iterables)) but returns a generator,\n",
            "        does not pull the data into memory all at once, and assumes that each of\n",
            "        the input streams is already sorted (smallest to largest).\n",
            "        \n",
            "        >>> list(merge([1,3,5,7], [0,2,4,8], [5,10,15,20], [], [25]))\n",
            "        [0, 1, 2, 3, 4, 5, 5, 7, 8, 10, 15, 20, 25]\n",
            "        \n",
            "        If *key* is not None, applies a key function to each element to determine\n",
            "        its sort order.\n",
            "        \n",
            "        >>> list(merge(['dog', 'horse'], ['cat', 'fish', 'kangaroo'], key=len))\n",
            "        ['dog', 'cat', 'fish', 'horse', 'kangaroo']\n",
            "    \n",
            "    nlargest(n, iterable, key=None)\n",
            "        Find the n largest elements in a dataset.\n",
            "        \n",
            "        Equivalent to:  sorted(iterable, key=key, reverse=True)[:n]\n",
            "    \n",
            "    nsmallest(n, iterable, key=None)\n",
            "        Find the n smallest elements in a dataset.\n",
            "        \n",
            "        Equivalent to:  sorted(iterable, key=key)[:n]\n",
            "\n",
            "DATA\n",
            "    __about__ = 'Heap queues\\n\\n[explanation by François Pinard]\\n\\nH... t...\n",
            "    __all__ = ['heappush', 'heappop', 'heapify', 'heapreplace', 'merge', '...\n",
            "\n",
            "FILE\n",
            "    /usr/lib/python3.7/heapq.py\n",
            "\n",
            "\n"
          ]
        }
      ]
    },
    {
      "cell_type": "code",
      "source": [
        "import heapq\n",
        "\n",
        "'''\n",
        "\n",
        "처음에는 max 인덱스로 해서 풀었는데 \n",
        "시간 복잡도 O(N**2) 라서 효율성 테스트 0 \n",
        "그래서 힙으로 바꾸어서 맨앞에 있는 값을 기준으로 처리했음\n",
        "\n",
        "아오 \n",
        "\n",
        "\n",
        "'''\n",
        "\n",
        "\n",
        "n=4\n",
        "works=[4, 3, 3]\t\t\n",
        "heap=[]\n",
        "for work in works:\n",
        "  heapq.heappush(heap,(-work,work))\n",
        "    \n",
        "while n>0:\n",
        "  work=heapq.heappop(heap)[1]-1\n",
        "  heapq.heappush(heap,(-work,work))\n",
        "  n-=1\n",
        "\n",
        "print(heap) \n",
        "\n",
        "res=0\n",
        "for i,work in heap:\n",
        "  if work <=0:\n",
        "    res+=0\n",
        "    continue \n",
        "  res+=work**2\n",
        "\n",
        "print(res)\n"
      ],
      "metadata": {
        "colab": {
          "base_uri": "https://localhost:8080/"
        },
        "id": "0UjwZNovPqGg",
        "outputId": "336c507b-98ed-4b80-a227-1f3a0a54d3a1"
      },
      "execution_count": 40,
      "outputs": [
        {
          "output_type": "stream",
          "name": "stdout",
          "text": [
            "[(-2, 2), (-2, 2), (-2, 2)]\n",
            "12\n"
          ]
        }
      ]
    },
    {
      "cell_type": "markdown",
      "source": [
        "## 이중 우선순위 큐 \n"
      ],
      "metadata": {
        "id": "dnxdQq-EUH-8"
      }
    },
    {
      "cell_type": "code",
      "source": [
        "import heapq\n",
        "'''\n",
        "\n",
        "힙정렬 함수를 만들어서 빼낼때 힙정렬을 한후에 \n",
        "맨뒤에 있으면 최댓값 맨앞에 있으면 최솟값으로 생각한다. \n",
        "\n",
        "일단 heap을 사용하는 방법은 리스트를 만든다음에 heapq 모듈을\n",
        "이용해서 heap 배열에 값을 heappush 를 통해서 넣어준다. \n",
        "\n",
        "힙정렬 만들기\n",
        "1. heap은 맨 앞이 최소값을 유지한다.\n",
        "2. heap에서 맨앞을 빼면 다시금 최솟값이 맨앞에 위치한다.\n",
        "3. 그렇게 하여 정렬을 수행할수있다. \n",
        "\n",
        "\n",
        "'''\n",
        "operations=[\"I 16\",\"D 1\"]\t\t\t\n",
        "heap=[]\n",
        "\n",
        "def heap_sort(nums):\n",
        "  heap=[]\n",
        "  for num in nums:\n",
        "    heapq.heappush(heap,num)\n",
        "  \n",
        "  sorted_heap=[]\n",
        "  while heap:\n",
        "    sorted_heap.append(heapq.heappop(heap))\n",
        "  return sorted_heap\n",
        "\n",
        "for oper in operations:\n",
        "  cmd,value=oper.split()\n",
        "  if cmd==\"I\":\n",
        "    heapq.heappush(heap,int(value))\n",
        "  elif cmd==\"D\" and value==\"1\":\n",
        "    heap=heap_sort(heap)\n",
        "    heap.pop()\n",
        "  elif cmd==\"D\" and value==\"-1\":\n",
        "    heap=heap_sort(heap)\n",
        "    heap.pop(0)\n",
        "    \n",
        "if len(heap)==0:\n",
        "  print([0,0])\n",
        "else:\n",
        "  print(max(heap),min(heap))\n",
        "\n",
        "      \n",
        "\n"
      ],
      "metadata": {
        "colab": {
          "base_uri": "https://localhost:8080/"
        },
        "id": "Qj-6jvfoWW0y",
        "outputId": "a5ad4f42-8c5e-40a4-ae30-1399e7d2a703"
      },
      "execution_count": 56,
      "outputs": [
        {
          "output_type": "stream",
          "name": "stdout",
          "text": [
            "[]\n"
          ]
        }
      ]
    },
    {
      "cell_type": "code",
      "source": [
        "import heapq\n",
        "\n",
        "\n",
        "heap_sort([4, 1, 7, 3, 8, 5])\n"
      ],
      "metadata": {
        "colab": {
          "base_uri": "https://localhost:8080/"
        },
        "id": "kglb0zdwyAdc",
        "outputId": "b565390e-2f4e-4b84-9a10-f4b7f06708b1"
      },
      "execution_count": 53,
      "outputs": [
        {
          "output_type": "execute_result",
          "data": {
            "text/plain": [
              "[1, 3, 4, 5, 7, 8]"
            ]
          },
          "metadata": {},
          "execution_count": 53
        }
      ]
    },
    {
      "cell_type": "markdown",
      "source": [
        "## 보석 쇼핑"
      ],
      "metadata": {
        "id": "zncLYCbK1pJT"
      }
    },
    {
      "cell_type": "code",
      "source": [
        "import copy \n",
        "\n",
        "gems=[\"ZZZ\", \"YYY\", \"NNNN\", \"YYY\", \"BBB\"]\t\t\t\n",
        "\n",
        "n=len(gems)\n",
        "check_set=set()\n",
        "\n",
        "\n",
        "for gem in gems:\n",
        "  check_set.add(gem)\n",
        "\n",
        "\n",
        "def check(lst):\n",
        "  n=len(lst)\n",
        "  d=copy.deepcopy(check_set)\n",
        "  for e in lst:\n",
        "    if e in d:\n",
        "      d.remove(e)\n",
        "  if len(d)==0:\n",
        "    return True \n",
        "  else:\n",
        "    return False \n",
        "\n",
        "\n",
        "res=[1,n]\n",
        "for i in range(n):\n",
        "  for j in range(i+1,n):\n",
        "    b=check(gems[i:j])\n",
        "    if b:\n",
        "      a,b=res[0],res[1]\n",
        "      if b-a>j-(i+1):\n",
        "        res=[i+1,j]\n",
        "print(res)\n",
        "    \n",
        "\n",
        "\n",
        "\n"
      ],
      "metadata": {
        "colab": {
          "base_uri": "https://localhost:8080/"
        },
        "id": "6AQhZSy8EFio",
        "outputId": "6f736e24-f156-4b02-c57c-7299f539dfab"
      },
      "execution_count": 71,
      "outputs": [
        {
          "output_type": "stream",
          "name": "stdout",
          "text": [
            "False i: 1 j:1 ['ZZZ']\n",
            "False i: 1 j:2 ['ZZZ', 'YYY']\n",
            "False i: 1 j:3 ['ZZZ', 'YYY', 'NNNN']\n",
            "False i: 1 j:4 ['ZZZ', 'YYY', 'NNNN', 'YYY']\n",
            "False i: 2 j:2 ['YYY']\n",
            "False i: 2 j:3 ['YYY', 'NNNN']\n",
            "False i: 2 j:4 ['YYY', 'NNNN', 'YYY']\n",
            "False i: 3 j:3 ['NNNN']\n",
            "False i: 3 j:4 ['NNNN', 'YYY']\n",
            "False i: 4 j:4 ['YYY']\n",
            "[1, 5]\n"
          ]
        }
      ]
    },
    {
      "cell_type": "code",
      "source": [
        "import copy \n",
        "\n",
        "gems=[\"ZZZ\", \"YYY\", \"NNNN\", \"YYY\", \"BBB\"]\t\t\t\n",
        "\n",
        "n=len(gems)\n",
        "set_gems=set(gems)\n",
        "\n",
        "res=[]\n",
        "i,j=0,1\n",
        "while i<j and j<n:\n",
        "  copy_gems=copy.deepcopy(set_gems)\n",
        "  print(i,j)\n",
        "  for gem in gems[i:j]:\n",
        "    if gem in copy_gems:\n",
        "      copy_gems.remove(gem)\n",
        "  if len(copy_gems)==0:\n",
        "    res.append((i,j))\n",
        "    i+=1\n",
        "  j+=1\n",
        "\n",
        "print(res)\n",
        "\n",
        "\n",
        "\n",
        "\n",
        "\n",
        "\n"
      ],
      "metadata": {
        "colab": {
          "base_uri": "https://localhost:8080/"
        },
        "id": "EmhCGG0rGZKN",
        "outputId": "ec28c792-d2ce-4239-f3b3-9ed1d376cb3f"
      },
      "execution_count": 79,
      "outputs": [
        {
          "output_type": "stream",
          "name": "stdout",
          "text": [
            "0 1\n",
            "0 2\n",
            "0 3\n",
            "0 4\n",
            "[]\n"
          ]
        }
      ]
    }
  ]
}
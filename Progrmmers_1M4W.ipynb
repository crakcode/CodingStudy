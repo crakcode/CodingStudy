{
  "nbformat": 4,
  "nbformat_minor": 0,
  "metadata": {
    "colab": {
      "name": "Progrmmers_1M4W.ipynb",
      "provenance": [],
      "collapsed_sections": [],
      "authorship_tag": "ABX9TyOGsOmk3L30gD5/vMWVpvDl",
      "include_colab_link": true
    },
    "kernelspec": {
      "name": "python3",
      "display_name": "Python 3"
    },
    "language_info": {
      "name": "python"
    }
  },
  "cells": [
    {
      "cell_type": "markdown",
      "metadata": {
        "id": "view-in-github",
        "colab_type": "text"
      },
      "source": [
        "<a href=\"https://colab.research.google.com/github/crakcode/CodingStudy/blob/main/Progrmmers_1M4W.ipynb\" target=\"_parent\"><img src=\"https://colab.research.google.com/assets/colab-badge.svg\" alt=\"Open In Colab\"/></a>"
      ]
    },
    {
      "cell_type": "markdown",
      "source": [
        "## 파일명 정렬"
      ],
      "metadata": {
        "id": "ETlN006xaRp1"
      }
    },
    {
      "cell_type": "code",
      "source": [
        "(\" \"), 마침표(\".\"), 빼기 부호(\"-\""
      ],
      "metadata": {
        "id": "oIanbsg9agcC"
      },
      "execution_count": null,
      "outputs": []
    },
    {
      "cell_type": "code",
      "source": [
        "입력: [\"img12.png\", \"img10.png\", \"img02.png\", \"img1.png\", \"IMG01.GIF\", \"img2.JPG\"]\n",
        "출력: [\"img1.png\", \"IMG01.GIF\", \"img02.png\", \"img2.JPG\", \"img10.png\", \"img12.png\"]\n",
        "\n",
        "입력: [\"F-5 Freedom Fighter\", \"B-50 Superfortress\", \"A-10 Thunderbolt II\", \"F-14 Tomcat\"]\n",
        "\n",
        "# 분리하기"
      ],
      "metadata": {
        "id": "yVEhdKh0agex"
      },
      "execution_count": null,
      "outputs": []
    },
    {
      "cell_type": "code",
      "source": [
        "file_name=[\"F-5 Freedom Fighter\", \"B-50 Superfortress\", \"A-10 Thunderbolt II\", \"F-14 Tomcat\"]\n",
        "\n",
        "\n",
        "def file_split(strings):\n",
        "  num_idx=0\n",
        "  for i,string in enumerate(strings):\n",
        "    if string.isdigit():\n",
        "      num_idx=i\n",
        "      break \n",
        "  head=strings[:num_idx]\n",
        "  \n",
        "  strings=strings[num_idx:]\n",
        "  \n",
        "  tail_idx=0\n",
        "  for i,string in enumerate(strings):\n",
        "    if i>=5 or not string.isdigit():\n",
        "      tail_idx=i\n",
        "      break \n",
        "  number=strings[:tail_idx]\n",
        "  tail=strings[tail_idx:]\n",
        "\n",
        "  return head,number,tail\n",
        "\n",
        "\n",
        "\n",
        "res=[]\n",
        "for i,f in enumerate(file_name):\n",
        "  head,num,tail=file_split(f)\n",
        "  res.append((head,num,tail))\n",
        "\n",
        "res.sort(key=lambda x:(x[0].upper(), int(x[1])))\n",
        "\n",
        "result=[]\n",
        "\n",
        "for i in res:\n",
        "  i=list(i)\n",
        "  temp=\"\".join(i)\n",
        "  result.append(temp)\n",
        "\n",
        "print(result)\n"
      ],
      "metadata": {
        "colab": {
          "base_uri": "https://localhost:8080/"
        },
        "id": "edg8onh6aghp",
        "outputId": "2db98444-3194-4d32-f396-b4a8dcb0d7f8"
      },
      "execution_count": 28,
      "outputs": [
        {
          "output_type": "stream",
          "name": "stdout",
          "text": [
            "['A-10 Thunderbolt II', 'B-50 Superfortress', 'F-5 Freedom Fighter', 'F-14 Tomcat']\n"
          ]
        }
      ]
    },
    {
      "cell_type": "code",
      "source": [
        "file_name=[\"F-5 Freedom Fighter\", \"B-50 Superfortress\", \"A-10 Thunderbolt II\", \"F-14 Tomcat\"]\n",
        "\n",
        "res=[]\n",
        "for f in file_name:\n",
        "  head,num,tail=\"\",\"\",\"\"\n",
        "  cnt,flag=0,False\n",
        "  for i,char in enumerate(f):\n",
        "    if char.isdigit() and cnt<=5:\n",
        "      num+=char\n",
        "      cnt+=1\n",
        "      flag=True\n",
        "    elif not flag:\n",
        "      head+=char\n",
        "    else:\n",
        "      tail=f[i:]\n",
        "      break \n",
        "  res.append((head,num,tail))\n",
        "# 우선순위를 다르게 설정하기 \n",
        "\n",
        "res.sort(key=lambda x:(x[0].upper(), int(x[1])))\n",
        "result=[]\n",
        "\n",
        "for i in res:\n",
        "  temp=\"\".join(i)\n",
        "  result.append(temp)\n",
        "\n",
        "print(result)\n"
      ],
      "metadata": {
        "colab": {
          "base_uri": "https://localhost:8080/"
        },
        "id": "TFKdYGnNb70m",
        "outputId": "71e87997-c8a9-4002-890e-84c4a222dc4c"
      },
      "execution_count": 48,
      "outputs": [
        {
          "output_type": "stream",
          "name": "stdout",
          "text": [
            "['A-10 Thunderbolt II', 'B-50 Superfortress', 'F-5 Freedom Fighter', 'F-14 Tomcat']\n"
          ]
        }
      ]
    },
    {
      "cell_type": "markdown",
      "source": [
        "## 짝지어 제거하기"
      ],
      "metadata": {
        "id": "0amZkf8VagkT"
      }
    },
    {
      "cell_type": "code",
      "source": [
        "from collections import deque \n",
        "'''\n",
        "dq와 stack을 이용해서 풀었다. \n",
        "\n",
        "dq는 계속적으로 값을뺴주는 역할을 하며 \n",
        "stack은 계속적으로 맨뒷자리와 비ㄱ하는 역할을 진행한다. \n",
        "\n",
        "결국 맨뒤에있는값이랑 dq에 추출한값이 같으면 결국은 빼주는것이고 \n",
        "아닌경우에는 그냥 stack 에 넣어준다. \n",
        "\n",
        "'''\n",
        "\n",
        "\n",
        "\n",
        "s=\"baabaa\"\n",
        "\n",
        "stack=[s[0]]\n",
        "dq=deque(s[1:])\n",
        "\n",
        "\n",
        "\n",
        "while dq:\n",
        "  v=dq.popleft()\n",
        "  if len(stack)==0:\n",
        "    stack.append(v)\n",
        "    continue\n",
        "\n",
        "  if stack[-1]==v:\n",
        "    stack.pop()\n",
        "  else:\n",
        "    stack.append(v)\n",
        "  \n",
        "if len(stack)>0:\n",
        "  print(0)\n",
        "else:\n",
        "  print(1)\n",
        "\n",
        "  \n",
        "    \n"
      ],
      "metadata": {
        "colab": {
          "base_uri": "https://localhost:8080/"
        },
        "id": "TE32jkneagm5",
        "outputId": "eb4574de-7477-4ce4-850c-79ba52f81553"
      },
      "execution_count": 56,
      "outputs": [
        {
          "output_type": "stream",
          "name": "stdout",
          "text": [
            "1\n"
          ]
        }
      ]
    },
    {
      "cell_type": "code",
      "source": [
        "결"
      ],
      "metadata": {
        "id": "HpC_ptZJago5"
      },
      "execution_count": null,
      "outputs": []
    }
  ]
}
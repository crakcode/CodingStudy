{
  "nbformat": 4,
  "nbformat_minor": 0,
  "metadata": {
    "colab": {
      "name": "CodingStudy211230.ipynb",
      "provenance": [],
      "collapsed_sections": [],
      "authorship_tag": "ABX9TyM9NfmKS1jD+olR+9GmrarP",
      "include_colab_link": true
    },
    "kernelspec": {
      "name": "python3",
      "display_name": "Python 3"
    },
    "language_info": {
      "name": "python"
    }
  },
  "cells": [
    {
      "cell_type": "markdown",
      "metadata": {
        "id": "view-in-github",
        "colab_type": "text"
      },
      "source": [
        "<a href=\"https://colab.research.google.com/github/crakcode/CodingStudy/blob/main/CodingStudy211230.ipynb\" target=\"_parent\"><img src=\"https://colab.research.google.com/assets/colab-badge.svg\" alt=\"Open In Colab\"/></a>"
      ]
    },
    {
      "cell_type": "code",
      "execution_count": null,
      "metadata": {
        "colab": {
          "base_uri": "https://localhost:8080/"
        },
        "id": "evpQtq30tAoY",
        "outputId": "4331157b-2ad1-48d4-d910-53df38e77b8b"
      },
      "outputs": [
        {
          "output_type": "stream",
          "name": "stdout",
          "text": [
            "2\n",
            "1 2\n",
            "3 4\n",
            "[[1, 2], [3, 4]]\n"
          ]
        }
      ],
      "source": [
        "n=int(input())\n",
        "\n",
        "\n",
        "matrix=[list(map(int,input().split())) for _ in range(n) ]\n",
        "\n",
        "\n",
        "\n",
        "for k in range(n):\n",
        "  visited=[False]*(n)\n",
        "  \n",
        "\n",
        "\n",
        "\n",
        "\n",
        "\n",
        "\n"
      ]
    },
    {
      "cell_type": "markdown",
      "source": [
        "## 토마토\n",
        "\n",
        "\n"
      ],
      "metadata": {
        "id": "E4POt3aEz4ia"
      }
    },
    {
      "cell_type": "code",
      "source": [
        "'''\n",
        "\n",
        "1. 토마토(1로 표시) 가 있는것 을 따로 Queue에 담아둔다.\n",
        "2. dq를 돌려서 1이 있는곳을 위주로 상하좌우 탐색하여 토마토를 익게한다.\n",
        "3. 익게한 토마토를 다시 dq에 넣어서 나머지 토마토에 영향을 미치도록 한다\n",
        "4. 3을 반복하여서 토마토를 전부다 익힌다. 이때 거리를 계산한다. \n",
        "\n",
        "\n",
        "\n",
        "'''\n",
        "\n",
        "\n",
        "from collections import deque\n",
        "import sys\n",
        "input=sys.stdin.readline\n",
        "m, n = map(int, input().split())\n",
        "\n",
        "matrix = []\n",
        "dq = deque()\n",
        "\n",
        "dx = [-1, 1, 0, 0]\n",
        "dy = [0, 0, 1, -1]\n",
        "\n",
        "for i in range(n):\n",
        "    temp = list(map(int, input().split()))\n",
        "    for j in range(m):\n",
        "        if temp[j] == 1:\n",
        "            dq.append((i, j))\n",
        "    matrix.append(temp)\n",
        "\n",
        "\n",
        "cnt=1\n",
        "while dq:\n",
        "    x, y = dq.popleft()\n",
        "    for i in range(4):\n",
        "        nx, ny = x + dx[i], y + dy[i]\n",
        "        if 0 > nx or n <= nx or 0 > ny or m <= ny:\n",
        "            continue\n",
        "        if matrix[nx][ny] == -1 or matrix[nx][ny] != 0:\n",
        "            continue\n",
        "        matrix[nx][ny] = matrix[x][y] + 1\n",
        "        cnt=max(matrix[nx][ny],cnt)\n",
        "        dq.append((nx, ny))\n",
        "\n",
        "flag=False\n",
        "for i in range(n):\n",
        "    for j in range(m):\n",
        "        if matrix[i][j]==0:\n",
        "            flag=True\n",
        "            break\n",
        "\n",
        "if flag:\n",
        "    print(-1)\n",
        "else:\n",
        "    print(cnt-1)\n",
        "\n",
        "\n",
        "\n"
      ],
      "metadata": {
        "id": "EoYa_KRXz6Ty"
      },
      "execution_count": null,
      "outputs": []
    },
    {
      "cell_type": "markdown",
      "source": [
        ""
      ],
      "metadata": {
        "id": "Jwte7AqlCU1j"
      }
    },
    {
      "cell_type": "code",
      "source": [
        "n,m,k= map(int, input().split())\n",
        "matrix = []\n",
        "dq = deque()\n",
        "\n",
        "dx = [-1, 1, 0, 0]\n",
        "dy = [0, 0, 1, -1]\n",
        "\n",
        "matrix=[[0]*(m) for _ in range(n)]\n",
        "\n",
        "\n",
        "for i in range(k):\n",
        "  a,b,c,d=map(int,input().split())\n",
        "\n",
        "  for i in range(b,d):\n",
        "    for j in range(a,c):\n",
        "      if matrix[i][j]==0:\n",
        "        matrix[i][j]=-1\n",
        "\n",
        "for i in matirx:\n",
        "  print(i)\n",
        "\n",
        "\n",
        "\n",
        "  \n"
      ],
      "metadata": {
        "id": "nH8ML-AbCU3_"
      },
      "execution_count": null,
      "outputs": []
    },
    {
      "cell_type": "markdown",
      "source": [
        "## 섬의개수\n"
      ],
      "metadata": {
        "id": "G5LSdLgttMla"
      }
    },
    {
      "cell_type": "code",
      "source": [
        "'''\n",
        "\n",
        "섬의개수\n",
        "\n",
        "아이디어 \n",
        "\n",
        "섬을 찾아낸다. 섬은 1로 구성되어있고 이를 찾으면 이와 연결된 것들을\n",
        "다 찾아서  8방향 탐색을 하여 연결되어있으면 0 으로 초기화 시켜준다.\n",
        "\n",
        "그러면 해당 섬과 연결되어있는것들은 전부 0이 되고 cnt를 증가시킨다 \n",
        "\n",
        "위의 내용을 반복하여 연결되어있는것들끼리0 으로 만드는것들을 반복한다. \n",
        "\n",
        "\n",
        "'''\n",
        "\n",
        "\n",
        "from collections import deque\n",
        "\n",
        "dx = [-1, -1,0, 1, 1, 1, 0, -1]\n",
        "dy = [0, 1, 1, 1, 0, -1, -1, -1]\n",
        "\n",
        "\n",
        "def BFS(i, j):\n",
        "    dq = deque()\n",
        "    dq.append((i, j))\n",
        "    while dq:\n",
        "        x, y = dq.popleft()\n",
        "        for i in range(8):\n",
        "            nx, ny = x + dx[i], y + dy[i]\n",
        "            if 0 <= nx < n and 0 <= ny < m and matrix[nx][ny] == 1:\n",
        "                matrix[nx][ny] = 0\n",
        "                dq.append((nx,ny))\n",
        "\n",
        "res = []\n",
        "while True:\n",
        "    m, n = map(int, input().split())\n",
        "    if m == 0 and n == 0:\n",
        "        break\n",
        "    cnt = 0\n",
        "    matrix = []\n",
        "    for _ in range(n):\n",
        "        matrix.append(list(map(int, input().split())))\n",
        "    for i in range(n):\n",
        "        for j in range(m):\n",
        "            if matrix[i][j] == 1:\n",
        "                BFS(i, j)\n",
        "                cnt += 1\n",
        "    res.append(cnt)\n",
        "\n",
        "for i in res:\n",
        "    print(i)\n",
        "\n",
        "\n",
        "\n",
        "\n"
      ],
      "metadata": {
        "id": "zBUsXN9bzl60"
      },
      "execution_count": null,
      "outputs": []
    },
    {
      "cell_type": "markdown",
      "source": [
        "## 아기상어"
      ],
      "metadata": {
        "id": "0tSvxp_oU0Yt"
      }
    },
    {
      "cell_type": "code",
      "source": [
        "from collections import deque\n",
        "\n",
        "n=int(input())\n",
        "\n",
        "matrix=[]\n",
        "dq=[]\n",
        "size=2\n",
        "for i in range(n):\n",
        "  temp=list(map(int,input().split()))\n",
        "  for j in range(len(temp)):\n",
        "    if temp[j]==9:\n",
        "      dq.append((i,j))\n",
        "  matrix.append(temp)\n",
        "\n",
        "distance=[0]*7\n",
        "\n",
        "dx=[-1,1,0,0]\n",
        "dy=[0,0,-1,1]\n",
        "\n",
        "while True:\n",
        "  visited=[[False]*(n) for _ in range(n)]\n",
        "  cnt=0\n",
        "  flag=True \n",
        "  while dq:\n",
        "    x,y=dq.popleft()\n",
        "    for i in range(4):\n",
        "      nx=x+dx[i]\n",
        "      ny=y+dy[i]\n",
        "      if 0>nx or n<=nx or 0>ny or n<=ny:\n",
        "        continue\n",
        "      if (matrix[nx][ny]==0 or matrix[nx][ny]==size) and not visited[nx][ny]:\n",
        "        visited[nx][ny]=True \n",
        "        dq.append((nx,ny))\n",
        "      elif matrix[nx][ny]<size and not visited[nx][ny]:\n",
        "        cnt+=1\n",
        "        matrix[nx][ny]=0\n",
        "        distance[size]=abs(x-nx)+abs(y-ny)\n",
        "        dq.append((nx,ny))\n",
        "\n",
        "      if cnt==size:\n",
        "        flag=False\n",
        "        break \n",
        "    if flag==False:\n",
        "      dq=deque()\n",
        "      dq.append((nx,ny))\n",
        "      break \n",
        "\n",
        "\n",
        "\n",
        "\n",
        "\n",
        "\n",
        "\n",
        "  \n",
        "\n",
        "\n",
        "\n",
        "\n",
        "\n",
        "\n",
        "\n",
        "\n",
        "\n"
      ],
      "metadata": {
        "colab": {
          "base_uri": "https://localhost:8080/",
          "height": 565
        },
        "id": "keSmpQR5U0b0",
        "outputId": "0471a90e-a6c6-4bd3-95e2-2cf9189deac5"
      },
      "execution_count": 1,
      "outputs": [
        {
          "output_type": "error",
          "ename": "KeyboardInterrupt",
          "evalue": "ignored",
          "traceback": [
            "\u001b[0;31m---------------------------------------------------------------------------\u001b[0m",
            "\u001b[0;31mKeyboardInterrupt\u001b[0m                         Traceback (most recent call last)",
            "\u001b[0;32m/usr/local/lib/python3.7/dist-packages/ipykernel/kernelbase.py\u001b[0m in \u001b[0;36m_input_request\u001b[0;34m(self, prompt, ident, parent, password)\u001b[0m\n\u001b[1;32m    728\u001b[0m             \u001b[0;32mtry\u001b[0m\u001b[0;34m:\u001b[0m\u001b[0;34m\u001b[0m\u001b[0;34m\u001b[0m\u001b[0m\n\u001b[0;32m--> 729\u001b[0;31m                 \u001b[0mident\u001b[0m\u001b[0;34m,\u001b[0m \u001b[0mreply\u001b[0m \u001b[0;34m=\u001b[0m \u001b[0mself\u001b[0m\u001b[0;34m.\u001b[0m\u001b[0msession\u001b[0m\u001b[0;34m.\u001b[0m\u001b[0mrecv\u001b[0m\u001b[0;34m(\u001b[0m\u001b[0mself\u001b[0m\u001b[0;34m.\u001b[0m\u001b[0mstdin_socket\u001b[0m\u001b[0;34m,\u001b[0m \u001b[0;36m0\u001b[0m\u001b[0;34m)\u001b[0m\u001b[0;34m\u001b[0m\u001b[0;34m\u001b[0m\u001b[0m\n\u001b[0m\u001b[1;32m    730\u001b[0m             \u001b[0;32mexcept\u001b[0m \u001b[0mException\u001b[0m\u001b[0;34m:\u001b[0m\u001b[0;34m\u001b[0m\u001b[0;34m\u001b[0m\u001b[0m\n",
            "\u001b[0;32m/usr/local/lib/python3.7/dist-packages/jupyter_client/session.py\u001b[0m in \u001b[0;36mrecv\u001b[0;34m(self, socket, mode, content, copy)\u001b[0m\n\u001b[1;32m    802\u001b[0m         \u001b[0;32mtry\u001b[0m\u001b[0;34m:\u001b[0m\u001b[0;34m\u001b[0m\u001b[0;34m\u001b[0m\u001b[0m\n\u001b[0;32m--> 803\u001b[0;31m             \u001b[0mmsg_list\u001b[0m \u001b[0;34m=\u001b[0m \u001b[0msocket\u001b[0m\u001b[0;34m.\u001b[0m\u001b[0mrecv_multipart\u001b[0m\u001b[0;34m(\u001b[0m\u001b[0mmode\u001b[0m\u001b[0;34m,\u001b[0m \u001b[0mcopy\u001b[0m\u001b[0;34m=\u001b[0m\u001b[0mcopy\u001b[0m\u001b[0;34m)\u001b[0m\u001b[0;34m\u001b[0m\u001b[0;34m\u001b[0m\u001b[0m\n\u001b[0m\u001b[1;32m    804\u001b[0m         \u001b[0;32mexcept\u001b[0m \u001b[0mzmq\u001b[0m\u001b[0;34m.\u001b[0m\u001b[0mZMQError\u001b[0m \u001b[0;32mas\u001b[0m \u001b[0me\u001b[0m\u001b[0;34m:\u001b[0m\u001b[0;34m\u001b[0m\u001b[0;34m\u001b[0m\u001b[0m\n",
            "\u001b[0;32m/usr/local/lib/python3.7/dist-packages/zmq/sugar/socket.py\u001b[0m in \u001b[0;36mrecv_multipart\u001b[0;34m(self, flags, copy, track)\u001b[0m\n\u001b[1;32m    624\u001b[0m         \"\"\"\n\u001b[0;32m--> 625\u001b[0;31m         \u001b[0mparts\u001b[0m \u001b[0;34m=\u001b[0m \u001b[0;34m[\u001b[0m\u001b[0mself\u001b[0m\u001b[0;34m.\u001b[0m\u001b[0mrecv\u001b[0m\u001b[0;34m(\u001b[0m\u001b[0mflags\u001b[0m\u001b[0;34m,\u001b[0m \u001b[0mcopy\u001b[0m\u001b[0;34m=\u001b[0m\u001b[0mcopy\u001b[0m\u001b[0;34m,\u001b[0m \u001b[0mtrack\u001b[0m\u001b[0;34m=\u001b[0m\u001b[0mtrack\u001b[0m\u001b[0;34m)\u001b[0m\u001b[0;34m]\u001b[0m\u001b[0;34m\u001b[0m\u001b[0;34m\u001b[0m\u001b[0m\n\u001b[0m\u001b[1;32m    626\u001b[0m         \u001b[0;31m# have first part already, only loop while more to receive\u001b[0m\u001b[0;34m\u001b[0m\u001b[0;34m\u001b[0m\u001b[0;34m\u001b[0m\u001b[0m\n",
            "\u001b[0;32mzmq/backend/cython/socket.pyx\u001b[0m in \u001b[0;36mzmq.backend.cython.socket.Socket.recv\u001b[0;34m()\u001b[0m\n",
            "\u001b[0;32mzmq/backend/cython/socket.pyx\u001b[0m in \u001b[0;36mzmq.backend.cython.socket.Socket.recv\u001b[0;34m()\u001b[0m\n",
            "\u001b[0;32mzmq/backend/cython/socket.pyx\u001b[0m in \u001b[0;36mzmq.backend.cython.socket._recv_copy\u001b[0;34m()\u001b[0m\n",
            "\u001b[0;32m/usr/local/lib/python3.7/dist-packages/zmq/backend/cython/checkrc.pxd\u001b[0m in \u001b[0;36mzmq.backend.cython.checkrc._check_rc\u001b[0;34m()\u001b[0m\n",
            "\u001b[0;31mKeyboardInterrupt\u001b[0m: ",
            "\nDuring handling of the above exception, another exception occurred:\n",
            "\u001b[0;31mKeyboardInterrupt\u001b[0m                         Traceback (most recent call last)",
            "\u001b[0;32m<ipython-input-1-e9d75b1c9eaf>\u001b[0m in \u001b[0;36m<module>\u001b[0;34m()\u001b[0m\n\u001b[1;32m      1\u001b[0m \u001b[0;32mfrom\u001b[0m \u001b[0mcollections\u001b[0m \u001b[0;32mimport\u001b[0m \u001b[0mdeque\u001b[0m\u001b[0;34m\u001b[0m\u001b[0;34m\u001b[0m\u001b[0m\n\u001b[1;32m      2\u001b[0m \u001b[0;34m\u001b[0m\u001b[0m\n\u001b[0;32m----> 3\u001b[0;31m \u001b[0mn\u001b[0m\u001b[0;34m=\u001b[0m\u001b[0mint\u001b[0m\u001b[0;34m(\u001b[0m\u001b[0minput\u001b[0m\u001b[0;34m(\u001b[0m\u001b[0;34m)\u001b[0m\u001b[0;34m)\u001b[0m\u001b[0;34m\u001b[0m\u001b[0;34m\u001b[0m\u001b[0m\n\u001b[0m\u001b[1;32m      4\u001b[0m \u001b[0;34m\u001b[0m\u001b[0m\n\u001b[1;32m      5\u001b[0m \u001b[0mmatrix\u001b[0m\u001b[0;34m=\u001b[0m\u001b[0;34m[\u001b[0m\u001b[0;34m]\u001b[0m\u001b[0;34m\u001b[0m\u001b[0;34m\u001b[0m\u001b[0m\n",
            "\u001b[0;32m/usr/local/lib/python3.7/dist-packages/ipykernel/kernelbase.py\u001b[0m in \u001b[0;36mraw_input\u001b[0;34m(self, prompt)\u001b[0m\n\u001b[1;32m    702\u001b[0m             \u001b[0mself\u001b[0m\u001b[0;34m.\u001b[0m\u001b[0m_parent_ident\u001b[0m\u001b[0;34m,\u001b[0m\u001b[0;34m\u001b[0m\u001b[0;34m\u001b[0m\u001b[0m\n\u001b[1;32m    703\u001b[0m             \u001b[0mself\u001b[0m\u001b[0;34m.\u001b[0m\u001b[0m_parent_header\u001b[0m\u001b[0;34m,\u001b[0m\u001b[0;34m\u001b[0m\u001b[0;34m\u001b[0m\u001b[0m\n\u001b[0;32m--> 704\u001b[0;31m             \u001b[0mpassword\u001b[0m\u001b[0;34m=\u001b[0m\u001b[0;32mFalse\u001b[0m\u001b[0;34m,\u001b[0m\u001b[0;34m\u001b[0m\u001b[0;34m\u001b[0m\u001b[0m\n\u001b[0m\u001b[1;32m    705\u001b[0m         )\n\u001b[1;32m    706\u001b[0m \u001b[0;34m\u001b[0m\u001b[0m\n",
            "\u001b[0;32m/usr/local/lib/python3.7/dist-packages/ipykernel/kernelbase.py\u001b[0m in \u001b[0;36m_input_request\u001b[0;34m(self, prompt, ident, parent, password)\u001b[0m\n\u001b[1;32m    732\u001b[0m             \u001b[0;32mexcept\u001b[0m \u001b[0mKeyboardInterrupt\u001b[0m\u001b[0;34m:\u001b[0m\u001b[0;34m\u001b[0m\u001b[0;34m\u001b[0m\u001b[0m\n\u001b[1;32m    733\u001b[0m                 \u001b[0;31m# re-raise KeyboardInterrupt, to truncate traceback\u001b[0m\u001b[0;34m\u001b[0m\u001b[0;34m\u001b[0m\u001b[0;34m\u001b[0m\u001b[0m\n\u001b[0;32m--> 734\u001b[0;31m                 \u001b[0;32mraise\u001b[0m \u001b[0mKeyboardInterrupt\u001b[0m\u001b[0;34m\u001b[0m\u001b[0;34m\u001b[0m\u001b[0m\n\u001b[0m\u001b[1;32m    735\u001b[0m             \u001b[0;32melse\u001b[0m\u001b[0;34m:\u001b[0m\u001b[0;34m\u001b[0m\u001b[0;34m\u001b[0m\u001b[0m\n\u001b[1;32m    736\u001b[0m                 \u001b[0;32mbreak\u001b[0m\u001b[0;34m\u001b[0m\u001b[0;34m\u001b[0m\u001b[0m\n",
            "\u001b[0;31mKeyboardInterrupt\u001b[0m: "
          ]
        }
      ]
    },
    {
      "cell_type": "code",
      "source": [
        ""
      ],
      "metadata": {
        "id": "z_RfSvNyU0ek"
      },
      "execution_count": null,
      "outputs": []
    }
  ]
}
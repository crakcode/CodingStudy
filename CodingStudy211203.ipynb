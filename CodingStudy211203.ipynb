{
  "nbformat": 4,
  "nbformat_minor": 0,
  "metadata": {
    "colab": {
      "name": "CodingStudy211203.ipynb",
      "provenance": [],
      "collapsed_sections": [
        "amMNNpTkJDm_",
        "V15UGTiWPdUE",
        "NyosM8LDQYee",
        "dLhgxF4MPQ4t",
        "Hf9hRI6JQPaK",
        "tOmNQv0PjCs8",
        "UaE-ztdjwdnb",
        "nyFyKxFVjD7U",
        "LP0iwP9duHJQ",
        "MCU8w_Bk0fbz"
      ],
      "authorship_tag": "ABX9TyMfVFabs4aOi97qUudfXjBi",
      "include_colab_link": true
    },
    "kernelspec": {
      "name": "python3",
      "display_name": "Python 3"
    },
    "language_info": {
      "name": "python"
    }
  },
  "cells": [
    {
      "cell_type": "markdown",
      "metadata": {
        "id": "view-in-github",
        "colab_type": "text"
      },
      "source": [
        "<a href=\"https://colab.research.google.com/github/crakcode/CodingStudy/blob/main/CodingStudy211203.ipynb\" target=\"_parent\"><img src=\"https://colab.research.google.com/assets/colab-badge.svg\" alt=\"Open In Colab\"/></a>"
      ]
    },
    {
      "cell_type": "markdown",
      "metadata": {
        "id": "amMNNpTkJDm_"
      },
      "source": [
        "## 알고리즘테스트\n",
        "\n",
        "\n",
        "- 프로그래머스 10문제\n",
        "  - 문자열 압축\n",
        "  - 오픈채팅방\n",
        "  - 멀쩡한 사각형\n",
        "  - 124 나라의 숫자\n",
        "  - 기능개발\n",
        "  - 타겟 넘버\n",
        "  - 괄호변환\n",
        "  - 프린터\n",
        "  - 가장큰수\n",
        "  - 소수찾기 O\n",
        "\n",
        "- 백준 4문제\n"
      ]
    },
    {
      "cell_type": "markdown",
      "metadata": {
        "id": "XB8ox5AQLfY4"
      },
      "source": [
        "# 프로그래머스\n",
        "\n"
      ]
    },
    {
      "cell_type": "code",
      "metadata": {
        "id": "S0xr9iMELfxf"
      },
      "source": [
        ""
      ],
      "execution_count": null,
      "outputs": []
    },
    {
      "cell_type": "code",
      "metadata": {
        "id": "LBbOY_MPLf0P"
      },
      "source": [
        ""
      ],
      "execution_count": null,
      "outputs": []
    },
    {
      "cell_type": "code",
      "metadata": {
        "colab": {
          "base_uri": "https://localhost:8080/"
        },
        "id": "Vc9idrNkLf2m",
        "outputId": "38279bb0-e5b2-4b0a-e9b7-b494d3640e33"
      },
      "source": [
        "from itertools import permutations\n",
        "\n",
        "\n",
        "arr=[0,1,1]\n",
        "n=len(arr)\n",
        "\n",
        "res=[]\n",
        "\n",
        "def prime(num):\n",
        "  for i in range(2,num):\n",
        "    if num%i==0:\n",
        "      return False\n",
        "  return True \n",
        "\n",
        "for i in range(1,n+1):\n",
        "  for j in permutations(arr,i):\n",
        "    string=\"\"\n",
        "    for k in j:\n",
        "      string+=str(k)\n",
        "    string=int(string)\n",
        "    if string not in res:\n",
        "      if prime(string):\n",
        "        res.append(string)\n",
        "\n",
        "arr=[0,1]\n",
        "\n",
        "res.remove(0)\n",
        "res.remove(1)\n",
        "print(res)"
      ],
      "execution_count": null,
      "outputs": [
        {
          "output_type": "stream",
          "name": "stdout",
          "text": [
            "[11, 101]\n"
          ]
        }
      ]
    },
    {
      "cell_type": "markdown",
      "metadata": {
        "id": "V15UGTiWPdUE"
      },
      "source": [
        "## 소수찾기\n",
        "\n",
        "- 출처: 프로그래머스 \n",
        "- 주제: 완전탐색\n",
        "- 풀이법: combination 활용\n"
      ]
    },
    {
      "cell_type": "code",
      "metadata": {
        "colab": {
          "base_uri": "https://localhost:8080/"
        },
        "id": "8zfc6j6XOGpd",
        "outputId": "dc99cab2-d513-4fef-978f-facfe6b1cc5d"
      },
      "source": [
        "from itertools import permutations\n",
        "\n",
        "def solution(numbers):\n",
        "    arr=list(numbers)\n",
        "    n=len(arr)\n",
        "\n",
        "    def prime(num):\n",
        "      if num==0 or num==1:\n",
        "        return False \n",
        "      for i in range(2,num):\n",
        "        if num%i==0:\n",
        "          return False\n",
        "      return True \n",
        "\n",
        "    res=[]\n",
        "\n",
        "    for i in range(1,n+1):\n",
        "      for j in permutations(arr,i):\n",
        "        string=\"\"\n",
        "        for k in j:\n",
        "          string+=str(k)\n",
        "        string=int(string)\n",
        "        if string not in res:\n",
        "          if prime(string):\n",
        "            res.append(string)\n",
        "    return res\n",
        "\n",
        "solution(\"011\")"
      ],
      "execution_count": null,
      "outputs": [
        {
          "output_type": "execute_result",
          "data": {
            "text/plain": [
              "[11, 101]"
            ]
          },
          "metadata": {},
          "execution_count": 25
        }
      ]
    },
    {
      "cell_type": "markdown",
      "metadata": {
        "id": "NyosM8LDQYee"
      },
      "source": [
        "## 프린터\n",
        "\n",
        "- 출처: 프로그래머스 \n",
        "- 주제: \n",
        "- 풀이법:\n"
      ]
    },
    {
      "cell_type": "code",
      "metadata": {
        "colab": {
          "base_uri": "https://localhost:8080/"
        },
        "id": "7kSGjX4oQdBP",
        "outputId": "e2fc21fd-a1aa-48dc-e972-798c1e556123"
      },
      "source": [
        "from collections import deque \n",
        "\n",
        "\n",
        "priorities=[2, 1, 3, 2]\n",
        "location=2\n",
        "\n",
        "\n",
        "arr=[]\n",
        "for i,v in enumerate(priorities):\n",
        "  temp=[]\n",
        "  arr.append((v,i))\n",
        "print(arr)\n",
        "dq=deque(arr)\n",
        "\n",
        "\n",
        "while dq:\n",
        "  value,idx=dq.popleft()\n",
        "  if value<max(dq)[0]:\n",
        "    dq.append((value,idx))\n",
        "  else:\n",
        "    if idx==location:\n",
        "      print(time)\n",
        "  time+=1\n",
        "\n",
        "print(tom)"
      ],
      "execution_count": null,
      "outputs": [
        {
          "output_type": "stream",
          "name": "stdout",
          "text": [
            "[(1, 0), (1, 1), (9, 2), (1, 3), (1, 4), (1, 5)]\n",
            "6\n"
          ]
        }
      ]
    },
    {
      "cell_type": "code",
      "metadata": {
        "colab": {
          "base_uri": "https://localhost:8080/"
        },
        "id": "5ekHAnPEWfON",
        "outputId": "a2b5d06c-5a35-4afb-dae0-8924c7ab1709"
      },
      "source": [
        "from collections import deque \n",
        "'''\n",
        "1. 왜 if 문에 dq를 한번더 확인해주어야 하는가 \n",
        "2. time을 출력할때 큐에서 빠질때 time을 증가시키는것이 아니다 \n",
        "\n",
        "\n",
        "'''\n",
        "def solution(priorities, location):\n",
        "    arr=[]\n",
        "    for i,v in enumerate(priorities):\n",
        "        arr.append((v,i))\n",
        "    dq=deque(arr)\n",
        "    time=0\n",
        "    while len(dq):\n",
        "        value,idx=dq.popleft()\n",
        "        if dq and value<max(dq)[0]:\n",
        "            dq.append((value,idx))\n",
        "        else:\n",
        "            time+=1\n",
        "            if idx==location:\n",
        "                break\n",
        "                \n",
        "    return time \n"
      ],
      "execution_count": null,
      "outputs": [
        {
          "output_type": "execute_result",
          "data": {
            "text/plain": [
              "5"
            ]
          },
          "metadata": {},
          "execution_count": 40
        }
      ]
    },
    {
      "cell_type": "markdown",
      "metadata": {
        "id": "dLhgxF4MPQ4t"
      },
      "source": [
        "## 타겟넘버\n"
      ]
    },
    {
      "cell_type": "code",
      "metadata": {
        "colab": {
          "base_uri": "https://localhost:8080/",
          "height": 137
        },
        "id": "zh5QTGdwPR6K",
        "outputId": "cc14af76-d5ef-4d89-c15b-c17aaecdaac1"
      },
      "source": [
        "\n",
        "\n",
        "numbers=[1, 1, 1, 1, 1]\n",
        "check=[False]*(5)\n",
        "\n",
        "target=3\n",
        "\n",
        "\n",
        "cnt=0\n",
        "def DFS(s):\n",
        "  global cnt\n",
        "  if s==target:\n",
        "    cnt+=1\n",
        "    return \n",
        "  for i in range(len(numbers)):\n",
        "    if not check[i]:\n",
        "      check[i]=True\n",
        "      s+=numbers[i]\n",
        "      check[i]=False\n",
        "\n"
      ],
      "execution_count": null,
      "outputs": [
        {
          "output_type": "error",
          "ename": "SyntaxError",
          "evalue": "ignored",
          "traceback": [
            "\u001b[0;36m  File \u001b[0;32m\"<ipython-input-1-bf3c705bb349>\"\u001b[0;36m, line \u001b[0;32m10\u001b[0m\n\u001b[0;31m    \u001b[0m\n\u001b[0m    ^\u001b[0m\n\u001b[0;31mSyntaxError\u001b[0m\u001b[0;31m:\u001b[0m unexpected EOF while parsing\n"
          ]
        }
      ]
    },
    {
      "cell_type": "code",
      "metadata": {
        "colab": {
          "base_uri": "https://localhost:8080/"
        },
        "id": "dyLZ3M1krgHo",
        "outputId": "57935d72-8e4e-45b5-ffb2-50122190f450"
      },
      "source": [
        "from collections import deque\n",
        "\n",
        "'''\n",
        "\n",
        "초반에는 그냥 백트래킹으로만 생각을 했었는데\n",
        "블로그 찾아보니 bfs 로도 풀수있어서 대충 보면서 짜봄\n",
        "\n",
        "여기서 의문이 드는점\n",
        "- 왜 분기처리해서 v==target 이 부분을 처리하는지 \n",
        "- \n",
        "\n",
        "\n",
        "'''\n",
        "\n",
        "numbers=[1, 1, 1, 1, 1]\n",
        "\n",
        "target=3\n",
        "dq=deque()\n",
        "dq.append([numbers[0],0])\n",
        "dq.append([(-1)*numbers[0],0])\n",
        "\n",
        "cnt=0\n",
        "while dq:\n",
        "  v,idx=dq.popleft()\n",
        "  idx+=1\n",
        "  if idx<len(numbers):\n",
        "    dq.append((v+numbers[idx],idx))\n",
        "    dq.append((v+(-1)*numbers[idx],idx))\n",
        "  else:\n",
        "    if v==target:\n",
        "      cnt+=1\n",
        "\n",
        "print(cnt)\n",
        "\n",
        "\n",
        "\n",
        "\n",
        "\n"
      ],
      "execution_count": null,
      "outputs": [
        {
          "output_type": "stream",
          "name": "stdout",
          "text": [
            "5\n"
          ]
        }
      ]
    },
    {
      "cell_type": "markdown",
      "metadata": {
        "id": "Hf9hRI6JQPaK"
      },
      "source": [
        "## 문자열 압축\n",
        "\n",
        "(다시보기)"
      ]
    },
    {
      "cell_type": "code",
      "metadata": {
        "colab": {
          "base_uri": "https://localhost:8080/"
        },
        "id": "houVSgZzQ1N9",
        "outputId": "4974d683-18cc-4b8c-844f-f8d0b7d6b509"
      },
      "source": [
        "'''\n",
        "\n",
        "1. 일단 하나씩 자르고 두개씩 자르고 .... 문자열의 크기의 절반 만큼 자른다.\n",
        "\n",
        "2. cnt는 그 문자열이 반복되는 횟수를 저장하는것이다.\n",
        "\n",
        "  3. 문자열 반복이 멈추면 \n",
        "\n",
        "    3-1. b라는 문자열에 해당 문자열을 저장한다\n",
        "    3-2. 1일때는 1a 이렇게 저장안하기에 b=b+temp로 저장하고\n",
        "    3-3. 1이 아닐떄는 그 값을 \n",
        "\n",
        "  4. 마지막에 자른것으로 나누어서 저장을 해놓는다.\n",
        "    4-1. cnt==1 이면 걍 b+temp 값을 저장하고 \n",
        "    4-2. cnt 값이 1이 아니면 걍 cnt + 해서저장한다.\n",
        "\n",
        "'''\n",
        "\n",
        "\n",
        "s=\"aabbaccc\"\n",
        "\n",
        "n=len(s)\n",
        "\n",
        "\n",
        "result=[]\n",
        "for i in range(1,n):\n",
        "  b=\"\"\n",
        "  cnt=1\n",
        "  temp=s[:i]\n",
        "  for j in range(i,n,i):\n",
        "    if temp==s[j:j+i]:\n",
        "      cnt+=1\n",
        "    else:\n",
        "      if cnt!=1:\n",
        "        b=b+str(cnt)+temp\n",
        "      else:\n",
        "        b=b+temp\n",
        "      temp=s[j:j+i]\n",
        "      cnt=1\n",
        "  if cnt!=1:\n",
        "    b=b+str(cnt)+temp\n",
        "  else:\n",
        "    b=b+temp\n",
        "\n",
        "  result.append(b)\n",
        "\n",
        "print(result) \n",
        "  # if cnt!=1\n",
        "\n",
        "    \n",
        "\n",
        "\n",
        "\n",
        "\n"
      ],
      "execution_count": null,
      "outputs": [
        {
          "output_type": "stream",
          "name": "stdout",
          "text": [
            "['2a2ba3c', 'aabbaccc', 'aabbaccc', 'aabbaccc', 'aabbaccc', 'aabbaccc', 'aabbaccc']\n"
          ]
        }
      ]
    },
    {
      "cell_type": "markdown",
      "metadata": {
        "id": "7s8-GBgDz7qJ"
      },
      "source": [
        "## 오픈채팅방"
      ]
    },
    {
      "cell_type": "code",
      "metadata": {
        "colab": {
          "base_uri": "https://localhost:8080/"
        },
        "id": "z8GjgZUhz75a",
        "outputId": "894c297b-e53d-4fc7-9361-ded5a79f1002"
      },
      "source": [
        "from collections import defaultdict\n",
        "record=[\"Enter uid1234 Muzi\",\n",
        " \"Enter uid4567 Prodo\",\n",
        " \"Leave uid1234\",\n",
        " \"Enter uid1234 Prodo\",\n",
        " \"Change uid4567 Ryan\"]\n",
        "\n",
        "# user={}\n",
        "\n",
        "user=defaultdict(list)\n",
        "for i,arr in enumerate(record):\n",
        "  a,b,c=0,0,0\n",
        "  try:\n",
        "    a,b,c=arr.split()\n",
        "  except:\n",
        "    a,b=arr.split()\n",
        "  \n",
        "  if a==\"Enter\":\n",
        "    user[b].append([i,a,c])\n",
        "  elif a==\"Leave\":\n",
        "    user[b].append([i,a,c])\n",
        "  elif a==\"Change\":\n",
        "    user[b].append([i,a,c])\n",
        "  \n",
        "\n",
        "result=[]\n",
        "for k,row in user.items():\n",
        "  row=row[::-1]\n",
        "  name=row[0][2]\n",
        "  for a,b,c in row:\n",
        "    result.append((a,b,name))\n",
        "  \n",
        "result.sort()\n",
        "for k,cmd,name in result:\n",
        "  if cmd==\"Enter\":\n",
        "    print(\"{}님이 들어왔습니다.\".format(name))\n",
        "  elif cmd==\"Leave\":\n",
        "    print(\"{}님이 나갔습니다.\".format(name))\n",
        "    \n",
        "    \n",
        "\n",
        "\n"
      ],
      "execution_count": 27,
      "outputs": [
        {
          "output_type": "stream",
          "name": "stdout",
          "text": [
            "Enter uid1234 Muzi\n",
            "Enter uid4567 Prodo\n",
            "Leave uid1234\n",
            "Enter uid1234 Prodo\n",
            "Change uid4567 Ryan\n",
            "defaultdict(<class 'list'>, {'uid1234': [[0, 'Enter', 'Muzi'], [2, 'Leave', 0], [3, 'Enter', 'Prodo']], 'uid4567': [[1, 'Enter', 'Prodo'], [4, 'Change', 'Ryan']]})\n",
            "[(3, 'Enter', 'Prodo'), (2, 'Leave', 'Prodo'), (0, 'Enter', 'Prodo'), (4, 'Change', 'Ryan'), (1, 'Enter', 'Ryan')]\n",
            "None\n",
            "Prodo님이 들어왔습니다.\n",
            "Ryan님이 들어왔습니다.\n",
            "Prodo님이 나갔습니다.\n",
            "Prodo님이 들어왔습니다.\n"
          ]
        }
      ]
    },
    {
      "cell_type": "code",
      "metadata": {
        "colab": {
          "base_uri": "https://localhost:8080/"
        },
        "id": "9Sq8y7TqF-Ss",
        "outputId": "0121b709-2bc0-493a-d213-5f82a3d1b8af"
      },
      "source": [
        "from collections import defaultdict\n",
        "record=[\"Enter uid1234 Muzi\",\n",
        " \"Enter uid4567 Prodo\",\n",
        " \"Leave uid1234\",\n",
        " \"Enter uid1234 Prodo\",\n",
        " \"Change uid4567 Ryan\"]\n",
        "\n",
        "# user={}\n",
        "\n",
        "user=defaultdict(list)\n",
        "for arr in record:\n",
        "  arr_split=arr.split()\n",
        "  if len(arr_split)==3:\n",
        "    user[arr_split[1]]=arr_split[2]\n",
        "\n",
        "result=[]\n",
        "for arr in record:\n",
        "  arr_split=arr.split()\n",
        "  if arr_split[0]==\"Enter\":\n",
        "    result.append(\"{}님이 들어왔습니다.\".format(user[arr_split[1]]))\n",
        "  elif arr_split[0]==\"Leave\":\n",
        "    result.append(\"{}님이 나갔습니다.\".format(user[arr_split[1]]))\n",
        "\n",
        "\n"
      ],
      "execution_count": 37,
      "outputs": [
        {
          "output_type": "stream",
          "name": "stdout",
          "text": [
            "['Prodo님이 들어왔습니다.', 'Ryan님이 들어왔습니다.', 'Prodo님이 나갔습니다.', 'Prodo님이 들어왔습니다.']\n"
          ]
        }
      ]
    },
    {
      "cell_type": "markdown",
      "metadata": {
        "id": "xnowqwduh6kk"
      },
      "source": [
        "## N으로 표현\n"
      ]
    },
    {
      "cell_type": "code",
      "metadata": {
        "id": "A9Q9uUxwh7lC"
      },
      "source": [
        "\n",
        "\n",
        "dp=[0]*(n+1)\n",
        "dp[1]=1\n",
        "dp[2]=2\n",
        "for i in range(3,n):\n",
        "  dp[i]=dp[i-1]+dp[i-2]\n",
        "return dp[i]%1000000007  "
      ],
      "execution_count": null,
      "outputs": []
    },
    {
      "cell_type": "markdown",
      "metadata": {
        "id": "GIQ72c_OZsuD"
      },
      "source": [
        "## 네트워크 "
      ]
    },
    {
      "cell_type": "code",
      "metadata": {
        "colab": {
          "base_uri": "https://localhost:8080/",
          "height": 248
        },
        "id": "-c_IPiqAZuHZ",
        "outputId": "b47b3487-3e1a-4182-c042-5c783b2ad028"
      },
      "source": [
        "from collections import deque \n",
        "\n",
        "graph=[[] for i in range(n)]\n",
        "visited=[False]*(n)\n",
        "\n",
        "\n",
        "dq=deque()\n",
        "for i in range(n):\n",
        "  for j in range(i+1,n): \n",
        "    if matrix[i][j]==1:\n",
        "      graph[i].append(j)\n",
        "\n",
        "print(graph)"
      ],
      "execution_count": 1,
      "outputs": [
        {
          "output_type": "error",
          "ename": "NameError",
          "evalue": "ignored",
          "traceback": [
            "\u001b[0;31m---------------------------------------------------------------------------\u001b[0m",
            "\u001b[0;31mNameError\u001b[0m                                 Traceback (most recent call last)",
            "\u001b[0;32m<ipython-input-1-553be70bf9fb>\u001b[0m in \u001b[0;36m<module>\u001b[0;34m()\u001b[0m\n\u001b[1;32m      1\u001b[0m \u001b[0;32mfrom\u001b[0m \u001b[0mcollections\u001b[0m \u001b[0;32mimport\u001b[0m \u001b[0mdeque\u001b[0m\u001b[0;34m\u001b[0m\u001b[0;34m\u001b[0m\u001b[0m\n\u001b[1;32m      2\u001b[0m \u001b[0;34m\u001b[0m\u001b[0m\n\u001b[0;32m----> 3\u001b[0;31m \u001b[0mgraph\u001b[0m\u001b[0;34m=\u001b[0m\u001b[0;34m[\u001b[0m\u001b[0;34m[\u001b[0m\u001b[0;34m]\u001b[0m \u001b[0;32mfor\u001b[0m \u001b[0mi\u001b[0m \u001b[0;32min\u001b[0m \u001b[0mrange\u001b[0m\u001b[0;34m(\u001b[0m\u001b[0mn\u001b[0m\u001b[0;34m)\u001b[0m\u001b[0;34m]\u001b[0m\u001b[0;34m\u001b[0m\u001b[0;34m\u001b[0m\u001b[0m\n\u001b[0m\u001b[1;32m      4\u001b[0m \u001b[0mvisited\u001b[0m\u001b[0;34m=\u001b[0m\u001b[0;34m[\u001b[0m\u001b[0;32mFalse\u001b[0m\u001b[0;34m]\u001b[0m\u001b[0;34m*\u001b[0m\u001b[0;34m(\u001b[0m\u001b[0mn\u001b[0m\u001b[0;34m)\u001b[0m\u001b[0;34m\u001b[0m\u001b[0;34m\u001b[0m\u001b[0m\n\u001b[1;32m      5\u001b[0m \u001b[0;34m\u001b[0m\u001b[0m\n",
            "\u001b[0;31mNameError\u001b[0m: name 'n' is not defined"
          ]
        }
      ]
    },
    {
      "cell_type": "code",
      "metadata": {
        "id": "tBF5HSnKhjY2"
      },
      "source": [
        ""
      ],
      "execution_count": null,
      "outputs": []
    },
    {
      "cell_type": "markdown",
      "metadata": {
        "id": "tOmNQv0PjCs8"
      },
      "source": [
        "# 백준"
      ]
    },
    {
      "cell_type": "markdown",
      "metadata": {
        "id": "UaE-ztdjwdnb"
      },
      "source": [
        "## 제곱수의 합\n"
      ]
    },
    {
      "cell_type": "code",
      "metadata": {
        "id": "7twEZdM_7GBv"
      },
      "source": [
        "n=int(input())\n",
        "\n",
        "arr=[i for i in range(1,n+1)]\n",
        "dp=[0]*(n+1)\n",
        "dp[1]=1\n",
        "dp[2]=2\n",
        "dp[3]=3\n",
        "\n",
        "\n",
        "for i in range(4,n):\n",
        "  \n",
        "  for j in range(1,i):\n",
        "    if i%j==0:\n",
        "      dp[i]=min(dp[i],2*dp[j])\n",
        "    else:\n",
        "      dp[i]=min(dp[i],i&j+)\n",
        "    \n"
      ],
      "execution_count": null,
      "outputs": []
    },
    {
      "cell_type": "code",
      "metadata": {
        "id": "g9lIVqxPjDz7",
        "colab": {
          "base_uri": "https://localhost:8080/"
        },
        "outputId": "7f1c577f-7670-4aa3-a357-918d2c006dec"
      },
      "source": [
        "def go(start,end):\n",
        "  pos=0\n",
        "\n",
        "  while start<=end:\n",
        "    mid=(start+end)//2\n",
        "    length=get_length(mid)\n",
        "\n",
        "    if length<k:\n",
        "      start=mid+1\n",
        "    else:\n",
        "      pos=mid\n",
        "      end=mid-1\n",
        "  \n",
        "  c=get_length(pos)\n",
        "  st=str(pos)\n",
        "  print(st[len(st)-1-(c-k)])\n",
        "\n",
        "\n",
        "\n",
        "def get_length(n):\n",
        "  length=0\n",
        "  \n",
        "  i=1\n",
        "  start=1\n",
        "  while start<=n:\n",
        "    end=start*10-1\n",
        "    if end>n:\n",
        "      end=n\n",
        "    length+=((end-start)+1)*i\n",
        "    start*=10\n",
        "    i+=1\n",
        "\n",
        "  return length\n",
        "\n",
        "\n",
        "\n",
        "n,k=map(int,input().split())\n",
        "if get_length(n)<k:\n",
        "  print(-1)\n",
        "else:\n",
        "  go(1,n)\n",
        "\n",
        "\n"
      ],
      "execution_count": null,
      "outputs": [
        {
          "output_type": "stream",
          "name": "stdout",
          "text": [
            "20 23\n",
            "6\n"
          ]
        }
      ]
    },
    {
      "cell_type": "markdown",
      "metadata": {
        "id": "nyFyKxFVjD7U"
      },
      "source": [
        "## 물병\n"
      ]
    },
    {
      "cell_type": "code",
      "metadata": {
        "colab": {
          "base_uri": "https://localhost:8080/"
        },
        "id": "zbGsMLGbjD-j",
        "outputId": "07f22c33-9863-4556-a37c-c2a1fbf25d97"
      },
      "source": [
        "\n",
        "\n",
        "'''\n",
        "https://kimmeh1.tistory.com/304\n",
        "2의 제곱수인가를 판단한다 \n",
        "2의 제곱수중 가장 큰값을 저장해놓고 차이를 구해서 더한다 \n",
        "\n",
        "'''\n",
        "\n",
        "n,k=map(int,input().split())\n",
        "\n",
        "\n",
        "res=0\n",
        "while bin(n).count('1')>k:\n",
        "  idx=2**(bin(n)[::-1].index('1'))\n",
        "  res+=idx\n",
        "  n+=idx\n",
        "\n",
        "print(res)\n",
        "\n",
        "\n",
        "\n",
        "\n"
      ],
      "execution_count": null,
      "outputs": [
        {
          "output_type": "stream",
          "name": "stdout",
          "text": [
            "4 1\n",
            "0\n"
          ]
        }
      ]
    },
    {
      "cell_type": "code",
      "metadata": {
        "colab": {
          "base_uri": "https://localhost:8080/"
        },
        "id": "6aYEWka3NUp8",
        "outputId": "ce522547-98eb-474a-d979-20bbc1a4e635"
      },
      "source": [
        "print(bin(10)[::-1])\n",
        "print(bin(10))"
      ],
      "execution_count": null,
      "outputs": [
        {
          "output_type": "stream",
          "name": "stdout",
          "text": [
            "0101b0\n",
            "0b1010\n"
          ]
        }
      ]
    },
    {
      "cell_type": "markdown",
      "metadata": {
        "id": "LP0iwP9duHJQ"
      },
      "source": [
        "## 1로만들기"
      ]
    },
    {
      "cell_type": "code",
      "metadata": {
        "colab": {
          "base_uri": "https://localhost:8080/"
        },
        "id": "XeiVp8GduIcY",
        "outputId": "fdbc5a99-19c6-4a25-99e5-119e313c0186"
      },
      "source": [
        "'''\n",
        "dp 내부에 값을 저장해놓는다. \n",
        "dp 테이블은 횟수를 저장해 놓는다 \n",
        "\n",
        "예를 들어 보면 dp[1]은 1을 만들기 위한 최소횟수 1이다 \n",
        "dp[4]는 4를 만들기 위한 최소 횟수 그러면 \n",
        "4를 만들기 위해서는 dp[3] 3을 만들기 위한 최소횟수+1, 2로 나누어 떨어지니 2로 나누었을떄의\n",
        "값에서 +1 을 한값과 비교 한다 \n",
        "\n",
        "역발상 \n",
        "1. dp[i]의 값을 이전 값에서 +1을 해준다(1을 뺴주는것의 반대 의미 )\n",
        "2. dp[i]에서 i 값이 3으로 나누어 떨어지면 비교 한다 1을 빼는것과의 \n",
        "\n",
        "'''\n",
        "\n",
        "n=int(input())\n",
        "dp=[0]*(1000001)\n",
        "\n",
        "for i in range(2,n+1):\n",
        "  dp[i]=dp[i-1]+1\n",
        "  if i%3==0:\n",
        "    dp[i]=min(dp[i],dp[i//3]+1)\n",
        "  if i%2==0:\n",
        "    dp[i]=min(dp[i],dp[i//2]+1)\n",
        "\n",
        "print(dp[:n])\n",
        "# print(dp[n])\n",
        "\n",
        "\n",
        "\n",
        "\n"
      ],
      "execution_count": null,
      "outputs": [
        {
          "output_type": "stream",
          "name": "stdout",
          "text": [
            "10\n",
            "[0, 0, 1, 1, 2, 3, 2, 3, 3, 2]\n"
          ]
        }
      ]
    },
    {
      "cell_type": "markdown",
      "metadata": {
        "id": "MCU8w_Bk0fbz"
      },
      "source": [
        "## 나무 재테크"
      ]
    },
    {
      "cell_type": "code",
      "metadata": {
        "id": "hecDFUtGD9NI"
      },
      "source": [
        "n,m,k=map(int,input().split())\n"
      ],
      "execution_count": null,
      "outputs": []
    },
    {
      "cell_type": "code",
      "metadata": {
        "id": "EG4zedRiD9Pz"
      },
      "source": [
        ""
      ],
      "execution_count": null,
      "outputs": []
    }
  ]
}
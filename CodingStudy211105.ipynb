{
  "nbformat": 4,
  "nbformat_minor": 0,
  "metadata": {
    "colab": {
      "name": "CodingStudy211105.ipynb",
      "provenance": [],
      "collapsed_sections": [],
      "toc_visible": true,
      "authorship_tag": "ABX9TyN38XnU7JLaWPMeL6fPfgH/",
      "include_colab_link": true
    },
    "kernelspec": {
      "name": "python3",
      "display_name": "Python 3"
    },
    "language_info": {
      "name": "python"
    }
  },
  "cells": [
    {
      "cell_type": "markdown",
      "metadata": {
        "id": "view-in-github",
        "colab_type": "text"
      },
      "source": [
        "<a href=\"https://colab.research.google.com/github/crakcode/CodingStudy/blob/main/CodingStudy211105.ipynb\" target=\"_parent\"><img src=\"https://colab.research.google.com/assets/colab-badge.svg\" alt=\"Open In Colab\"/></a>"
      ]
    },
    {
      "cell_type": "markdown",
      "metadata": {
        "id": "2EGXQ-zG7Vd8"
      },
      "source": [
        "## 구현 연습하기 \n",
        "\n",
        "\n",
        "1. 한줄로 서기(1138)\n",
        "2. 경쟁적 전염(18405) :추후 다시 풀어볼것!\n",
        "3. 회문: \n",
        "4. 붐버맨\n",
        "5. 트럭 13335\n",
        "6. 완전 이진트리 \n",
        "7. 경비원\n",
        "8. 수이어쓰기2"
      ]
    },
    {
      "cell_type": "markdown",
      "metadata": {
        "id": "LN6Lp6A37cz6"
      },
      "source": [
        "## 한줄로 서기\n",
        "\n",
        "- 문제: 백준 1138\n",
        "- N의 범위:N은 10보다 작거나 같은 자연수\n",
        "- 시간복잡도(추측):\n",
        "\n"
      ]
    },
    {
      "cell_type": "code",
      "metadata": {
        "id": "Wi4KcGpu9iUc"
      },
      "source": [
        ""
      ],
      "execution_count": null,
      "outputs": []
    },
    {
      "cell_type": "markdown",
      "metadata": {
        "id": "nlH9jtgj9iYW"
      },
      "source": [
        "## 경쟁적 전염\n",
        "\n",
        "- 문제: 백준 18405\n",
        "- N의 범위:N은 10보다 작거나 같은 자연수\n",
        "- 시간복잡도(추측):\n",
        "\n"
      ]
    },
    {
      "cell_type": "code",
      "metadata": {
        "colab": {
          "base_uri": "https://localhost:8080/",
          "height": 136
        },
        "id": "plZsx0pD9rMZ",
        "outputId": "90d9efd1-0c02-4bb0-d0e1-e1fd6a5f34e8"
      },
      "source": [
        "'''\n",
        "\n",
        "1. dq에 0이 아닌곳만 넣기\n",
        "2. dq에서 계속적으로 넣어준다. \n",
        "3. dq에서 계속적으로 뺴면서 탐색처리 해준다. \n",
        "\n",
        "'''\n",
        "from collections import deque \n",
        "\n",
        "n,k=map(int,input().split())\n",
        "\n",
        "visited=[[False]*(n) for i in range(n)]\n",
        "matrix=[]\n",
        "\n",
        "\n",
        "\n",
        "dx,dy=[0,0,-1,1],[1,-1,0,0]\n",
        "\n",
        "\n",
        "\n",
        "dq=deque()\n",
        "    \n",
        "for i in range(n):\n",
        "  temp=list(map(int,input().split()))\n",
        "  for j in range(n):\n",
        "    if temp[j]!=0:\n",
        "      dq.append((temp[j],i,j))\n",
        "  matrix.append(temp)\n",
        "\n",
        "s,X,Y=map(int,input().split())\n",
        "\n",
        "cnt=0\n",
        "\n",
        "while dq:\n",
        "  if cnt==s:\n",
        "    break\n",
        "  for _ in range(len(dq)):\n",
        "    prev,x,y=dq.popleft()\n",
        "    for k in range(4):\n",
        "      nx=x+dx[i]\n",
        "      ny=y+dy[i]\n",
        "      if (0<=nx<n and 0<=ny<n) and matrix[nx][ny]==0:\n",
        "        matrix[nx][ny]=prev\n",
        "        dq.append((prev,nx,ny))\n",
        "  cnt+=1\n",
        "\n",
        "for i in matrix:\n",
        "  print(i)\n",
        "print(matrix[X-1][Y-1])\n",
        "\n",
        "\n",
        "\n"
      ],
      "execution_count": null,
      "outputs": [
        {
          "output_type": "error",
          "ename": "IndentationError",
          "evalue": "ignored",
          "traceback": [
            "\u001b[0;36m  File \u001b[0;32m\"<ipython-input-1-0c86ed6bd18f>\"\u001b[0;36m, line \u001b[0;32m25\u001b[0m\n\u001b[0;31m    for _ in range(n):\u001b[0m\n\u001b[0m                      ^\u001b[0m\n\u001b[0;31mIndentationError\u001b[0m\u001b[0;31m:\u001b[0m expected an indented block\n"
          ]
        }
      ]
    },
    {
      "cell_type": "markdown",
      "metadata": {
        "id": "QGWHsMMuAqoB"
      },
      "source": [
        "## 큰수 만들기\n",
        "\n",
        "- 문제: 프로그래머스 \n",
        "- N의 범위:N은 10보다 작거나 같은 자연수\n",
        "- 시간복잡도(추측):\n",
        "\n"
      ]
    },
    {
      "cell_type": "code",
      "metadata": {
        "id": "hgM6lHWZAvHN"
      },
      "source": [
        "from itertools import combinations\n",
        "\n",
        "\n",
        "number=input()\n",
        "\n",
        "n=len(number)\n",
        "k=int(input())\n",
        "arr=[i for i in range(n)]\n",
        "results=[]\n",
        "\n",
        "for i in combinations(arr,n-k):\n",
        "  results.append(i)\n",
        "  print(i)\n",
        "\n",
        "m=0\n",
        "for result in results:\n",
        "  t_int=0\n",
        "  temp=\"\"\n",
        "  for i in result:\n",
        "    temp+=number[i]\n",
        "  \n",
        "  t_int=int(temp)\n",
        "  if t_int>m:\n",
        "    m=t_int\n",
        "\n",
        "print(m)  \n",
        "\n",
        "\n",
        "  \n",
        "\n",
        "\n"
      ],
      "execution_count": null,
      "outputs": []
    },
    {
      "cell_type": "code",
      "metadata": {
        "colab": {
          "base_uri": "https://localhost:8080/"
        },
        "id": "HaOKsDLuDW7o",
        "outputId": "87defef4-fec4-4f09-fa84-2863afca7c5e"
      },
      "source": [
        "from collections import deque\n",
        "\n",
        "number=input()\n",
        "k=int(input())\n",
        "arr=list(number)\n",
        "\n",
        "\n",
        "dq=deque(arr)\n",
        "\n",
        "cnt=0\n",
        "\n",
        "while True:\n",
        "  i=0\n",
        "  now=dq.popleft()\n",
        "  cnt+=1\n",
        "  while now > dq[i] and cnt!=k:\n",
        "    dq.pop(i) \n",
        "    cnt+=1\n",
        "  if cnt==k:\n",
        "    break\n",
        "\n",
        "print(dq)\n",
        "\n",
        "\n",
        "1924\n"
      ],
      "execution_count": null,
      "outputs": [
        {
          "output_type": "stream",
          "name": "stdout",
          "text": [
            "2233\n",
            "['2', '2', '3', '3']\n"
          ]
        }
      ]
    },
    {
      "cell_type": "markdown",
      "metadata": {
        "id": "Oz0uH28sCWtM"
      },
      "source": [
        "## 마법사 상어와 파이어볼\n",
        "\n",
        "- 문제: 프로그래머스 \n",
        "- N의 범위:N은 10보다 작거나 같은 자연수\n",
        "- 시간복잡도(추측):\n",
        "\n"
      ]
    },
    {
      "cell_type": "code",
      "metadata": {
        "id": "PibUxckVGFiZ"
      },
      "source": [
        ""
      ],
      "execution_count": null,
      "outputs": []
    },
    {
      "cell_type": "markdown",
      "metadata": {
        "id": "bKklMsvWGHPz"
      },
      "source": [
        "## 트리의 지름\n",
        "\n",
        "- 문제: 프로그래머스 \n",
        "- N의 범위:N은 10보다 작거나 같은 자연수\n",
        "- 시간복잡도(추측):\n",
        "\n"
      ]
    },
    {
      "cell_type": "code",
      "metadata": {
        "id": "wUFISZ2tGMV5"
      },
      "source": [
        "import sys\n",
        "input=sys.stdin.readline\n",
        "sys.setrecursionlimit(10**6)\n",
        "\n",
        "n=int(input())\n",
        "graph=[[] for i in range(n+1)]\n",
        "\n",
        "\n",
        "\n",
        "def bfs(v):\n",
        "  dq=deque()\n",
        "  dq.append(v)\n",
        "  while dq:\n",
        "    now=dq.popleft()\n",
        "    for next,w in graph[now]:\n",
        "      if distance[next]==-1:\n",
        "        distance[next]=distance[now]+w\n",
        "        dq.append(next)\n",
        "        \n",
        "\n",
        "for _ in range(n):\n",
        "  a,b,c=map(int,input().split())\n",
        "  graph[a].append((b,c))\n",
        "  graph[b].append((a,c))\n",
        "\n",
        "\n",
        "distance=[-1]*(n+1)\n",
        "distance[1]=0\n",
        "dfs(1)\n",
        "\n",
        "max_index=distance.index(max(distance))\n",
        "distance=[-1]*(n+1)\n",
        "distance[max_index]=0\n",
        "dfs(max_index)\n",
        "print(max(distance))\n",
        "\n",
        "\n",
        "\n",
        "\n"
      ],
      "execution_count": null,
      "outputs": []
    },
    {
      "cell_type": "markdown",
      "metadata": {
        "id": "OTtRIAlJOEOn"
      },
      "source": [
        "## 트리의 지름\n",
        "\n",
        "- 문제: 백준 1167 \n",
        "- N의 범위:N은 10보다 작거나 같은 자연수\n",
        "- 시간복잡도(추측):\n",
        "\n"
      ]
    },
    {
      "cell_type": "code",
      "metadata": {
        "id": "1T1hYaYsOJ5w"
      },
      "source": [
        "from collections import deque\n",
        "n=int(input())\n",
        "graph=[[] for i in range(n+1)]\n",
        "\n",
        "for _ in range(n):\n",
        "  arr=list(map(int,input().split()))\n",
        "  dq=deque(arr)\n",
        "  a=dq.popleft()\n",
        "  while len(dq)!=1:\n",
        "    b=dq.popleft()\n",
        "    w=dq.popleft()\n",
        "    graph[a].append((b,c))\n",
        "    graph[b].append((a,c))\n",
        "  print(graph)\n",
        "    \n",
        "\n",
        "\n",
        "    \n",
        "\n"
      ],
      "execution_count": null,
      "outputs": []
    },
    {
      "cell_type": "markdown",
      "metadata": {
        "id": "x1kESQ4NRywl"
      },
      "source": [
        "## 트리의 순회\n",
        "\n",
        "- 문제: 백준 1167 \n",
        "- N의 범위:N은 10보다 작거나 같은 자연수\n",
        "- 시간복잡도(추측):\n",
        "\n"
      ]
    },
    {
      "cell_type": "code",
      "metadata": {
        "colab": {
          "base_uri": "https://localhost:8080/"
        },
        "id": "qUCE6VlgfC0e",
        "outputId": "d5124483-6ab3-4b81-d3c1-c1f311b3b60a"
      },
      "source": [
        "n=int(input())\n",
        "\n",
        "arr=[i for i in range(1,n+1)]\n",
        "visited=[False]*(n+1)\n",
        "\n",
        "def DFS(v):\n",
        "  if v<=n:\n",
        "    visited[v]=True\n",
        "    DFS(2*v+1)\n",
        "    print(v)\n",
        "    DFS(2*v)\n",
        "DFS(1)\n",
        "\n"
      ],
      "execution_count": 5,
      "outputs": [
        {
          "output_type": "stream",
          "name": "stdout",
          "text": [
            "7\n",
            "7\n",
            "3\n",
            "6\n",
            "1\n",
            "5\n",
            "2\n",
            "4\n"
          ]
        }
      ]
    }
  ]
}
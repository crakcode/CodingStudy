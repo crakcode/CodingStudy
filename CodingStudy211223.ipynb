{
  "nbformat": 4,
  "nbformat_minor": 0,
  "metadata": {
    "colab": {
      "name": "CodingStudy211223.ipynb",
      "provenance": [],
      "collapsed_sections": [],
      "authorship_tag": "ABX9TyOQ2WHz1RL6XBD+7XOPaoNm",
      "include_colab_link": true
    },
    "kernelspec": {
      "name": "python3",
      "display_name": "Python 3"
    },
    "language_info": {
      "name": "python"
    }
  },
  "cells": [
    {
      "cell_type": "markdown",
      "metadata": {
        "id": "view-in-github",
        "colab_type": "text"
      },
      "source": [
        "<a href=\"https://colab.research.google.com/github/crakcode/CodingStudy/blob/main/CodingStudy211223.ipynb\" target=\"_parent\"><img src=\"https://colab.research.google.com/assets/colab-badge.svg\" alt=\"Open In Colab\"/></a>"
      ]
    },
    {
      "cell_type": "markdown",
      "source": [
        "## 카드 문자열"
      ],
      "metadata": {
        "id": "fvDFUhFgyWsE"
      }
    },
    {
      "cell_type": "code",
      "source": [
        "'''\n",
        "초기 풀이 \n",
        "1. 작으면 앞으로 보내고 크면 뒤로 보낸다\n",
        "2. 이때 stack 을 이용하여 맨뒤에 부분을 비교한다.\n",
        "  2-1. top보다 작으면: 맨앞에 넣어준다. 이때 맨앞보다 더 작거나 같아야한다.\n",
        "  2-2. top보다 크면: 그냥 뒤에 붙여준다.\n",
        "3.\n",
        "\n",
        "'''\n",
        "\n",
        "n=int(input())\n",
        "result=[]\n",
        "\n",
        "for _ in range(n):\n",
        "  char=[]\n",
        "  stack=[]ㅎ\n",
        "  m=int(input())\n",
        "  char=list(map(str,input().split()))\n",
        "  \n",
        "  for i in range(m):\n",
        "    if i==0:\n",
        "      stack.append(char[i])\n",
        "    \n",
        "    if stack[-1]>char[i] and char[i]<=stack[0]:\n",
        "      stack.insert(0,char[i])\n",
        "    \n",
        "    elif stack[-1]<char[i]:\n",
        "      stack.append(char[i])\n",
        "    \n",
        "    elif stack[-1]>char[i] and char[i]>stack[0]:\n",
        "      stack.append(char[i])\n",
        "  \n",
        "  print(\"\".join(stack))\n"
      ],
      "metadata": {
        "colab": {
          "base_uri": "https://localhost:8080/"
        },
        "id": "NXihAcyzyWu8",
        "outputId": "9ecdcbe1-f5b9-413b-f33f-cebf09e522a9"
      },
      "execution_count": null,
      "outputs": [
        {
          "output_type": "stream",
          "name": "stdout",
          "text": [
            "3\n",
            "3\n",
            "M K U\n",
            "KMU\n",
            "5\n",
            "A S D F G\n",
            "ASDFG\n",
            "7\n",
            "B A C A B A C\n",
            "AAABCBC\n",
            "False\n"
          ]
        }
      ]
    },
    {
      "cell_type": "code",
      "source": [
        "'''\n",
        "두번쨰 풀이 \n",
        "1. 이거는 그냥 앞의 우선순위와 비교해서 풀었다.\n",
        "2. char이라는 큐에 문자를 저장해놓고 반복문을 돌린다.\n",
        "3. result 가장 앞부분 비교한다 \n",
        "  3-1. char값이 작으면: 앞에 붙이고\n",
        "  3-2. char값이 크면: 뒤에 붙인다.\n",
        "4. join을 이용해 리스트를 문자열로 출력해준다. \n",
        "\n",
        "'''\n",
        "\n",
        "n = int(input())\n",
        "for _ in range(n):\n",
        "    m = int(input())\n",
        "    char = deque(map(str, input().split()))\n",
        "    result=deque()\n",
        "    result.append(char.popleft())\n",
        "    while char:\n",
        "      if char[0]<=result[0]:\n",
        "        result.appendleft(char.popleft())\n",
        "      else:\n",
        "        result.append(char.popleft())\n",
        "    print(''.join(result))\n",
        "\n",
        "  \n",
        "\n",
        "\n"
      ],
      "metadata": {
        "id": "sQ1M93AVyWx0"
      },
      "execution_count": null,
      "outputs": []
    },
    {
      "cell_type": "markdown",
      "source": [
        "## 병든나이트"
      ],
      "metadata": {
        "id": "ixkWaspAyW0b"
      }
    },
    {
      "cell_type": "code",
      "source": [
        "\n",
        "n,m=map(int,input().split())\n",
        "\n",
        "dir=[(2,1),(-2,1),(1,2),(-1,2)]\n",
        "dig=[(2,1),(-2,1)]\n",
        "\n",
        "\n",
        "cnt,block=0,0\n",
        "f=True\n",
        "if 0<=n<2 and 0<=m<2:\n",
        "  block=1\n",
        "  f=False\n",
        "  \n",
        "\n",
        "x,y=0,0\n",
        "while True and f:\n",
        "  if n<=x and m<=y:\n",
        "    break \n",
        "  if cnt>=4:\n",
        "    flag=True\n",
        "    for i in range(4):\n",
        "      dx,dy=dir[i][0],dir[i][1]\n",
        "      nx,ny=x+dx,y+dy\n",
        "      if nx>n or ny>m:\n",
        "        flag=False\n",
        "        continue\n",
        "      x,y=nx,ny\n",
        "      cnt+=1\n",
        "    if flag==False:\n",
        "      break \n",
        "  else:\n",
        "    for i in range(2):\n",
        "      dx,dy=dig[i][0],dig[i][1]\n",
        "      nx,ny=x+dx,y+dy\n",
        "      if nx>n or ny>m:\n",
        "        continue\n",
        "      x,y=nx,ny\n",
        "      cnt+=1\n",
        "\n",
        "print(cnt+block)\n",
        "\n",
        "\n",
        "\n"
      ],
      "metadata": {
        "id": "LdcAqjVTyW3C",
        "colab": {
          "base_uri": "https://localhost:8080/"
        },
        "outputId": "aca0e45d-cf36-4bf2-ab27-2c5ce2ceb5e4"
      },
      "execution_count": null,
      "outputs": [
        {
          "output_type": "stream",
          "name": "stdout",
          "text": [
            "2 4\n",
            "4\n"
          ]
        }
      ]
    },
    {
      "cell_type": "code",
      "source": [
        "# https://it-college-diary.tistory.com/entry/%EA%B7%B8%EB%A6%AC%EB%94%94-%EC%95%8C%EA%B3%A0%EB%A6%AC%EC%A6%98-%EB%B0%B1%EC%A4%80-1783%EB%B2%88-%EB%B3%91%EB%93%A0-%EB%82%98%EC%9D%B4%ED%8A%B8\n",
        "n,m=map(int,input().split())\n",
        "\n",
        "if n==1:\n",
        "  cnt=1\n",
        "elif n==2:\n",
        "  cnt=min(4,(m-1)//2+1)\n",
        "elif m<7:\n",
        "  cnt=min(4,m)\n",
        "else:\n",
        "  cnt=(2+(m-5))+1\n",
        "print(cnt)\n",
        "\n",
        "  \n"
      ],
      "metadata": {
        "id": "_1PQQRn0qE-e"
      },
      "execution_count": null,
      "outputs": []
    },
    {
      "cell_type": "code",
      "source": [
        ""
      ],
      "metadata": {
        "id": "7NIvAlxvqFBV"
      },
      "execution_count": null,
      "outputs": []
    },
    {
      "cell_type": "code",
      "source": [
        ""
      ],
      "metadata": {
        "id": "zF-NOzkmqFDy"
      },
      "execution_count": null,
      "outputs": []
    },
    {
      "cell_type": "markdown",
      "source": [
        "## 후보 추천하기 1713\n"
      ],
      "metadata": {
        "id": "_dbQrEJpqFGP"
      }
    },
    {
      "cell_type": "code",
      "source": [
        "n=int(input())\n",
        "m=int(input())\n",
        "\n",
        "\n",
        "arr=list(map(int,input().split()))\n",
        "\n",
        "order={}\n",
        "hash={}\n",
        "for i,v in enumerate(arr):\n",
        "\n",
        "  if v in hash:\n",
        "    hash[v]+=1\n",
        "  else:\n",
        "    hash[v]=1\n",
        "  \n",
        "print()\n",
        "\n",
        "\n",
        "\n",
        "\n",
        "\n",
        "\n"
      ],
      "metadata": {
        "colab": {
          "base_uri": "https://localhost:8080/"
        },
        "id": "Rm5l5hEiqGzL",
        "outputId": "9dfb0fd3-9fe0-4ad8-8d52-64f84e384a41"
      },
      "execution_count": null,
      "outputs": [
        {
          "output_type": "stream",
          "name": "stdout",
          "text": [
            "3\n",
            "9\n",
            "2 1 4 3 5 6 2 7 2\n",
            "{2: 3, 1: 1, 4: 1, 3: 1, 5: 1, 6: 1, 7: 1}\n"
          ]
        }
      ]
    },
    {
      "cell_type": "code",
      "source": [
        "'''\n",
        "n과 k를 받고 k에서 뒤로 가는것으로 생각한다. \n",
        "2를 곱하거나 1을 가장 오른쪽에 추가한다. \n",
        "\n",
        "2 ->4 -> 8 - > 81 -> 162\n",
        "\n",
        "1을 넣는다는것 -> 10으로 나눈다는것이다. \n",
        "\n",
        "수의 특성을 알아야함 \n",
        "1. 해당 규칙을 이용하면 결국에는 2의 배수이거나 \n",
        "2. 10으로 나누었을때 나머지가 1이 아니면 만들어질수없음 \n",
        "\n",
        "이것을 역추론 해보면 결국에는 \n",
        "10으로 나누어서 나머지가 1이 되지않고 2로 나누어서 떨어지지 않으면 \n",
        "만들수없음 그렇기 때문에 멈추면 되는것임\n",
        "\n",
        "\n",
        "'''\n",
        "n,k=map(int,input().split())\n",
        "\n",
        "cnt=1\n",
        "while True:\n",
        "  if n==k:\n",
        "    break \n",
        "  if k<n or k%10!=1 and k%2!=0:\n",
        "    cnt=-1\n",
        "    break\n",
        "  elif k%10==1:\n",
        "    cnt+=1\n",
        "    k=k//10\n",
        "  elif k%2==0:\n",
        "    k=k//2\n",
        "    cnt+=1\n",
        "\n",
        "print(cnt)  \n",
        "\n",
        "\n",
        "\n",
        "\n",
        "\n",
        "\n"
      ],
      "metadata": {
        "id": "L52a96VNck5W",
        "colab": {
          "base_uri": "https://localhost:8080/"
        },
        "outputId": "1d47c5a5-2776-452b-d226-111c3dad6e16"
      },
      "execution_count": 6,
      "outputs": [
        {
          "output_type": "stream",
          "name": "stdout",
          "text": [
            "100 40021\n",
            "5\n"
          ]
        }
      ]
    },
    {
      "cell_type": "markdown",
      "source": [
        "## 전구와 스위치 \n"
      ],
      "metadata": {
        "id": "e8bLbbSSck8r"
      }
    },
    {
      "cell_type": "code",
      "source": [
        "import copy\n",
        "\n",
        "# https://velog.io/@dding_ji/baekjoon2138\n",
        "def switch(index, map):\n",
        "    for i in range(index-1, index+2):\n",
        "        if 0 <= i <= N-1:\n",
        "            map[i] = not map[i]\n",
        "    return map\n",
        "\n",
        "\n",
        "def getSwitchCount(map, count):\n",
        "    switchCount = count\n",
        "    newMap = copy.deepcopy(map)\n",
        "\n",
        "    for i in range(1, N):\n",
        "        if newMap[i-1] == True:\n",
        "            newMap = switch(i, newMap)\n",
        "            switchCount += 1\n",
        "\n",
        "    # 모두 False인지 확인\n",
        "    for i in range(N):\n",
        "        if newMap[i] == True:\n",
        "            return -1\n",
        "\n",
        "    return switchCount\n",
        "\n",
        "\n",
        "N = int(input())\n",
        "\n",
        "input1 = input().rstrip()\n",
        "input2 = input().rstrip()\n",
        "# True -> False로 바꿔야함\n",
        "map = [input1[i] != input2[i] for i in range(N)]\n",
        "\n",
        "switchCountWithoutSwitchingZero = getSwitchCount(map, 0)\n",
        "if switchCountWithoutSwitchingZero != -1:\n",
        "    print(switchCountWithoutSwitchingZero)\n",
        "else:\n",
        "    print(getSwitchCount(switch(0, map), 1))"
      ],
      "metadata": {
        "id": "JNtuBEamck_d"
      },
      "execution_count": null,
      "outputs": []
    },
    {
      "cell_type": "code",
      "source": [
        "# 1. 첫번째 전구를 기준을 판단\n",
        "#   1-1. 첫번째 전구를 바꿔주었을떄\n",
        "#   1-2. 첫번째 전구를 바꿔주었을떄\n",
        "# 2. 이후 첫번쨰 인덱스 부터 n번 까지 반복한다.\n",
        "# 3. j 값을 기준으로 판단한다.\n",
        "#   3-1. j==0이면 두개를 변경해준다. \n",
        "#   3-2. j가 사이에 있고 A,B의 해당 인덱스의 값이 다르다면 바꿔준다.\n",
        "#   3-3. j가 맨마지막에 있고 A,B의 해당 인덱스의 값이 다르다면 바꿔준다.\n",
        "# 4. 이후 A==B이면 멈추고 cnt값을 출력해준다.\n",
        "# 5. 만약 for 문에서 탈출한다면 값이 존재하지 않기에 -1을 출력한다.\n",
        "\n",
        "# A는 0과1을 가지기에 변경하는 함수는 결국 그 값을 1에서 뺴주면 된다. \n",
        "\n",
        "import copy\n",
        "\n",
        "n=int(input())\n",
        "\n",
        "A=list(map(int,input().split()))\n",
        "B=list(map(int,input().split()))\n",
        "\n",
        "r1=copy.deepcopy(A)\n",
        "r2=copy.deepcopy(A)\n",
        "\n",
        "def switchTwo(i,j):\n",
        "  A[i]=1-A[i]\n",
        "  A[j]=1-A[j]\n",
        "\n",
        "def switchThree(i,j,k):\n",
        "  A[i]=1-A[i]\n",
        "  A[j]=1-A[j]\n",
        "  A[k]=1-A[k]\n",
        "\n",
        "cnt=0\n",
        "flag=True\n",
        "for i in range(2):\n",
        "  if i==0:\n",
        "    A=r1\n",
        "  else:\n",
        "    A=r2\n",
        "  for j in range(n):\n",
        "    if j==0 and i==0 and A[j]!=B[j]:\n",
        "      cnt+=1\n",
        "      switchTwo(j,j+1)\n",
        "    elif 0<j<n-1 and A[j]!=B[j]:\n",
        "      cnt+=1\n",
        "      switchThree(j-1,j,j+1)\n",
        "    elif j==n-1 and A[j]!=B[j]:\n",
        "      cnt+=1\n",
        "      switchTwo(j-1,j)\n",
        "  if A==B:\n",
        "    print(cnt)\n",
        "    flag=False\n",
        "    break \n",
        "\n",
        "if flag:\n",
        "  print(-1)\n",
        "\n"
      ],
      "metadata": {
        "id": "ZAyRxeHzgvuu"
      },
      "execution_count": null,
      "outputs": []
    },
    {
      "cell_type": "markdown",
      "source": [
        "## 흙길 보수하기\n"
      ],
      "metadata": {
        "id": "UpH2mt7keDpT"
      }
    },
    {
      "cell_type": "code",
      "source": [
        "from collections import deque \n",
        "\n",
        "\n",
        "n,L=map(int,input().split())\n",
        "\n",
        "res=[]\n",
        "for _ in range(n):\n",
        "  a,b=map(int,input().split())\n",
        "  res.append((a,b))\n",
        "\n",
        "res=res.sort()\n",
        "dq=deque(res)\n",
        "\n",
        "cnt=0\n",
        "while dq:\n",
        "  start,end=dq.popleft()\n",
        "  if (dq[0][0]-end-1)>=L:\n",
        "    temp=end-start\n",
        "    while temp//L!=0:\n",
        "      cnt+=temp//L\n",
        "      temp=temp%L\n",
        "    cnt+=1\n",
        "\n",
        "  else:\n",
        "    s,e=dq.popleft()\n",
        "    temp=e-start\n",
        "    while temp//L!=0:\n",
        "      cnt+=temp//L\n",
        "      temp=temp%L\n",
        "    cnt+=1\n",
        "\n",
        "print(cnt)\n",
        "\n",
        "\n",
        "\n",
        "\n",
        "\n",
        "\n",
        "\n",
        "\n"
      ],
      "metadata": {
        "id": "lWl7pksceDsh"
      },
      "execution_count": null,
      "outputs": []
    },
    {
      "cell_type": "code",
      "source": [
        "from collections import deque\n",
        "\n",
        "\n",
        "n,L=map(int,input().split())\n",
        "\n",
        "pools=[]\n",
        "for _ in range(n):\n",
        "  a,b=map(int,input().split())\n",
        "  pools.append((a,b))\n",
        "\n",
        "res.sort(key=lambda x:x[0])\n",
        "\n",
        "plankCnt=0\n",
        "maxPlankIdx=0\n",
        "\n",
        "for start,end in pools:\n",
        "  if start<=maxPlankIdx:\n",
        "    start=maxPlankIdx+1\n",
        "\n",
        "    if e<=s:\n",
        "      continue\n",
        "  curPlankCnt=math.ceil((e-s)/L)\n",
        "  plankCnt+=curPlankCnt\n",
        "  maxPlankIdx=max(maxPlankIdx,s+curPlankCnt*L-1)\n",
        "print(cnt)\n",
        "\n",
        "\n"
      ],
      "metadata": {
        "id": "bvObIfvtGZz7"
      },
      "execution_count": null,
      "outputs": []
    },
    {
      "cell_type": "code",
      "source": [
        "string=input()\n",
        "\n",
        "\n",
        "pre=int(string[0])\n",
        "arr=[0,0]\n",
        "arr[pre]=1\n",
        "\n",
        "for s in string:\n",
        "  if pre==int(s):\n",
        "    continue\n",
        "  else:\n",
        "    arr[int(s)]+=1\n",
        "    pre=int(s)\n",
        "print(min(arr))\n",
        "\n"
      ],
      "metadata": {
        "colab": {
          "base_uri": "https://localhost:8080/"
        },
        "id": "9w2blObPsvMN",
        "outputId": "e03ebaaf-d9ee-4688-f34a-322f4597a85c"
      },
      "execution_count": null,
      "outputs": [
        {
          "output_type": "stream",
          "name": "stdout",
          "text": [
            "11101101\n",
            "[2, 3]\n"
          ]
        }
      ]
    }
  ]
}
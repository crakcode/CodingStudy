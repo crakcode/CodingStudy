{
  "nbformat": 4,
  "nbformat_minor": 0,
  "metadata": {
    "colab": {
      "name": "Greed_R.ipynb",
      "provenance": [],
      "collapsed_sections": [],
      "authorship_tag": "ABX9TyP0ELyN1FX6mz8Ci+vFgcHd",
      "include_colab_link": true
    },
    "kernelspec": {
      "name": "python3",
      "display_name": "Python 3"
    },
    "language_info": {
      "name": "python"
    }
  },
  "cells": [
    {
      "cell_type": "markdown",
      "metadata": {
        "id": "view-in-github",
        "colab_type": "text"
      },
      "source": [
        "<a href=\"https://colab.research.google.com/github/crakcode/CodingStudy/blob/main/Greed_R.ipynb\" target=\"_parent\"><img src=\"https://colab.research.google.com/assets/colab-badge.svg\" alt=\"Open In Colab\"/></a>"
      ]
    },
    {
      "cell_type": "markdown",
      "source": [
        "# 그리디(Greedy)\n"
      ],
      "metadata": {
        "id": "4wL0bU4cbLMm"
      }
    },
    {
      "cell_type": "markdown",
      "source": [
        "## 뒤집기(1439)\n",
        "\n",
        "\n",
        "```\n",
        "0과 1을 기준으로 생각해보자\n",
        "- 연속으로 값을 바꾸면 되니 즉 0에서 1로 바뀌거나 1에서 0으로 \n",
        "\n",
        "바뀌는지점을 계산하여 0에서 1로 바뀌는 수와 1에서 0으로 바뀌는 \n",
        "\n",
        "수를 저장해주고 거기에서 최솟값을 구한다.\n",
        "\n",
        "```"
      ],
      "metadata": {
        "id": "5PXQG6JmbaRg"
      }
    },
    {
      "cell_type": "code",
      "source": [
        "string=input()\n",
        "\n",
        "hash={}\n",
        "hash['0']=0\n",
        "hash['1']=0\n",
        "\n",
        "prev=string[0]\n",
        "hash[string[0]]+=1\n",
        "\n",
        "for i in range(1,len(string)):\n",
        "  if prev!=string[i]:\n",
        "    prev=string[i]\n",
        "    hash[string[i]]+=1\n",
        "\n",
        "print(min(hash['0'],hash['1']))\n"
      ],
      "metadata": {
        "colab": {
          "base_uri": "https://localhost:8080/"
        },
        "id": "_OIKd35ibbgw",
        "outputId": "aff49173-762d-4dad-b32c-1cd5468c8d80"
      },
      "execution_count": 8,
      "outputs": [
        {
          "output_type": "stream",
          "name": "stdout",
          "text": [
            "11101101\n",
            "{'0': 2, '1': 3}\n"
          ]
        }
      ]
    },
    {
      "cell_type": "markdown",
      "source": [
        "## 로프(2217)\n"
      ],
      "metadata": {
        "id": "kSzBSH8meVeT"
      }
    },
    {
      "cell_type": "code",
      "source": [
        ""
      ],
      "metadata": {
        "id": "3h7siuJDeWxr"
      },
      "execution_count": null,
      "outputs": []
    },
    {
      "cell_type": "markdown",
      "source": [
        "## 보물 (1026)\n"
      ],
      "metadata": {
        "id": "mFJR2XJEiwmb"
      }
    },
    {
      "cell_type": "code",
      "source": [
        "'''\n",
        "A만 변경이 가능하다고 조건이 주어져있다.\n",
        "\n",
        "그렇지만 다시 생각해보면 결국 B를 변경해서 처리가 가능하기에 \n",
        "쉽게 처리가 가능하다.\n",
        "'''\n",
        "\n",
        "n=int(input())\n",
        "A=list(map(int,input().split()))\n",
        "B=list(map(int,input().split()))\n",
        "\n",
        "A.sort()\n",
        "B.sorted(reverse=True)\n",
        "\n",
        "s=0\n",
        "for i in range(n):\n",
        "  s+=A[i]*B[i]\n",
        "print(s)"
      ],
      "metadata": {
        "colab": {
          "base_uri": "https://localhost:8080/",
          "height": 303
        },
        "id": "jRw5aKamiwpD",
        "outputId": "6385266a-7e68-4b8a-9493-eeb6ba04b86b"
      },
      "execution_count": 9,
      "outputs": [
        {
          "name": "stdout",
          "output_type": "stream",
          "text": [
            "5\n",
            "1 1 1 6 0\n",
            "2 7 8 3 1\n"
          ]
        },
        {
          "output_type": "error",
          "ename": "TypeError",
          "evalue": "ignored",
          "traceback": [
            "\u001b[0;31m---------------------------------------------------------------------------\u001b[0m",
            "\u001b[0;31mTypeError\u001b[0m                                 Traceback (most recent call last)",
            "\u001b[0;32m<ipython-input-9-02c94bf21cd4>\u001b[0m in \u001b[0;36m<module>\u001b[0;34m()\u001b[0m\n\u001b[1;32m      4\u001b[0m \u001b[0;34m\u001b[0m\u001b[0m\n\u001b[1;32m      5\u001b[0m \u001b[0mA\u001b[0m\u001b[0;34m.\u001b[0m\u001b[0msort\u001b[0m\u001b[0;34m(\u001b[0m\u001b[0;34m)\u001b[0m\u001b[0;34m\u001b[0m\u001b[0;34m\u001b[0m\u001b[0m\n\u001b[0;32m----> 6\u001b[0;31m \u001b[0mB\u001b[0m\u001b[0;34m.\u001b[0m\u001b[0msort\u001b[0m\u001b[0;34m(\u001b[0m\u001b[0mreversed\u001b[0m\u001b[0;34m=\u001b[0m\u001b[0;32mTrue\u001b[0m\u001b[0;34m)\u001b[0m\u001b[0;34m\u001b[0m\u001b[0;34m\u001b[0m\u001b[0m\n\u001b[0m\u001b[1;32m      7\u001b[0m \u001b[0;34m\u001b[0m\u001b[0m\n\u001b[1;32m      8\u001b[0m \u001b[0ms\u001b[0m\u001b[0;34m=\u001b[0m\u001b[0;36m0\u001b[0m\u001b[0;34m\u001b[0m\u001b[0;34m\u001b[0m\u001b[0m\n",
            "\u001b[0;31mTypeError\u001b[0m: 'reversed' is an invalid keyword argument for sort()"
          ]
        }
      ]
    },
    {
      "cell_type": "code",
      "source": [
        ""
      ],
      "metadata": {
        "id": "S5mUr9XNiwr0"
      },
      "execution_count": null,
      "outputs": []
    },
    {
      "cell_type": "code",
      "source": [
        ""
      ],
      "metadata": {
        "id": "wzlobBMZiwuU"
      },
      "execution_count": null,
      "outputs": []
    },
    {
      "cell_type": "code",
      "source": [
        ""
      ],
      "metadata": {
        "id": "949PRPPLiww0"
      },
      "execution_count": null,
      "outputs": []
    },
    {
      "cell_type": "code",
      "source": [
        ""
      ],
      "metadata": {
        "id": "a8Ljg_tgiwzc"
      },
      "execution_count": null,
      "outputs": []
    },
    {
      "cell_type": "code",
      "source": [
        ""
      ],
      "metadata": {
        "id": "fj-14tVWiw18"
      },
      "execution_count": null,
      "outputs": []
    },
    {
      "cell_type": "code",
      "source": [
        ""
      ],
      "metadata": {
        "id": "QK38bFZ5iw4c"
      },
      "execution_count": null,
      "outputs": []
    },
    {
      "cell_type": "code",
      "source": [
        ""
      ],
      "metadata": {
        "id": "8nOz-an7iw61"
      },
      "execution_count": null,
      "outputs": []
    },
    {
      "cell_type": "code",
      "source": [
        ""
      ],
      "metadata": {
        "id": "GlzTMAdBiw9T"
      },
      "execution_count": null,
      "outputs": []
    }
  ]
}
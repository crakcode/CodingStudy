{
  "nbformat": 4,
  "nbformat_minor": 0,
  "metadata": {
    "colab": {
      "name": "CodingStudy211022.ipynb",
      "provenance": [],
      "collapsed_sections": [],
      "authorship_tag": "ABX9TyNjTr/qYSxdTBnHhLRRp4BK",
      "include_colab_link": true
    },
    "kernelspec": {
      "name": "python3",
      "display_name": "Python 3"
    },
    "language_info": {
      "name": "python"
    }
  },
  "cells": [
    {
      "cell_type": "markdown",
      "metadata": {
        "id": "view-in-github",
        "colab_type": "text"
      },
      "source": [
        "<a href=\"https://colab.research.google.com/github/crakcode/CodingStudy/blob/main/CodingStudy211022.ipynb\" target=\"_parent\"><img src=\"https://colab.research.google.com/assets/colab-badge.svg\" alt=\"Open In Colab\"/></a>"
      ]
    },
    {
      "cell_type": "markdown",
      "metadata": {
        "id": "GSKOchTKBwGe"
      },
      "source": [
        ""
      ]
    },
    {
      "cell_type": "code",
      "metadata": {
        "id": "JnqbsmA47LIP"
      },
      "source": [
        "\n",
        "n=int(input())\n",
        "\n",
        "\n",
        "def find_palin(string):\n",
        "  n=len(string)-1\n",
        "  mid=len(string)//2\n",
        "  for i in range(mid):\n",
        "    if string[i]!=string[n-i]:\n",
        "      return False\n",
        "  return True \n",
        "\n",
        "result=[]\n",
        "\n",
        "for _ in range(n):\n",
        "  temp=input()\n",
        "  if find_palin(temp):\n",
        "    result.append(0)\n",
        "  else:\n",
        "    for i in range(len(temp)):\n",
        "      temp_str=copy.deepcopy(temp)\n",
        "      temp_str=list(temp_str)\n",
        "      temp_str.pop(i)\n",
        "      if find_palin(temp_str):\n",
        "        result.append(1)\n",
        "        break\n",
        "      if i==len(temp)-1:\n",
        "        result.append(2)\n",
        "        break\n",
        "\n",
        "for i in result:\n",
        "  print(i)\n",
        "    \n",
        "\n",
        "\n",
        "\n",
        "\n",
        "\n",
        "\n"
      ],
      "execution_count": null,
      "outputs": []
    },
    {
      "cell_type": "code",
      "metadata": {
        "colab": {
          "base_uri": "https://localhost:8080/"
        },
        "id": "3vWMoFstNAvi",
        "outputId": "570eff7d-af08-4291-f0fd-50ae06f77c9f"
      },
      "source": [
        "'''\n",
        "투포인터를 사용해서 풀기 \n",
        "\n",
        "1. 맨앞과 맨뒤를 비교하면서 끝까지 비교한다.\n",
        "2. 차근 차근 내부로 들어가는데 내부속에서의 앞과 뒤를 비교한다.\n",
        "3. 다르다면: 앞부분 삭제 후 비교 한것과 뒷부분 삭제후 비교한것을 비교한다.\n",
        "4-1. 만약 삭제하였을때 같다면 1을 넣어준다. \n",
        "4-2. 만약 삭제하였을떄도 다르다면 2을 넣어준다. \n",
        "'''\n",
        "\n",
        "\n",
        "n=int(input())\n",
        "\n",
        "def find_pelindrome(string):\n",
        "  left_false=False\n",
        "  right_false=False\n",
        "\n",
        "  for i in range(len(string)//2):\n",
        "    if string[i]!=string[len(string)-1-i]:\n",
        "      # 그러면 앞부분 삭제 한후와 뒷부분 삭제한후 비교한다.\n",
        "      for j in range(i,len(string)//2):\n",
        "        if string[j+1] !=string[len(string)-j-1]:\n",
        "          left_false=True\n",
        "        \n",
        "      for j in range(i,len(string)//2):\n",
        "        if string[j] !=string[len(string)-j-1-1]:\n",
        "          right_false=True\n",
        "\n",
        "      if left_false and right_false:\n",
        "        return 2\n",
        "      elif left_false or right_false:\n",
        "        return 1\n",
        "\n",
        "  return 0\n",
        "\n",
        "\n",
        "\n",
        "for _ in range(n):\n",
        "  print(find_pelindrome(input()))\n",
        "\n",
        "\n",
        "\n",
        "\n",
        "\n",
        "\n",
        "\n",
        "\n",
        "\n",
        "\n",
        "\n",
        "\n",
        "\n"
      ],
      "execution_count": null,
      "outputs": [
        {
          "output_type": "stream",
          "name": "stdout",
          "text": [
            "3\n",
            "abba\n",
            "0\n",
            "summuus\n",
            "1\n",
            "xabba\n",
            "1\n"
          ]
        }
      ]
    },
    {
      "cell_type": "code",
      "metadata": {
        "colab": {
          "base_uri": "https://localhost:8080/"
        },
        "id": "9mh9Di1RCFO-",
        "outputId": "928c1778-64be-48ab-c994-af56388bbe29"
      },
      "source": [
        "# 투포인터 사용예\n",
        "\n",
        "\n",
        "'''\n",
        "특정합 을 가지는 부분 연속 수열찾기 \n",
        "1. 현재 부분합과 같으면 count한다.\n",
        "2. 현재 부분합이 M보다 작다면 rt를 증가시킨다.\n",
        "3. 현재 부분합이 M보다 크거나 같다면 start를 증가시킨다.  \n",
        "\n",
        "'''\n",
        "lst=[1,2,3,4,5]\n",
        "n=len(lst)\n",
        "M=5\n",
        "end,cnt=0,0\n",
        "interval_sum=0\n",
        "\n",
        "\n",
        "\n",
        "for start in range(n):\n",
        "  while interval_sum<M and end<n:\n",
        "    interval_sum+=lst[end]\n",
        "    end+=1\n",
        "  if interval_sum==M:\n",
        "    cnt+=1\n",
        "  print(interval_sum)\n",
        "  interval_sum-=lst[start]\n",
        "\n",
        "  \n",
        "print(cnt)\n",
        "\n"
      ],
      "execution_count": null,
      "outputs": [
        {
          "output_type": "stream",
          "name": "stdout",
          "text": [
            "6\n",
            "5\n",
            "7\n",
            "9\n",
            "5\n",
            "2\n"
          ]
        }
      ]
    },
    {
      "cell_type": "code",
      "metadata": {
        "colab": {
          "base_uri": "https://localhost:8080/"
        },
        "id": "xnXkwnynHwSh",
        "outputId": "08631b6a-4e58-47b5-e98e-a4ab5bab9de8"
      },
      "source": [
        "# 걍 brute - force? n이 크지 않음 \n",
        "\n",
        "arr=[]\n",
        "n=int(input())\n",
        "\n",
        "for i in range(n):\n",
        "  arr.append((i+1,int(input())))\n",
        "\n",
        "cnt=0\n",
        "visited=[]\n",
        "\n",
        "for  k,v in arr:\n",
        "  # print(k,arr[v-1][1],v,arr[v-1][0])\n",
        "  # print(visited)\n",
        "  if k==arr[v-1][1] and v==arr[v-1][0]:\n",
        "    if k in visited or v in visited:\n",
        "      continue\n",
        "    else:\n",
        "      visited.append(k)\n",
        "      cnt+=1\n",
        "print(cnt)"
      ],
      "execution_count": null,
      "outputs": [
        {
          "output_type": "stream",
          "name": "stdout",
          "text": [
            "3\n",
            "3\n",
            "2\n",
            "1\n",
            "1 1 3 3\n",
            "[]\n",
            "2 2 2 2\n",
            "[1]\n",
            "3 3 1 1\n",
            "[1, 2]\n",
            "2\n"
          ]
        }
      ]
    },
    {
      "cell_type": "code",
      "metadata": {
        "id": "synRU9fL-xnp",
        "colab": {
          "base_uri": "https://localhost:8080/"
        },
        "outputId": "e0d9a912-feb6-4212-8895-d9a9c86b1270"
      },
      "source": [
        "n=int(input())\n",
        "\n",
        "graph=[ [] for i in range(n+1)]\n",
        "matrix=[[0]*(n+1) for _ in range(n+1)]\n",
        "\n",
        "for i in range(1,n+1):\n",
        "  v=int(input())\n",
        "  graph[v].append(i)\n",
        "\n",
        "for i in range(1,n+1):\n",
        "  for j in range(len(graph[i])):\n",
        "    matrix[i][graph[i][j]]=1\n",
        "\n",
        "res=set()\n",
        "\n",
        "for i in range(1,n+1):\n",
        "  for j in range(1,n+1):\n",
        "    if matrix[i][j]==1 and matrix[i][j]==matrix[j][i]:\n",
        "      res.add(i)\n",
        "      res.add(j)\n",
        "    elif i==j and matrix[i][j]==1:\n",
        "      res.add(i)\n",
        "\n",
        "res=list(res)\n",
        "res.sort()\n",
        "\n",
        "for i in res:\n",
        "  print(i)\n",
        "\n",
        "\n",
        "\n"
      ],
      "execution_count": null,
      "outputs": [
        {
          "output_type": "stream",
          "name": "stdout",
          "text": [
            "7\n",
            "3\n",
            "1\n",
            "1\n",
            "5\n",
            "5\n",
            "4\n",
            "6\n",
            "1\n",
            "3\n",
            "5\n"
          ]
        }
      ]
    },
    {
      "cell_type": "code",
      "metadata": {
        "id": "LDqhkBYNTwXS"
      },
      "source": [
        "n=int(input())\n",
        "\n",
        "graph=[ [] for i in range(n+1)]\n",
        "\n",
        "checked=[0]*(n+1)\n",
        "\n",
        "for i in range(1,n+1):\n",
        "  v=int(input())\n",
        "  graph[v].append(i)\n",
        "\n",
        "\n",
        "def dfs(u,visited):\n",
        "  visited.add(u)\n",
        "  checked[u]=1\n",
        "\n",
        "  for v in graph[u]:\n",
        "    if v not in visited:\n",
        "      dfs(v,visited.copy())\n",
        "    else:\n",
        "      result.extend(list(visited))\n",
        "      return \n",
        "      \n",
        "for i in range(1,n+1):\n",
        "  if not checked[i]:\n",
        "    dfs(i,set([]))\n",
        "                                                                     \n",
        "\n"
      ],
      "execution_count": null,
      "outputs": []
    },
    {
      "cell_type": "code",
      "metadata": {
        "id": "VKF-rZimwb2N"
      },
      "source": [
        "n,m=map(int,input().split())\n",
        "\n",
        "\n",
        "dp[i][j]\n",
        "\n",
        "\n",
        "\n"
      ],
      "execution_count": null,
      "outputs": []
    },
    {
      "cell_type": "markdown",
      "metadata": {
        "id": "e8Lx87Zs7lT-"
      },
      "source": [
        "## 문자열 폭발"
      ]
    },
    {
      "cell_type": "code",
      "metadata": {
        "colab": {
          "base_uri": "https://localhost:8080/"
        },
        "id": "LN46QSyH7nvE",
        "outputId": "7d9bdf49-5d9f-46a5-ae57-a58ae6faa58c"
      },
      "source": [
        "string=input()\n",
        "target=input()\n",
        "\n",
        "\n",
        "while True:\n",
        "  idx=string.find(target)\n",
        "  if idx==-1:\n",
        "    break \n",
        "  string = string[:idx] + string[idx+len(target):]\n",
        "\n",
        "if len(string)==0:\n",
        "  print(\"FRULA\")\n",
        "else:\n",
        "  print(string)\n"
      ],
      "execution_count": null,
      "outputs": [
        {
          "output_type": "stream",
          "name": "stdout",
          "text": [
            "mirkovC4nizCC44\n",
            "C4\n",
            "mirkovniz\n"
          ]
        }
      ]
    },
    {
      "cell_type": "code",
      "metadata": {
        "colab": {
          "base_uri": "https://localhost:8080/"
        },
        "id": "heGc8YfX-DEr",
        "outputId": "d6d4bea1-3048-4ff0-ee54-62e3b9855b6b"
      },
      "source": [
        "from collections import deque\n",
        "\n",
        "string=input()\n",
        "dq1=deque(string)\n",
        "\n",
        "target=input()\n",
        "dq2=deque(string)\n",
        "\n",
        "print(dq1)\n",
        "print(dq2)\n",
        "\n",
        "while dq1:\n",
        "  q1=dq1.popleft()\n",
        "  q2=dq2.popleft()\n",
        "  if q1==q2:\n",
        "    flag=True \n",
        "    for _ in range(len(target)):\n",
        "      d1=dq1.popleft()\n",
        "      d2=dq2.popleft()\n",
        "      if d1!=d2:\n",
        "        flag=False\n",
        "    if flag==True:\n",
        "      \n",
        "\n",
        "\n",
        "    \n",
        "        \n",
        "      \n",
        "\n",
        "  \n"
      ],
      "execution_count": null,
      "outputs": [
        {
          "output_type": "stream",
          "name": "stdout",
          "text": [
            "qwd\n",
            "dw\n",
            "deque(['q', 'w', 'd'])\n"
          ]
        }
      ]
    },
    {
      "cell_type": "markdown",
      "metadata": {
        "id": "Lq8ocgbyDA58"
      },
      "source": [
        "## 회문"
      ]
    },
    {
      "cell_type": "code",
      "metadata": {
        "colab": {
          "base_uri": "https://localhost:8080/"
        },
        "id": "8gcpqKtVDCGS",
        "outputId": "abc95098-5c8b-4f9d-9529-3f66c218a008"
      },
      "source": [
        "\n",
        "'''\n",
        "1. 맨 앞뒤를 차근차근 비교한다.\n",
        "2. 맨 앞뒤가 다른 부분이 존재하는 경우 \n",
        "2-1. 앞을 제거하거나 뒤를 제거하여 회문인지 확인\n",
        "3. 만약 앞 또는 뒤를 제거하였을때 같다면 2를 insert \n",
        "\n",
        "'''\n",
        "\n",
        "n=int(input())\n",
        "res=[]\n",
        "for _ in range(n):\n",
        "  temp=list(input())\n",
        "  res.append(find_palindrome(temp))\n",
        "\n",
        "\n",
        "def find_palindrome(lst):\n",
        "  mid=len(lst)//2\n",
        "  lf=False\n",
        "  rf=False\n",
        "  for i in range(mid):\n",
        "    if lst[i]!=lst[len(lst)-i-1]:\n",
        "      # 맨앞, 맨뒤가 다른것이니 그앞 또는 그뒤를 제거한다. \n",
        "      # 인덱스를 변경한다. \n",
        "    \n",
        "      for j in range(i,mid):\n",
        "        if lst[j+1]!=lst[len(lst)-1-j]:\n",
        "          lf=True\n",
        "      \n",
        "      for j in range(i,mid):\n",
        "        if lst[j]!=lst[len(lst)-j-1-1]:\n",
        "          rf=True\n",
        "\n",
        "      if lf and rf:\n",
        "        return 2\n",
        "      elif lf or rf:\n",
        "        return 1\n",
        "  return 0\n",
        "\n",
        "for i in res:\n",
        "  print(i)\n",
        "\n",
        "\n",
        "\n",
        "\n",
        "        \n",
        "      \n",
        "\n",
        "\n",
        "\n"
      ],
      "execution_count": null,
      "outputs": [
        {
          "output_type": "stream",
          "name": "stdout",
          "text": [
            "2\n",
            "asd\n",
            "aba\n",
            "2\n",
            "0\n"
          ]
        }
      ]
    },
    {
      "cell_type": "markdown",
      "metadata": {
        "id": "psqdutvYJ5_l"
      },
      "source": [
        "## **인구이동 \n",
        "\n",
        "\n",
        "- 다시 설명하기 \n",
        "\n",
        "\n"
      ]
    },
    {
      "cell_type": "code",
      "metadata": {
        "colab": {
          "base_uri": "https://localhost:8080/"
        },
        "id": "uPgfMrqTN3Zy",
        "outputId": "4f4ad047-e6bc-4a42-aab5-173d741ad8d0"
      },
      "source": [
        "from collections import deque \n",
        "n,l,r=map(int,input().split())\n",
        "matrix=[]\n",
        "\n",
        "\n",
        "for _ in range(n):\n",
        "  matrix.append(list(map(int,input().split())))\n",
        "\n",
        "dx=[1,-1,0,0]\n",
        "dy=[0,0,1,-1]\n",
        "\n",
        "\n",
        "flag=False\n",
        "\n",
        "def bfs(x,y):\n",
        "  global flag\n",
        "  dq=deque()\n",
        "  dq.append((x,y))\n",
        "  visited=[[0]*(n) for i in range(n)]\n",
        "  visited[x][y]=1\n",
        "  while dq:\n",
        "    x,y=dq.popleft()\n",
        "    for i in range(4):\n",
        "      nx=x+dx[i]\n",
        "      ny=y+dy[i]\n",
        "      if 0<=nx<n and 0<=ny<n:\n",
        "        if l<=abs(matrix[nx][ny]-matrix[x][y])<=r and visited[nx][ny]==0:\n",
        "          visited[nx][ny]=1\n",
        "          dq.append((nx,ny))\n",
        "  temp=0\n",
        "  cnt=0\n",
        "  for i in range(n):\n",
        "    for j in range(n):\n",
        "      if visited[i][j]==1:\n",
        "        temp+=matrix[i][j]\n",
        "        cnt+=1\n",
        "  if cnt==1:\n",
        "    flag=True \n",
        "    return \n",
        "  temp=int(temp/cnt)\n",
        "  for i in range(n):\n",
        "    for j in range(n):\n",
        "      if visited[i][j]==1:\n",
        "        matrix[i][j]=temp\n",
        "\n",
        "res=0\n",
        "\n",
        "while True:\n",
        "  if flag==True:\n",
        "    break\n",
        "  bfs(0,0)\n",
        "  res+=1\n",
        "print(res-1)\n",
        "  \n",
        "\n",
        "    \n",
        "\n"
      ],
      "execution_count": null,
      "outputs": [
        {
          "output_type": "stream",
          "name": "stdout",
          "text": [
            "2 40 50\n",
            "50 30\n",
            "20 40\n",
            "[[1, 0], [0, 0]]\n",
            "1\n"
          ]
        }
      ]
    },
    {
      "cell_type": "code",
      "metadata": {
        "id": "KDv_1wdOV4nF"
      },
      "source": [
        "from collections import deque\n",
        "\n",
        "# 땅의 크기(N), L, R 값을 입력받기\n",
        "n, l, r = map(int, input().split())\n",
        "\n",
        "# 전체 나라의 정보(N x N)를 입력 받기\n",
        "graph = []\n",
        "for _ in range(n):\n",
        "    graph.append(list(map(int, input().split())))\n",
        "\n",
        "dx = [-1, 0, 1, 0]\n",
        "dy = [0, -1, 0, 1]\n",
        "\n",
        "# 특정 위치에서 출발하여 모든 연합을 체크한 뒤에 데이터 갱신\n",
        "def process(x, y, index):\n",
        "    # (x, y)의 위치와 연결된 나라(연합) 정보를 담는 리스트\n",
        "    united = []\n",
        "    united.append((x, y))\n",
        "    # 너비 우선 탐색 (BFS)을 위한 큐 라이브러리 사용\n",
        "    q = deque()\n",
        "    q.append((x, y))\n",
        "    union[x][y] = index # 현재 연합의 번호 할당\n",
        "    summary = graph[x][y] # 현재 연합의 전체 인구 수\n",
        "    count = 1 # 현재 연합의 국가 수\n",
        "    # 큐가 빌 때까지 반복(BFS)\n",
        "    while q:\n",
        "        x, y = q.popleft()\n",
        "        # 현재 위치에서 4가지 방향을 확인하며\n",
        "        for i in range(4):\n",
        "            nx = x + dx[i]\n",
        "            ny = y + dy[i]\n",
        "            # 바로 옆에 있는 나라를 확인하여\n",
        "            if 0 <= nx < n and 0 <= ny < n and union[nx][ny] == -1:\n",
        "                # 옆에 있는 나라와 인구 차이가 L명 이상, R명 이하라면\n",
        "                if l <= abs(graph[nx][ny] - graph[x][y]) <= r:\n",
        "                    q.append((nx, ny))\n",
        "                    # 연합에 추가하기\n",
        "                    union[nx][ny] = index\n",
        "                    summary += graph[nx][ny]\n",
        "                    count += 1\n",
        "                    united.append((nx, ny))\n",
        "    # 연합 국가끼리 인구를 분배\n",
        "    for i, j in united:\n",
        "        graph[i][j] = summary // count\n",
        "\n",
        "total_count = 0\n",
        "\n",
        "# 더 이상 인구 이동을 할 수 없을 때까지 반복\n",
        "while True:\n",
        "    union = [[-1] * n for _ in range(n)]\n",
        "    index = 0\n",
        "    for i in range(n):\n",
        "        for j in range(n):\n",
        "            if union[i][j] == -1: # 해당 나라가 아직 처리되지 않았다면\n",
        "                process(i, j, index)\n",
        "                index += 1\n",
        "    # 모든 인구 이동이 끝난 경우\n",
        "    if index == n * n:\n",
        "        break\n",
        "    total_count += 1\n",
        "\n",
        "# 인구 이동 횟수 출력\n",
        "print(total_count)"
      ],
      "execution_count": null,
      "outputs": []
    },
    {
      "cell_type": "code",
      "metadata": {
        "id": "-HxBjbekgEl-"
      },
      "source": [
        "from collections import deque\n",
        "\n",
        "# 땅의 크기(N), L, R 값을 입력받기\n",
        "n, l, r = map(int, input().split())\n",
        "\n",
        "# 전체 나라의 정보(N x N)를 입력 받기\n",
        "graph = []\n",
        "for _ in range(n):\n",
        "    graph.append(list(map(int, input().split())))\n",
        "\n",
        "dx = [-1, 0, 1, 0]\n",
        "dy = [0, -1, 0, 1]\n",
        "\n",
        "'''\n",
        "bfs로 연합끼리 묶어준다. \n",
        "\n",
        "union은 방문처리 담당 \n",
        "united는 연합시켜서 처리 \n",
        "\n",
        "while 문을 통해서 dfs 처리를 해준다. \n",
        "index값이 \n",
        "\n",
        "'''\n",
        "def process(x,y,index)\n",
        "    united = []\n",
        "    united.append((x, y))\n",
        "    \n",
        "    q = deque()\n",
        "    q.append((x, y))\n",
        "\n",
        "    union[x][y] = index # 현재 연합의 번호 할당\n",
        "    summary = graph[x][y] # 현재 연합의 전체 인구 수\n",
        "    count = 1 # 현재 연합의 국가 수\n",
        "    \n",
        "    while q:\n",
        "        x, y = q.popleft()\n",
        "        for i in range(4):\n",
        "            nx = x + dx[i]\n",
        "            ny = y + dy[i]\n",
        "            if 0 <= nx < n and 0 <= ny < n and union[nx][ny] == -1:\n",
        "                if l <= abs(graph[nx][ny] - graph[x][y]) <= r:\n",
        "                    q.append((nx, ny))\n",
        "                    union[nx][ny] = index\n",
        "                    summary += graph[nx][ny]\n",
        "                    count += 1\n",
        "                    united.append((nx, ny))\n",
        "\n",
        "    for i, j in united:\n",
        "        graph[i][j] = summary // count\n",
        "\n",
        "\n",
        "while True:\n",
        "  union=[[-1]*(n) for _ in range(n)]\n",
        "  index=0\n",
        "  for i in range(n):\n",
        "    for j in range(n):\n",
        "      if union[i][j]==-1:\n",
        "        process(i,j,index)\n",
        "        index+=1\n",
        "  if index==n*n:\n",
        "    break\n",
        "  total_count+=1\n"
      ],
      "execution_count": null,
      "outputs": []
    },
    {
      "cell_type": "code",
      "metadata": {
        "colab": {
          "base_uri": "https://localhost:8080/"
        },
        "id": "eLgIh2jsiWk8",
        "outputId": "9627791f-43e8-4e92-b53d-d36faca29eeb"
      },
      "source": [
        "from collections import deque\n",
        "\n",
        "# 땅의 크기(N), L, R 값을 입력받기\n",
        "n, l, r = map(int, input().split())\n",
        "\n",
        "# 전체 나라의 정보(N x N)를 입력 받기\n",
        "matrix = []\n",
        "for _ in range(n):\n",
        "    matrix.append(list(map(int, input().split())))\n",
        "\n",
        "dx = [-1, 0, 1, 0]\n",
        "dy = [0, -1, 0, 1]\n",
        "\n",
        "'''\n",
        "bfs로 연합끼리 묶어준다. \n",
        "\n",
        "union은 방문처리 담당 \n",
        "united는 연합시켜서 처리 \n",
        "\n",
        "while 문을 통해서 dfs 처리를 해준다. \n",
        "index값이 \n",
        "'''\n",
        "\n",
        "def bfs(x,y,index):\n",
        "  united=[]\n",
        "  united.append((x,y))\n",
        "\n",
        "  union[x][y]=index\n",
        "  summary=matrix[x][y]\n",
        "  dq=deque()\n",
        "  dq.append((x,y))\n",
        "  count=1\n",
        "\n",
        "  while dq:\n",
        "    x,y=dq.popleft()\n",
        "    for i in range(4):\n",
        "      nx=x+dx[i]\n",
        "      ny=y+dy[i]\n",
        "      if 0<=nx<n and 0<=ny<n:\n",
        "        if l<=abs(matrix[nx][ny]-matrix[x][y])<=r and union[nx][ny]==-1:\n",
        "          dq.append((nx,ny))\n",
        "          union[nx][ny] = index\n",
        "          summary += matrix[nx][ny]\n",
        "          united.append((nx,ny))\n",
        "          count += 1\n",
        "\n",
        "  for k,v in united:\n",
        "    matrix[k][v]=summary//count\n",
        "\n",
        "\n",
        "total_count=0\n",
        "while True:\n",
        "  union=[[-1]*(n) for _ in range(n)]\n",
        "  index=0\n",
        "  for i in range(n):\n",
        "    for j in range(n):\n",
        "      if union[i][j]==-1:\n",
        "        bfs(i,j,index)\n",
        "        index+=1\n",
        "  if index==n*n:\n",
        "    break\n",
        "  total_count+=1\n",
        "\n",
        "print(total_count)"
      ],
      "execution_count": null,
      "outputs": [
        {
          "output_type": "stream",
          "name": "stdout",
          "text": [
            "2 20 50\n",
            "50 30\n",
            "20 40\n",
            "1\n"
          ]
        }
      ]
    },
    {
      "cell_type": "markdown",
      "metadata": {
        "id": "iiCbY0hrmcIh"
      },
      "source": [
        "## 상어초등학교 \n"
      ]
    },
    {
      "cell_type": "code",
      "metadata": {
        "colab": {
          "base_uri": "https://localhost:8080/"
        },
        "id": "winBU28UmdRI",
        "outputId": "1fddf666-3bb9-443b-dd6b-b091b9af0ac5"
      },
      "source": [
        "from collections import deque\n",
        "n=int(input())\n",
        "\n",
        "graph=[[] for i in range(n*n)]\n",
        "\n",
        "matrix=[[0]*(n) for i in range(n)]\n",
        "seq=[]\n",
        "\n",
        "dx=[1,-1,0,0]\n",
        "dy=[0,0,1,-1]\n",
        "\n",
        "\n",
        "for _ in range(pow(n,2)):\n",
        "  v,a,b,c,d=map(int,input().split())\n",
        "  seq.append(v)\n",
        "  graph[v].append(a)\n",
        "  graph[v].append(b)\n",
        "  graph[v].append(c)\n",
        "  graph[v].append(d)\n",
        "\n",
        "\n",
        "for i,k in enumerate(seq):\n",
        "  dq=deque()\n",
        "  # 전체 페이지 돌리기 \n",
        "  if i==0:\n",
        "    matrix[n//2][n//2]=k\n",
        "    dq.append((n//2,n//2,k))\n",
        "  else:\n",
        "   x,y,prev=dq.popleft()\n",
        "   if prev in graph[k]:\n",
        "     temp=[]\n",
        "     for i in range(4):\n",
        "       nx=x+dx[i]\n",
        "       ny=y+dy[i]\n",
        "       if 0<=nx<n and 0<=ny<n and matrix[nx][ny]==0:\n",
        "         matrix[nx][ny]\n",
        "print(matrix)"
      ],
      "execution_count": null,
      "outputs": [
        {
          "output_type": "stream",
          "name": "stdout",
          "text": [
            "3\n",
            "9\n"
          ]
        }
      ]
    },
    {
      "cell_type": "code",
      "metadata": {
        "colab": {
          "base_uri": "https://localhost:8080/"
        },
        "id": "WDfE3UKjs9NX",
        "outputId": "f796ccfa-4103-4be3-dc5d-4c577b1bd604"
      },
      "source": [
        "\n",
        "\n",
        "seq=[2,4,6]\n",
        "\n",
        "for i,k in enumerate(seq):\n",
        "  print(i,k)\n"
      ],
      "execution_count": null,
      "outputs": [
        {
          "output_type": "stream",
          "name": "stdout",
          "text": [
            "0 2\n",
            "1 4\n",
            "2 6\n"
          ]
        }
      ]
    },
    {
      "cell_type": "markdown",
      "metadata": {
        "id": "f37ate75W2Ni"
      },
      "source": [
        "## 치즈 \n",
        "\n",
        "\n",
        "\n",
        "- 치즈가 1로 주어지는데 가장 자리 치즈들이 먼저 녹기 시작하고 몇 시간만에 모두 녹게 되는지 \n",
        "- 모두 녹기 한시간전에 몇개의 치즈가 남았는지 출력하는 문제이다.\n",
        "가장자리 치즈인지 판단하는게 가장 키포인트인 문제였다.\n",
        "\n",
        "- 행렬이 주어졌을때 가장 바깥쪽은 치즈가 놓일수 없으므로 항상 (0,0)부터 시작해 상하좌우로 확인을 하는데 \n",
        "- 처음 1이 나오는 곳들이 가장자리이다.\n",
        "\n",
        "- 그래서 1을 발견하면 0으로 만들어 녹게해주고 queue에 넣지않는다.(한번 실행할때 가장자리 치즈만 없애주므로 계속 queue에 넣어줄 필요가 없다.)\n",
        "- 치즈가 모두 녹을때까지 무한루프를 돌아 얼마큼에 시간이 걸렸는지랑 모두 녹기 한시간전에 값을 출력해주면된다.\n",
        "\n"
      ]
    },
    {
      "cell_type": "code",
      "metadata": {
        "id": "DDcCzQlaW38x"
      },
      "source": [
        "from collections import deque\n",
        "\n",
        "n, m = map(int, input().split())\n",
        "matrix = [list(map(int, input().split())) for _ in range(n)]\n",
        "\n",
        "def bfs():\n",
        "    dq = deque()\n",
        "    dq.append((0,0))\n",
        "    check = [[False] * m for _ in range(n)]\n",
        "    dx, dy = [-1, 1, 0, 0], [0, 0, -1, 1]\n",
        "    count = 0\n",
        "    while dq:\n",
        "        x, y = dq.popleft()\n",
        "        for i in range(4):\n",
        "            nx = x + dx[i]\n",
        "            ny = y + dy[i]\n",
        "            if 0 <= nx < n and 0 <= ny < m:\n",
        "                if matrix[nx][ny] == 0 and check[nx][ny] == False:\n",
        "                    check[nx][ny] = True\n",
        "                    dq.append((nx,ny))\n",
        "\n",
        "                elif matrix[nx][ny] == 1:\n",
        "                    matrix[nx][ny] = 0\n",
        "                    count += 1\n",
        "                    check[nx][ny] = True\n",
        "    return count\n",
        "\n",
        "result = []\n",
        "time = 0\n",
        "while True:\n",
        "    count = bfs()\n",
        "    result.append(count)\n",
        "    # count가 0이면 모든 치즈가 녹았다는 소리이다.\n",
        "    if count == 0:\n",
        "        break\n",
        "    time += 1\n",
        "\n",
        "print(time)\n",
        "print(result[-2])\n"
      ],
      "execution_count": null,
      "outputs": []
    },
    {
      "cell_type": "code",
      "metadata": {
        "colab": {
          "base_uri": "https://localhost:8080/",
          "height": 574
        },
        "id": "liksMg10fd-j",
        "outputId": "235b0a4c-309e-47ab-e167-d0090c048fa6"
      },
      "source": [
        "'''\n",
        "\n",
        "1. visited를 이용하여 방문처리를 한다.\n",
        "2. matrix를 이용하여 값들을 받는다.\n",
        "\n",
        "핵심은 치즈의 가장자리인 경우를 구분해내는것이다.\n",
        "1. 가장자리의 경우 True처리를 하고 queue에 저장하지 않는다. \n",
        "2. 0인경우에는 queue에 넣어주고 방문처리하고 \n",
        "'''\n",
        "\n",
        "\n",
        "from collections import deque\n",
        "\n",
        "\n",
        "n, m = map(int, input().split())\n",
        "matrix = [list(map(int, input().split())) for _ in range(n)]\n",
        "\n",
        "\n",
        "\n",
        "time=0\n",
        "\n",
        "def bfs(x,y):\n",
        "  visited=[[False]*(m) for i in range(n)]\n",
        "  dx,dy = [-1, 1, 0, 0], [0, 0, -1, 1]\n",
        "  dq=deque()\n",
        "  dq.append((x,y))\n",
        "  cnt=0\n",
        "  while dq:\n",
        "    x,y=dq.popleft()\n",
        "    for i in range(4):\n",
        "      nx=x+dx[i]\n",
        "      ny=y+dy[i]\n",
        "      if 0<=nx<n and 0<=ny<m:\n",
        "        if matrix[nx][ny]==0 and not visited[nx][ny]:\n",
        "          visited[nx][ny]=True\n",
        "          dq.append((nx,ny))\n",
        "\n",
        "        elif matrix[nx][ny]==1:\n",
        "          matrix[nx][ny]=0\n",
        "          visited[nx][ny]=True\n",
        "          cnt+=1\n",
        "  return cnt\n",
        "\n",
        "result=[]\n",
        "while True:\n",
        "  count=bfs(0,0)\n",
        "  result.append(count)\n",
        "  if count==0:\n",
        "    break \n",
        "  time+=1\n",
        "  \n",
        "print(time)\n",
        "print(result[-2])\n",
        "\n",
        "\n",
        "\n",
        "\n",
        "\n",
        "\n",
        "\n",
        "\n"
      ],
      "execution_count": 1,
      "outputs": [
        {
          "name": "stdout",
          "output_type": "stream",
          "text": [
            "12 13\n"
          ]
        },
        {
          "output_type": "error",
          "ename": "KeyboardInterrupt",
          "evalue": "ignored",
          "traceback": [
            "\u001b[0;31m---------------------------------------------------------------------------\u001b[0m",
            "\u001b[0;31mKeyboardInterrupt\u001b[0m                         Traceback (most recent call last)",
            "\u001b[0;32m/usr/local/lib/python3.7/dist-packages/ipykernel/kernelbase.py\u001b[0m in \u001b[0;36m_input_request\u001b[0;34m(self, prompt, ident, parent, password)\u001b[0m\n\u001b[1;32m    728\u001b[0m             \u001b[0;32mtry\u001b[0m\u001b[0;34m:\u001b[0m\u001b[0;34m\u001b[0m\u001b[0;34m\u001b[0m\u001b[0m\n\u001b[0;32m--> 729\u001b[0;31m                 \u001b[0mident\u001b[0m\u001b[0;34m,\u001b[0m \u001b[0mreply\u001b[0m \u001b[0;34m=\u001b[0m \u001b[0mself\u001b[0m\u001b[0;34m.\u001b[0m\u001b[0msession\u001b[0m\u001b[0;34m.\u001b[0m\u001b[0mrecv\u001b[0m\u001b[0;34m(\u001b[0m\u001b[0mself\u001b[0m\u001b[0;34m.\u001b[0m\u001b[0mstdin_socket\u001b[0m\u001b[0;34m,\u001b[0m \u001b[0;36m0\u001b[0m\u001b[0;34m)\u001b[0m\u001b[0;34m\u001b[0m\u001b[0;34m\u001b[0m\u001b[0m\n\u001b[0m\u001b[1;32m    730\u001b[0m             \u001b[0;32mexcept\u001b[0m \u001b[0mException\u001b[0m\u001b[0;34m:\u001b[0m\u001b[0;34m\u001b[0m\u001b[0;34m\u001b[0m\u001b[0m\n",
            "\u001b[0;32m/usr/local/lib/python3.7/dist-packages/jupyter_client/session.py\u001b[0m in \u001b[0;36mrecv\u001b[0;34m(self, socket, mode, content, copy)\u001b[0m\n\u001b[1;32m    802\u001b[0m         \u001b[0;32mtry\u001b[0m\u001b[0;34m:\u001b[0m\u001b[0;34m\u001b[0m\u001b[0;34m\u001b[0m\u001b[0m\n\u001b[0;32m--> 803\u001b[0;31m             \u001b[0mmsg_list\u001b[0m \u001b[0;34m=\u001b[0m \u001b[0msocket\u001b[0m\u001b[0;34m.\u001b[0m\u001b[0mrecv_multipart\u001b[0m\u001b[0;34m(\u001b[0m\u001b[0mmode\u001b[0m\u001b[0;34m,\u001b[0m \u001b[0mcopy\u001b[0m\u001b[0;34m=\u001b[0m\u001b[0mcopy\u001b[0m\u001b[0;34m)\u001b[0m\u001b[0;34m\u001b[0m\u001b[0;34m\u001b[0m\u001b[0m\n\u001b[0m\u001b[1;32m    804\u001b[0m         \u001b[0;32mexcept\u001b[0m \u001b[0mzmq\u001b[0m\u001b[0;34m.\u001b[0m\u001b[0mZMQError\u001b[0m \u001b[0;32mas\u001b[0m \u001b[0me\u001b[0m\u001b[0;34m:\u001b[0m\u001b[0;34m\u001b[0m\u001b[0;34m\u001b[0m\u001b[0m\n",
            "\u001b[0;32m/usr/local/lib/python3.7/dist-packages/zmq/sugar/socket.py\u001b[0m in \u001b[0;36mrecv_multipart\u001b[0;34m(self, flags, copy, track)\u001b[0m\n\u001b[1;32m    624\u001b[0m         \"\"\"\n\u001b[0;32m--> 625\u001b[0;31m         \u001b[0mparts\u001b[0m \u001b[0;34m=\u001b[0m \u001b[0;34m[\u001b[0m\u001b[0mself\u001b[0m\u001b[0;34m.\u001b[0m\u001b[0mrecv\u001b[0m\u001b[0;34m(\u001b[0m\u001b[0mflags\u001b[0m\u001b[0;34m,\u001b[0m \u001b[0mcopy\u001b[0m\u001b[0;34m=\u001b[0m\u001b[0mcopy\u001b[0m\u001b[0;34m,\u001b[0m \u001b[0mtrack\u001b[0m\u001b[0;34m=\u001b[0m\u001b[0mtrack\u001b[0m\u001b[0;34m)\u001b[0m\u001b[0;34m]\u001b[0m\u001b[0;34m\u001b[0m\u001b[0;34m\u001b[0m\u001b[0m\n\u001b[0m\u001b[1;32m    626\u001b[0m         \u001b[0;31m# have first part already, only loop while more to receive\u001b[0m\u001b[0;34m\u001b[0m\u001b[0;34m\u001b[0m\u001b[0;34m\u001b[0m\u001b[0m\n",
            "\u001b[0;32mzmq/backend/cython/socket.pyx\u001b[0m in \u001b[0;36mzmq.backend.cython.socket.Socket.recv\u001b[0;34m()\u001b[0m\n",
            "\u001b[0;32mzmq/backend/cython/socket.pyx\u001b[0m in \u001b[0;36mzmq.backend.cython.socket.Socket.recv\u001b[0;34m()\u001b[0m\n",
            "\u001b[0;32mzmq/backend/cython/socket.pyx\u001b[0m in \u001b[0;36mzmq.backend.cython.socket._recv_copy\u001b[0;34m()\u001b[0m\n",
            "\u001b[0;32m/usr/local/lib/python3.7/dist-packages/zmq/backend/cython/checkrc.pxd\u001b[0m in \u001b[0;36mzmq.backend.cython.checkrc._check_rc\u001b[0;34m()\u001b[0m\n",
            "\u001b[0;31mKeyboardInterrupt\u001b[0m: ",
            "\nDuring handling of the above exception, another exception occurred:\n",
            "\u001b[0;31mKeyboardInterrupt\u001b[0m                         Traceback (most recent call last)",
            "\u001b[0;32m<ipython-input-1-75cdf342a0d0>\u001b[0m in \u001b[0;36m<module>\u001b[0;34m()\u001b[0m\n\u001b[1;32m     14\u001b[0m \u001b[0;34m\u001b[0m\u001b[0m\n\u001b[1;32m     15\u001b[0m \u001b[0mn\u001b[0m\u001b[0;34m,\u001b[0m \u001b[0mm\u001b[0m \u001b[0;34m=\u001b[0m \u001b[0mmap\u001b[0m\u001b[0;34m(\u001b[0m\u001b[0mint\u001b[0m\u001b[0;34m,\u001b[0m \u001b[0minput\u001b[0m\u001b[0;34m(\u001b[0m\u001b[0;34m)\u001b[0m\u001b[0;34m.\u001b[0m\u001b[0msplit\u001b[0m\u001b[0;34m(\u001b[0m\u001b[0;34m)\u001b[0m\u001b[0;34m)\u001b[0m\u001b[0;34m\u001b[0m\u001b[0;34m\u001b[0m\u001b[0m\n\u001b[0;32m---> 16\u001b[0;31m \u001b[0mmatrix\u001b[0m \u001b[0;34m=\u001b[0m \u001b[0;34m[\u001b[0m\u001b[0mlist\u001b[0m\u001b[0;34m(\u001b[0m\u001b[0mmap\u001b[0m\u001b[0;34m(\u001b[0m\u001b[0mint\u001b[0m\u001b[0;34m,\u001b[0m \u001b[0minput\u001b[0m\u001b[0;34m(\u001b[0m\u001b[0;34m)\u001b[0m\u001b[0;34m.\u001b[0m\u001b[0msplit\u001b[0m\u001b[0;34m(\u001b[0m\u001b[0;34m)\u001b[0m\u001b[0;34m)\u001b[0m\u001b[0;34m)\u001b[0m \u001b[0;32mfor\u001b[0m \u001b[0m_\u001b[0m \u001b[0;32min\u001b[0m \u001b[0mrange\u001b[0m\u001b[0;34m(\u001b[0m\u001b[0mn\u001b[0m\u001b[0;34m)\u001b[0m\u001b[0;34m]\u001b[0m\u001b[0;34m\u001b[0m\u001b[0;34m\u001b[0m\u001b[0m\n\u001b[0m\u001b[1;32m     17\u001b[0m \u001b[0;34m\u001b[0m\u001b[0m\n\u001b[1;32m     18\u001b[0m \u001b[0;34m\u001b[0m\u001b[0m\n",
            "\u001b[0;32m<ipython-input-1-75cdf342a0d0>\u001b[0m in \u001b[0;36m<listcomp>\u001b[0;34m(.0)\u001b[0m\n\u001b[1;32m     14\u001b[0m \u001b[0;34m\u001b[0m\u001b[0m\n\u001b[1;32m     15\u001b[0m \u001b[0mn\u001b[0m\u001b[0;34m,\u001b[0m \u001b[0mm\u001b[0m \u001b[0;34m=\u001b[0m \u001b[0mmap\u001b[0m\u001b[0;34m(\u001b[0m\u001b[0mint\u001b[0m\u001b[0;34m,\u001b[0m \u001b[0minput\u001b[0m\u001b[0;34m(\u001b[0m\u001b[0;34m)\u001b[0m\u001b[0;34m.\u001b[0m\u001b[0msplit\u001b[0m\u001b[0;34m(\u001b[0m\u001b[0;34m)\u001b[0m\u001b[0;34m)\u001b[0m\u001b[0;34m\u001b[0m\u001b[0;34m\u001b[0m\u001b[0m\n\u001b[0;32m---> 16\u001b[0;31m \u001b[0mmatrix\u001b[0m \u001b[0;34m=\u001b[0m \u001b[0;34m[\u001b[0m\u001b[0mlist\u001b[0m\u001b[0;34m(\u001b[0m\u001b[0mmap\u001b[0m\u001b[0;34m(\u001b[0m\u001b[0mint\u001b[0m\u001b[0;34m,\u001b[0m \u001b[0minput\u001b[0m\u001b[0;34m(\u001b[0m\u001b[0;34m)\u001b[0m\u001b[0;34m.\u001b[0m\u001b[0msplit\u001b[0m\u001b[0;34m(\u001b[0m\u001b[0;34m)\u001b[0m\u001b[0;34m)\u001b[0m\u001b[0;34m)\u001b[0m \u001b[0;32mfor\u001b[0m \u001b[0m_\u001b[0m \u001b[0;32min\u001b[0m \u001b[0mrange\u001b[0m\u001b[0;34m(\u001b[0m\u001b[0mn\u001b[0m\u001b[0;34m)\u001b[0m\u001b[0;34m]\u001b[0m\u001b[0;34m\u001b[0m\u001b[0;34m\u001b[0m\u001b[0m\n\u001b[0m\u001b[1;32m     17\u001b[0m \u001b[0;34m\u001b[0m\u001b[0m\n\u001b[1;32m     18\u001b[0m \u001b[0;34m\u001b[0m\u001b[0m\n",
            "\u001b[0;32m/usr/local/lib/python3.7/dist-packages/ipykernel/kernelbase.py\u001b[0m in \u001b[0;36mraw_input\u001b[0;34m(self, prompt)\u001b[0m\n\u001b[1;32m    702\u001b[0m             \u001b[0mself\u001b[0m\u001b[0;34m.\u001b[0m\u001b[0m_parent_ident\u001b[0m\u001b[0;34m,\u001b[0m\u001b[0;34m\u001b[0m\u001b[0;34m\u001b[0m\u001b[0m\n\u001b[1;32m    703\u001b[0m             \u001b[0mself\u001b[0m\u001b[0;34m.\u001b[0m\u001b[0m_parent_header\u001b[0m\u001b[0;34m,\u001b[0m\u001b[0;34m\u001b[0m\u001b[0;34m\u001b[0m\u001b[0m\n\u001b[0;32m--> 704\u001b[0;31m             \u001b[0mpassword\u001b[0m\u001b[0;34m=\u001b[0m\u001b[0;32mFalse\u001b[0m\u001b[0;34m,\u001b[0m\u001b[0;34m\u001b[0m\u001b[0;34m\u001b[0m\u001b[0m\n\u001b[0m\u001b[1;32m    705\u001b[0m         )\n\u001b[1;32m    706\u001b[0m \u001b[0;34m\u001b[0m\u001b[0m\n",
            "\u001b[0;32m/usr/local/lib/python3.7/dist-packages/ipykernel/kernelbase.py\u001b[0m in \u001b[0;36m_input_request\u001b[0;34m(self, prompt, ident, parent, password)\u001b[0m\n\u001b[1;32m    732\u001b[0m             \u001b[0;32mexcept\u001b[0m \u001b[0mKeyboardInterrupt\u001b[0m\u001b[0;34m:\u001b[0m\u001b[0;34m\u001b[0m\u001b[0;34m\u001b[0m\u001b[0m\n\u001b[1;32m    733\u001b[0m                 \u001b[0;31m# re-raise KeyboardInterrupt, to truncate traceback\u001b[0m\u001b[0;34m\u001b[0m\u001b[0;34m\u001b[0m\u001b[0;34m\u001b[0m\u001b[0m\n\u001b[0;32m--> 734\u001b[0;31m                 \u001b[0;32mraise\u001b[0m \u001b[0mKeyboardInterrupt\u001b[0m\u001b[0;34m\u001b[0m\u001b[0;34m\u001b[0m\u001b[0m\n\u001b[0m\u001b[1;32m    735\u001b[0m             \u001b[0;32melse\u001b[0m\u001b[0;34m:\u001b[0m\u001b[0;34m\u001b[0m\u001b[0;34m\u001b[0m\u001b[0m\n\u001b[1;32m    736\u001b[0m                 \u001b[0;32mbreak\u001b[0m\u001b[0;34m\u001b[0m\u001b[0;34m\u001b[0m\u001b[0m\n",
            "\u001b[0;31mKeyboardInterrupt\u001b[0m: "
          ]
        }
      ]
    },
    {
      "cell_type": "code",
      "metadata": {
        "colab": {
          "base_uri": "https://localhost:8080/"
        },
        "id": "ksBFp-LZtnsg",
        "outputId": "3ed583ed-47f4-4e40-f526-18451dcdce2a"
      },
      "source": [
        "from collections import deque\n",
        "\n",
        "\n",
        "n, m = map(int, input().split())\n",
        "matrix = [list(map(int, input().split())) for _ in range(n)]\n",
        "\n",
        "\n",
        "\n",
        "def bfs(x,y):\n",
        "  visited=[[False]*(m) for i in range(n)]\n",
        "  dx,dy = [-1, 1, 0, 0], [0, 0, -1, 1]\n",
        "  dq=deque()\n",
        "  dq.append((x,y))\n",
        "  cnt=0\n",
        "  while dq:\n",
        "    x,y=dq.popleft()\n",
        "    for i in range(4):\n",
        "      nx=x+dx[i]\n",
        "      ny=y+dy[i]\n",
        "      if 0<=nx<n and 0<=ny<m:\n",
        "        if matrix[nx][ny]==0 and not visited[nx][ny]:\n",
        "          visited[nx][ny]=True\n",
        "          dq.append((nx,ny))\n",
        "\n",
        "        elif matrix[nx][ny]==1:\n",
        "          flag=False\n",
        "          if dx[i]==-1 or dx[i]==1:\n",
        "            for i in range(2):\n",
        "              nny=ny+dy[i+2]\n",
        "              if 0<=nny<m:\n",
        "                if matrix[nx][nny]==0:\n",
        "                  flag=True\n",
        "                  break\n",
        "            if flag:\n",
        "              matrix[nx][ny]=0\n",
        "              visited[nx][ny]=True\n",
        "          elif dy[i]==-1 or dy[i]==1:\n",
        "              for i in range(2):\n",
        "                nnx=nx+dx[i+2]\n",
        "                if 0<=nnx<n:\n",
        "                  if matrix[nnx][ny]==0:\n",
        "                    flag=True\n",
        "                    break\n",
        "              if flag:\n",
        "                matrix[nx][ny]=0\n",
        "                visited[nx][ny]=True\n",
        "\n",
        "def sum_matrix():\n",
        "  result=0\n",
        "  for i in range(n):\n",
        "    for j in range(n):\n",
        "      result+=matrix[i][j]\n",
        "  return result    \n",
        "\n",
        "time=0\n",
        "while True:\n",
        "  bfs(0,0)\n",
        "  time+=1\n",
        "  if sum_matrix()==0:\n",
        "    break \n",
        "\n",
        "print(time)\n",
        "\n"
      ],
      "execution_count": 4,
      "outputs": [
        {
          "output_type": "stream",
          "name": "stdout",
          "text": [
            "5 5\n",
            "0 0 0 0 0\n",
            "0 1 1 1 0 \n",
            "0 1 1 1 0\n",
            "0 1 1 1 0\n",
            "0 0 0 0 0\n",
            "2\n"
          ]
        }
      ]
    }
  ]
}
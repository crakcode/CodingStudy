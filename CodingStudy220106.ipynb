{
  "nbformat": 4,
  "nbformat_minor": 0,
  "metadata": {
    "colab": {
      "name": "CodingStudy220106.ipynb",
      "provenance": [],
      "collapsed_sections": [],
      "authorship_tag": "ABX9TyOJcbn2erKfsXV0YjBNTg/1",
      "include_colab_link": true
    },
    "kernelspec": {
      "name": "python3",
      "display_name": "Python 3"
    },
    "language_info": {
      "name": "python"
    }
  },
  "cells": [
    {
      "cell_type": "markdown",
      "metadata": {
        "id": "view-in-github",
        "colab_type": "text"
      },
      "source": [
        "<a href=\"https://colab.research.google.com/github/crakcode/CodingStudy/blob/main/CodingStudy220106.ipynb\" target=\"_parent\"><img src=\"https://colab.research.google.com/assets/colab-badge.svg\" alt=\"Open In Colab\"/></a>"
      ]
    },
    {
      "cell_type": "markdown",
      "source": [
        "## 추월"
      ],
      "metadata": {
        "id": "7KUd53q33x9d"
      }
    },
    {
      "cell_type": "code",
      "source": [
        ""
      ],
      "metadata": {
        "id": "2IGdPezQWPJt"
      },
      "execution_count": null,
      "outputs": []
    },
    {
      "cell_type": "markdown",
      "source": [
        "## 단축키 지정"
      ],
      "metadata": {
        "id": "QR192TEjWPMs"
      }
    },
    {
      "cell_type": "code",
      "source": [
        "n=int(input())\n",
        "\n",
        "hash={}\n",
        "\n",
        "def designate(string):\n",
        "  arr=string.split()\n",
        "  flag=True\n",
        "  for i in range(len(arr)):\n",
        "    if arr[i][0] not in hash.items():\n",
        "      hash[arr[i][0]]=1\n",
        "      flag=False\n",
        "      return \n",
        "  if flag:\n",
        "    for elements in arr:\n",
        "      for char in elements:\n",
        "        if char not in hash.items():\n",
        "          hash[char]=1\n",
        "          return \n",
        "  \n",
        "    \n",
        "    \n",
        "\n",
        "  \n",
        "\n",
        "\n",
        "for _ in range(n):\n",
        "  arr=input().split()\n",
        "    \n",
        "\n",
        "\n"
      ],
      "metadata": {
        "id": "AMUhGFj0WPPc"
      },
      "execution_count": null,
      "outputs": []
    },
    {
      "cell_type": "code",
      "source": [
        "from collections import deque \n",
        "string=input()\n",
        "\n",
        "temp=string.split()\n",
        "\n",
        "\n",
        "\n",
        "print(temp[0][0])\n",
        "\n",
        "dq=deque(temp)\n",
        "print(dq)"
      ],
      "metadata": {
        "colab": {
          "base_uri": "https://localhost:8080/"
        },
        "id": "idlBdCNlWPSF",
        "outputId": "86f8ded5-a9c9-43d0-fd83-a86e88e75cf3"
      },
      "execution_count": null,
      "outputs": [
        {
          "output_type": "stream",
          "name": "stdout",
          "text": [
            "qwd wqd\n",
            "q\n",
            "deque(['qwd', 'wqd'])\n"
          ]
        }
      ]
    },
    {
      "cell_type": "code",
      "execution_count": null,
      "metadata": {
        "id": "KdWGLqawTjHg",
        "colab": {
          "base_uri": "https://localhost:8080/"
        },
        "outputId": "adeb5d67-a410-4da4-ae91-d4106ac30e97"
      },
      "outputs": [
        {
          "output_type": "stream",
          "name": "stdout",
          "text": [
            "True Save All\n",
            "dict_items([('N', 1), ('O', 1), ('S', 1), ('A', 1), ('v', 1)])\n"
          ]
        }
      ],
      "source": [
        "# n=int(input())\n",
        "import copy\n",
        "hash={}\n",
        "\n",
        "def designate(string):\n",
        "  arr=string.split()\n",
        "  flag=True\n",
        "  for i in range(len(arr)):\n",
        "    if arr[i][0] not in hash.keys():\n",
        "      hash[arr[i][0]]=1\n",
        "      flag=False\n",
        "      return\n",
        "    else:\n",
        "      continue\n",
        "  print(flag,string)\n",
        "  if flag:\n",
        "    for elements in arr:\n",
        "      for char in elements:\n",
        "        c=copy.deepcopy(char)\n",
        "        char=char.upper()\n",
        "        if char not in hash.keys():\n",
        "          if char!=c:\n",
        "            hash[c]=1\n",
        "            return\n",
        "          hash[char]=1\n",
        "          return \n",
        "\n",
        "designate(\"New\")\n",
        "designate(\"Open\")\n",
        "designate(\"Save\")\n",
        "designate(\"Save As\")\n",
        "designate(\"Save All\")\n",
        "print(hash.items())\n"
      ]
    },
    {
      "cell_type": "code",
      "source": [
        "import copy\n",
        "\n",
        "\n",
        "n=int(input())\n",
        "\n",
        "hash={}\n",
        "res=[]\n",
        "\n",
        "def designate(string):\n",
        "  arr=string.split()\n",
        "  flag=True\n",
        "  for i in range(len(arr)):\n",
        "    if arr[i][0] not in hash.keys():\n",
        "      hash[arr[i][0]]=1\n",
        "      res.append(arr[i][0])\n",
        "      flag=False\n",
        "      return\n",
        "    else:\n",
        "      continue\n",
        "  print(flag,string)\n",
        "  if flag:\n",
        "    for elements in arr:\n",
        "      for char in elements:\n",
        "        c=copy.deepcopy(char)\n",
        "        char=char.upper()\n",
        "        if char not in hash.keys():\n",
        "          if char!=c:\n",
        "            hash[c]=1\n",
        "            res.append(c)\n",
        "            return\n",
        "          hash[char]=1\n",
        "          res.append(char)\n",
        "          return \n",
        "\n",
        "for _ in range(n):\n",
        "  s=input()\n",
        "  designate(s)\n",
        "\n",
        "print(res)\n",
        "\n",
        "\n"
      ],
      "metadata": {
        "id": "AWxqiCHBRIyS",
        "colab": {
          "base_uri": "https://localhost:8080/"
        },
        "outputId": "c62520a2-f05d-4dd9-d305-9eacc78abaef"
      },
      "execution_count": null,
      "outputs": [
        {
          "output_type": "stream",
          "name": "stdout",
          "text": [
            "hello world\n"
          ]
        }
      ]
    },
    {
      "cell_type": "code",
      "source": [
        "\n",
        "\n",
        "# 두가지의 조건을 나누어서 처리한다.\n",
        "# 1. 첫글자를 먼저 검색한다.\n",
        "#   1-1. 앞글자가 들어있다면 contiune\n",
        "#   1-2. 앞글자가 없다면 넣어주고 flag 처리 멈춤 \n",
        "# 2. 첫글자가 있다면 나머지 글자를 처리한다.\n",
        "\n",
        "n=int(input())\n",
        "\n",
        "\n",
        "d_list=[]\n",
        "\n",
        "\n",
        "def designate(string):\n",
        "  d_list.append(string.lower())\n",
        "  d_list.append(string.upper())\n",
        "  \n",
        "\n",
        "\n",
        "for _ in range(n):\n",
        "  strings=input().split()\n",
        "  flag=False\n",
        "\n",
        "# 첫번쨰 조건\n",
        "\n",
        "  for i in range(len(string)):\n",
        "    if strings[i][0] not in d_list:\n",
        "      designate(strings[i][0])\n",
        "      temp=+strings[i][0]\n",
        "      strings[i]=strings[i][1:]\n",
        "      strings[i]=\"[\"+temp+\"]\"+strings[i][1:]\n",
        "      flag=True\n",
        "      break\n",
        "    if flag:\n",
        "      print(' '.join(strings))\n",
        "      continue\n",
        "\n",
        "# 두번째 조건 앞글자가 안에 없다면\n",
        "  flag=False\n",
        "  for j in range(len(strings)):\n",
        "    for k in range(len(strings[i])):\n",
        "      if strings[j][k] not in d_list:\n",
        "        designate(strings[j][k])\n",
        "        temp=\"[\"+strings[j][k]+\"]\"\n",
        "        strings[j]=strings[j][:k]+temp+strings[j][k+1:]\n",
        "        flag=True \n",
        "        break \n",
        "    if flag:\n",
        "      break \n",
        "  print(' '.join(strings))\n",
        "    \n",
        "\n",
        "\n",
        "\n",
        "\n",
        "\n",
        "\n",
        "\n",
        "\n",
        "\n"
      ],
      "metadata": {
        "colab": {
          "base_uri": "https://localhost:8080/"
        },
        "id": "xHDVp4cPt0eS",
        "outputId": "20731391-4eb8-443d-ca84-4295f269713e"
      },
      "execution_count": null,
      "outputs": [
        {
          "output_type": "stream",
          "name": "stdout",
          "text": [
            "1111 2222 wwww\n"
          ]
        }
      ]
    },
    {
      "cell_type": "markdown",
      "source": [
        "## 아우으 우아으이야!!\n"
      ],
      "metadata": {
        "id": "hCY9cYcZRI06"
      }
    },
    {
      "cell_type": "code",
      "source": [
        "from collections import deque\n",
        "\n",
        "n=int(input())\n",
        "dq=deque()\n",
        "for _ in range(n):\n",
        "  a,b=map(int,input().split())\n",
        "  dq.append((a,b))\n",
        "\n",
        "length=0\n",
        "while dq:\n",
        "  x,y=dq.popleft()\n",
        "  while len(dq)>=2:\n",
        "    if dq[0][0]<y:\n",
        "      _,y=dq.popleft()\n",
        "    else:\n",
        "      break \n",
        "  length+=abs(y-x)\n",
        "\n",
        "\n",
        "print(length)\n",
        "\n",
        "\n",
        "\n",
        "\n"
      ],
      "metadata": {
        "id": "R5T-LjivRI3S"
      },
      "execution_count": null,
      "outputs": []
    },
    {
      "cell_type": "code",
      "source": [
        "'''\n",
        "x1,y1,\n",
        "\n",
        "x2,y2 값이 있다고 했을때 \n",
        "\n",
        "1. y2가 x1,y1에 포함되면 넘어간다. \n",
        "2. y2가 y1 보다 크다면 y값을 인덱스로 잡아준다. \n",
        "\n",
        "5\n",
        "-5 -2\n",
        "-3 0\n",
        "2 5\n",
        "6 10\n",
        "8 12\n",
        "'''\n",
        "n=int(input())\n",
        "path=[]\n",
        "\n",
        "for _ in range(n):\n",
        "  a,b=map(int,input().split())\n",
        "  path.append((a,b))\n",
        "\n",
        "sx,sy=path.pop()\n",
        "dist=0\n",
        "\n",
        "for x,y in path:\n",
        "  if sy>x:\n",
        "    sy=y\n",
        "  elif sy<x:\n",
        "    sx=x\n",
        "    dist+=abs(sx-sy)\n",
        "\n",
        "print(dist)\n",
        "\n",
        "\n",
        "\n",
        "\n",
        "\n"
      ],
      "metadata": {
        "id": "P77BBJfk5o0l"
      },
      "execution_count": null,
      "outputs": []
    },
    {
      "cell_type": "code",
      "source": [
        "'''\n",
        "\n",
        "x의 좌표는 겹치거나 가운데에 있거나 크거나 중에서 하나이다 .\n",
        "\n",
        "1-1. x,y 모두 내부: 다음 y좌표가 x,y 내부에 있다면 그냥 continue \n",
        "1-2. x는 내부, y는 외부: x좌표가 내부에 있고 y\n",
        "1-3. x도 외부, y도 외부: 이때 x,y를 초기화 \n",
        "'''\n",
        "\n",
        "n=int(input())\n",
        "\n",
        "x,y=map(int,input().split())\n",
        "result=0\n",
        "for _ in range(n-1):\n",
        "  next_x,next_y=map(int,input().split())\n",
        "\n",
        "  if x<=next_y<=y:\n",
        "    continue\n",
        "  elif x<=next_x<=y and y<next_y:\n",
        "    y=next_y\n",
        "  else:\n",
        "    result+=abs(y-x)\n",
        "    x,y=next_x,next_y\n",
        "print(result)"
      ],
      "metadata": {
        "id": "Vc8vFcGN_KxX"
      },
      "execution_count": null,
      "outputs": []
    },
    {
      "cell_type": "markdown",
      "source": [
        "## 경비원"
      ],
      "metadata": {
        "id": "B-Qy2lxgGYA7"
      }
    },
    {
      "cell_type": "code",
      "source": [
        "'''\n",
        "함수로 하드 코딩해서 노가다 하기 \n",
        "\n",
        "\n",
        "'''\n",
        "n,m=map(int,input().split())\n",
        "k=int(input())\n",
        "\n",
        "\n",
        "def distance(x1,y1,x2,y2):\n",
        "  dist=0\n",
        "  if x1==1:\n",
        "    if x2==1:\n",
        "      dist=abs(y1-y2)\n",
        "    elif x2==2:\n",
        "      dist1,dist2=y1+y2+m,n-y2+m+n-y1\n",
        "      dist=min(dist1,dist2)\n",
        "    elif x2==3:\n",
        "      dist=y1+y2\n",
        "    else:\n",
        "      dist=n-y1+y2\n",
        "\n",
        "  elif x1==2:\n",
        "\n",
        "    if x2==1:\n",
        "      dist1,dist2=y1+y2+m,n-y2+n-y1+m\n",
        "      dist=min(dist1,dist2)\n",
        "    elif x2==2:\n",
        "      dist=abs(y2-y1)\n",
        "    elif x2==3:\n",
        "      dist=y1+m-y2\n",
        "    elif x2==4:\n",
        "      dist=n-y1+m-y2\n",
        "  \n",
        "  elif x1==3:\n",
        "    if x2==1:\n",
        "      dist=y2+y1\n",
        "    elif x2==2:\n",
        "      dist=m-y1+y2\n",
        "    elif x2==3:\n",
        "      dist=abs(y1-y2)\n",
        "    else:\n",
        "      dist1,dist2=y1+y2+n,m-y1+n+m-y2\n",
        "      dist=min(dist1,dist2)\n",
        "  \n",
        "  elif x1==4:\n",
        "    if x2==1:\n",
        "      dist=y1+n-y2\n",
        "    elif x2==2:\n",
        "      dist==n-y2+m-y1\n",
        "    elif x2==3:\n",
        "      dist1,dist2=y1+y2+n,m-y1+m-y2+n\n",
        "      dist=min(dist1,dist2)\n",
        "    else:\n",
        "      dist=abs(y2-y1)\n",
        "  \n",
        "  return dist\n",
        "\n",
        "\n",
        "arr=[]\n",
        "for _ in range(k):\n",
        "  a,b=map(int,input().split())\n",
        "  arr.append((a,b))\n",
        "x,y=map(int,input().split())\n",
        "\n",
        "result=0\n",
        "for x2,y2 in arr:\n",
        "  print(result)\n",
        "  result+=distance(x,y,x2,y2)\n",
        "\n",
        "print(result)\n",
        "  \n",
        "  \n",
        "\n",
        "\n",
        "\n",
        "\n",
        "\n"
      ],
      "metadata": {
        "id": "KloXCtxnGZRD"
      },
      "execution_count": null,
      "outputs": []
    }
  ]
}
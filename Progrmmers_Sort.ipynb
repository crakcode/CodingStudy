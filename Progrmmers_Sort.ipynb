{
  "nbformat": 4,
  "nbformat_minor": 0,
  "metadata": {
    "colab": {
      "name": "Progrmmers_Sort.ipynb",
      "provenance": [],
      "authorship_tag": "ABX9TyNVb24oB85PA9xlbJpoAxC6",
      "include_colab_link": true
    },
    "kernelspec": {
      "name": "python3",
      "display_name": "Python 3"
    },
    "language_info": {
      "name": "python"
    }
  },
  "cells": [
    {
      "cell_type": "markdown",
      "metadata": {
        "id": "view-in-github",
        "colab_type": "text"
      },
      "source": [
        "<a href=\"https://colab.research.google.com/github/crakcode/CodingStudy/blob/main/Progrmmers_Sort.ipynb\" target=\"_parent\"><img src=\"https://colab.research.google.com/assets/colab-badge.svg\" alt=\"Open In Colab\"/></a>"
      ]
    },
    {
      "cell_type": "markdown",
      "metadata": {
        "id": "s2nvfoVfC5MS"
      },
      "source": [
        "# 정렬\n",
        "\n",
        "- 체육복 (프로그래머스)\n",
        "- 가장큰수( 프로그래머스)\n",
        "- 단속카메라(프로그래머스)"
      ]
    },
    {
      "cell_type": "markdown",
      "metadata": {
        "id": "jVXraKA_lq4Z"
      },
      "source": [
        "## K번째수"
      ]
    },
    {
      "cell_type": "code",
      "metadata": {
        "id": "DfLy5hJolq_B"
      },
      "source": [
        "def solution(array, commands):\n",
        "    res=[]\n",
        "    for i,j,k in commands:\n",
        "        temp=[]\n",
        "        temp=array[i-1:j]\n",
        "        temp.sort()\n",
        "        res.append(temp[k-1])\n",
        "    return res"
      ],
      "execution_count": null,
      "outputs": []
    },
    {
      "cell_type": "markdown",
      "metadata": {
        "id": "A-MLY9QrlpjK"
      },
      "source": [
        "## 가장큰수"
      ]
    },
    {
      "cell_type": "code",
      "metadata": {
        "colab": {
          "base_uri": "https://localhost:8080/"
        },
        "id": "brsVBjs0kMxl",
        "outputId": "74f9b44a-7085-40c6-c96f-abb2f761dec4"
      },
      "source": [
        "numbers=[3, 30, 34, 5, 9]\n",
        "\n",
        "arr=[]\n",
        "for i in numbers:\n",
        "  arr.append((str(i)*4,str(i)))\n",
        "\n",
        "arr.sort(key=lambda x:x[0][:4],reverse=True)\n",
        "\n",
        "result=\"\"\n",
        "for k,v in arr:\n",
        "  result+=v\n",
        "\n",
        "print(int(result))"
      ],
      "execution_count": 27,
      "outputs": [
        {
          "output_type": "stream",
          "name": "stdout",
          "text": [
            "9534330\n"
          ]
        }
      ]
    },
    {
      "cell_type": "markdown",
      "metadata": {
        "id": "yUR-mol4ljiK"
      },
      "source": [
        "## H- index\n"
      ]
    },
    {
      "cell_type": "code",
      "metadata": {
        "colab": {
          "base_uri": "https://localhost:8080/"
        },
        "id": "d31Efe72p_oB",
        "outputId": "d51ef550-0ef4-4e8f-a426-282be882d58b"
      },
      "source": [
        "from collections import deque\n",
        "\n",
        "citations=[3, 0, 6, 1, 5]\t\n",
        "arr=citations\n",
        "n=len(arr)\n",
        "\n",
        "dq=deque(arr)\n",
        "while dq:\n",
        "  v=dq.popleft()\n",
        "  cod1,cod2=0,0\n",
        "\n",
        "  for i in range(n):\n",
        "    if v>=arr[i]:\n",
        "      cod1+=1\n",
        "    else:\n",
        "      cod2+=1\n",
        "  if cod1>=v and cod2<=v:\n",
        "    print(v)\n",
        "\n",
        "\n",
        "#   0, 1, 3, 5 ,6 \n",
        "# i 0  1  2  3  4\n",
        "# len(arr)=5 "
      ],
      "execution_count": 30,
      "outputs": [
        {
          "output_type": "stream",
          "name": "stdout",
          "text": [
            "3\n"
          ]
        }
      ]
    },
    {
      "cell_type": "markdown",
      "metadata": {
        "id": "f9ZXUJVV1vtB"
      },
      "source": [
        "## H -index"
      ]
    },
    {
      "cell_type": "code",
      "metadata": {
        "colab": {
          "base_uri": "https://localhost:8080/"
        },
        "id": "HnR9t4x0vcCi",
        "outputId": "d51ef550-0ef4-4e8f-a426-282be882d58b"
      },
      "source": [
        "'''\n",
        "\n",
        "1. h편 이상의 논문을 가지고 있어야 한다.\n",
        "2. 즉 arr을 sort를 하여 정렬한다.\n",
        "3. 그거에 따라서 \n",
        "\n",
        "'''\n",
        "\n",
        "def solution(citations):\n",
        "    arr=citations\n",
        "    arr.sort()\n",
        "    n=len(arr)\n",
        "    \n",
        "    for i in range(n):\n",
        "        if arr[i]>=n-i:\n",
        "            return n-i\n",
        "    return 0\n"
      ],
      "execution_count": null,
      "outputs": [
        {
          "output_type": "stream",
          "name": "stdout",
          "text": [
            "3\n"
          ]
        }
      ]
    },
    {
      "cell_type": "code",
      "metadata": {
        "id": "SAVuSg_53F12"
      },
      "source": [
        ""
      ],
      "execution_count": null,
      "outputs": []
    },
    {
      "cell_type": "markdown",
      "metadata": {
        "id": "j1aeM6kW3F5T"
      },
      "source": [
        "# 백준\n"
      ]
    },
    {
      "cell_type": "markdown",
      "metadata": {
        "id": "PQrH8FHB3HX8"
      },
      "source": [
        "## 두 용액\n"
      ]
    },
    {
      "cell_type": "code",
      "metadata": {
        "colab": {
          "base_uri": "https://localhost:8080/"
        },
        "id": "GorTsjHK3JPd",
        "outputId": "1e06610a-4bf7-45dd-d8a6-3118c9c6be75"
      },
      "source": [
        "\n",
        "'''\n",
        "1. 0에 가까운것끼리 더하거나 \n",
        "2. 가장 큰거에서 작은것을 뺸다 \n",
        "\n",
        "\n",
        "1. \n",
        "\n",
        "'''\n",
        "\n",
        "# n=5\n",
        "# arr=[-2,4,-99,-1,98]\n",
        "\n",
        "n=int(input())\n",
        "arr=list(map(int,input().split()))\n",
        "\n",
        "\n",
        "arr.sort()\n",
        "print(arr)\n",
        "\n",
        "res=10000\n",
        "a,b=0,0\n",
        "for i in range(n//2):\n",
        "  if res>=abs(arr[i]+arr[n-i-1]):\n",
        "    res=abs(arr[i]+arr[n-i-1])\n",
        "    a,b=arr[i],arr[n-i-1]\n",
        "\n",
        "print(a,b)\n",
        "  \n",
        "\n",
        "10,000,000,000\n",
        "\n",
        "-99 0 1,2\n",
        "\n"
      ],
      "execution_count": 42,
      "outputs": [
        {
          "output_type": "stream",
          "name": "stdout",
          "text": [
            "5\n",
            "-2  44 -99 -1 98\n",
            "[-99, -2, -1, 44, 98]\n",
            "-99 98\n"
          ]
        }
      ]
    },
    {
      "cell_type": "code",
      "metadata": {
        "id": "y1xZ_24h3JR9"
      },
      "source": [
        ""
      ],
      "execution_count": null,
      "outputs": []
    },
    {
      "cell_type": "code",
      "metadata": {
        "id": "Y-iDMm083JU8"
      },
      "source": [
        ""
      ],
      "execution_count": null,
      "outputs": []
    },
    {
      "cell_type": "code",
      "metadata": {
        "id": "Go88PvSr3JX2"
      },
      "source": [
        ""
      ],
      "execution_count": null,
      "outputs": []
    }
  ]
}
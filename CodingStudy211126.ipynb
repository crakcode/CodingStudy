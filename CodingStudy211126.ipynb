{
  "nbformat": 4,
  "nbformat_minor": 0,
  "metadata": {
    "colab": {
      "name": "CodingStudy211126.ipynb",
      "provenance": [],
      "authorship_tag": "ABX9TyOIzK9VGS6MI5wh5PiHB6cr",
      "include_colab_link": true
    },
    "kernelspec": {
      "name": "python3",
      "display_name": "Python 3"
    },
    "language_info": {
      "name": "python"
    }
  },
  "cells": [
    {
      "cell_type": "markdown",
      "metadata": {
        "id": "view-in-github",
        "colab_type": "text"
      },
      "source": [
        "<a href=\"https://colab.research.google.com/github/crakcode/CodingStudy/blob/main/CodingStudy211126.ipynb\" target=\"_parent\"><img src=\"https://colab.research.google.com/assets/colab-badge.svg\" alt=\"Open In Colab\"/></a>"
      ]
    },
    {
      "cell_type": "code",
      "metadata": {
        "id": "8Ov5azC_1nl0"
      },
      "source": [
        "from collections import deque\n",
        "\n",
        "\n",
        "\n",
        "n=int(input())\n",
        "\n",
        "graph=[[] for i in range(n+1)]\n",
        "\n",
        "\n",
        "for _ in range(n):\n",
        "    arr = list(map(int, input().split()))\n",
        "    dq = deque(arr)\n",
        "    a = dq.popleft()\n",
        "    while len(dq) != 1:\n",
        "        b = dq.popleft()\n",
        "        c = dq.popleft()\n",
        "        if (b,c) in graph[a]:\n",
        "            continue\n",
        "        else:\n",
        "            graph[a].append((b, c))\n",
        "        if (a, c) in graph[b]:\n",
        "            continue\n",
        "        else:\n",
        "            graph[b].append((a, c))\n",
        "\n",
        "vblake\n",
        "print(graph)\n",
        "  \n",
        "  "
      ],
      "execution_count": null,
      "outputs": []
    },
    {
      "cell_type": "code",
      "metadata": {
        "id": "VhmObv6pWBmI"
      },
      "source": [
        ""
      ],
      "execution_count": null,
      "outputs": []
    },
    {
      "cell_type": "markdown",
      "metadata": {
        "id": "4OWKnYnYWBpm"
      },
      "source": [
        "## 카드 구매하기: 11052번"
      ]
    },
    {
      "cell_type": "code",
      "metadata": {
        "id": "zl-KTHmxWBsW"
      },
      "source": [
        "\n",
        "\n",
        "n=int(input())\n",
        "arr=list(map(int,input().split()))\n",
        "arr.insert(0,0)\n",
        "\n",
        "atuple=[]\n",
        "\n",
        "# for i in range(1,n+1):\n",
        "\n",
        "\n",
        "\n",
        "\n",
        "\n"
      ],
      "execution_count": null,
      "outputs": []
    },
    {
      "cell_type": "code",
      "metadata": {
        "id": "V1gWWFv6blv4"
      },
      "source": [
        "n,k=map(int,input().split())\n",
        "arr=list(map(int,input().split()))\n",
        "\n",
        "matrix=[[0]*(n) for i in range(n)]\n",
        "graph=[[]]\n",
        "result=[]\n",
        "\n",
        "for i in range(n):\n",
        "  for j in range(i+1,n):\n",
        "    if i==j:\n",
        "      continue\n",
        "    matrix[i][j]=(j-i)*(1+abs(arr[j]-arr[i]))\n",
        "    if matrix[i][j]<=k:\n",
        "      result.append((i,j))\n",
        "\n",
        "\n",
        "\n",
        "for i in matrix:\n",
        "  print(i)\n",
        "\n",
        "\n"
      ],
      "execution_count": null,
      "outputs": []
    },
    {
      "cell_type": "markdown",
      "metadata": {
        "id": "UTJ7AU5wQcGb"
      },
      "source": [
        "## 징검다리 건너기\n"
      ]
    },
    {
      "cell_type": "code",
      "metadata": {
        "id": "k8rBdqImQcNJ"
      },
      "source": [
        "def dfs(node, energy, key):\n",
        "    global min_energy\n",
        "    if energy >= min_energy:\n",
        "        return\n",
        "    if node == N:\n",
        "        min_energy = min(min_energy, energy)\n",
        "        return\n",
        "    if node + 1 <= N:\n",
        "        dfs(node + 1, energy + small_jump[node], key)\n",
        "    if node + 2 <= N:\n",
        "        dfs(node + 2, energy + big_jump[node], key)\n",
        "    if node + 3 <= N and key:\n",
        "        dfs(node + 3, energy + K, 0)\n",
        "\n",
        "\n",
        "N = int(input())\n",
        "big_jump = [0]\n",
        "small_jump = [0]\n",
        "for _ in range(N - 1):\n",
        "    small, big = map(int, input().split())\n",
        "    small_jump.append(small)\n",
        "    big_jump.append(big)\n",
        "\n",
        "k = int(input())\n",
        "min_energy = float('inf')\n",
        "dfs(1, 0, 1)\n",
        "print(min_energy)\n"
      ],
      "execution_count": null,
      "outputs": []
    },
    {
      "cell_type": "code",
      "metadata": {
        "id": "uruJghmLoLvC"
      },
      "source": [
        "'''\n",
        "\n",
        "예를들어 특정위치(3) 에 간다고 했을때 \n",
        "\n",
        "2에서 1칸 이동하는 방법/ 1에서 2칸 이동하는 방법/ 0에서 3으로 이동하는방법이있다.\n",
        "이때 비교하는방법으로 처리하기 보다는 모든 경우의 수를 조합하여 처리해보는것이 좋다.\n",
        "그렇기에 백트레킹을 이용하여 처리한다. \n",
        "'''\n",
        "\n",
        "\n",
        "n=int(input())\n",
        "\n",
        "arr=[[0]*(n) for i in range(2)]\n",
        "\n",
        "small=[]\n",
        "big=[]\n",
        "for i in range(n-1):\n",
        "  a,b=map(int,input().split())\n",
        "  small.append(a)\n",
        "  big.append(b)\n",
        "\n",
        "k=int(input())\n",
        "\n",
        "\n",
        "def DFS(now,energy,flag):\n",
        "  global min_energy\n",
        "\n",
        "  if now==n:\n",
        "    min_energy=min(energy,min_energy)\n",
        "    return \n",
        "\n",
        "  if now<=n:\n",
        "    DFS(now+1,energy+small[now],flag)\n",
        "  if now<=n:\n",
        "    DFS(now+2,energy+big[now],flag)\n",
        "  if now<=n and flag:\n",
        "    DFS(now+3,energy+k,0)\n",
        "  \n",
        "\n",
        "\n",
        "min_energy=int(1e9)\n",
        "\n",
        "DFS(1,0,1)\n",
        "\n",
        "\n",
        "\n",
        "\n",
        "\n",
        "\n",
        "\n",
        "\n",
        "\n",
        "\n",
        "\n",
        "\n",
        "\n",
        "\n",
        "\n",
        "\n"
      ],
      "execution_count": null,
      "outputs": []
    },
    {
      "cell_type": "markdown",
      "metadata": {
        "id": "hcWg52V5oKkl"
      },
      "source": [
        ""
      ]
    },
    {
      "cell_type": "code",
      "metadata": {
        "colab": {
          "base_uri": "https://localhost:8080/",
          "height": 565
        },
        "id": "42goB3CPvjrz",
        "outputId": "6bd3decb-7cad-43a8-898e-b558d390b277"
      },
      "source": [
        "p=input()\n",
        "s=input()\n",
        "\n",
        "n=len(p)-len(s)\n",
        "m=len(s)\n",
        "\n",
        "for i in range(n):\n",
        "  if p[i:len(s)]==s:\n",
        "    print(\"hello world\")"
      ],
      "execution_count": 4,
      "outputs": [
        {
          "output_type": "error",
          "ename": "KeyboardInterrupt",
          "evalue": "ignored",
          "traceback": [
            "\u001b[0;31m---------------------------------------------------------------------------\u001b[0m",
            "\u001b[0;31mKeyboardInterrupt\u001b[0m                         Traceback (most recent call last)",
            "\u001b[0;32m/usr/local/lib/python3.7/dist-packages/ipykernel/kernelbase.py\u001b[0m in \u001b[0;36m_input_request\u001b[0;34m(self, prompt, ident, parent, password)\u001b[0m\n\u001b[1;32m    728\u001b[0m             \u001b[0;32mtry\u001b[0m\u001b[0;34m:\u001b[0m\u001b[0;34m\u001b[0m\u001b[0;34m\u001b[0m\u001b[0m\n\u001b[0;32m--> 729\u001b[0;31m                 \u001b[0mident\u001b[0m\u001b[0;34m,\u001b[0m \u001b[0mreply\u001b[0m \u001b[0;34m=\u001b[0m \u001b[0mself\u001b[0m\u001b[0;34m.\u001b[0m\u001b[0msession\u001b[0m\u001b[0;34m.\u001b[0m\u001b[0mrecv\u001b[0m\u001b[0;34m(\u001b[0m\u001b[0mself\u001b[0m\u001b[0;34m.\u001b[0m\u001b[0mstdin_socket\u001b[0m\u001b[0;34m,\u001b[0m \u001b[0;36m0\u001b[0m\u001b[0;34m)\u001b[0m\u001b[0;34m\u001b[0m\u001b[0;34m\u001b[0m\u001b[0m\n\u001b[0m\u001b[1;32m    730\u001b[0m             \u001b[0;32mexcept\u001b[0m \u001b[0mException\u001b[0m\u001b[0;34m:\u001b[0m\u001b[0;34m\u001b[0m\u001b[0;34m\u001b[0m\u001b[0m\n",
            "\u001b[0;32m/usr/local/lib/python3.7/dist-packages/jupyter_client/session.py\u001b[0m in \u001b[0;36mrecv\u001b[0;34m(self, socket, mode, content, copy)\u001b[0m\n\u001b[1;32m    802\u001b[0m         \u001b[0;32mtry\u001b[0m\u001b[0;34m:\u001b[0m\u001b[0;34m\u001b[0m\u001b[0;34m\u001b[0m\u001b[0m\n\u001b[0;32m--> 803\u001b[0;31m             \u001b[0mmsg_list\u001b[0m \u001b[0;34m=\u001b[0m \u001b[0msocket\u001b[0m\u001b[0;34m.\u001b[0m\u001b[0mrecv_multipart\u001b[0m\u001b[0;34m(\u001b[0m\u001b[0mmode\u001b[0m\u001b[0;34m,\u001b[0m \u001b[0mcopy\u001b[0m\u001b[0;34m=\u001b[0m\u001b[0mcopy\u001b[0m\u001b[0;34m)\u001b[0m\u001b[0;34m\u001b[0m\u001b[0;34m\u001b[0m\u001b[0m\n\u001b[0m\u001b[1;32m    804\u001b[0m         \u001b[0;32mexcept\u001b[0m \u001b[0mzmq\u001b[0m\u001b[0;34m.\u001b[0m\u001b[0mZMQError\u001b[0m \u001b[0;32mas\u001b[0m \u001b[0me\u001b[0m\u001b[0;34m:\u001b[0m\u001b[0;34m\u001b[0m\u001b[0;34m\u001b[0m\u001b[0m\n",
            "\u001b[0;32m/usr/local/lib/python3.7/dist-packages/zmq/sugar/socket.py\u001b[0m in \u001b[0;36mrecv_multipart\u001b[0;34m(self, flags, copy, track)\u001b[0m\n\u001b[1;32m    624\u001b[0m         \"\"\"\n\u001b[0;32m--> 625\u001b[0;31m         \u001b[0mparts\u001b[0m \u001b[0;34m=\u001b[0m \u001b[0;34m[\u001b[0m\u001b[0mself\u001b[0m\u001b[0;34m.\u001b[0m\u001b[0mrecv\u001b[0m\u001b[0;34m(\u001b[0m\u001b[0mflags\u001b[0m\u001b[0;34m,\u001b[0m \u001b[0mcopy\u001b[0m\u001b[0;34m=\u001b[0m\u001b[0mcopy\u001b[0m\u001b[0;34m,\u001b[0m \u001b[0mtrack\u001b[0m\u001b[0;34m=\u001b[0m\u001b[0mtrack\u001b[0m\u001b[0;34m)\u001b[0m\u001b[0;34m]\u001b[0m\u001b[0;34m\u001b[0m\u001b[0;34m\u001b[0m\u001b[0m\n\u001b[0m\u001b[1;32m    626\u001b[0m         \u001b[0;31m# have first part already, only loop while more to receive\u001b[0m\u001b[0;34m\u001b[0m\u001b[0;34m\u001b[0m\u001b[0;34m\u001b[0m\u001b[0m\n",
            "\u001b[0;32mzmq/backend/cython/socket.pyx\u001b[0m in \u001b[0;36mzmq.backend.cython.socket.Socket.recv\u001b[0;34m()\u001b[0m\n",
            "\u001b[0;32mzmq/backend/cython/socket.pyx\u001b[0m in \u001b[0;36mzmq.backend.cython.socket.Socket.recv\u001b[0;34m()\u001b[0m\n",
            "\u001b[0;32mzmq/backend/cython/socket.pyx\u001b[0m in \u001b[0;36mzmq.backend.cython.socket._recv_copy\u001b[0;34m()\u001b[0m\n",
            "\u001b[0;32m/usr/local/lib/python3.7/dist-packages/zmq/backend/cython/checkrc.pxd\u001b[0m in \u001b[0;36mzmq.backend.cython.checkrc._check_rc\u001b[0;34m()\u001b[0m\n",
            "\u001b[0;31mKeyboardInterrupt\u001b[0m: ",
            "\nDuring handling of the above exception, another exception occurred:\n",
            "\u001b[0;31mKeyboardInterrupt\u001b[0m                         Traceback (most recent call last)",
            "\u001b[0;32m<ipython-input-4-e67f38068cc0>\u001b[0m in \u001b[0;36m<module>\u001b[0;34m()\u001b[0m\n\u001b[0;32m----> 1\u001b[0;31m \u001b[0mp\u001b[0m\u001b[0;34m=\u001b[0m\u001b[0minput\u001b[0m\u001b[0;34m(\u001b[0m\u001b[0;34m)\u001b[0m\u001b[0;34m\u001b[0m\u001b[0;34m\u001b[0m\u001b[0m\n\u001b[0m\u001b[1;32m      2\u001b[0m \u001b[0ms\u001b[0m\u001b[0;34m=\u001b[0m\u001b[0minput\u001b[0m\u001b[0;34m(\u001b[0m\u001b[0;34m)\u001b[0m\u001b[0;34m\u001b[0m\u001b[0;34m\u001b[0m\u001b[0m\n\u001b[1;32m      3\u001b[0m \u001b[0;34m\u001b[0m\u001b[0m\n\u001b[1;32m      4\u001b[0m \u001b[0mn\u001b[0m\u001b[0;34m=\u001b[0m\u001b[0mlen\u001b[0m\u001b[0;34m(\u001b[0m\u001b[0mp\u001b[0m\u001b[0;34m)\u001b[0m\u001b[0;34m-\u001b[0m\u001b[0mlen\u001b[0m\u001b[0;34m(\u001b[0m\u001b[0ms\u001b[0m\u001b[0;34m)\u001b[0m\u001b[0;34m\u001b[0m\u001b[0;34m\u001b[0m\u001b[0m\n\u001b[1;32m      5\u001b[0m \u001b[0mm\u001b[0m\u001b[0;34m=\u001b[0m\u001b[0mlen\u001b[0m\u001b[0;34m(\u001b[0m\u001b[0ms\u001b[0m\u001b[0;34m)\u001b[0m\u001b[0;34m\u001b[0m\u001b[0;34m\u001b[0m\u001b[0m\n",
            "\u001b[0;32m/usr/local/lib/python3.7/dist-packages/ipykernel/kernelbase.py\u001b[0m in \u001b[0;36mraw_input\u001b[0;34m(self, prompt)\u001b[0m\n\u001b[1;32m    702\u001b[0m             \u001b[0mself\u001b[0m\u001b[0;34m.\u001b[0m\u001b[0m_parent_ident\u001b[0m\u001b[0;34m,\u001b[0m\u001b[0;34m\u001b[0m\u001b[0;34m\u001b[0m\u001b[0m\n\u001b[1;32m    703\u001b[0m             \u001b[0mself\u001b[0m\u001b[0;34m.\u001b[0m\u001b[0m_parent_header\u001b[0m\u001b[0;34m,\u001b[0m\u001b[0;34m\u001b[0m\u001b[0;34m\u001b[0m\u001b[0m\n\u001b[0;32m--> 704\u001b[0;31m             \u001b[0mpassword\u001b[0m\u001b[0;34m=\u001b[0m\u001b[0;32mFalse\u001b[0m\u001b[0;34m,\u001b[0m\u001b[0;34m\u001b[0m\u001b[0;34m\u001b[0m\u001b[0m\n\u001b[0m\u001b[1;32m    705\u001b[0m         )\n\u001b[1;32m    706\u001b[0m \u001b[0;34m\u001b[0m\u001b[0m\n",
            "\u001b[0;32m/usr/local/lib/python3.7/dist-packages/ipykernel/kernelbase.py\u001b[0m in \u001b[0;36m_input_request\u001b[0;34m(self, prompt, ident, parent, password)\u001b[0m\n\u001b[1;32m    732\u001b[0m             \u001b[0;32mexcept\u001b[0m \u001b[0mKeyboardInterrupt\u001b[0m\u001b[0;34m:\u001b[0m\u001b[0;34m\u001b[0m\u001b[0;34m\u001b[0m\u001b[0m\n\u001b[1;32m    733\u001b[0m                 \u001b[0;31m# re-raise KeyboardInterrupt, to truncate traceback\u001b[0m\u001b[0;34m\u001b[0m\u001b[0;34m\u001b[0m\u001b[0;34m\u001b[0m\u001b[0m\n\u001b[0;32m--> 734\u001b[0;31m                 \u001b[0;32mraise\u001b[0m \u001b[0mKeyboardInterrupt\u001b[0m\u001b[0;34m\u001b[0m\u001b[0;34m\u001b[0m\u001b[0m\n\u001b[0m\u001b[1;32m    735\u001b[0m             \u001b[0;32melse\u001b[0m\u001b[0;34m:\u001b[0m\u001b[0;34m\u001b[0m\u001b[0;34m\u001b[0m\u001b[0m\n\u001b[1;32m    736\u001b[0m                 \u001b[0;32mbreak\u001b[0m\u001b[0;34m\u001b[0m\u001b[0;34m\u001b[0m\u001b[0m\n",
            "\u001b[0;31mKeyboardInterrupt\u001b[0m: "
          ]
        }
      ]
    },
    {
      "cell_type": "code",
      "metadata": {
        "colab": {
          "base_uri": "https://localhost:8080/"
        },
        "id": "rip4vsIG15Uj",
        "outputId": "43d0aace-f773-42cb-8963-fddb12601372"
      },
      "source": [
        "'''\n",
        "kmp알고리즘\n",
        "1. i,j 가 일치하는 경우 i,j를 모두 증가 시켜주고 \n",
        "\n",
        "2. i,j 가 일치하지 않는 경우 j를 증가시켜준다 그리고 i를 감소 시킨다. \n",
        "\n",
        "3. 두번째 이상 부터 일치하는 경우 j 의 위치에서 1을 더해준다. \n",
        "예제 abacaaba\n",
        "\n",
        "'''\n",
        "\n",
        "string=input()\n",
        "i=0\n",
        "j=1\n",
        "\n",
        "arr=\n",
        "\n",
        "while j<\n",
        "\n",
        "print(i)\n",
        "\n",
        "\n",
        "\n"
      ],
      "execution_count": 5,
      "outputs": [
        {
          "output_type": "stream",
          "name": "stdout",
          "text": [
            "abacaaba\n",
            "1\n"
          ]
        }
      ]
    }
  ]
}
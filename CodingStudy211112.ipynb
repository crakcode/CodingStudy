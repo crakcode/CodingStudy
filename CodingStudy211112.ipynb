{
  "nbformat": 4,
  "nbformat_minor": 0,
  "metadata": {
    "colab": {
      "name": "CodingStudy211112.ipynb",
      "provenance": [],
      "collapsed_sections": [],
      "authorship_tag": "ABX9TyMpltDqCCQmns8yZTLGOBqH",
      "include_colab_link": true
    },
    "kernelspec": {
      "name": "python3",
      "display_name": "Python 3"
    },
    "language_info": {
      "name": "python"
    }
  },
  "cells": [
    {
      "cell_type": "markdown",
      "metadata": {
        "id": "view-in-github",
        "colab_type": "text"
      },
      "source": [
        "<a href=\"https://colab.research.google.com/github/crakcode/CodingStudy/blob/main/CodingStudy211112.ipynb\" target=\"_parent\"><img src=\"https://colab.research.google.com/assets/colab-badge.svg\" alt=\"Open In Colab\"/></a>"
      ]
    },
    {
      "cell_type": "markdown",
      "metadata": {
        "id": "8mL32nN73q1k"
      },
      "source": [
        "## 정수 삼각형\n"
      ]
    },
    {
      "cell_type": "code",
      "metadata": {
        "colab": {
          "base_uri": "https://localhost:8080/"
        },
        "id": "TgC97B3lyc5B",
        "outputId": "21f6fe55-9c20-4301-abed-f9c65abeb05e"
      },
      "source": [
        "tree=[[7], [3, 8], [8, 1, 0], [2, 7, 4, 4], [4, 5, 2, 6, 5]]\t\n",
        "\n",
        "\n",
        "dp=tree\n",
        "n=len(tree)\n",
        "\n",
        "\n",
        "\n",
        "for i,elements in enumerate(tree):\n",
        "  for j in range(len(elements)):\n",
        "    if j==0 and i>=1:\n",
        "      dp[i][j]+=dp[i-1][j]\n",
        "    elif j==len(elements)-1 and i>=1:\n",
        "      dp[i][j]+=dp[i-1][j-1]\n",
        "    elif i==0 and j==0:\n",
        "      continue\n",
        "    else:\n",
        "      dp[i][j]+=max(dp[i-1][j-1],dp[i-1][j])\n",
        "  \n",
        "\n",
        "print(max(dp[n-1]))\n",
        "\n",
        "  \n",
        "\n"
      ],
      "execution_count": null,
      "outputs": [
        {
          "output_type": "stream",
          "name": "stdout",
          "text": [
            "30\n"
          ]
        }
      ]
    },
    {
      "cell_type": "markdown",
      "metadata": {
        "id": "v_TosLuUGcOt"
      },
      "source": [
        "## 등교길"
      ]
    },
    {
      "cell_type": "code",
      "metadata": {
        "colab": {
          "base_uri": "https://localhost:8080/"
        },
        "id": "qG8xBc8m3VgP",
        "outputId": "8d141308-9cc2-4161-cebc-81e3ac995d9b"
      },
      "source": [
        "m,n=4,3\n",
        "puddles=[[2,2]]\n",
        "\n",
        "dp=[[0]*m for i in range(n)]\n",
        "puddles = [[q-1,p-1] for [p,q] in puddles]\n",
        "print(puddles)\n",
        "\n",
        "INF=int(1e9)\n",
        "dp[0][0]=1\n",
        "\n",
        "for i in range(n):\n",
        "  for j in range(m):\n",
        "    if i==0 and j==0:\n",
        "      continue\n",
        "\n",
        "    if [i,j] in puddles:\n",
        "      dp[i][j]=0\n",
        "    elif i==0:\n",
        "      dp[i][j]+=dp[i][j-1]\n",
        "    elif j==0:\n",
        "      dp[i][j]+=dp[i-1][j]\n",
        "    else:\n",
        "      dp[i][j]=(dp[i-1][j]+dp[i][j-1])%1000000007\n",
        "1339\t단어 수학\n",
        "1744\t수 묶기  \n",
        "2457\t공주님의 정원\n",
        "11000\t강의실 배정\n",
        "2212\t센서\n",
        "1461\t도서관\n",
        "1041\t주사위\t\n",
        "1092\t배\n",
        "13904\t과제\n",
        "8980\t택배\n",
        "2437\t저울"
      ],
      "execution_count": null,
      "outputs": [
        {
          "output_type": "stream",
          "name": "stdout",
          "text": [
            "[[1, 1]]\n",
            "[1, 1, 1, 1]\n",
            "[1, 0, 1, 2]\n",
            "[1, 1, 2, 4]\n"
          ]
        }
      ]
    },
    {
      "cell_type": "markdown",
      "metadata": {
        "id": "Qr7m9K5nIC1V"
      },
      "source": [
        "## 그리디 문제번호\n",
        "\n",
        "\n",
        "- 1339\t단어 수학\n",
        "- 1744\t수 묶기  \n",
        "- 2457\t공주님의 정원\n",
        "- 11000\t강의실 배정\n",
        "- 2212\t센서\n",
        "- 1461\t도서관\n",
        "- 1041\t주사위\t\n",
        "- 1092\t배\n",
        "- 13904\t과제\n",
        "- 8980\t택배\n",
        "- 2437\t저울"
      ]
    },
    {
      "cell_type": "code",
      "metadata": {
        "colab": {
          "base_uri": "https://localhost:8080/"
        },
        "id": "OAV9vUmcJZjY",
        "outputId": "963c44d3-c704-45ee-fa2b-79950dfa641b"
      },
      "source": [
        "\n",
        "arr=[i for i in range(9,-1,-1)]\n",
        "ctable=[0]*(10)\n",
        "check=[False]*(10)\n",
        "\n",
        "\n",
        "print(arr)\n",
        "string=input()\n",
        "\n",
        "table={}\n",
        "\n",
        "for i,x in enumerate(string):\n",
        "  print(i,x)\n",
        "  if x in table:\n",
        "    idx=arr.index(table[x])\n",
        "    ctable[idx]+=1\n",
        "  else:\n",
        "    for j in range(len(arr)):\n",
        "      if not check[j]:\n",
        "        table[x]=arr[j]\n",
        "        check[j]=True\n",
        "        break\n",
        "    ctable[j]=1\n",
        "\n",
        "print(table)\n",
        "\n",
        "\n",
        "\n"
      ],
      "execution_count": null,
      "outputs": [
        {
          "output_type": "stream",
          "name": "stdout",
          "text": [
            "[9, 8, 7, 6, 5, 4, 3, 2, 1, 0]\n",
            "ACDEB\n",
            "0 A\n",
            "1 C\n",
            "2 D\n",
            "3 E\n",
            "4 B\n",
            "{'A': 9, 'C': 8, 'D': 7, 'E': 6, 'B': 5}\n"
          ]
        }
      ]
    },
    {
      "cell_type": "markdown",
      "metadata": {
        "id": "agaXk4U0Qyqa"
      },
      "source": [
        "## 수묶기\n",
        "\n",
        "1. 1을 기준으로 나머지를 나눈다.\n",
        "\n",
        "1-1. 1보다 큰경우 positive에 저장해준다.\n",
        "1-2. 1과 같은 경우 그냥 더해준다.\n",
        "1-3. 1보다 작은경우 0까지 포함시켜서 negative에 저장해준다.\n",
        "\n",
        "2. 정렬을 수행한다.\n",
        "- positive: 큰것은 큰것끼리 곱하기에 reverse sort\n",
        "- negative: 작은것끼리 곱해서 더해준다. 걍 sort \n",
        "\n",
        "3. positive/negative를 기준으로 처리해준다.\n",
        "- 짝수인경우: 걍 곱해서 더해주면 된다.\n",
        "- 홀수인경우: 곱해주고 맨마지막은 더해준다. \n"
      ]
    },
    {
      "cell_type": "code",
      "metadata": {
        "colab": {
          "base_uri": "https://localhost:8080/",
          "height": 334
        },
        "id": "-wl1JEjNOWYx",
        "outputId": "086b925e-c362-41a5-e023-929b7ffa0437"
      },
      "source": [
        "N=int(input())\n",
        "\n",
        "pos=[]\n",
        "neg=[]\n",
        "\n",
        "result=0\n",
        "\n",
        "for _ in range(N):\n",
        "  num=int(input())\n",
        "\n",
        "  if num>1:\n",
        "    pos.append(num)\n",
        "  elif num==1:\n",
        "    result+=1\n",
        "  else:\n",
        "    neg.append(num)\n",
        "\n",
        "pos.sort(revers=True)\n",
        "neg.sort()\n",
        "\n",
        "if len(pos)%2==0:\n",
        "  for i in range(0,len(pos),2):\n",
        "    result+=pos[i]*pos[i+1]\n",
        "else:\n",
        "  for i in range(0,len(pos)-1,2):\n",
        "    result+=pos[i]*pos[i+1]\n",
        "  result+=pos[len(pos)-1]\n",
        "\n",
        "\n",
        "if len(neg)%2==0:\n",
        "  for i in range(0,len(neg),2):\n",
        "    result+=neg[i]*neg[i+1]\n",
        "else:\n",
        "  for i in range(0,len(neg)-1,2):\n",
        "    result+=neg[i]*neg[i+1]\n",
        "  result+=neg[len(neg)-1]\n",
        "\n",
        "print(result)\n",
        "\n",
        "\n",
        "\n"
      ],
      "execution_count": null,
      "outputs": [
        {
          "name": "stdout",
          "output_type": "stream",
          "text": [
            "4\n",
            "-1\n",
            "2\n",
            "1\n",
            "3\n"
          ]
        },
        {
          "output_type": "error",
          "ename": "TypeError",
          "evalue": "ignored",
          "traceback": [
            "\u001b[0;31m---------------------------------------------------------------------------\u001b[0m",
            "\u001b[0;31mTypeError\u001b[0m                                 Traceback (most recent call last)",
            "\u001b[0;32m<ipython-input-51-e1c028de4b2d>\u001b[0m in \u001b[0;36m<module>\u001b[0;34m()\u001b[0m\n\u001b[1;32m     16\u001b[0m     \u001b[0mneg\u001b[0m\u001b[0;34m.\u001b[0m\u001b[0mappend\u001b[0m\u001b[0;34m(\u001b[0m\u001b[0mnum\u001b[0m\u001b[0;34m)\u001b[0m\u001b[0;34m\u001b[0m\u001b[0;34m\u001b[0m\u001b[0m\n\u001b[1;32m     17\u001b[0m \u001b[0;34m\u001b[0m\u001b[0m\n\u001b[0;32m---> 18\u001b[0;31m \u001b[0mpos\u001b[0m\u001b[0;34m.\u001b[0m\u001b[0msort\u001b[0m\u001b[0;34m(\u001b[0m\u001b[0mreversed\u001b[0m\u001b[0;34m=\u001b[0m\u001b[0;32mTrue\u001b[0m\u001b[0;34m)\u001b[0m\u001b[0;34m\u001b[0m\u001b[0;34m\u001b[0m\u001b[0m\n\u001b[0m\u001b[1;32m     19\u001b[0m \u001b[0mneg\u001b[0m\u001b[0;34m.\u001b[0m\u001b[0msort\u001b[0m\u001b[0;34m(\u001b[0m\u001b[0;34m)\u001b[0m\u001b[0;34m\u001b[0m\u001b[0;34m\u001b[0m\u001b[0m\n\u001b[1;32m     20\u001b[0m \u001b[0;34m\u001b[0m\u001b[0m\n",
            "\u001b[0;31mTypeError\u001b[0m: 'reversed' is an invalid keyword argument for sort()"
          ]
        }
      ]
    }
  ]
}
{
  "nbformat": 4,
  "nbformat_minor": 0,
  "metadata": {
    "colab": {
      "name": "Progrmmers_Greedy.ipynb",
      "provenance": [],
      "collapsed_sections": [],
      "toc_visible": true,
      "authorship_tag": "ABX9TyNbiVmJFYnWLtrXqJZ+X0EU",
      "include_colab_link": true
    },
    "kernelspec": {
      "name": "python3",
      "display_name": "Python 3"
    },
    "language_info": {
      "name": "python"
    }
  },
  "cells": [
    {
      "cell_type": "markdown",
      "metadata": {
        "id": "view-in-github",
        "colab_type": "text"
      },
      "source": [
        "<a href=\"https://colab.research.google.com/github/crakcode/CodingStudy/blob/main/Progrmmers_Greedy.ipynb\" target=\"_parent\"><img src=\"https://colab.research.google.com/assets/colab-badge.svg\" alt=\"Open In Colab\"/></a>"
      ]
    },
    {
      "cell_type": "markdown",
      "metadata": {
        "id": "s2nvfoVfC5MS"
      },
      "source": [
        "# 그리디 문제 연습/ 프로그래머스\n",
        "\n",
        "- 체육복 (프로그래머스)\n",
        "\n",
        "\n",
        "- 섬연결하기( 프로그래머스)\n",
        "- 단속카메라(프로그래머스)"
      ]
    },
    {
      "cell_type": "markdown",
      "metadata": {
        "id": "-C4VyYrDDkaZ"
      },
      "source": [
        "## 체육복\n",
        "\n",
        "\n"
      ]
    },
    {
      "cell_type": "code",
      "metadata": {
        "colab": {
          "base_uri": "https://localhost:8080/"
        },
        "id": "fvgzI7GNDliD",
        "outputId": "c536865f-1d0f-4d4b-f971-0ad0b160a006"
      },
      "source": [
        "'''\n",
        "1. 편의상 맨 앞과 뒤에 1을 붙인다. 1은 추후 설정에 영향을 미치지 않는다.\n",
        "2. \n",
        "\n",
        "'''\n",
        "\n",
        "def solution(n,lost,reserve):\n",
        "    arr=[1]*(n+2)\n",
        "    \n",
        "    for l in lost:\n",
        "        arr[l]-=1\n",
        "\n",
        "    for r in reserve:\n",
        "        arr[r]+=1\n",
        "\n",
        "    for i in range(1,n+1):\n",
        "        if arr[i]==0 and arr[i-1]==2:\n",
        "            arr[i],arr[i-1]=1,1\n",
        "        elif arr[i]==0 and arr[i+1]==2:\n",
        "            arr[i],arr[i+1]=1,1\n",
        "    \n",
        "    res=0\n",
        "    for i in range(1,n+1):\n",
        "        if arr[i]!=0:\n",
        "            res+=1\n",
        "            \n",
        "    return res"
      ],
      "execution_count": 7,
      "outputs": [
        {
          "output_type": "stream",
          "name": "stdout",
          "text": [
            "[1, 1, 1, 1, 0, 1]\n",
            "5\n"
          ]
        }
      ]
    },
    {
      "cell_type": "markdown",
      "metadata": {
        "id": "w8uGIxY0TdE9"
      },
      "source": [
        "## 섬연결하기\n"
      ]
    },
    {
      "cell_type": "code",
      "metadata": {
        "colab": {
          "base_uri": "https://localhost:8080/"
        },
        "id": "t3g8xttFTdgd",
        "outputId": "a2904082-921a-4681-f862-b5d7714d67e8"
      },
      "source": [
        "n=4\n",
        "costs=[[0,1,1],[0,2,2],[1,2,5],[1,3,1],[2,3,8]]\t\n",
        "\n",
        "arr=[i for i in range(n)]\n",
        "\n",
        "INF=int(1e9)\n",
        "matrix=[[INF]*(n) for i in range(n)]\n",
        "\n",
        "\n",
        "\n",
        "for cost in costs:\n",
        "  a,b,c=cost[0],cost[1],cost[2]\n",
        "  matrix[a][b]=c\n",
        "  matrix[b][a]=c\n",
        "\n",
        "for i in range(n):\n",
        "  for j in range(n):\n",
        "    if i==j:\n",
        "      matrix[i][j]=0\n",
        "\n",
        "for k in range(n):\n",
        "  for i in range(n):\n",
        "    for j in range(n):\n",
        "      matrix[i][j]=min(matrix[i][j],matrix[i][k]+matrix[k][j])\n",
        "\n",
        "for i in matrix:\n",
        "  print(i)\n",
        "\n",
        "\n"
      ],
      "execution_count": 15,
      "outputs": [
        {
          "output_type": "stream",
          "name": "stdout",
          "text": [
            "[0, 1, 2, 2]\n",
            "[1, 0, 3, 1]\n",
            "[2, 3, 0, 4]\n",
            "[2, 1, 4, 0]\n"
          ]
        }
      ]
    },
    {
      "cell_type": "markdown",
      "metadata": {
        "id": "3K6ajWZ1MSqc"
      },
      "source": [
        "## 단속카메라 \n"
      ]
    },
    {
      "cell_type": "code",
      "metadata": {
        "colab": {
          "base_uri": "https://localhost:8080/"
        },
        "id": "T3dBpykPQNun",
        "outputId": "9395c68e-5ca8-49b9-bf62-4e3db4f95dc1"
      },
      "source": [
        "'''\n",
        "간단하게 생각해보자 \n",
        "1. 일단 구간을 앞,뒤 로 나누어서 생각해보면 된다.\n",
        "2. 구간을 뒤에 부분이 겹치면 그 값을 사용하면 된다는 부분을 아이디어로 삼는다.\n",
        "3. 뒤부분의 크기가 작은것을 기준으로 삼아서 오름차순 정렬한다.\n",
        "4. 맨 뒤에 있는값을 기준으로 생각해보자 \n",
        "4-1. 맨뒤에 있는값이 다음값의 앞,뒤에 들어간다면 그냥 넘어간다.\n",
        "4-2. 맨뒤에 있는값이 다음값의 앞보다 작다면 그값의 cnt를 증가시키고 k를 증가시킨다.\n",
        "\n",
        "'''\n",
        "\n",
        "routes=[[-20,-15], [-14,-5], [-18,-13], [-5,-3]]\t\n",
        "\n",
        "\n",
        "routes.sort(key=lambda x:x[1])\n",
        "print(routes)\n",
        "\n",
        "cnt=1\n",
        "\n",
        "temp=routes[0][1]\n",
        "routes=routes[1:]\n",
        "\n",
        "for k,v in routes:\n",
        "\n",
        "  if k<=temp<=v:\n",
        "    continue\n",
        "\n",
        "  elif temp<k:\n",
        "    temp=v\n",
        "    cnt+=1\n",
        "\n",
        "print(cnt)\n",
        "\n",
        "\n",
        "      \n",
        "\n",
        "\n"
      ],
      "execution_count": 13,
      "outputs": [
        {
          "output_type": "stream",
          "name": "stdout",
          "text": [
            "[[-20, -15], [-18, -13], [-14, -5], [-5, -3]]\n",
            "2\n"
          ]
        }
      ]
    },
    {
      "cell_type": "markdown",
      "metadata": {
        "id": "8gm0K-Nx6vns"
      },
      "source": [
        "## Union Find 알고리즘"
      ]
    },
    {
      "cell_type": "code",
      "metadata": {
        "id": "rEl2mBrZ6wjF"
      },
      "source": [
        ""
      ],
      "execution_count": null,
      "outputs": []
    },
    {
      "cell_type": "code",
      "metadata": {
        "id": "tTr0yiDvA4xK"
      },
      "source": [
        ""
      ],
      "execution_count": null,
      "outputs": []
    },
    {
      "cell_type": "code",
      "metadata": {
        "id": "oqfjdpeuA68y"
      },
      "source": [
        ""
      ],
      "execution_count": null,
      "outputs": []
    },
    {
      "cell_type": "markdown",
      "metadata": {
        "id": "6TbFS3ZqA42B"
      },
      "source": [
        "## 무기공학\n",
        "\n",
        "\n"
      ]
    },
    {
      "cell_type": "code",
      "metadata": {
        "id": "KVb6p0JbA8VJ"
      },
      "source": [
        "n,m=map(int,input().split())\n",
        "\n",
        "def search(x,y):\n",
        "  if not visited[x+1][y] and not visited[x][y+1] and not visited[x][y]:\n",
        "    visited[x+1][y]=True\n",
        "    visited[x][y+1]=True\n",
        "    return True \n",
        "  return False\n",
        "  \n",
        "\n",
        "\n",
        "max_value=0\n",
        "for _ in range(n*m):\n",
        "  visited=[[False]*(m) for i in range(n)]\n",
        "  temp=0\n",
        "  for i in range(n):\n",
        "    for j in range(m):\n",
        "      if \n",
        "      if search(i,j):\n",
        "\n",
        "        \n",
        "\n",
        "      \n",
        "\n"
      ],
      "execution_count": null,
      "outputs": []
    },
    {
      "cell_type": "markdown",
      "metadata": {
        "id": "WF8haEHFGRdK"
      },
      "source": [
        "# 그리디 연습 문제/ 백준\n",
        "\n",
        "- 1339\t단어 수학\n",
        "- 1744\t수 묶기  \n",
        "- 2457\t공주님의 정원\n",
        "- 11000\t강의실 배정\n",
        "- 2212\t센서\n",
        "- 1461\t도서관\n",
        "- 1041\t주사위\t\n",
        "- 1092\t배\n",
        "- 13904\t과제\n",
        "- 8980\t택배\n",
        "- 2437\t저울"
      ]
    },
    {
      "cell_type": "markdown",
      "metadata": {
        "id": "agaXk4U0Qyqa"
      },
      "source": [
        "## 수묶기\n",
        "\n",
        "1. 1을 기준으로 나머지를 나눈다.\n",
        "\n",
        "1-1. 1보다 큰경우 positive에 저장해준다.\n",
        "1-2. 1과 같은 경우 그냥 더해준다.\n",
        "1-3. 1보다 작은경우 0까지 포함시켜서 negative에 저장해준다.\n",
        "\n",
        "2. 정렬을 수행한다.\n",
        "- positive: 큰것은 큰것끼리 곱하기에 reverse sort\n",
        "- negative: 작은것끼리 곱해서 더해준다. 걍 sort \n",
        "\n",
        "3. positive/negative를 기준으로 처리해준다.\n",
        "- 짝수인경우: 걍 곱해서 더해주면 된다.\n",
        "- 홀수인경우: 곱해주고 맨마지막은 더해준다. \n"
      ]
    },
    {
      "cell_type": "code",
      "metadata": {
        "colab": {
          "base_uri": "https://localhost:8080/",
          "height": 334
        },
        "id": "-wl1JEjNOWYx",
        "outputId": "086b925e-c362-41a5-e023-929b7ffa0437"
      },
      "source": [
        "N=int(input())\n",
        "\n",
        "pos=[]\n",
        "neg=[]\n",
        "\n",
        "result=0\n",
        "\n",
        "for _ in range(N):\n",
        "  num=int(input())\n",
        "\n",
        "  if num>1:\n",
        "    pos.append(num)\n",
        "  elif num==1:\n",
        "    result+=1\n",
        "  else:\n",
        "    neg.append(num)\n",
        "\n",
        "pos.sort(revers=True)\n",
        "neg.sort()\n",
        "\n",
        "if len(pos)%2==0:\n",
        "  for i in range(0,len(pos),2):\n",
        "    result+=pos[i]*pos[i+1]\n",
        "else:\n",
        "  for i in range(0,len(pos)-1,2):\n",
        "    result+=pos[i]*pos[i+1]\n",
        "  result+=pos[len(pos)-1]\n",
        "\n",
        "\n",
        "if len(neg)%2==0:\n",
        "  for i in range(0,len(neg),2):\n",
        "    result+=neg[i]*neg[i+1]\n",
        "else:\n",
        "  for i in range(0,len(neg)-1,2):\n",
        "    result+=neg[i]*neg[i+1]\n",
        "  result+=neg[len(neg)-1]\n",
        "\n",
        "print(result)\n",
        "\n",
        "\n",
        "\n"
      ],
      "execution_count": null,
      "outputs": [
        {
          "name": "stdout",
          "output_type": "stream",
          "text": [
            "4\n",
            "-1\n",
            "2\n",
            "1\n",
            "3\n"
          ]
        },
        {
          "output_type": "error",
          "ename": "TypeError",
          "evalue": "ignored",
          "traceback": [
            "\u001b[0;31m---------------------------------------------------------------------------\u001b[0m",
            "\u001b[0;31mTypeError\u001b[0m                                 Traceback (most recent call last)",
            "\u001b[0;32m<ipython-input-51-e1c028de4b2d>\u001b[0m in \u001b[0;36m<module>\u001b[0;34m()\u001b[0m\n\u001b[1;32m     16\u001b[0m     \u001b[0mneg\u001b[0m\u001b[0;34m.\u001b[0m\u001b[0mappend\u001b[0m\u001b[0;34m(\u001b[0m\u001b[0mnum\u001b[0m\u001b[0;34m)\u001b[0m\u001b[0;34m\u001b[0m\u001b[0;34m\u001b[0m\u001b[0m\n\u001b[1;32m     17\u001b[0m \u001b[0;34m\u001b[0m\u001b[0m\n\u001b[0;32m---> 18\u001b[0;31m \u001b[0mpos\u001b[0m\u001b[0;34m.\u001b[0m\u001b[0msort\u001b[0m\u001b[0;34m(\u001b[0m\u001b[0mreversed\u001b[0m\u001b[0;34m=\u001b[0m\u001b[0;32mTrue\u001b[0m\u001b[0;34m)\u001b[0m\u001b[0;34m\u001b[0m\u001b[0;34m\u001b[0m\u001b[0m\n\u001b[0m\u001b[1;32m     19\u001b[0m \u001b[0mneg\u001b[0m\u001b[0;34m.\u001b[0m\u001b[0msort\u001b[0m\u001b[0;34m(\u001b[0m\u001b[0;34m)\u001b[0m\u001b[0;34m\u001b[0m\u001b[0;34m\u001b[0m\u001b[0m\n\u001b[1;32m     20\u001b[0m \u001b[0;34m\u001b[0m\u001b[0m\n",
            "\u001b[0;31mTypeError\u001b[0m: 'reversed' is an invalid keyword argument for sort()"
          ]
        }
      ]
    },
    {
      "cell_type": "markdown",
      "metadata": {
        "id": "kV_Z--8SGVcU"
      },
      "source": [
        "## 강의실 배정 110000\n"
      ]
    },
    {
      "cell_type": "code",
      "metadata": {
        "id": "eOZH3mY6HFFc"
      },
      "source": [
        "'''\n",
        "일단 heap을 만들고 \n",
        "\n",
        "\n",
        "1. 끝나는 시간이 추후 값의 시작시간을 비교한다.\n",
        "1-1. 끝나는 시간이 다음 시작 시간 보다 크다면: heap 에 저장 \n",
        "1-2. 끝나는 시간이 다음 시작 시간 보다 작다면: heap에서 빼주고 heap에 다음번 끝시간 을 담는다.\n",
        "\n",
        "\n",
        "\n",
        "'''\n",
        "import heapq \n",
        "\n",
        "n=int(input())\n",
        "arr=[]\n",
        "for _ in range(n):\n",
        "  s,t=map(int,input().split())\n",
        "  timetable.append((s,t))\n",
        "\n",
        "timetable.sort(key=lambda x:x[1])\n",
        "\n",
        "heap=[]\n",
        "heapq.heappush(heap,timetable[0][1])\n",
        "\n",
        "for i in range(1,n):\n",
        "  if heap[0]>timetable[i][0]:\n",
        "    heapq.heappush(heap,timetable[i][1])\n",
        "  else:\n",
        "    heapq.heappop(heap)\n",
        "    heapq.heappush(heap,timetable[i][1])\n",
        "  \n",
        "\n",
        "\n",
        "print(cnt)\n",
        "\n",
        "\n"
      ],
      "execution_count": null,
      "outputs": []
    },
    {
      "cell_type": "code",
      "metadata": {
        "id": "63muFAUTZrrU"
      },
      "source": [
        "from collections import deque\n",
        "\n",
        "n = int(input())\n",
        "arr = []\n",
        "timetable=[]\n",
        "\n",
        "for _ in range(n):\n",
        "    s, t = map(int, input().split())\n",
        "    timetable.append((s, t))\n",
        "\n",
        "timetable.sort(key=lambda x: x[1])\n",
        "\n",
        "dq = deque([timetable[0][1]])\n",
        "\n",
        "for i in range(1, n):\n",
        "    if dq[0] > timetable[i][0]:\n",
        "        dq.append(timetable[i][1])\n",
        "    else:\n",
        "        dq.popleft()\n",
        "        dq.append(timetable[i][1])\n",
        "\n",
        "dq = list(dq)\n",
        "print(len(dq))\n",
        "\n",
        "\n",
        "\n",
        "\n",
        "\n"
      ],
      "execution_count": null,
      "outputs": []
    }
  ]
}
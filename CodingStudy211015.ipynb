{
  "nbformat": 4,
  "nbformat_minor": 0,
  "metadata": {
    "colab": {
      "name": "CodingStudy211015.ipynb",
      "provenance": [],
      "collapsed_sections": [],
      "authorship_tag": "ABX9TyNFVmj1x09S2TbF/xNFt7zj",
      "include_colab_link": true
    },
    "kernelspec": {
      "name": "python3",
      "display_name": "Python 3"
    },
    "language_info": {
      "name": "python"
    }
  },
  "cells": [
    {
      "cell_type": "markdown",
      "metadata": {
        "id": "view-in-github",
        "colab_type": "text"
      },
      "source": [
        "<a href=\"https://colab.research.google.com/github/crakcode/CodingStudy/blob/main/CodingStudy211015.ipynb\" target=\"_parent\"><img src=\"https://colab.research.google.com/assets/colab-badge.svg\" alt=\"Open In Colab\"/></a>"
      ]
    },
    {
      "cell_type": "markdown",
      "metadata": {
        "id": "g070VTe5jhMZ"
      },
      "source": [
        "## 컨베이어 벨트 위의 로봇\n",
        "\n",
        "\n",
        "- [문제링크](https://www.acmicpc.net/problem/20055)\n",
        "- 문제내용\n",
        "길이가 N인 컨베이어 벨트가 있고, 길이가 2N인 벨트가 이 컨베이어 \n",
        "벨트를 위아래로 감싸며 돌고 있다. 벨트는 길이 1 간격으로 2N개의 \n",
        "칸으로 나뉘어져 있으며, 각 칸에는 아래 그림과 같이 1부터 \n",
        "2N까지의 번호가 매겨져 있다.\n",
        "\n",
        "- 시간복잡도\n"
      ]
    },
    {
      "cell_type": "code",
      "metadata": {
        "colab": {
          "base_uri": "https://localhost:8080/"
        },
        "id": "UgaaBzqluQP0",
        "outputId": "e2dc470a-315c-4bd4-b282-4ba8eee17cd6"
      },
      "source": [
        "n,m=map(int,input().split())\n",
        "arr = list(map(int, input().split()))[1:]\n",
        "\n",
        "people_arr=[]\n",
        "\n",
        "for _ in range(m):\n",
        "  temp=list(map(int,input().split()))\n",
        "  c=temp[0]\n",
        "  people=temp[1:]\n",
        "  for i in range(c):\n",
        "    if people[i] in arr:\n",
        "      arr.extend(people)\n",
        "      break \n",
        "  people_arr.append(people)\n",
        "\n",
        "\n",
        "def delete_tuple(lst):\n",
        "  new=[]\n",
        "  for i in range(len(lst)):\n",
        "    if lst[i] not in new:\n",
        "      new.append(lst[i])\n",
        "  return new \n",
        "\n",
        "arr=delete_tuple(arr)\n",
        "\n",
        "cnt=0\n",
        "\n",
        "for i in range(m):\n",
        "  flag=0\n",
        "  for j in range(len(people_arr[i])):\n",
        "    if people_arr[i][j] in arr:\n",
        "      break \n",
        "    else:\n",
        "      flag+=1\n",
        "  if flag==len(people_arr[i]):\n",
        "    cnt+=1\n",
        "\n",
        "print(cnt)"
      ],
      "execution_count": null,
      "outputs": [
        {
          "output_type": "stream",
          "name": "stdout",
          "text": [
            "8 5\n",
            "3 1 2 7\n",
            "2 3 4\n",
            "1 5\n",
            "2 5 6\n",
            "2 6 8\n",
            "1 8\n",
            "5\n"
          ]
        }
      ]
    },
    {
      "cell_type": "code",
      "metadata": {
        "colab": {
          "base_uri": "https://localhost:8080/"
        },
        "id": "ALiYR6E45VLS",
        "outputId": "f43f645e-296d-4db8-b310-bb31737f3f26"
      },
      "source": [
        "'''\n",
        "1. 참가자 리스트 만들기 \n",
        "2. 전체가 가능하다고 가정하고 1로 초기화한 리스트를 만든다.\n",
        "3. 리스트를 받은 만큼 조회 하면서 해당 위치의 인덱스를 변경\n",
        "4. 만약 해당 파티에 있는 값이 이미 존재한경우도 있으니 union하여 조합한다. \n",
        "'''\n",
        "\n",
        "cnt_party = int(sys.stdin.readline().rstrip().split()[1])\n",
        "m=cnt_party\n",
        "witness = set(sys.stdin.readline().rstrip().split()[1:])\n",
        "\n",
        "witness=set(witness)\n",
        "\n",
        "party_li=[]\n",
        "positive=[]\n",
        "\n",
        "for _ in range(m):\n",
        "  temp = list(map(int, input().split()))[1:]\n",
        "  party_li.append(temp)\n",
        "  positive.append(1)\n",
        "\n",
        "for _ in range(m):\n",
        "  for i,party in enumerate(party_li):\n",
        "    if witness.intersection(party):\n",
        "      positive[i]=0\n",
        "      witness.union(party)\n",
        "print(sum(positive))\n",
        "  \n",
        "\n",
        "\n",
        "\n",
        "\n",
        "\n"
      ],
      "execution_count": null,
      "outputs": [
        {
          "output_type": "stream",
          "name": "stdout",
          "text": [
            "4 1\n",
            "1 1\n",
            "4 1 2 3 4\n",
            "0\n"
          ]
        }
      ]
    },
    {
      "cell_type": "code",
      "metadata": {
        "id": "uBKrLuadDQaq"
      },
      "source": [
        "import sys\n",
        "\n",
        "cnt_party = int(sys.stdin.readline().rstrip().split()[1])\n",
        "witness_set = set(sys.stdin.readline().rstrip().split()[1:])\n",
        "\n",
        "party_list = []\n",
        "possible_list = []\n",
        "\n",
        "for _ in range(cnt_party):\n",
        "  party_list.append(set(sys.stdin.readline().rstrip().split()[1:]))\n",
        "  possible_list.append(1)\n",
        "\n",
        "for _ in range(cnt_party):\n",
        "  for i, party in enumerate(party_list):\n",
        "    if witness_set.intersection(party):\n",
        "      possible_list[i] = 0\n",
        "      witness_set = witness_set.union(party)\n",
        "\n",
        "print(sum(possible_list))\n"
      ],
      "execution_count": null,
      "outputs": []
    },
    {
      "cell_type": "code",
      "metadata": {
        "colab": {
          "base_uri": "https://localhost:8080/"
        },
        "id": "nrh8mDf4FWO-",
        "outputId": "93897680-3270-4fb5-83ac-c89186d1d311"
      },
      "source": [
        "from collections import deque \n",
        "\n",
        "\n",
        "n,m=map(int,input().split())\n",
        "\n",
        "\n",
        "\n",
        "visited=[False]*(m)\n",
        "dp=[1000000]*(m)\n",
        "\n",
        "dp[n]=0\n",
        "\n",
        "def BFS(x,k):\n",
        "  if x==k:\n",
        "    return\n",
        "  dq=deque()\n",
        "  dq.append(x)\n",
        "  while dq:\n",
        "    now=dq.popleft()\n",
        "    visited[now]=True\n",
        "    for next in (now+1,now-1,now*2):\n",
        "      if visited[next]:\n",
        "        continue\n",
        "      if 0<next<k:\n",
        "        if next==now+1 or now-1:\n",
        "          dp[next]=min(dp[now]+1,dp[next])\n",
        "          dq.append(next)\n",
        "        else:\n",
        "          dp[next]=min(dp[now],dp[next])\n",
        "          dq.append(next)\n",
        "\n",
        "\n",
        "\n",
        "\n",
        "\n",
        "\n",
        "  "
      ],
      "execution_count": null,
      "outputs": [
        {
          "output_type": "stream",
          "name": "stdout",
          "text": [
            "5 17\n",
            "[0, 1, 2, 3, 1, 0, 1, 1, 2, 2, 3, 3, 2]\n"
          ]
        }
      ]
    },
    {
      "cell_type": "code",
      "metadata": {
        "id": "Gh95bvzXMjWq"
      },
      "source": [
        "from collections import deque\n",
        "import sys\n",
        "input=sys.stdin.readline\n",
        "\n",
        "'''\n",
        "우선순위를 다르게 가져야 한다.\n",
        "\n",
        "1. *2 를한것은 먼저 계산되어져야 되기 때문에 \n",
        "appendleft를 통해서 먼저 노드에 넣어준다. \n",
        "2. next의 값을 0부터 로 잡아주어야 한다. n부터 잡아주면 k가 n보다 작을때는 \n",
        "생각을 하지 않기 때문이다. \n",
        "\n",
        "'''\n",
        "\n",
        "n,k=map(int,input().split())\n",
        "dq=deque()\n",
        "visited=[-1]*(100002)\n",
        "\n",
        "visited[n]=0\n",
        "dq.append(n)\n",
        "\n",
        "while dq: \n",
        "  now=dq.popleft()\n",
        "  for next in [now+1,now-1,2*now]:\n",
        "    if 0<=next<=100001:\n",
        "      if visited[next]==-1 and next==2*now:\n",
        "        visited[next]=visited[now]\n",
        "        dq.appendleft(next)\n",
        "      elif visited[next]==-1 and (next==now-1 or next==now+1):\n",
        "        visited[next]=visited[now]+1\n",
        "        dq.append(next)\n",
        "\n",
        "print(visited[k])\n"
      ],
      "execution_count": null,
      "outputs": []
    },
    {
      "cell_type": "code",
      "metadata": {
        "id": "JsJCYhWKejEb",
        "colab": {
          "base_uri": "https://localhost:8080/"
        },
        "outputId": "02d8e757-f759-435e-8f2f-5db48070154b"
      },
      "source": [
        "'''\n",
        "\n",
        "1. 트리를 구현한다.\n",
        "2. 트리에서 루트 노드에서 가장  먼 노드를 dfs 로 구한다.\n",
        "3. 2번에서 구한 가장 먼노드에서 한번더 가장 먼 노드를 dfs 로 구한다. \n",
        "\n",
        "'''\n",
        "\n",
        "n=int(input())\n",
        "graph=[[] for i in range(n+1)]\n",
        "\n",
        "distance=[-1]*(n+1)\n",
        "distance[1]=0\n",
        "\n",
        "for _ in range(n):\n",
        "  a,b,c=map(int,input().split())\n",
        "  graph[a].append((b,c))\n",
        "  graph[b].append((a,c))\n",
        "\n",
        "\n",
        "def dfs(v,weight):\n",
        "  for next,w in graph[v]:\n",
        "    if distance[next]==-1:\n",
        "      distance[next]=weight+w\n",
        "      dfs(next,distance[next])\n",
        "\n",
        "dfs(1,0)\n",
        "\n",
        "start=distance.index(max(distance))\n",
        "distance=[-1]*(n+1)\n",
        "distance[start]=0\n",
        "dfs(start,0)\n",
        "print(max(distance))\n",
        "\n",
        "\n",
        "\n",
        "\n",
        "\n",
        "\n"
      ],
      "execution_count": null,
      "outputs": [
        {
          "output_type": "stream",
          "name": "stdout",
          "text": [
            "3\n",
            "1 2 3\n",
            "1 3 2\n",
            "2 3 1\n",
            "[]\n",
            "[(2, 3), (3, 2)]\n",
            "[(1, 3), (3, 1)]\n",
            "[(1, 2), (2, 1)]\n"
          ]
        }
      ]
    },
    {
      "cell_type": "code",
      "metadata": {
        "colab": {
          "base_uri": "https://localhost:8080/",
          "height": 316
        },
        "id": "ljEGOyv-ch0J",
        "outputId": "c5e27b47-6d71-49e4-971c-a708923b4149"
      },
      "source": [
        "\n",
        "\n",
        "'''\n",
        "\n",
        "산봉우리 문제에서 착안\n",
        "\n",
        "1. matrix에서 없애는게 아니라 2개 이상인경우  지점과 맞닿는 경우 1을 그대로 둔다.\n",
        "2. matrix에서 1이고 matrix 접하는게 1개인 경우 탐색 지점에서 +1 을 해준다.\n",
        "3. matrix에서 1이고 matrix 접하는게 0 인경우 탐색지점에서 +2 를 해준다. \n",
        "'''\n",
        "\n",
        "\n",
        "\n",
        "n,m=map(int,input().split())\n",
        "matrix=[]\n",
        "\n",
        "\n",
        "for _ in range(n):\n",
        "  matrix.append(list(map(int,input().split())))\n",
        "\n",
        "dx=[0,0,-1,1]\n",
        "dy=[1,-1,0,0]\n",
        "\n",
        "\n",
        "for i in range(n):\n",
        "  for j in range(m):\n",
        "    cnt=0\n",
        "    temp=1000000\n",
        "    if matrix[i][j]==1:\n",
        "      for i in range(4):\n",
        "        nx=i+dx[i] \n",
        "        ny=j+dy[i]\n",
        "        if 0<=nx<n and 0<=ny<m:\n",
        "          if matrix[nx][ny]==0:\n",
        "            cnt+=1\n",
        "          else:\n",
        "            if temp<matrix[nx][ny]:\n",
        "              temp=matirx[nx][ny]\n",
        "    if cnt==1:\n",
        "      matrix[i][j]=temp+1\n",
        "    elif cnt==0:\n",
        "      matrix[i][j]=temp+2\n",
        "  \n",
        "for i in matrix:\n",
        "  print(i)       \n",
        "\n",
        "\n",
        "\n",
        "\n"
      ],
      "execution_count": null,
      "outputs": [
        {
          "name": "stdout",
          "output_type": "stream",
          "text": [
            "3 3\n",
            "0 1 0\n",
            "1 1 1\n",
            "0 1 0\n"
          ]
        },
        {
          "output_type": "error",
          "ename": "IndexError",
          "evalue": "ignored",
          "traceback": [
            "\u001b[0;31m---------------------------------------------------------------------------\u001b[0m",
            "\u001b[0;31mIndexError\u001b[0m                                Traceback (most recent call last)",
            "\u001b[0;32m<ipython-input-4-608918a58387>\u001b[0m in \u001b[0;36m<module>\u001b[0;34m()\u001b[0m\n\u001b[1;32m     38\u001b[0m               \u001b[0mtemp\u001b[0m\u001b[0;34m=\u001b[0m\u001b[0mmatirx\u001b[0m\u001b[0;34m[\u001b[0m\u001b[0mnx\u001b[0m\u001b[0;34m]\u001b[0m\u001b[0;34m[\u001b[0m\u001b[0mny\u001b[0m\u001b[0;34m]\u001b[0m\u001b[0;34m\u001b[0m\u001b[0;34m\u001b[0m\u001b[0m\n\u001b[1;32m     39\u001b[0m     \u001b[0;32mif\u001b[0m \u001b[0mcnt\u001b[0m\u001b[0;34m==\u001b[0m\u001b[0;36m1\u001b[0m\u001b[0;34m:\u001b[0m\u001b[0;34m\u001b[0m\u001b[0;34m\u001b[0m\u001b[0m\n\u001b[0;32m---> 40\u001b[0;31m       \u001b[0mmatrix\u001b[0m\u001b[0;34m[\u001b[0m\u001b[0mi\u001b[0m\u001b[0;34m]\u001b[0m\u001b[0;34m[\u001b[0m\u001b[0mj\u001b[0m\u001b[0;34m]\u001b[0m\u001b[0;34m=\u001b[0m\u001b[0mtemp\u001b[0m\u001b[0;34m+\u001b[0m\u001b[0;36m1\u001b[0m\u001b[0;34m\u001b[0m\u001b[0;34m\u001b[0m\u001b[0m\n\u001b[0m\u001b[1;32m     41\u001b[0m     \u001b[0;32melif\u001b[0m \u001b[0mcnt\u001b[0m\u001b[0;34m==\u001b[0m\u001b[0;36m0\u001b[0m\u001b[0;34m:\u001b[0m\u001b[0;34m\u001b[0m\u001b[0;34m\u001b[0m\u001b[0m\n\u001b[1;32m     42\u001b[0m       \u001b[0mmatrix\u001b[0m\u001b[0;34m[\u001b[0m\u001b[0mi\u001b[0m\u001b[0;34m]\u001b[0m\u001b[0;34m[\u001b[0m\u001b[0mj\u001b[0m\u001b[0;34m]\u001b[0m\u001b[0;34m=\u001b[0m\u001b[0mtemp\u001b[0m\u001b[0;34m+\u001b[0m\u001b[0;36m2\u001b[0m\u001b[0;34m\u001b[0m\u001b[0;34m\u001b[0m\u001b[0m\n",
            "\u001b[0;31mIndexError\u001b[0m: list index out of range"
          ]
        }
      ]
    },
    {
      "cell_type": "code",
      "metadata": {
        "id": "d6KQPV9KD-22"
      },
      "source": [
        "from collections import deque \n",
        "\n",
        "n,k=map(int,input().split())\n",
        "arr=list(map(int,input().split()))\n",
        "velt=[]\n",
        "\n",
        "for i in range(len(arr)):\n",
        "  velt.append((arr[i],0))\n",
        "\n",
        "dq=deque(velt)\n",
        "\n",
        "while True:\n",
        "  k,v=dq[0]\n",
        "  if k>=1 and v==0:\n",
        "    k,v=dq.popleft()\n",
        "    dq.append((k-1,1))\n",
        "  elif k>=1 and v==1:\n",
        "    \n",
        "    \n",
        "\n",
        "\n",
        "\n",
        "\n",
        "\n",
        "\n"
      ],
      "execution_count": null,
      "outputs": []
    },
    {
      "cell_type": "markdown",
      "metadata": {
        "id": "upKCV4m8jTUu"
      },
      "source": [
        "## 다시풀기 \n"
      ]
    },
    {
      "cell_type": "code",
      "metadata": {
        "id": "byQ1-zRp2bYZ",
        "colab": {
          "base_uri": "https://localhost:8080/"
        },
        "outputId": "efe25850-7441-4095-bb47-dabd83798c86"
      },
      "source": [
        "from collections import deque \n",
        "\n",
        "n,k=map(int,input().split())\n",
        "\n",
        "'''\n",
        "belt는 내구성을 받는용도\n",
        "visited 방문처리하는 용도 \n",
        "\n",
        "3 2\n",
        "belt    = 1 2 1 2 1 2\n",
        "visited = 0 0 0 0 0 0\n",
        "\n",
        "'''\n",
        "belt=deque(list(map(int,input().split())))\n",
        "visited=deque([0]*(n))\n",
        "res=0\n",
        "\n",
        "while True:\n",
        "  belt.rotate(1)\n",
        "  visited.rotate(1)\n",
        "  visited[-1]=0\n",
        "  print('visited:{}'.format(visited),end=' ')\n",
        "  print('belt:{}'.format(belt))\n",
        "  if sum(visited):\n",
        "    for i in range(n-2,-1,-1):\n",
        "      if visited[i]==1 and visited[i+1]==0 and belt[i+1]>=1:\n",
        "        visited[i+1]=1\n",
        "        visited[i]=0\n",
        "        belt[i+1]-=1\n",
        "    visited[-1]=0\n",
        "  print('visited:{}'.format(visited),end=' ')\n",
        "  print('belt:{}'.format(belt))\n",
        "\n",
        "  if visited[0]==0 and belt[0]>=1:\n",
        "    visited[0]=1\n",
        "    belt[0]-=1\n",
        "  res+=1\n",
        "  print('visited:{}'.format(visited),end=' ')\n",
        "  print('belt:{}'.format(belt))\n",
        "\n",
        "\n",
        "  if belt.count(0)>=k:\n",
        "    break \n",
        "\n",
        "print(res)"
      ],
      "execution_count": null,
      "outputs": [
        {
          "output_type": "stream",
          "name": "stdout",
          "text": [
            "3 2\n",
            "1 2 1 2 1 2\n",
            "visited:deque([0, 0, 0]) belt:deque([2, 1, 2, 1, 2, 1])\n",
            "visited:deque([0, 0, 0]) belt:deque([2, 1, 2, 1, 2, 1])\n",
            "visited:deque([1, 0, 0]) belt:deque([1, 1, 2, 1, 2, 1])\n",
            "visited:deque([0, 1, 0]) belt:deque([1, 1, 1, 2, 1, 2])\n",
            "visited:deque([0, 0, 0]) belt:deque([1, 1, 0, 2, 1, 2])\n",
            "visited:deque([1, 0, 0]) belt:deque([0, 1, 0, 2, 1, 2])\n",
            "2\n"
          ]
        }
      ]
    },
    {
      "cell_type": "code",
      "metadata": {
        "colab": {
          "base_uri": "https://localhost:8080/"
        },
        "id": "lWtSowbBWGkQ",
        "outputId": "5709a709-6ad3-454f-94d0-1e62ea35ecb1"
      },
      "source": [
        "\n",
        "\n",
        "'''\n",
        "풀이 방법\n",
        "1. belt, visited 라는 큐를 만들어 준다.\n",
        "2. rotate를 사용하여 매번 비교해준다.\n",
        "3. 로봇이 visited에 있는 경우 라운드 마다 한칸씩 이동시켜준다.\n",
        "4. visited 맨마지막에 0으로 초기화해준다. \n",
        "5. count 가 k이상이면 \n",
        "\n",
        "'''\n",
        "from collections import deque \n",
        "\n",
        "n,k=map(int,input().split())\n",
        "belt=deque(list(map(int,input().split())))\n",
        "visited=deque([0]*(n))\n",
        "res=0\n",
        "\n",
        "\n",
        "\n",
        "'''\n",
        "풀이 방법\n",
        "1. belt, visited 라는 큐를 만들어 준다.\n",
        "2. rotate를 사용하여 매번 비교해준다.\n",
        "3. 로봇이 visited에 있는 경우 라운드 마다 한칸씩 이동시켜준다.\n",
        "4. visited 맨마지막에 0으로 초기화해준다. \n",
        "5. count 가 k이상이면 \n",
        "\n",
        "'''\n",
        "from collections import deque \n",
        "\n",
        "n,k=map(int,input().split())\n",
        "belt=deque(list(map(int,input().split())))\n",
        "visited=deque([0]*(n))\n",
        "res=0\n",
        "\n",
        "while True: \n",
        "  \n",
        "  # 기본적으로 rotate를 해준다. \n",
        "\n",
        "  belt.rotate(1)\n",
        "  visited.rotate(1)\n",
        "  visited[-1]=0\n",
        "\n",
        "  # 로봇이 한개 이상 있다면 이 조건문을 실행\n",
        "  # 로봇이 있는경우 한칸 옮겨주는 역할을한다.\n",
        "  # 로봇은 ~n까지 존재할수있기에 맨마지막 자리는 0으로 초기화\n",
        "\n",
        "  if sum(visited):\n",
        "    for i in range(n-2,-1,-1):\n",
        "      if visited[i]==1 and belt[i+1]>=1 and visited[i+1]==0:\n",
        "        visited[i]=0\n",
        "        visited[i+1]=1\n",
        "        belt[i+1]-=1\n",
        "    visited[-1]=0\n",
        "\n",
        "  # 로봇이 없는 경우 넣어준다. \n",
        "  if visited[0]==0 and belt[0]>=1:\n",
        "    belt[0]-=1\n",
        "    visited[0]=1\n",
        "  \n",
        "\n",
        "  res+=1\n",
        "  # 내구성이 0인게 k이상 존재하면 멈추고 res 출력한다. \n",
        "  if belt.count(0)>=k:\n",
        "    break \n",
        "print(res)\n"
      ],
      "execution_count": null,
      "outputs": [
        {
          "output_type": "stream",
          "name": "stdout",
          "text": [
            "3 6\n",
            "10 10 10 10 10 10\n",
            "31\n"
          ]
        }
      ]
    },
    {
      "cell_type": "markdown",
      "metadata": {
        "id": "Pbv0PiKFlYtx"
      },
      "source": [
        "## 컨베이어 벨트 위의 로봇\n",
        "\n",
        "\n",
        "- [문제링크](https://www.acmicpc.net/problem/20055)\n",
        "- 문제내용\n",
        "길이가 N인 컨베이어 벨트가 있고, 길이가 2N인 벨트가 이 컨베이어 \n",
        "벨트를 위아래로 감싸며 돌고 있다. 벨트는 길이 1 간격으로 2N개의 \n",
        "칸으로 나뉘어져 있으며, 각 칸에는 아래 그림과 같이 1부터 \n",
        "2N까지의 번호가 매겨져 있다.\n",
        "\n",
        "- 시간복잡도\n"
      ]
    },
    {
      "cell_type": "code",
      "metadata": {
        "colab": {
          "base_uri": "https://localhost:8080/"
        },
        "id": "n_skl2iZlZNR",
        "outputId": "099b09d3-b75f-4257-d7aa-2fa05369ec6d"
      },
      "source": [
        "from itertools import permutations\n",
        "from collections import deque \n",
        "import copy\n",
        "\n",
        "n=int(input())\n",
        "arr=list(map(int,input().split()))\n",
        "operations=list(map(int,input().split()))\n",
        "\n",
        "combi=[]\n",
        "\n",
        "for i in permutations(arr,len(arr)):\n",
        "  combi.append(i)\n",
        "\n",
        "mini=10000000000\n",
        "maxi=0\n",
        "for k in range(len(combi)):\n",
        "  current=combi[k]\n",
        "  temp = copy.deepcopy(operations)\n",
        "  dq=deque(current)\n",
        "  print(dq)\n",
        "  while dq:\n",
        "    result=0 \n",
        "    for i in range(4):\n",
        "      if i==0 and temp[i]>=1:\n",
        "        temp[i]-=1\n",
        "        result+=dq[0]+dq[1]\n",
        "        dq.popleft()\n",
        "      elif i==1 and temp[i]>=1:\n",
        "        temp[i]-=1\n",
        "        result+=dq[0]-dq[1]\n",
        "        dq.popleft()\n",
        "      elif i==2 and temp[i]>=1:\n",
        "        temp[i]-=1\n",
        "        result+=dq[0]*dq[1]\n",
        "        dq.popleft()\n",
        "      elif i==3 and temp[i]>=1:\n",
        "        temp[i]-=1\n",
        "        result+=dq[0]/dq[1]\n",
        "        dq.popleft()\n",
        "    if sum(temp)==0:\n",
        "      break \n",
        "  mini=min(result,mini)\n",
        "  maxi=max(result,maxi)\n",
        "\n",
        "print(mini,maxi)\n",
        "\n",
        "\n",
        "\n",
        "\n",
        "\n",
        "\n",
        "\n",
        "    \n",
        "\n",
        "\n",
        "\n"
      ],
      "execution_count": null,
      "outputs": [
        {
          "output_type": "stream",
          "name": "stdout",
          "text": [
            "3\n",
            "3 4 5\n",
            "1 0 1 0\n",
            "deque([3, 4, 5])\n",
            "deque([3, 5, 4])\n",
            "deque([4, 3, 5])\n",
            "deque([4, 5, 3])\n",
            "deque([5, 3, 4])\n",
            "deque([5, 4, 3])\n",
            "20 28\n"
          ]
        }
      ]
    },
    {
      "cell_type": "code",
      "metadata": {
        "colab": {
          "base_uri": "https://localhost:8080/"
        },
        "id": "oNszK35Ywpep",
        "outputId": "f20aebbb-f80f-448c-8491-c0faafd18b65"
      },
      "source": [
        "from itertools import permutations\n",
        "\n",
        "\n",
        "'''\n",
        "문제의 조건중 n과 A가 작기에 완전탐색을 이용한다. \n",
        "1. 사칙연산자의 조건을 순열을 이용해서 넣어준다.\n",
        "2. 해당 연산자에 대한 조합을 만든다.\n",
        "3. 연산자의 조합수만큼 반복하여 값을 만들어낸다.\n",
        "'''\n",
        "\n",
        "\n",
        "\n",
        "\n",
        "\n",
        "n = int(input())\n",
        "o = ['+','-','*','/']\n",
        "\n",
        "arr=list(map(int,input().split()))\n",
        "oper = list(map(int,input().split()))\n",
        "operations=[]\n",
        "\n",
        "\n",
        "for i in range(4):\n",
        "  temp=[]\n",
        "  for j in range(oper[i]):\n",
        "    operations.append(o[i])\n",
        "\n",
        "operations=list(set(permutations(operations,len(operations))))\n",
        "\n",
        "v_min=10000000\n",
        "v_max=0\n",
        "answer = []\n",
        "\n",
        "for operation in operations:\n",
        "  result=arr[0]\n",
        "  for i in range(len(arr)-1):\n",
        "    if operation[i]=='+':\n",
        "      result+=arr[i+1]\n",
        "    elif operation[i]=='-':\n",
        "      result-=arr[i+1]\n",
        "    elif operation[i]=='*':\n",
        "      result*=arr[i+1]\n",
        "    else:\n",
        "      if result//arr[i+1] <0:\n",
        "        result = -(-result//arr[i+1])\n",
        "      else:\n",
        "        result = result//arr[i+1]\n",
        "  answer.append(result)\n",
        "\n",
        "v_min=min(answer)\n",
        "v_max=max(answer)\n",
        "\n",
        "print(v_max)\n",
        "print(v_min) \n"
      ],
      "execution_count": null,
      "outputs": [
        {
          "output_type": "stream",
          "name": "stdout",
          "text": [
            "6\n",
            "1 2 3 4 5 6\n",
            "2 1 1 1\n",
            "[29, 11, 3, 1, 7, 3, 36, 11, -1, 6, 30, 6, 0, 6, 11, 5, -2, -1, -4, 1, 1, 3, 1, 1, 0, -5, 1, 0, 7, -24, 3, 0, 7, 6, 6, 2, 13, 5, 2, 1, 0, 12, -9, 5, 5, 7, 24, 3, 30, 6, 11, 54, 26, 3, 0, 11, 1, 12, 6, 19]\n",
            "54\n",
            "-24\n"
          ]
        }
      ]
    },
    {
      "cell_type": "code",
      "metadata": {
        "colab": {
          "base_uri": "https://localhost:8080/"
        },
        "id": "KUd4xQBi2vLV",
        "outputId": "5742c10f-3d3d-4f8e-b91b-c83a73a8d376"
      },
      "source": [
        "from itertools import permutations\n",
        "n = int(input())\n",
        "o = ['+','-','*','/']\n",
        "num = list(map(int,input().split()))\n",
        "op = list(map(int,input().split())) # + - * /\n",
        "oper = []\n",
        "oper = []\n",
        "for i in range(4):\n",
        "    for j in range(op[i]):\n",
        "        oper.append(o[i])\n",
        " \n",
        "oper = list(set(permutations(oper,len(oper)))) #중복제거\n",
        "print(oper)\n",
        "print(len(oper))\n",
        "answer = []\n",
        "for i in oper:\n",
        "    n = num[0]\n",
        "    for j in range(len(num)-1):\n",
        "        if i[j]=='+':\n",
        "            n += num[j+1]\n",
        "        elif i[j]=='-':\n",
        "            n -= num[j+1]\n",
        "        elif i[j]=='*':\n",
        "            n *= num[j+1]\n",
        "        else:\n",
        "            if n//num[j+1] <0:\n",
        "                n = -(-n//num[j+1])\n",
        "            else:\n",
        "                n = n//num[j+1]\n",
        " \n",
        "    answer.append(n)\n",
        "print(max(answer))\n",
        "print(min(answer))\n",
        "\n",
        "\n"
      ],
      "execution_count": null,
      "outputs": [
        {
          "output_type": "stream",
          "name": "stdout",
          "text": [
            "6\n",
            "1 2 3 4 5 6\n",
            "2 1 1 1\n",
            "[('/', '+', '+', '*', '-'), ('/', '+', '*', '+', '-'), ('/', '*', '+', '+', '-'), ('/', '+', '-', '*', '+'), ('/', '*', '-', '+', '+'), ('*', '/', '+', '+', '-'), ('/', '-', '+', '+', '*'), ('/', '-', '+', '*', '+'), ('/', '-', '*', '+', '+'), ('+', '-', '*', '/', '+'), ('+', '-', '/', '+', '*'), ('+', '-', '/', '*', '+'), ('+', '-', '+', '/', '*'), ('*', '-', '+', '/', '+'), ('*', '-', '/', '+', '+'), ('/', '*', '+', '-', '+'), ('+', '+', '*', '/', '-'), ('+', '+', '/', '*', '-'), ('+', '*', '+', '/', '-'), ('+', '*', '/', '+', '-'), ('+', '+', '-', '*', '/'), ('+', '+', '*', '-', '/'), ('+', '*', '+', '-', '/'), ('+', '*', '-', '+', '/'), ('*', '+', '+', '-', '/'), ('*', '+', '+', '/', '-'), ('*', '+', '-', '+', '/'), ('*', '+', '/', '+', '-'), ('+', '*', '-', '/', '+'), ('+', '+', '/', '-', '*'), ('+', '*', '/', '-', '+'), ('+', '+', '-', '/', '*'), ('-', '+', '*', '/', '+'), ('-', '*', '+', '/', '+'), ('*', '+', '-', '/', '+'), ('*', '+', '/', '-', '+'), ('/', '+', '*', '-', '+'), ('-', '+', '+', '*', '/'), ('-', '+', '*', '+', '/'), ('-', '*', '+', '+', '/'), ('+', '/', '+', '-', '*'), ('+', '/', '-', '+', '*'), ('+', '/', '-', '*', '+'), ('+', '/', '*', '-', '+'), ('*', '/', '+', '-', '+'), ('*', '/', '-', '+', '+'), ('/', '+', '-', '+', '*'), ('+', '/', '*', '+', '-'), ('-', '+', '/', '+', '*'), ('-', '+', '/', '*', '+'), ('-', '*', '/', '+', '+'), ('-', '/', '+', '+', '*'), ('-', '/', '+', '*', '+'), ('+', '-', '+', '*', '/'), ('+', '-', '*', '+', '/'), ('-', '/', '*', '+', '+'), ('*', '-', '+', '+', '/'), ('/', '+', '+', '-', '*'), ('-', '+', '+', '/', '*'), ('+', '/', '+', '*', '-')]\n",
            "60\n",
            "54\n",
            "-24\n"
          ]
        }
      ]
    },
    {
      "cell_type": "code",
      "metadata": {
        "colab": {
          "base_uri": "https://localhost:8080/"
        },
        "id": "xbVK4HBNgiYN",
        "outputId": "de1fd718-9dec-4ca2-f65c-1b42145409ca"
      },
      "source": [
        "'''\n",
        "1. 문제의 내용이 그래프와 가중치문제임을 직감했다.\n",
        "2. 시간복잡도를 따로 생각할 필요없이 플로이드 워셜을 사용하려고했다. \n",
        "'''\n",
        "n,m,r=map(int,input().split())\n",
        "\n",
        "INF=int(1e9)\n",
        "matrix=[[INF]*(n+1) for i in range(n+1)]\n",
        "arr=list(map(int,input().split()))\n",
        "arr.insert(0,0)\n",
        "\n",
        "for i in range(r):\n",
        "  a,b,w=map(int,input().split())\n",
        "  matrix[a][b]=w\n",
        "  matrix[b][a]=w\n",
        "\n",
        "for i in range(n+1):\n",
        "  for j in range(n+1):\n",
        "    if i==j:\n",
        "      matrix[i][j]=0\n",
        "\n",
        "\n",
        "for k in range(1,n+1):\n",
        "  for i in range(1,n+1):\n",
        "    for j in range(1,n+1):\n",
        "      matrix[i][j]=min(matrix[i][k]+matrix[k][j],matrix[i][j])\n",
        "\n",
        "res=[[]for i in range(n+1)]\n",
        "\n",
        "\n",
        "for i in range(n+1):\n",
        "  res[i].append(i)\n",
        "  for j in range(n+1):\n",
        "    if i==j:\n",
        "      continue\n",
        "    if matrix[i][j]<=m:\n",
        "      res[i].append(j)\n",
        "\n",
        "result=0\n",
        "for row in res:\n",
        "  temp=0\n",
        "  for i in row:\n",
        "    temp+=arr[i]\n",
        "  result=max(result,temp)\n",
        "print(result)"
      ],
      "execution_count": 15,
      "outputs": [
        {
          "output_type": "stream",
          "name": "stdout",
          "text": [
            "5 5 4\n",
            "5 7 8 2 3\n",
            "1 4 5\n",
            "5 2 4\n",
            "3 2 3\n",
            "1 2 3\n",
            "[0, 1000000000, 1000000000, 1000000000, 1000000000, 1000000000]\n",
            "[1000000000, 0, 3, 1000000000, 5, 1000000000]\n",
            "[1000000000, 3, 0, 3, 1000000000, 4]\n",
            "[1000000000, 1000000000, 3, 0, 1000000000, 1000000000]\n",
            "[1000000000, 5, 1000000000, 1000000000, 0, 1000000000]\n",
            "[1000000000, 1000000000, 4, 1000000000, 1000000000, 0]\n",
            "[0, 1000000000, 1000000000, 1000000000, 1000000000, 1000000000]\n",
            "[1000000000, 0, 3, 6, 5, 7]\n",
            "[1000000000, 3, 0, 3, 8, 4]\n",
            "[1000000000, 6, 3, 0, 11, 7]\n",
            "[1000000000, 5, 8, 11, 0, 12]\n",
            "[1000000000, 7, 4, 7, 12, 0]\n",
            "23\n"
          ]
        }
      ]
    },
    {
      "cell_type": "code",
      "metadata": {
        "colab": {
          "base_uri": "https://localhost:8080/"
        },
        "id": "jOA2FPbmy9Rx",
        "outputId": "cf8974c6-a368-4271-aebe-b3fd7f984a29"
      },
      "source": [
        "\n",
        "n,m=map(int,input().split())\n",
        "matrix=[]\n",
        "\n",
        "for _ in range(n):\n",
        "  matrix.append(list(map(int,input().split())))\n",
        "\n",
        "\n",
        "def sum_matrix(matrix):\n",
        "  result=[]\n",
        "  for i in matrix:\n",
        "    result.extend(i)\n",
        "  return sum(result)\n",
        "\n",
        "dx=[0,0,-1,1]\n",
        "dy=[1,-1,0,0]\n",
        "\n",
        "res=0\n",
        "while sum_matrix(matrix)>0:\n",
        "  for i in range(n):\n",
        "    for j in range(m):\n",
        "      flag=0\n",
        "      if matrix[i][j]==1:\n",
        "        for k in range(4):\n",
        "          nx=i+dx[k]\n",
        "          ny=j+dy[k]\n",
        "          if 0<=nx<n and 0<=ny<m and matrix[nx][ny]==0:\n",
        "            flag+=1\n",
        "      if flag>=2:\n",
        "        matrix[i][j]=2\n",
        "  for i in range(n):\n",
        "    for j in range(n):\n",
        "      if matrix[i][j]==2:\n",
        "        matrix[i][j]=0\n",
        "  res+=1\n",
        "\n",
        "            \n",
        "print(res)   \n"
      ],
      "execution_count": 26,
      "outputs": [
        {
          "output_type": "stream",
          "name": "stdout",
          "text": [
            "5 5\n",
            "0 0 0 0 0\n",
            "0 1 1 1 0\n",
            "0 1 1 1 0\n",
            "0 1 1 1 0\n",
            "0 0 0 0 0\n",
            "3\n"
          ]
        }
      ]
    },
    {
      "cell_type": "markdown",
      "metadata": {
        "id": "sRjFvQ-WDrfK"
      },
      "source": [
        "1. 시작점을 queue에 담는다.\n",
        "2. 상하좌우 칸을 확인한다.\n",
        "3. 만약 0이라면 외부 공기이므로 -1로 바꾸고 queue에 담아준다.\n",
        "4. 0보다 크다면 치즈이므로 인접한벽을 하나 늘려준다.\n",
        "5. 만약 인접한벽이 2 이상이라면 nextqueue에 담아준다.\n",
        "6. 다 돌았다면 queue를 nextqueue로 바꾸어준다.\n",
        "7. flag를 통해 치즈가 없다면 break한다.\n",
        "https://nyeongnyeong.tistory.com/237\n"
      ]
    },
    {
      "cell_type": "code",
      "metadata": {
        "id": "NA0G3WvsDyNb"
      },
      "source": [
        "from collections import deque\n",
        "n,m=map(int,input().split())\n",
        "matrix=[]\n",
        "\n",
        "dx=[0,0,-1,1]\n",
        "dy=[1,-1,0,0]\n",
        "\n",
        "for _ in range(n):\n",
        "  matrix.append(list(map(int,input().split())))\n",
        "\n",
        "\n",
        "dq=deque()\n",
        "dq.append((0,0))\n",
        "\n",
        "while dq:\n",
        "\n",
        "\n",
        "\n",
        "\n",
        "\n",
        "\n",
        "\n",
        "\n",
        "\n",
        "\n",
        "\n",
        "\n",
        "\n",
        "\n",
        "\n"
      ],
      "execution_count": null,
      "outputs": []
    },
    {
      "cell_type": "code",
      "metadata": {
        "id": "J7ihOC3IDQx-"
      },
      "source": [
        "import sys\n",
        "from collections import deque\n",
        "dx = [0, 0, -1, 1]\n",
        "dy = [-1, 1, 0, 0]\n",
        "input = sys.stdin.readline\n",
        " \n",
        "N, M = map(int, input().split())\n",
        "arr = []\n",
        "for _ in range(N):\n",
        "    arr.append(list(map(int, input().split())))\n",
        " \n",
        "answer = 0\n",
        "queue = deque([[0, 0]])\n",
        "while True:\n",
        "    nextqueue = deque()\n",
        "    answer += 1\n",
        "    flag = True\n",
        "    while queue:\n",
        "        x, y = queue.popleft()\n",
        "        for i in range(4):\n",
        "            nx = x + dx[i]\n",
        "            ny = y + dy[i]\n",
        "            if 0 <= nx < N and 0 <= ny < M:\n",
        "                if arr[nx][ny] == 0:\n",
        "                    arr[nx][ny] = -1\n",
        "                    queue.append([nx, ny])\n",
        "                elif arr[nx][ny] > 0:\n",
        "                    flag = False\n",
        "                    arr[nx][ny] += 1\n",
        "                    if arr[nx][ny] > 2:\n",
        "                        nextqueue.append([nx, ny])\n",
        "                        arr[nx][ny] = -1\n",
        "    queue = nextqueue\n",
        "    if flag:\n",
        "        break\n",
        " \n",
        "print(answer-1)"
      ],
      "execution_count": null,
      "outputs": []
    },
    {
      "cell_type": "markdown",
      "metadata": {
        "id": "PAgTZqw6FKsj"
      },
      "source": [
        ""
      ]
    }
  ]
}
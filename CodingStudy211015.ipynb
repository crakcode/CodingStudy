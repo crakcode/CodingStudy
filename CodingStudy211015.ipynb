{
  "nbformat": 4,
  "nbformat_minor": 0,
  "metadata": {
    "colab": {
      "name": "CodingStudy211015.ipynb",
      "provenance": [],
      "collapsed_sections": [],
      "authorship_tag": "ABX9TyPiKyOZEWzybrIsL4DPL9a/",
      "include_colab_link": true
    },
    "kernelspec": {
      "name": "python3",
      "display_name": "Python 3"
    },
    "language_info": {
      "name": "python"
    }
  },
  "cells": [
    {
      "cell_type": "markdown",
      "metadata": {
        "id": "view-in-github",
        "colab_type": "text"
      },
      "source": [
        "<a href=\"https://colab.research.google.com/github/crakcode/CodingStudy/blob/main/CodingStudy211015.ipynb\" target=\"_parent\"><img src=\"https://colab.research.google.com/assets/colab-badge.svg\" alt=\"Open In Colab\"/></a>"
      ]
    },
    {
      "cell_type": "code",
      "metadata": {
        "colab": {
          "base_uri": "https://localhost:8080/"
        },
        "id": "UgaaBzqluQP0",
        "outputId": "e2dc470a-315c-4bd4-b282-4ba8eee17cd6"
      },
      "source": [
        "n,m=map(int,input().split())\n",
        "arr = list(map(int, input().split()))[1:]\n",
        "\n",
        "people_arr=[]\n",
        "\n",
        "for _ in range(m):\n",
        "  temp=list(map(int,input().split()))\n",
        "  c=temp[0]\n",
        "  people=temp[1:]\n",
        "  for i in range(c):\n",
        "    if people[i] in arr:\n",
        "      arr.extend(people)\n",
        "      break \n",
        "  people_arr.append(people)\n",
        "\n",
        "\n",
        "def delete_tuple(lst):\n",
        "  new=[]\n",
        "  for i in range(len(lst)):\n",
        "    if lst[i] not in new:\n",
        "      new.append(lst[i])\n",
        "  return new \n",
        "\n",
        "arr=delete_tuple(arr)\n",
        "\n",
        "cnt=0\n",
        "\n",
        "for i in range(m):\n",
        "  flag=0\n",
        "  for j in range(len(people_arr[i])):\n",
        "    if people_arr[i][j] in arr:\n",
        "      break \n",
        "    else:\n",
        "      flag+=1\n",
        "  if flag==len(people_arr[i]):\n",
        "    cnt+=1\n",
        "\n",
        "print(cnt)"
      ],
      "execution_count": 27,
      "outputs": [
        {
          "output_type": "stream",
          "name": "stdout",
          "text": [
            "8 5\n",
            "3 1 2 7\n",
            "2 3 4\n",
            "1 5\n",
            "2 5 6\n",
            "2 6 8\n",
            "1 8\n",
            "5\n"
          ]
        }
      ]
    },
    {
      "cell_type": "code",
      "metadata": {
        "colab": {
          "base_uri": "https://localhost:8080/"
        },
        "id": "ALiYR6E45VLS",
        "outputId": "f43f645e-296d-4db8-b310-bb31737f3f26"
      },
      "source": [
        "'''\n",
        "1. 참가자 리스트 만들기 \n",
        "2. 전체가 가능하다고 가정하고 1로 초기화한 리스트를 만든다.\n",
        "3. 리스트를 받은 만큼 조회 하면서 해당 위치의 인덱스를 변경\n",
        "4. 만약 해당 파티에 있는 값이 이미 존재한경우도 있으니 union하여 조합한다. \n",
        "'''\n",
        "\n",
        "cnt_party = int(sys.stdin.readline().rstrip().split()[1])\n",
        "m=cnt_party\n",
        "witness = set(sys.stdin.readline().rstrip().split()[1:])\n",
        "\n",
        "witness=set(witness)\n",
        "\n",
        "party_li=[]\n",
        "positive=[]\n",
        "\n",
        "for _ in range(m):\n",
        "  temp = list(map(int, input().split()))[1:]\n",
        "  party_li.append(temp)\n",
        "  positive.append(1)\n",
        "\n",
        "for _ in range(m):\n",
        "  for i,party in enumerate(party_li):\n",
        "    if witness.intersection(party):\n",
        "      positive[i]=0\n",
        "      witness.union(party)\n",
        "print(sum(positive))\n",
        "  \n",
        "\n",
        "\n",
        "\n",
        "\n",
        "\n"
      ],
      "execution_count": 29,
      "outputs": [
        {
          "output_type": "stream",
          "name": "stdout",
          "text": [
            "4 1\n",
            "1 1\n",
            "4 1 2 3 4\n",
            "0\n"
          ]
        }
      ]
    },
    {
      "cell_type": "code",
      "metadata": {
        "id": "uBKrLuadDQaq"
      },
      "source": [
        "import sys\n",
        "\n",
        "cnt_party = int(sys.stdin.readline().rstrip().split()[1])\n",
        "witness_set = set(sys.stdin.readline().rstrip().split()[1:])\n",
        "\n",
        "party_list = []\n",
        "possible_list = []\n",
        "\n",
        "for _ in range(cnt_party):\n",
        "  party_list.append(set(sys.stdin.readline().rstrip().split()[1:]))\n",
        "  possible_list.append(1)\n",
        "\n",
        "for _ in range(cnt_party):\n",
        "  for i, party in enumerate(party_list):\n",
        "    if witness_set.intersection(party):\n",
        "      possible_list[i] = 0\n",
        "      witness_set = witness_set.union(party)\n",
        "\n",
        "print(sum(possible_list))\n"
      ],
      "execution_count": null,
      "outputs": []
    },
    {
      "cell_type": "code",
      "metadata": {
        "colab": {
          "base_uri": "https://localhost:8080/"
        },
        "id": "nrh8mDf4FWO-",
        "outputId": "93897680-3270-4fb5-83ac-c89186d1d311"
      },
      "source": [
        "from collections import deque \n",
        "\n",
        "\n",
        "n,m=map(int,input().split())\n",
        "\n",
        "\n",
        "\n",
        "visited=[False]*(m)\n",
        "dp=[1000000]*(m)\n",
        "\n",
        "dp[n]=0\n",
        "\n",
        "def BFS(x,k):\n",
        "  if x==k:\n",
        "    return\n",
        "  dq=deque()\n",
        "  dq.append(x)\n",
        "  while dq:\n",
        "    now=dq.popleft()\n",
        "    visited[now]=True\n",
        "    for next in (now+1,now-1,now*2):\n",
        "      if visited[next]:\n",
        "        continue\n",
        "      if 0<next<k:\n",
        "        if next==now+1 or now-1:\n",
        "          dp[next]=min(dp[now]+1,dp[next])\n",
        "          dq.append(next)\n",
        "        else:\n",
        "          dp[next]=min(dp[now],dp[next])\n",
        "          dq.append(next)\n",
        "\n",
        "\n",
        "\n",
        "\n",
        "\n",
        "\n",
        "  "
      ],
      "execution_count": 35,
      "outputs": [
        {
          "output_type": "stream",
          "name": "stdout",
          "text": [
            "5 17\n",
            "[0, 1, 2, 3, 1, 0, 1, 1, 2, 2, 3, 3, 2]\n"
          ]
        }
      ]
    },
    {
      "cell_type": "code",
      "metadata": {
        "id": "Gh95bvzXMjWq"
      },
      "source": [
        "from collections import deque\n",
        "import sys\n",
        "input=sys.stdin.readline\n",
        "\n",
        "'''\n",
        "우선순위를 다르게 가져야 한다.\n",
        "\n",
        "1. *2 를한것은 먼저 계산되어져야 되기 때문에 \n",
        "appendleft를 통해서 먼저 노드에 넣어준다. \n",
        "2. next의 값을 0부터 로 잡아주어야 한다. n부터 잡아주면 k가 n보다 작을때는 \n",
        "생각을 하지 않기 때문이다. \n",
        "\n",
        "'''\n",
        "\n",
        "n,k=map(int,input().split())\n",
        "dq=deque()\n",
        "visited=[-1]*(100002)\n",
        "\n",
        "visited[n]=0\n",
        "dq.append(n)\n",
        "\n",
        "while dq: \n",
        "  now=dq.popleft()\n",
        "  for next in [now+1,now-1,2*now]:\n",
        "    if 0<=next<=100001:\n",
        "      if visited[next]==-1 and next==2*now:\n",
        "        visited[next]=visited[now]\n",
        "        dq.appendleft(next)\n",
        "      elif visited[next]==-1 and (next==now-1 or next==now+1):\n",
        "        visited[next]=visited[now]+1\n",
        "        dq.append(next)\n",
        "\n",
        "print(visited[k])\n"
      ],
      "execution_count": null,
      "outputs": []
    },
    {
      "cell_type": "code",
      "metadata": {
        "id": "JsJCYhWKejEb"
      },
      "source": [
        ""
      ],
      "execution_count": null,
      "outputs": []
    }
  ]
}
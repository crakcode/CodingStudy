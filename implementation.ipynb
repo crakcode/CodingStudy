{
  "nbformat": 4,
  "nbformat_minor": 0,
  "metadata": {
    "colab": {
      "name": "implementation.ipynb",
      "provenance": [],
      "collapsed_sections": [],
      "authorship_tag": "ABX9TyORbHhpq2Maf8Zr4LVvQUGK",
      "include_colab_link": true
    },
    "kernelspec": {
      "name": "python3",
      "display_name": "Python 3"
    },
    "language_info": {
      "name": "python"
    }
  },
  "cells": [
    {
      "cell_type": "markdown",
      "metadata": {
        "id": "view-in-github",
        "colab_type": "text"
      },
      "source": [
        "<a href=\"https://colab.research.google.com/github/crakcode/CodingStudy/blob/main/implementation.ipynb\" target=\"_parent\"><img src=\"https://colab.research.google.com/assets/colab-badge.svg\" alt=\"Open In Colab\"/></a>"
      ]
    },
    {
      "cell_type": "markdown",
      "source": [
        "## 붐버맨"
      ],
      "metadata": {
        "id": "I1Ne9mpw4lpT"
      }
    },
    {
      "cell_type": "code",
      "source": [
        "from collections import deque \n",
        "\n",
        "n,m,t=map(int,inpu().split())\n",
        "\n",
        "for _ in range(n):\n",
        "  matrix.append(list(input()))\n",
        "'''\n",
        "0. 0초 기존에 폭탄이 설치되어있다.\n",
        "1. 1초 아무일 벌어지지 않는다\n",
        "2. 2초 폭탄 설치되지 않는곳에 설치가 된다.\n",
        "3. 3초 기존에 설치된 폭탄이 폭팔하고 나머지는 빈곳이 된다. \n",
        "1\n",
        ". 폭탄이 설치된곳과 폭탄이 폭파 될곳을 dq에 넣는다. \n",
        "\n",
        "2. 폭탄이 설치되지 않은곳에 폭탄을 설치하고 그 설치한곳에서도 4방향 탐색하여 담아준다.\n",
        "\n",
        "3. dq에서 폭파를 시킨다. \n",
        "\n",
        "\n",
        "폭탄 설치 함수 \n",
        "\n",
        "'''\n",
        "\n",
        "def find_explosion():\n",
        "  dq=deque()\n",
        "  for i in range(n):\n",
        "    for j in range(n):\n",
        "      if matrix[i][j]==\"O\":\n",
        "        dq.append((i,j))\n",
        "  \n",
        "  return dq\n",
        "\n",
        "def save_explosion():\n",
        "  dq=deque()\n",
        "  for i in range(n):\n",
        "    for j in range(n):\n",
        "      if matrix[i][j]==\".\":\n",
        "        matrix[i][j]=\"0\"\n",
        "\n",
        "time=0\n",
        "dx=[-1,1,0,0]\n",
        "dy=[0,0,-1,1]\n",
        "while time!=t:\n",
        "  if time==0:\n",
        "    time+=1\n",
        "    continue\n",
        "  if time%3==1:\n",
        "    dq=find_explosion()\n",
        "  elif time%3==2:\n",
        "    save_explosion()\n",
        "  else:\n",
        "    while dq:\n",
        "      x,y=dq.popleft()\n",
        "      for i in range(4):\n",
        "        nx,ny=x+dx[i],y+dy[i]\n",
        "        if 0<=nx<n and 0<=ny<m and matrix[nx][ny]==\"O\":\n",
        "          matrix[nx][ny]=\".\"\n",
        "  time+=1\n",
        "    \n",
        "\n",
        "\n",
        "\n",
        "\n",
        "\n"
      ],
      "metadata": {
        "id": "ZiQ4lQ5g5ItX"
      },
      "execution_count": null,
      "outputs": []
    },
    {
      "cell_type": "code",
      "source": [
        "print(\".\"==\".\")"
      ],
      "metadata": {
        "id": "EaI5Pnza_mhI",
        "outputId": "1f9014a8-4adf-4115-a9cf-c6dbb57580e0",
        "colab": {
          "base_uri": "https://localhost:8080/"
        }
      },
      "execution_count": null,
      "outputs": [
        {
          "output_type": "stream",
          "name": "stdout",
          "text": [
            "True\n"
          ]
        }
      ]
    },
    {
      "cell_type": "markdown",
      "source": [
        "## 피보나치수\n"
      ],
      "metadata": {
        "id": "j_bwFRCN4JrO"
      }
    },
    {
      "cell_type": "code",
      "source": [
        "\n",
        "n=int(input())\n",
        "\n",
        "def fibo(n):\n",
        "  if n==0:\n",
        "    return 0\n",
        "  if n==1 or n==2:\n",
        "    return 1\n",
        "  return fibo(n-1)+fibo(n-2)\n",
        "\n",
        "res=fibo(n)%1000000007\n",
        "print(res)"
      ],
      "metadata": {
        "colab": {
          "base_uri": "https://localhost:8080/",
          "height": 432
        },
        "id": "hK7PxY4F4K7s",
        "outputId": "e184fcec-b1e0-40cd-fa1a-4a2e9a0e994e"
      },
      "execution_count": null,
      "outputs": [
        {
          "name": "stdout",
          "output_type": "stream",
          "text": [
            "1000\n"
          ]
        },
        {
          "output_type": "error",
          "ename": "RecursionError",
          "evalue": "ignored",
          "traceback": [
            "\u001b[0;31m---------------------------------------------------------------------------\u001b[0m",
            "\u001b[0;31mRecursionError\u001b[0m                            Traceback (most recent call last)",
            "\u001b[0;32m<ipython-input-3-a227a79945aa>\u001b[0m in \u001b[0;36m<module>\u001b[0;34m()\u001b[0m\n\u001b[1;32m      9\u001b[0m \u001b[0;34m\u001b[0m\u001b[0m\n\u001b[1;32m     10\u001b[0m \u001b[0;34m\u001b[0m\u001b[0m\n\u001b[0;32m---> 11\u001b[0;31m \u001b[0mres\u001b[0m\u001b[0;34m=\u001b[0m\u001b[0mfibo\u001b[0m\u001b[0;34m(\u001b[0m\u001b[0mn\u001b[0m\u001b[0;34m)\u001b[0m\u001b[0;34m%\u001b[0m\u001b[0;36m1000000007\u001b[0m\u001b[0;34m\u001b[0m\u001b[0;34m\u001b[0m\u001b[0m\n\u001b[0m\u001b[1;32m     12\u001b[0m \u001b[0mprint\u001b[0m\u001b[0;34m(\u001b[0m\u001b[0mres\u001b[0m\u001b[0;34m)\u001b[0m\u001b[0;34m\u001b[0m\u001b[0;34m\u001b[0m\u001b[0m\n",
            "\u001b[0;32m<ipython-input-3-a227a79945aa>\u001b[0m in \u001b[0;36mfibo\u001b[0;34m(n)\u001b[0m\n\u001b[1;32m      6\u001b[0m   \u001b[0;32mif\u001b[0m \u001b[0mn\u001b[0m\u001b[0;34m==\u001b[0m\u001b[0;36m1\u001b[0m \u001b[0;32mor\u001b[0m \u001b[0mn\u001b[0m\u001b[0;34m==\u001b[0m\u001b[0;36m2\u001b[0m\u001b[0;34m:\u001b[0m\u001b[0;34m\u001b[0m\u001b[0;34m\u001b[0m\u001b[0m\n\u001b[1;32m      7\u001b[0m     \u001b[0;32mreturn\u001b[0m \u001b[0;36m1\u001b[0m\u001b[0;34m\u001b[0m\u001b[0;34m\u001b[0m\u001b[0m\n\u001b[0;32m----> 8\u001b[0;31m   \u001b[0;32mreturn\u001b[0m \u001b[0mfibo\u001b[0m\u001b[0;34m(\u001b[0m\u001b[0mn\u001b[0m\u001b[0;34m-\u001b[0m\u001b[0;36m1\u001b[0m\u001b[0;34m)\u001b[0m\u001b[0;34m+\u001b[0m\u001b[0mfibo\u001b[0m\u001b[0;34m(\u001b[0m\u001b[0mn\u001b[0m\u001b[0;34m-\u001b[0m\u001b[0;36m2\u001b[0m\u001b[0;34m)\u001b[0m\u001b[0;34m\u001b[0m\u001b[0;34m\u001b[0m\u001b[0m\n\u001b[0m\u001b[1;32m      9\u001b[0m \u001b[0;34m\u001b[0m\u001b[0m\n\u001b[1;32m     10\u001b[0m \u001b[0;34m\u001b[0m\u001b[0m\n",
            "... last 1 frames repeated, from the frame below ...\n",
            "\u001b[0;32m<ipython-input-3-a227a79945aa>\u001b[0m in \u001b[0;36mfibo\u001b[0;34m(n)\u001b[0m\n\u001b[1;32m      6\u001b[0m   \u001b[0;32mif\u001b[0m \u001b[0mn\u001b[0m\u001b[0;34m==\u001b[0m\u001b[0;36m1\u001b[0m \u001b[0;32mor\u001b[0m \u001b[0mn\u001b[0m\u001b[0;34m==\u001b[0m\u001b[0;36m2\u001b[0m\u001b[0;34m:\u001b[0m\u001b[0;34m\u001b[0m\u001b[0;34m\u001b[0m\u001b[0m\n\u001b[1;32m      7\u001b[0m     \u001b[0;32mreturn\u001b[0m \u001b[0;36m1\u001b[0m\u001b[0;34m\u001b[0m\u001b[0;34m\u001b[0m\u001b[0m\n\u001b[0;32m----> 8\u001b[0;31m   \u001b[0;32mreturn\u001b[0m \u001b[0mfibo\u001b[0m\u001b[0;34m(\u001b[0m\u001b[0mn\u001b[0m\u001b[0;34m-\u001b[0m\u001b[0;36m1\u001b[0m\u001b[0;34m)\u001b[0m\u001b[0;34m+\u001b[0m\u001b[0mfibo\u001b[0m\u001b[0;34m(\u001b[0m\u001b[0mn\u001b[0m\u001b[0;34m-\u001b[0m\u001b[0;36m2\u001b[0m\u001b[0;34m)\u001b[0m\u001b[0;34m\u001b[0m\u001b[0;34m\u001b[0m\u001b[0m\n\u001b[0m\u001b[1;32m      9\u001b[0m \u001b[0;34m\u001b[0m\u001b[0m\n\u001b[1;32m     10\u001b[0m \u001b[0;34m\u001b[0m\u001b[0m\n",
            "\u001b[0;31mRecursionError\u001b[0m: maximum recursion depth exceeded in comparison"
          ]
        }
      ]
    },
    {
      "cell_type": "markdown",
      "source": [
        "## 사다리조작\n"
      ],
      "metadata": {
        "id": "Z-Yf428dHmJ7"
      }
    },
    {
      "cell_type": "code",
      "source": [
        ""
      ],
      "metadata": {
        "id": "RLkV6mP3woax"
      },
      "execution_count": null,
      "outputs": []
    },
    {
      "cell_type": "markdown",
      "source": [
        "## 불"
      ],
      "metadata": {
        "id": "hI569naNwo5J"
      }
    },
    {
      "cell_type": "code",
      "source": [
        ""
      ],
      "metadata": {
        "id": "4Q5HaprswrHB"
      },
      "execution_count": null,
      "outputs": []
    },
    {
      "cell_type": "code",
      "source": [
        "from collections import deque \n",
        "\n",
        "n,m=map(int,input().split())\n",
        "\n",
        "matrix,exit=[],deque()\n",
        "\n",
        "for x in range(n):\n",
        "  temp=list(input())\n",
        "  for y in range(m):\n",
        "    if x==0 or y==0 or x==n-1 or y==m-1:\n",
        "      if matrix[x][y]==\".\":\n",
        "        exit.append((x,y))\n",
        "  matrix.append(temp)\n",
        "\n",
        "dx=[-1,1,0,0]\n",
        "dy=[0,0,-1,1]\n",
        "\n",
        "\n",
        "def disperse(dq):\n",
        "  candidate=deque()\n",
        "  while dq:\n",
        "    x,y=dq.popleft()\n",
        "    for i in range(4):\n",
        "      nx,ny=x+dx[i],y+dy[i]\n",
        "      if 0<=nx<n and 0<=ny<n and matrix[nx][ny]==\".\":\n",
        "        matrix[nx][ny]=\"*\"\n",
        "        candidate.append((nx,ny))\n",
        "  return candidate\n",
        "\n",
        "while exit:\n",
        "  x,y=exit.popleft()\n",
        "  \n",
        "\n",
        "\n",
        "  \n"
      ],
      "metadata": {
        "id": "PgOA7z2TwrgJ"
      },
      "execution_count": null,
      "outputs": []
    },
    {
      "cell_type": "code",
      "source": [
        "'''\n",
        "1. 하나의 함수내에서 불을 먼저 뿌리고 \n",
        "2. 사람의 위치를 옮긴다. \n",
        "\n",
        "불의 위치는 fire 로저장 사람의 위치는 dq 라고 저장한다.\n",
        "시간을 이용해야 하기에 시간과 x,y,time을 저장한다. \n",
        "\n",
        "time_passed 흐른 시간을 따로 저장한다. \n",
        "\n",
        "'''\n",
        "from collections import deque \n",
        "\n",
        "n,m=map(int,input().split())\n",
        "\n",
        "matrix=[]\n",
        "visited=[[False]*(m) for _ in range(n)]\n",
        "fire=deque()\n",
        "dq=deque()\n",
        "\n",
        "\n",
        "for i in range(n):\n",
        "  temp=list(input())\n",
        "  for j in range(m):\n",
        "    if matrix[i][j]==\"*\":\n",
        "      fire.append((i,j,0))\n",
        "    elif matrix[i][j]==\"@\":\n",
        "      dq.append((i,j,0))\n",
        "  matrix.append(temp)\n",
        "\n",
        "\n",
        "\n",
        "def bfs():\n",
        "  time_passed=0\n",
        "  while dq:\n",
        "    time_passed+=1\n",
        "    while fire and fire[0][2]<time_passed:\n",
        "      x,y,time=fire.popleft()\n",
        "      for i in range(4):\n",
        "        nx,ny=x+dx[i],y+dy[i]\n",
        "        if 0<=nx<n and 0<=ny<m and (matrix[nx][ny]==\".\" or matrix[nx][ny]==\"@\"):\n",
        "          matrix[nx][ny]=\"*\"\n",
        "          fire.append((nx,ny,time+1))\n",
        "    \n",
        "    while dq and dq[0][2]<time_passed:\n",
        "      x,y,time=dq.popleft()\n",
        "      for i in range(4):\n",
        "        nx,ny=x+dx[i],y+dy[i]\n",
        "        if 0<=nx<n and 0<=ny<m:\n",
        "          if matrix==\".\" and not visited[nx][ny]:\n",
        "            visited[nx][ny]=True\n",
        "        else:\n",
        "          return time_passed\n",
        "  return False\n",
        "  \n",
        "\n",
        "\n",
        "\n",
        "\n",
        "\n",
        "\n",
        "\n",
        "\n",
        "\n"
      ],
      "metadata": {
        "colab": {
          "base_uri": "https://localhost:8080/",
          "height": 54
        },
        "id": "-3WFV9PQ8rMT",
        "outputId": "1bfb0651-05a2-49c2-e2c5-3387a1908946"
      },
      "execution_count": null,
      "outputs": [
        {
          "output_type": "execute_result",
          "data": {
            "application/vnd.google.colaboratory.intrinsic+json": {
              "type": "string"
            },
            "text/plain": [
              "'\\n1. 하나의 함수내에서 불을 먼저 뿌리고 \\n2. 사람의 위치를 옮긴다. \\n\\n불의 위치는 fire 로저장 사람의 위치는 dq 라고 저장한다.\\n시간을 이용해야 하기에 시간과 x,y,time을 저장한다. \\n\\ntime_passed 흐른 시간을 따로 저장한다. \\n\\n'"
            ]
          },
          "metadata": {},
          "execution_count": 1
        }
      ]
    },
    {
      "cell_type": "markdown",
      "source": [
        "## 0 만들기"
      ],
      "metadata": {
        "id": "0piFJVsE9DCl"
      }
    },
    {
      "cell_type": "code",
      "source": [
        "import copy \n",
        "operator_list=[]\n",
        "\n",
        "t=int(input())\n",
        "\n",
        "def dfs(res, n):\n",
        "    if len(res) == n:\n",
        "        operators.append(copy.deepcopy(res))\n",
        "        return\n",
        "    res.append(' ')\n",
        "    dfs(res, n)\n",
        "    res.pop()\n",
        "\n",
        "    res.append('+')\n",
        "    dfs(res, n)\n",
        "    res.pop()\n",
        "\n",
        "    res.append('-')\n",
        "    dfs(res, n)\n",
        "    res.pop()\n",
        "\n",
        "for _ in range(t):\n",
        "  n=int(input())\n",
        "  operators=[]\n",
        "  dfs([], n - 1)\n",
        "  m=len(operators)\n",
        "  for _ in range(m):\n",
        "    arr=[i for i in range(1,n+1)]\n",
        "    oper=operators.pop(0)\n",
        "    strings=\"\"\n",
        "    for i in range(n-1):\n",
        "      strings+=str(arr[i])+oper[i]\n",
        "    strings+=str(arr[n-1])\n",
        "    filter=strings.replace(\" \",'')\n",
        "    if eval(filter)==0:\n",
        "      print(strings)\n",
        "  print()"
      ],
      "metadata": {
        "colab": {
          "base_uri": "https://localhost:8080/",
          "height": 559
        },
        "id": "AAwLE1YcI6LE",
        "outputId": "464078d7-8164-41b9-e637-9e89c7a60c19"
      },
      "execution_count": 13,
      "outputs": [
        {
          "output_type": "error",
          "ename": "KeyboardInterrupt",
          "evalue": "ignored",
          "traceback": [
            "\u001b[0;31m---------------------------------------------------------------------------\u001b[0m",
            "\u001b[0;31mKeyboardInterrupt\u001b[0m                         Traceback (most recent call last)",
            "\u001b[0;32m/usr/local/lib/python3.7/dist-packages/ipykernel/kernelbase.py\u001b[0m in \u001b[0;36m_input_request\u001b[0;34m(self, prompt, ident, parent, password)\u001b[0m\n\u001b[1;32m    728\u001b[0m             \u001b[0;32mtry\u001b[0m\u001b[0;34m:\u001b[0m\u001b[0;34m\u001b[0m\u001b[0;34m\u001b[0m\u001b[0m\n\u001b[0;32m--> 729\u001b[0;31m                 \u001b[0mident\u001b[0m\u001b[0;34m,\u001b[0m \u001b[0mreply\u001b[0m \u001b[0;34m=\u001b[0m \u001b[0mself\u001b[0m\u001b[0;34m.\u001b[0m\u001b[0msession\u001b[0m\u001b[0;34m.\u001b[0m\u001b[0mrecv\u001b[0m\u001b[0;34m(\u001b[0m\u001b[0mself\u001b[0m\u001b[0;34m.\u001b[0m\u001b[0mstdin_socket\u001b[0m\u001b[0;34m,\u001b[0m \u001b[0;36m0\u001b[0m\u001b[0;34m)\u001b[0m\u001b[0;34m\u001b[0m\u001b[0;34m\u001b[0m\u001b[0m\n\u001b[0m\u001b[1;32m    730\u001b[0m             \u001b[0;32mexcept\u001b[0m \u001b[0mException\u001b[0m\u001b[0;34m:\u001b[0m\u001b[0;34m\u001b[0m\u001b[0;34m\u001b[0m\u001b[0m\n",
            "\u001b[0;32m/usr/local/lib/python3.7/dist-packages/jupyter_client/session.py\u001b[0m in \u001b[0;36mrecv\u001b[0;34m(self, socket, mode, content, copy)\u001b[0m\n\u001b[1;32m    802\u001b[0m         \u001b[0;32mtry\u001b[0m\u001b[0;34m:\u001b[0m\u001b[0;34m\u001b[0m\u001b[0;34m\u001b[0m\u001b[0m\n\u001b[0;32m--> 803\u001b[0;31m             \u001b[0mmsg_list\u001b[0m \u001b[0;34m=\u001b[0m \u001b[0msocket\u001b[0m\u001b[0;34m.\u001b[0m\u001b[0mrecv_multipart\u001b[0m\u001b[0;34m(\u001b[0m\u001b[0mmode\u001b[0m\u001b[0;34m,\u001b[0m \u001b[0mcopy\u001b[0m\u001b[0;34m=\u001b[0m\u001b[0mcopy\u001b[0m\u001b[0;34m)\u001b[0m\u001b[0;34m\u001b[0m\u001b[0;34m\u001b[0m\u001b[0m\n\u001b[0m\u001b[1;32m    804\u001b[0m         \u001b[0;32mexcept\u001b[0m \u001b[0mzmq\u001b[0m\u001b[0;34m.\u001b[0m\u001b[0mZMQError\u001b[0m \u001b[0;32mas\u001b[0m \u001b[0me\u001b[0m\u001b[0;34m:\u001b[0m\u001b[0;34m\u001b[0m\u001b[0;34m\u001b[0m\u001b[0m\n",
            "\u001b[0;32m/usr/local/lib/python3.7/dist-packages/zmq/sugar/socket.py\u001b[0m in \u001b[0;36mrecv_multipart\u001b[0;34m(self, flags, copy, track)\u001b[0m\n\u001b[1;32m    624\u001b[0m         \"\"\"\n\u001b[0;32m--> 625\u001b[0;31m         \u001b[0mparts\u001b[0m \u001b[0;34m=\u001b[0m \u001b[0;34m[\u001b[0m\u001b[0mself\u001b[0m\u001b[0;34m.\u001b[0m\u001b[0mrecv\u001b[0m\u001b[0;34m(\u001b[0m\u001b[0mflags\u001b[0m\u001b[0;34m,\u001b[0m \u001b[0mcopy\u001b[0m\u001b[0;34m=\u001b[0m\u001b[0mcopy\u001b[0m\u001b[0;34m,\u001b[0m \u001b[0mtrack\u001b[0m\u001b[0;34m=\u001b[0m\u001b[0mtrack\u001b[0m\u001b[0;34m)\u001b[0m\u001b[0;34m]\u001b[0m\u001b[0;34m\u001b[0m\u001b[0;34m\u001b[0m\u001b[0m\n\u001b[0m\u001b[1;32m    626\u001b[0m         \u001b[0;31m# have first part already, only loop while more to receive\u001b[0m\u001b[0;34m\u001b[0m\u001b[0;34m\u001b[0m\u001b[0;34m\u001b[0m\u001b[0m\n",
            "\u001b[0;32mzmq/backend/cython/socket.pyx\u001b[0m in \u001b[0;36mzmq.backend.cython.socket.Socket.recv\u001b[0;34m()\u001b[0m\n",
            "\u001b[0;32mzmq/backend/cython/socket.pyx\u001b[0m in \u001b[0;36mzmq.backend.cython.socket.Socket.recv\u001b[0;34m()\u001b[0m\n",
            "\u001b[0;32mzmq/backend/cython/socket.pyx\u001b[0m in \u001b[0;36mzmq.backend.cython.socket._recv_copy\u001b[0;34m()\u001b[0m\n",
            "\u001b[0;32m/usr/local/lib/python3.7/dist-packages/zmq/backend/cython/checkrc.pxd\u001b[0m in \u001b[0;36mzmq.backend.cython.checkrc._check_rc\u001b[0;34m()\u001b[0m\n",
            "\u001b[0;31mKeyboardInterrupt\u001b[0m: ",
            "\nDuring handling of the above exception, another exception occurred:\n",
            "\u001b[0;31mKeyboardInterrupt\u001b[0m                         Traceback (most recent call last)",
            "\u001b[0;32m<ipython-input-13-73376ec920b3>\u001b[0m in \u001b[0;36m<module>\u001b[0;34m()\u001b[0m\n\u001b[1;32m      2\u001b[0m \u001b[0moperator_list\u001b[0m\u001b[0;34m=\u001b[0m\u001b[0;34m[\u001b[0m\u001b[0;34m]\u001b[0m\u001b[0;34m\u001b[0m\u001b[0;34m\u001b[0m\u001b[0m\n\u001b[1;32m      3\u001b[0m \u001b[0;34m\u001b[0m\u001b[0m\n\u001b[0;32m----> 4\u001b[0;31m \u001b[0mn\u001b[0m\u001b[0;34m=\u001b[0m\u001b[0mint\u001b[0m\u001b[0;34m(\u001b[0m\u001b[0minput\u001b[0m\u001b[0;34m(\u001b[0m\u001b[0;34m)\u001b[0m\u001b[0;34m)\u001b[0m\u001b[0;34m\u001b[0m\u001b[0;34m\u001b[0m\u001b[0m\n\u001b[0m\u001b[1;32m      5\u001b[0m \u001b[0;34m\u001b[0m\u001b[0m\n\u001b[1;32m      6\u001b[0m \u001b[0;32mdef\u001b[0m \u001b[0moperator\u001b[0m\u001b[0;34m(\u001b[0m\u001b[0mlst\u001b[0m\u001b[0;34m,\u001b[0m \u001b[0mn\u001b[0m\u001b[0;34m)\u001b[0m\u001b[0;34m:\u001b[0m\u001b[0;34m\u001b[0m\u001b[0;34m\u001b[0m\u001b[0m\n",
            "\u001b[0;32m/usr/local/lib/python3.7/dist-packages/ipykernel/kernelbase.py\u001b[0m in \u001b[0;36mraw_input\u001b[0;34m(self, prompt)\u001b[0m\n\u001b[1;32m    702\u001b[0m             \u001b[0mself\u001b[0m\u001b[0;34m.\u001b[0m\u001b[0m_parent_ident\u001b[0m\u001b[0;34m,\u001b[0m\u001b[0;34m\u001b[0m\u001b[0;34m\u001b[0m\u001b[0m\n\u001b[1;32m    703\u001b[0m             \u001b[0mself\u001b[0m\u001b[0;34m.\u001b[0m\u001b[0m_parent_header\u001b[0m\u001b[0;34m,\u001b[0m\u001b[0;34m\u001b[0m\u001b[0;34m\u001b[0m\u001b[0m\n\u001b[0;32m--> 704\u001b[0;31m             \u001b[0mpassword\u001b[0m\u001b[0;34m=\u001b[0m\u001b[0;32mFalse\u001b[0m\u001b[0;34m,\u001b[0m\u001b[0;34m\u001b[0m\u001b[0;34m\u001b[0m\u001b[0m\n\u001b[0m\u001b[1;32m    705\u001b[0m         )\n\u001b[1;32m    706\u001b[0m \u001b[0;34m\u001b[0m\u001b[0m\n",
            "\u001b[0;32m/usr/local/lib/python3.7/dist-packages/ipykernel/kernelbase.py\u001b[0m in \u001b[0;36m_input_request\u001b[0;34m(self, prompt, ident, parent, password)\u001b[0m\n\u001b[1;32m    732\u001b[0m             \u001b[0;32mexcept\u001b[0m \u001b[0mKeyboardInterrupt\u001b[0m\u001b[0;34m:\u001b[0m\u001b[0;34m\u001b[0m\u001b[0;34m\u001b[0m\u001b[0m\n\u001b[1;32m    733\u001b[0m                 \u001b[0;31m# re-raise KeyboardInterrupt, to truncate traceback\u001b[0m\u001b[0;34m\u001b[0m\u001b[0;34m\u001b[0m\u001b[0;34m\u001b[0m\u001b[0m\n\u001b[0;32m--> 734\u001b[0;31m                 \u001b[0;32mraise\u001b[0m \u001b[0mKeyboardInterrupt\u001b[0m\u001b[0;34m\u001b[0m\u001b[0;34m\u001b[0m\u001b[0m\n\u001b[0m\u001b[1;32m    735\u001b[0m             \u001b[0;32melse\u001b[0m\u001b[0;34m:\u001b[0m\u001b[0;34m\u001b[0m\u001b[0;34m\u001b[0m\u001b[0m\n\u001b[1;32m    736\u001b[0m                 \u001b[0;32mbreak\u001b[0m\u001b[0;34m\u001b[0m\u001b[0;34m\u001b[0m\u001b[0m\n",
            "\u001b[0;31mKeyboardInterrupt\u001b[0m: "
          ]
        }
      ]
    },
    {
      "cell_type": "code",
      "source": [
        "import copy \n",
        "operator_list=[]\n",
        "'''\n",
        "1. backtraking 을 이용해서 연산자를 전부 구해준다. brute force 느낌\n",
        "n=2 라고 하면 [' ',' ']/[' ','+']/[' ','-']/['+','+']/['-','-']\n",
        "\n",
        "2. arr은 1~n까지의 수를 저장해두고 위에서 만들어진 연산자를 이용해서 strings를 만들어준다.\n",
        "\n",
        "3. strings를 만든뒤에 \n",
        "arr=1 2 3 이라 하면 위의 백트래킹 결과를 이용하면 \n",
        "1 2 3/ 1 2+3 / 1 2-3 등등 이런 결과가 만들어진다. \n",
        "이를 이용하려면 공백을 제거해주어야 한다. 제거 해주는 방법은 replace 함수를 이용한다.\n",
        "\n",
        "4. strings.replace(\" \",\"\")\n",
        "\n",
        "5. eval(strings) 로처리하여 계산을 수행하고 만약 이값이 0이면 \n",
        "strings를 리턴한다. \n",
        "\n",
        "'''\n",
        "t=int(input())\n",
        "\n",
        "def dfs(res, n):\n",
        "    if len(res) == n:\n",
        "        operators.append(copy.deepcopy(res))\n",
        "        return\n",
        "    res.append(' ')\n",
        "    dfs(res, n)\n",
        "    res.pop()\n",
        "\n",
        "    res.append('+')\n",
        "    dfs(res, n)\n",
        "    res.pop()\n",
        "\n",
        "    res.append('-')\n",
        "    dfs(res, n)\n",
        "    res.pop()\n",
        "\n",
        "for _ in range(t):\n",
        "  n=int(input())\n",
        "  operators=[]\n",
        "  dfs([], n - 1)\n",
        "  m=len(operators)\n",
        "  for _ in range(m):\n",
        "    arr=[i for i in range(1,n+1)]\n",
        "    oper=operators.pop(0)\n",
        "    strings=\"\"\n",
        "    for i in range(n-1):\n",
        "      strings+=str(arr[i])+oper[i]\n",
        "    strings+=str(arr[n-1])\n",
        "    filter=strings.replace(\" \",'')\n",
        "    if eval(filter)==0:\n",
        "      print(strings)\n",
        "  print()"
      ],
      "metadata": {
        "id": "wv-1zYqGRdZJ"
      },
      "execution_count": null,
      "outputs": []
    },
    {
      "cell_type": "markdown",
      "source": [
        ""
      ],
      "metadata": {
        "id": "kL4FAw-oK3RS"
      }
    }
  ]
}
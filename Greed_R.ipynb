{
  "nbformat": 4,
  "nbformat_minor": 0,
  "metadata": {
    "colab": {
      "name": "Greed_R.ipynb",
      "provenance": [],
      "collapsed_sections": [],
      "authorship_tag": "ABX9TyMrSej/J/greCzHJLHQHcoD",
      "include_colab_link": true
    },
    "kernelspec": {
      "name": "python3",
      "display_name": "Python 3"
    },
    "language_info": {
      "name": "python"
    }
  },
  "cells": [
    {
      "cell_type": "markdown",
      "metadata": {
        "id": "view-in-github",
        "colab_type": "text"
      },
      "source": [
        "<a href=\"https://colab.research.google.com/github/crakcode/CodingStudy/blob/main/Greed_R.ipynb\" target=\"_parent\"><img src=\"https://colab.research.google.com/assets/colab-badge.svg\" alt=\"Open In Colab\"/></a>"
      ]
    },
    {
      "cell_type": "markdown",
      "source": [
        "# 그리디(Greedy)\n"
      ],
      "metadata": {
        "id": "4wL0bU4cbLMm"
      }
    },
    {
      "cell_type": "markdown",
      "source": [
        "## 뒤집기(1439)\n",
        "\n",
        "\n",
        "```\n",
        "0과 1을 기준으로 생각해보자\n",
        "- 연속으로 값을 바꾸면 되니 즉 0에서 1로 바뀌거나 1에서 0으로 \n",
        "\n",
        "바뀌는지점을 계산하여 0에서 1로 바뀌는 수와 1에서 0으로 바뀌는 \n",
        "\n",
        "수를 저장해주고 거기에서 최솟값을 구한다.\n",
        "\n",
        "```"
      ],
      "metadata": {
        "id": "5PXQG6JmbaRg"
      }
    },
    {
      "cell_type": "code",
      "source": [
        "string=input()\n",
        "\n",
        "hash={}\n",
        "hash['0']=0\n",
        "hash['1']=0\n",
        "\n",
        "prev=string[0]\n",
        "hash[string[0]]+=1\n",
        "\n",
        "for i in range(1,len(string)):\n",
        "  if prev!=string[i]:\n",
        "    prev=string[i]\n",
        "    hash[string[i]]+=1\n",
        "\n",
        "print(min(hash['0'],hash['1']))\n"
      ],
      "metadata": {
        "colab": {
          "base_uri": "https://localhost:8080/"
        },
        "id": "_OIKd35ibbgw",
        "outputId": "aff49173-762d-4dad-b32c-1cd5468c8d80"
      },
      "execution_count": null,
      "outputs": [
        {
          "output_type": "stream",
          "name": "stdout",
          "text": [
            "11101101\n",
            "{'0': 2, '1': 3}\n"
          ]
        }
      ]
    },
    {
      "cell_type": "markdown",
      "source": [
        "## 로프(2217)\n"
      ],
      "metadata": {
        "id": "kSzBSH8meVeT"
      }
    },
    {
      "cell_type": "code",
      "source": [
        ""
      ],
      "metadata": {
        "id": "3h7siuJDeWxr"
      },
      "execution_count": null,
      "outputs": []
    },
    {
      "cell_type": "markdown",
      "source": [
        "## 보물 (1026)\n"
      ],
      "metadata": {
        "id": "mFJR2XJEiwmb"
      }
    },
    {
      "cell_type": "code",
      "source": [
        "'''\n",
        "A만 변경이 가능하다고 조건이 주어져있다.\n",
        "\n",
        "그렇지만 다시 생각해보면 결국 B를 변경해서 처리가 가능하기에 \n",
        "쉽게 처리가 가능하다.\n",
        "'''\n",
        "\n",
        "n=int(input())\n",
        "A=list(map(int,input().split()))\n",
        "B=list(map(int,input().split()))\n",
        "\n",
        "A.sort()\n",
        "B.sorted(reverse=True)\n",
        "\n",
        "s=0\n",
        "for i in range(n):\n",
        "  s+=A[i]*B[i]\n",
        "print(s)"
      ],
      "metadata": {
        "colab": {
          "base_uri": "https://localhost:8080/",
          "height": 303
        },
        "id": "jRw5aKamiwpD",
        "outputId": "6385266a-7e68-4b8a-9493-eeb6ba04b86b"
      },
      "execution_count": null,
      "outputs": [
        {
          "name": "stdout",
          "output_type": "stream",
          "text": [
            "5\n",
            "1 1 1 6 0\n",
            "2 7 8 3 1\n"
          ]
        },
        {
          "output_type": "error",
          "ename": "TypeError",
          "evalue": "ignored",
          "traceback": [
            "\u001b[0;31m---------------------------------------------------------------------------\u001b[0m",
            "\u001b[0;31mTypeError\u001b[0m                                 Traceback (most recent call last)",
            "\u001b[0;32m<ipython-input-9-02c94bf21cd4>\u001b[0m in \u001b[0;36m<module>\u001b[0;34m()\u001b[0m\n\u001b[1;32m      4\u001b[0m \u001b[0;34m\u001b[0m\u001b[0m\n\u001b[1;32m      5\u001b[0m \u001b[0mA\u001b[0m\u001b[0;34m.\u001b[0m\u001b[0msort\u001b[0m\u001b[0;34m(\u001b[0m\u001b[0;34m)\u001b[0m\u001b[0;34m\u001b[0m\u001b[0;34m\u001b[0m\u001b[0m\n\u001b[0;32m----> 6\u001b[0;31m \u001b[0mB\u001b[0m\u001b[0;34m.\u001b[0m\u001b[0msort\u001b[0m\u001b[0;34m(\u001b[0m\u001b[0mreversed\u001b[0m\u001b[0;34m=\u001b[0m\u001b[0;32mTrue\u001b[0m\u001b[0;34m)\u001b[0m\u001b[0;34m\u001b[0m\u001b[0;34m\u001b[0m\u001b[0m\n\u001b[0m\u001b[1;32m      7\u001b[0m \u001b[0;34m\u001b[0m\u001b[0m\n\u001b[1;32m      8\u001b[0m \u001b[0ms\u001b[0m\u001b[0;34m=\u001b[0m\u001b[0;36m0\u001b[0m\u001b[0;34m\u001b[0m\u001b[0;34m\u001b[0m\u001b[0m\n",
            "\u001b[0;31mTypeError\u001b[0m: 'reversed' is an invalid keyword argument for sort()"
          ]
        }
      ]
    },
    {
      "cell_type": "markdown",
      "source": [
        "## 알바생 강호 "
      ],
      "metadata": {
        "id": "S5mUr9XNiwr0"
      }
    },
    {
      "cell_type": "code",
      "source": [
        "'''\n",
        "주려고 생각했던 돈- (받은등수-1) 팁을 강호에게 준다. \n",
        "위의식이 음수이면 받을수없음 \n",
        "\n",
        "   \t순서\n",
        "민호 3 \t1 3- (1-1)\n",
        "재필 2 \t2 2- (2-1)\n",
        "주현 1\t3 1 -(3-1)\n",
        " \n",
        "손님의 순서를 바꿨을때  팁의 최대값\n",
        "4\n",
        "3 1 \n",
        "3 2\n",
        "3 3\n",
        "3 4\n",
        "\n",
        "즉 지불할용의가 있는 금액을 오름차순으로 정렬하면 위가 커지기 때문에\n",
        "작은것을 뺴도 크다.\n",
        "\n",
        "'''\n",
        "\n",
        "n = int(input())\n",
        "\n",
        "arr = []\n",
        "\n",
        "for _ in range(n):\n",
        "    arr.append(int(input()))\n",
        "\n",
        "arr.sort(reverse=True)\n",
        "res = 0\n",
        "\n",
        "for i, num in enumerate(arr):\n",
        "    res += num - (i)\n",
        "\n",
        "print(res)\n",
        "\n",
        "\n",
        "\n",
        "\n"
      ],
      "metadata": {
        "id": "wzlobBMZiwuU"
      },
      "execution_count": null,
      "outputs": []
    },
    {
      "cell_type": "markdown",
      "source": [
        "## 병든 나이트 "
      ],
      "metadata": {
        "id": "949PRPPLiww0"
      }
    },
    {
      "cell_type": "code",
      "source": [
        "'''\n",
        "cnt는 방문하는 칸의 개수 \n",
        "\n",
        "1. n이 1일때 : m값이 어떠한 값이라도 갈수있는 칸은 자기 자신 \n",
        "따라서 cnt=1 이다 \n",
        "\n",
        "2. \n",
        "\n",
        "\n",
        "'''\n",
        "\n",
        "\n",
        "n,m=map(int,input().split())\n",
        "\n",
        "cnt=0\n",
        "if n==1:\n",
        "  cnt=1\n",
        "elif n==2:\n",
        "  cnt=min(4,(m-1)//2+1)\n",
        "elif n>=3 and m<7:\n",
        "  cnt=min(4,m)\n",
        "elif n>=3 and m>=7:\n",
        "  cnt=min(2+(m-5))+1\n",
        "print(cnt)\n"
      ],
      "metadata": {
        "id": "a8Ljg_tgiwzc"
      },
      "execution_count": null,
      "outputs": []
    },
    {
      "cell_type": "markdown",
      "source": [
        "## ATM"
      ],
      "metadata": {
        "id": "fj-14tVWiw18"
      }
    },
    {
      "cell_type": "code",
      "source": [
        "'''\n",
        "결국 누적합이라고 생각하면 쉽다. \n",
        "\n",
        "누적합인 경우에는 가장 작은것이 맨앞에와야 총 누적합이 작아지는경향을 가진다.\n",
        "따라서 리스트로 받은뒤에 정렬을 하는 방식을 취하면 된다.\n",
        "\n",
        "'''\n",
        "\n",
        "\n",
        "n=int(input())\n",
        "\n",
        "arr=list(map(int,input().split()))\n",
        "res=0\n",
        "arr.sort()\n",
        "for i in range(1,n+1):\n",
        "  res+=sum(arr[:i])\n",
        "\n",
        "print(res)\n",
        "  \n",
        "  "
      ],
      "metadata": {
        "id": "QK38bFZ5iw4c",
        "colab": {
          "base_uri": "https://localhost:8080/"
        },
        "outputId": "db0cfd60-220d-4764-cb52-ebd5facf45e8"
      },
      "execution_count": null,
      "outputs": [
        {
          "output_type": "stream",
          "name": "stdout",
          "text": [
            "5\n",
            "3 1 4 3 2\n",
            "32\n"
          ]
        }
      ]
    },
    {
      "cell_type": "markdown",
      "source": [
        "## 카드 문자열"
      ],
      "metadata": {
        "id": "8nOz-an7iw61"
      }
    },
    {
      "cell_type": "code",
      "source": [
        "'''\n",
        "\n",
        "간단하게 생각해보면 맨앞에 있는것을 기준으로 \n",
        "그 알파벳의 값이 맨앞보다 작다면 앞에 붙여주고 크다면 뒤에 \n",
        "붙여주면 된다. \n",
        "\n",
        "'''\n",
        "\n",
        "\n",
        "from collections import deque \n",
        "\n",
        "n=int(input())\n",
        "\n",
        "solution=[]\n",
        "\n",
        "for _ in range(n):\n",
        "  m=int(input())\n",
        "  arr=list(map(str,input().split()))\n",
        "  dq=deque(arr)\n",
        "  \n",
        "  res=[]\n",
        "  while dq:\n",
        "    v=dq.popleft()\n",
        "    if len(res)==0:\n",
        "      res.append(v)\n",
        "    else:\n",
        "      if res[0]<v:\n",
        "        res.append(v)\n",
        "      else:\n",
        "        res.insert(0,v)\n",
        "  solution.append(''.join(res))\n",
        "\n",
        "for s in solution:\n",
        "  print(s)\n",
        "\n",
        "\n",
        "\n"
      ],
      "metadata": {
        "id": "GlzTMAdBiw9T",
        "colab": {
          "base_uri": "https://localhost:8080/",
          "height": 563
        },
        "outputId": "b98d6354-0932-4e49-b9b0-7bb73fe1ab88"
      },
      "execution_count": null,
      "outputs": [
        {
          "output_type": "error",
          "ename": "KeyboardInterrupt",
          "evalue": "ignored",
          "traceback": [
            "\u001b[0;31m---------------------------------------------------------------------------\u001b[0m",
            "\u001b[0;31mKeyboardInterrupt\u001b[0m                         Traceback (most recent call last)",
            "\u001b[0;32m/usr/local/lib/python3.7/dist-packages/ipykernel/kernelbase.py\u001b[0m in \u001b[0;36m_input_request\u001b[0;34m(self, prompt, ident, parent, password)\u001b[0m\n\u001b[1;32m    728\u001b[0m             \u001b[0;32mtry\u001b[0m\u001b[0;34m:\u001b[0m\u001b[0;34m\u001b[0m\u001b[0;34m\u001b[0m\u001b[0m\n\u001b[0;32m--> 729\u001b[0;31m                 \u001b[0mident\u001b[0m\u001b[0;34m,\u001b[0m \u001b[0mreply\u001b[0m \u001b[0;34m=\u001b[0m \u001b[0mself\u001b[0m\u001b[0;34m.\u001b[0m\u001b[0msession\u001b[0m\u001b[0;34m.\u001b[0m\u001b[0mrecv\u001b[0m\u001b[0;34m(\u001b[0m\u001b[0mself\u001b[0m\u001b[0;34m.\u001b[0m\u001b[0mstdin_socket\u001b[0m\u001b[0;34m,\u001b[0m \u001b[0;36m0\u001b[0m\u001b[0;34m)\u001b[0m\u001b[0;34m\u001b[0m\u001b[0;34m\u001b[0m\u001b[0m\n\u001b[0m\u001b[1;32m    730\u001b[0m             \u001b[0;32mexcept\u001b[0m \u001b[0mException\u001b[0m\u001b[0;34m:\u001b[0m\u001b[0;34m\u001b[0m\u001b[0;34m\u001b[0m\u001b[0m\n",
            "\u001b[0;32m/usr/local/lib/python3.7/dist-packages/jupyter_client/session.py\u001b[0m in \u001b[0;36mrecv\u001b[0;34m(self, socket, mode, content, copy)\u001b[0m\n\u001b[1;32m    802\u001b[0m         \u001b[0;32mtry\u001b[0m\u001b[0;34m:\u001b[0m\u001b[0;34m\u001b[0m\u001b[0;34m\u001b[0m\u001b[0m\n\u001b[0;32m--> 803\u001b[0;31m             \u001b[0mmsg_list\u001b[0m \u001b[0;34m=\u001b[0m \u001b[0msocket\u001b[0m\u001b[0;34m.\u001b[0m\u001b[0mrecv_multipart\u001b[0m\u001b[0;34m(\u001b[0m\u001b[0mmode\u001b[0m\u001b[0;34m,\u001b[0m \u001b[0mcopy\u001b[0m\u001b[0;34m=\u001b[0m\u001b[0mcopy\u001b[0m\u001b[0;34m)\u001b[0m\u001b[0;34m\u001b[0m\u001b[0;34m\u001b[0m\u001b[0m\n\u001b[0m\u001b[1;32m    804\u001b[0m         \u001b[0;32mexcept\u001b[0m \u001b[0mzmq\u001b[0m\u001b[0;34m.\u001b[0m\u001b[0mZMQError\u001b[0m \u001b[0;32mas\u001b[0m \u001b[0me\u001b[0m\u001b[0;34m:\u001b[0m\u001b[0;34m\u001b[0m\u001b[0;34m\u001b[0m\u001b[0m\n",
            "\u001b[0;32m/usr/local/lib/python3.7/dist-packages/zmq/sugar/socket.py\u001b[0m in \u001b[0;36mrecv_multipart\u001b[0;34m(self, flags, copy, track)\u001b[0m\n\u001b[1;32m    624\u001b[0m         \"\"\"\n\u001b[0;32m--> 625\u001b[0;31m         \u001b[0mparts\u001b[0m \u001b[0;34m=\u001b[0m \u001b[0;34m[\u001b[0m\u001b[0mself\u001b[0m\u001b[0;34m.\u001b[0m\u001b[0mrecv\u001b[0m\u001b[0;34m(\u001b[0m\u001b[0mflags\u001b[0m\u001b[0;34m,\u001b[0m \u001b[0mcopy\u001b[0m\u001b[0;34m=\u001b[0m\u001b[0mcopy\u001b[0m\u001b[0;34m,\u001b[0m \u001b[0mtrack\u001b[0m\u001b[0;34m=\u001b[0m\u001b[0mtrack\u001b[0m\u001b[0;34m)\u001b[0m\u001b[0;34m]\u001b[0m\u001b[0;34m\u001b[0m\u001b[0;34m\u001b[0m\u001b[0m\n\u001b[0m\u001b[1;32m    626\u001b[0m         \u001b[0;31m# have first part already, only loop while more to receive\u001b[0m\u001b[0;34m\u001b[0m\u001b[0;34m\u001b[0m\u001b[0;34m\u001b[0m\u001b[0m\n",
            "\u001b[0;32mzmq/backend/cython/socket.pyx\u001b[0m in \u001b[0;36mzmq.backend.cython.socket.Socket.recv\u001b[0;34m()\u001b[0m\n",
            "\u001b[0;32mzmq/backend/cython/socket.pyx\u001b[0m in \u001b[0;36mzmq.backend.cython.socket.Socket.recv\u001b[0;34m()\u001b[0m\n",
            "\u001b[0;32mzmq/backend/cython/socket.pyx\u001b[0m in \u001b[0;36mzmq.backend.cython.socket._recv_copy\u001b[0;34m()\u001b[0m\n",
            "\u001b[0;32m/usr/local/lib/python3.7/dist-packages/zmq/backend/cython/checkrc.pxd\u001b[0m in \u001b[0;36mzmq.backend.cython.checkrc._check_rc\u001b[0;34m()\u001b[0m\n",
            "\u001b[0;31mKeyboardInterrupt\u001b[0m: ",
            "\nDuring handling of the above exception, another exception occurred:\n",
            "\u001b[0;31mKeyboardInterrupt\u001b[0m                         Traceback (most recent call last)",
            "\u001b[0;32m<ipython-input-8-f3e6149467b0>\u001b[0m in \u001b[0;36m<module>\u001b[0;34m()\u001b[0m\n\u001b[1;32m      1\u001b[0m \u001b[0;32mfrom\u001b[0m \u001b[0mcollections\u001b[0m \u001b[0;32mimport\u001b[0m \u001b[0mdeque\u001b[0m\u001b[0;34m\u001b[0m\u001b[0;34m\u001b[0m\u001b[0m\n\u001b[1;32m      2\u001b[0m \u001b[0;34m\u001b[0m\u001b[0m\n\u001b[0;32m----> 3\u001b[0;31m \u001b[0mn\u001b[0m\u001b[0;34m=\u001b[0m\u001b[0mint\u001b[0m\u001b[0;34m(\u001b[0m\u001b[0minput\u001b[0m\u001b[0;34m(\u001b[0m\u001b[0;34m)\u001b[0m\u001b[0;34m)\u001b[0m\u001b[0;34m\u001b[0m\u001b[0;34m\u001b[0m\u001b[0m\n\u001b[0m\u001b[1;32m      4\u001b[0m \u001b[0;34m\u001b[0m\u001b[0m\n\u001b[1;32m      5\u001b[0m \u001b[0msolution\u001b[0m\u001b[0;34m=\u001b[0m\u001b[0;34m[\u001b[0m\u001b[0;34m]\u001b[0m\u001b[0;34m\u001b[0m\u001b[0;34m\u001b[0m\u001b[0m\n",
            "\u001b[0;32m/usr/local/lib/python3.7/dist-packages/ipykernel/kernelbase.py\u001b[0m in \u001b[0;36mraw_input\u001b[0;34m(self, prompt)\u001b[0m\n\u001b[1;32m    702\u001b[0m             \u001b[0mself\u001b[0m\u001b[0;34m.\u001b[0m\u001b[0m_parent_ident\u001b[0m\u001b[0;34m,\u001b[0m\u001b[0;34m\u001b[0m\u001b[0;34m\u001b[0m\u001b[0m\n\u001b[1;32m    703\u001b[0m             \u001b[0mself\u001b[0m\u001b[0;34m.\u001b[0m\u001b[0m_parent_header\u001b[0m\u001b[0;34m,\u001b[0m\u001b[0;34m\u001b[0m\u001b[0;34m\u001b[0m\u001b[0m\n\u001b[0;32m--> 704\u001b[0;31m             \u001b[0mpassword\u001b[0m\u001b[0;34m=\u001b[0m\u001b[0;32mFalse\u001b[0m\u001b[0;34m,\u001b[0m\u001b[0;34m\u001b[0m\u001b[0;34m\u001b[0m\u001b[0m\n\u001b[0m\u001b[1;32m    705\u001b[0m         )\n\u001b[1;32m    706\u001b[0m \u001b[0;34m\u001b[0m\u001b[0m\n",
            "\u001b[0;32m/usr/local/lib/python3.7/dist-packages/ipykernel/kernelbase.py\u001b[0m in \u001b[0;36m_input_request\u001b[0;34m(self, prompt, ident, parent, password)\u001b[0m\n\u001b[1;32m    732\u001b[0m             \u001b[0;32mexcept\u001b[0m \u001b[0mKeyboardInterrupt\u001b[0m\u001b[0;34m:\u001b[0m\u001b[0;34m\u001b[0m\u001b[0;34m\u001b[0m\u001b[0m\n\u001b[1;32m    733\u001b[0m                 \u001b[0;31m# re-raise KeyboardInterrupt, to truncate traceback\u001b[0m\u001b[0;34m\u001b[0m\u001b[0;34m\u001b[0m\u001b[0;34m\u001b[0m\u001b[0m\n\u001b[0;32m--> 734\u001b[0;31m                 \u001b[0;32mraise\u001b[0m \u001b[0mKeyboardInterrupt\u001b[0m\u001b[0;34m\u001b[0m\u001b[0;34m\u001b[0m\u001b[0m\n\u001b[0m\u001b[1;32m    735\u001b[0m             \u001b[0;32melse\u001b[0m\u001b[0;34m:\u001b[0m\u001b[0;34m\u001b[0m\u001b[0;34m\u001b[0m\u001b[0m\n\u001b[1;32m    736\u001b[0m                 \u001b[0;32mbreak\u001b[0m\u001b[0;34m\u001b[0m\u001b[0;34m\u001b[0m\u001b[0m\n",
            "\u001b[0;31mKeyboardInterrupt\u001b[0m: "
          ]
        }
      ]
    },
    {
      "cell_type": "markdown",
      "source": [
        "## 안테나"
      ],
      "metadata": {
        "id": "PBiZIXHg187v"
      }
    },
    {
      "cell_type": "code",
      "source": [
        "'''\n",
        "수직선위에 있는 집들을 기준으로 정렬을 하고 집들을 대입해서 \n",
        "최소값을 생각해본다. \n",
        "\n",
        "\n",
        "\n",
        "'''\n",
        "\n",
        "n = int(input())\n",
        "house_li = []\n",
        "house_li = list(map(int, input().rstrip().split()))\n",
        "house_li.sort()\n",
        "print(house_li[(n-1)//2])\n",
        "\n",
        "\n",
        "\n",
        "\n",
        "\n"
      ],
      "metadata": {
        "id": "GgvzqM8N1-Am"
      },
      "execution_count": null,
      "outputs": []
    },
    {
      "cell_type": "markdown",
      "source": [
        "## 회의실 배정"
      ],
      "metadata": {
        "id": "mgJ_b5136zC0"
      }
    },
    {
      "cell_type": "code",
      "source": [
        "from collections import deque \n",
        "\n",
        "n=int(input())\n",
        "arr=[]\n",
        "\n",
        "for _ in range(n):\n",
        "  a,b=map(int,input().split())\n",
        "  arr.append((a,b))\n",
        "\n",
        "arr.sort(key=lambda x:x[1])\n",
        "\n",
        "start,end=arr[0][0],arr[0][1]\n",
        "cnt=1\n",
        "\n",
        "for i in range(1,n):\n",
        "  if arr[i][0]>end:\n",
        "    cnt+=1\n",
        "    end=arr[i][0]\n",
        "print(cnt)\n",
        "\n",
        "\n",
        "\n",
        "\n"
      ],
      "metadata": {
        "id": "Sye0LJwy60Xq"
      },
      "execution_count": null,
      "outputs": []
    },
    {
      "cell_type": "markdown",
      "source": [
        "## 동전0"
      ],
      "metadata": {
        "id": "b5cfV9w3nfFQ"
      }
    },
    {
      "cell_type": "code",
      "source": [
        "n,k=map(int,input().split())\n",
        "\n",
        "arr=[]\n",
        "for _ in range(n):\n",
        "  arr.append(int(input()))\n",
        "\n",
        "arr.sort(reverse=True)\n",
        "print(arr)\n",
        "cnt=0\n",
        "\n",
        "for num in arr:\n",
        "  if k//num>=1:\n",
        "    cnt+=k//num\n",
        "    k=k%num\n",
        "\n",
        "print(cnt)\n",
        "\n",
        "\n"
      ],
      "metadata": {
        "colab": {
          "base_uri": "https://localhost:8080/",
          "height": 301
        },
        "id": "MdkKbHfpnfPu",
        "outputId": "3a1315e9-53cf-4dff-b9ed-5bf1d76f9ced"
      },
      "execution_count": 1,
      "outputs": [
        {
          "name": "stdout",
          "output_type": "stream",
          "text": [
            "2 20\n",
            "1\n",
            "3\n"
          ]
        },
        {
          "output_type": "error",
          "ename": "TypeError",
          "evalue": "ignored",
          "traceback": [
            "\u001b[0;31m---------------------------------------------------------------------------\u001b[0m",
            "\u001b[0;31mTypeError\u001b[0m                                 Traceback (most recent call last)",
            "\u001b[0;32m<ipython-input-1-50ddf9a01017>\u001b[0m in \u001b[0;36m<module>\u001b[0;34m()\u001b[0m\n\u001b[1;32m      5\u001b[0m   \u001b[0marr\u001b[0m\u001b[0;34m.\u001b[0m\u001b[0mappend\u001b[0m\u001b[0;34m(\u001b[0m\u001b[0mint\u001b[0m\u001b[0;34m(\u001b[0m\u001b[0minput\u001b[0m\u001b[0;34m(\u001b[0m\u001b[0;34m)\u001b[0m\u001b[0;34m)\u001b[0m\u001b[0;34m)\u001b[0m\u001b[0;34m\u001b[0m\u001b[0;34m\u001b[0m\u001b[0m\n\u001b[1;32m      6\u001b[0m \u001b[0;34m\u001b[0m\u001b[0m\n\u001b[0;32m----> 7\u001b[0;31m \u001b[0marr\u001b[0m\u001b[0;34m.\u001b[0m\u001b[0msort\u001b[0m\u001b[0;34m(\u001b[0m\u001b[0mreversed\u001b[0m\u001b[0;34m=\u001b[0m\u001b[0;32mTrue\u001b[0m\u001b[0;34m)\u001b[0m\u001b[0;34m\u001b[0m\u001b[0;34m\u001b[0m\u001b[0m\n\u001b[0m\u001b[1;32m      8\u001b[0m \u001b[0mprint\u001b[0m\u001b[0;34m(\u001b[0m\u001b[0marr\u001b[0m\u001b[0;34m)\u001b[0m\u001b[0;34m\u001b[0m\u001b[0;34m\u001b[0m\u001b[0m\n\u001b[1;32m      9\u001b[0m \u001b[0;34m\u001b[0m\u001b[0m\n",
            "\u001b[0;31mTypeError\u001b[0m: 'reversed' is an invalid keyword argument for sort()"
          ]
        }
      ]
    },
    {
      "cell_type": "markdown",
      "source": [
        "## 신입사원"
      ],
      "metadata": {
        "id": "_YC9tyd5nfSu"
      }
    },
    {
      "cell_type": "code",
      "source": [
        "# 서류 심사 순위를 오름차순으로 정렬하면 \n",
        "# 맨앞에 있는 애가 기준이 되어 얘보다 모든값들은 서류 심사 순위가 낮다.\n",
        "\n",
        "# 따라서 서류심사가 아니라 최소한 면접심사 순위는 얘보다 높아야한다.\n",
        "# 그러면 처음에는 얘의 면접심사를 넣어주고 얘보다 순위가 높은애이면 min의 값을 초기화 시키고 \n",
        "# 계속적으로 비교한다.\n",
        "\n",
        "n=int(input())\n",
        "\n",
        "for _ in range(n):\n",
        "  m=int(input())\n",
        "  applicant=[]\n",
        "  for _ in range(m):\n",
        "    a,b=map(int,input().split())\n",
        "    applicant.append((a,b))\n",
        "  applicant.sort(key=lambda x:x[1])\n",
        "  \n",
        "\n",
        "\n",
        "\n"
      ],
      "metadata": {
        "id": "8UWu8yFYnfVg"
      },
      "execution_count": null,
      "outputs": []
    },
    {
      "cell_type": "markdown",
      "source": [
        "## 전구와 스위치"
      ],
      "metadata": {
        "id": "od_tnER4nfYL"
      }
    },
    {
      "cell_type": "code",
      "source": [
        "# 1. 첫번째 전구를 기준을 판단\n",
        "#   1-1. 첫번째 전구를 바꿔주었을떄\n",
        "#   1-2. 첫번째 전구를 바꿔주었을떄\n",
        "# 2. 이후 첫번쨰 인덱스 부터 n번 까지 반복한다.\n",
        "# 3. j는 인덱스 이다.\n",
        "#   3-1. j==0이면 두개를 변경해준다.\n",
        "#   3-2. j가 사이에 있고 A,B의 해당 인덱스의 값이 다르다면 바꿔준다.\n",
        "#   3-3. j가 맨마지막에 있고 A,B의 해당 인덱스의 값이 다르다면 바꿔준다.\n",
        "# 4. 이후 A==B이면 멈추고 cnt값을 출력해준다.\n",
        "# 5. 만약 for 문에서 탈출한다면 값이 존재하지 않기에 -1을 출력한다.\n",
        "\n",
        "# A는 0과1을 가지기에 변경하는 함수는 결국 그 값을 1에서 뺴주면 된다.\n",
        "\n",
        "import copy\n",
        "\n",
        "n=int(input())\n",
        "\n",
        "A=list(map(int,input().split()))\n",
        "B=list(map(int,input().split()))\n",
        "\n",
        "r1=copy.deepcopy(A)\n",
        "r2=copy.deepcopy(A)\n",
        "\n",
        "def change_two(a,b):\n",
        "  A[a]=1-A[a]\n",
        "  A[b]=1-A[b]\n",
        "\n",
        "def change_three(a,b,c):\n",
        "  A[a]=1-A[a]\n",
        "  A[b]=1-A[b]\n",
        "  A[c]=1-A[c]\n",
        "\n",
        "for i in range(2):\n",
        "  A=r1 if i==0 else r2\n",
        "  cnt=0\n",
        "  for j in range(n):\n",
        "    if j==0 and A!=B and i==0:\n",
        "      change_two(j,j+1)\n",
        "      cnt+=1\n",
        "    elif 1<=j<=n-2 and A[j-1]!=B[j-1]:\n",
        "      change_three(j-1,j,j+1)\n",
        "      cnt+=1\n",
        "    elif j==n-1 and A[j-1]!=B[j-1]:\n",
        "      change_two(j-1,j)\n",
        "      cnt+=1\n",
        "  \n",
        "  if A==B:\n",
        "    print(cnt)\n",
        "    break \n",
        "\n",
        "\n",
        "if A!=B:\n",
        "  print(-1)\n",
        "\n",
        "\n",
        "\n",
        "\n",
        "\n"
      ],
      "metadata": {
        "colab": {
          "base_uri": "https://localhost:8080/",
          "height": 429
        },
        "id": "Lap5iWBUnfan",
        "outputId": "479cde20-8763-4da5-f9c4-12e7185faacd"
      },
      "execution_count": 1,
      "outputs": [
        {
          "name": "stdout",
          "output_type": "stream",
          "text": [
            "3\n",
            "000\n",
            "010\n"
          ]
        },
        {
          "output_type": "error",
          "ename": "IndexError",
          "evalue": "ignored",
          "traceback": [
            "\u001b[0;31m---------------------------------------------------------------------------\u001b[0m",
            "\u001b[0;31mIndexError\u001b[0m                                Traceback (most recent call last)",
            "\u001b[0;32m<ipython-input-1-78c0bd1966e7>\u001b[0m in \u001b[0;36m<module>\u001b[0;34m()\u001b[0m\n\u001b[1;32m     36\u001b[0m   \u001b[0;32mfor\u001b[0m \u001b[0mj\u001b[0m \u001b[0;32min\u001b[0m \u001b[0mrange\u001b[0m\u001b[0;34m(\u001b[0m\u001b[0mn\u001b[0m\u001b[0;34m)\u001b[0m\u001b[0;34m:\u001b[0m\u001b[0;34m\u001b[0m\u001b[0;34m\u001b[0m\u001b[0m\n\u001b[1;32m     37\u001b[0m     \u001b[0;32mif\u001b[0m \u001b[0mj\u001b[0m\u001b[0;34m==\u001b[0m\u001b[0;36m0\u001b[0m \u001b[0;32mand\u001b[0m \u001b[0mA\u001b[0m\u001b[0;34m!=\u001b[0m\u001b[0mB\u001b[0m \u001b[0;32mand\u001b[0m \u001b[0mi\u001b[0m\u001b[0;34m==\u001b[0m\u001b[0;36m0\u001b[0m\u001b[0;34m:\u001b[0m\u001b[0;34m\u001b[0m\u001b[0;34m\u001b[0m\u001b[0m\n\u001b[0;32m---> 38\u001b[0;31m       \u001b[0mchange_two\u001b[0m\u001b[0;34m(\u001b[0m\u001b[0mj\u001b[0m\u001b[0;34m,\u001b[0m\u001b[0mj\u001b[0m\u001b[0;34m+\u001b[0m\u001b[0;36m1\u001b[0m\u001b[0;34m)\u001b[0m\u001b[0;34m\u001b[0m\u001b[0;34m\u001b[0m\u001b[0m\n\u001b[0m\u001b[1;32m     39\u001b[0m       \u001b[0mcnt\u001b[0m\u001b[0;34m+=\u001b[0m\u001b[0;36m1\u001b[0m\u001b[0;34m\u001b[0m\u001b[0;34m\u001b[0m\u001b[0m\n\u001b[1;32m     40\u001b[0m     \u001b[0;32melif\u001b[0m \u001b[0;36m1\u001b[0m\u001b[0;34m<=\u001b[0m\u001b[0mj\u001b[0m\u001b[0;34m<=\u001b[0m\u001b[0mn\u001b[0m\u001b[0;34m-\u001b[0m\u001b[0;36m2\u001b[0m \u001b[0;32mand\u001b[0m \u001b[0mA\u001b[0m\u001b[0;34m[\u001b[0m\u001b[0mj\u001b[0m\u001b[0;34m-\u001b[0m\u001b[0;36m1\u001b[0m\u001b[0;34m]\u001b[0m\u001b[0;34m!=\u001b[0m\u001b[0mB\u001b[0m\u001b[0;34m[\u001b[0m\u001b[0mj\u001b[0m\u001b[0;34m-\u001b[0m\u001b[0;36m1\u001b[0m\u001b[0;34m]\u001b[0m\u001b[0;34m:\u001b[0m\u001b[0;34m\u001b[0m\u001b[0;34m\u001b[0m\u001b[0m\n",
            "\u001b[0;32m<ipython-input-1-78c0bd1966e7>\u001b[0m in \u001b[0;36mchange_two\u001b[0;34m(a, b)\u001b[0m\n\u001b[1;32m     24\u001b[0m \u001b[0;32mdef\u001b[0m \u001b[0mchange_two\u001b[0m\u001b[0;34m(\u001b[0m\u001b[0ma\u001b[0m\u001b[0;34m,\u001b[0m\u001b[0mb\u001b[0m\u001b[0;34m)\u001b[0m\u001b[0;34m:\u001b[0m\u001b[0;34m\u001b[0m\u001b[0;34m\u001b[0m\u001b[0m\n\u001b[1;32m     25\u001b[0m   \u001b[0mA\u001b[0m\u001b[0;34m[\u001b[0m\u001b[0ma\u001b[0m\u001b[0;34m]\u001b[0m\u001b[0;34m=\u001b[0m\u001b[0;36m1\u001b[0m\u001b[0;34m-\u001b[0m\u001b[0ma\u001b[0m\u001b[0;34m\u001b[0m\u001b[0;34m\u001b[0m\u001b[0m\n\u001b[0;32m---> 26\u001b[0;31m   \u001b[0mA\u001b[0m\u001b[0;34m[\u001b[0m\u001b[0mb\u001b[0m\u001b[0;34m]\u001b[0m\u001b[0;34m=\u001b[0m\u001b[0;36m1\u001b[0m\u001b[0;34m-\u001b[0m\u001b[0mb\u001b[0m\u001b[0;34m\u001b[0m\u001b[0;34m\u001b[0m\u001b[0m\n\u001b[0m\u001b[1;32m     27\u001b[0m \u001b[0;34m\u001b[0m\u001b[0m\n\u001b[1;32m     28\u001b[0m \u001b[0;32mdef\u001b[0m \u001b[0mchange_three\u001b[0m\u001b[0;34m(\u001b[0m\u001b[0ma\u001b[0m\u001b[0;34m,\u001b[0m\u001b[0mb\u001b[0m\u001b[0;34m,\u001b[0m\u001b[0mc\u001b[0m\u001b[0;34m)\u001b[0m\u001b[0;34m:\u001b[0m\u001b[0;34m\u001b[0m\u001b[0;34m\u001b[0m\u001b[0m\n",
            "\u001b[0;31mIndexError\u001b[0m: list assignment index out of range"
          ]
        }
      ]
    },
    {
      "cell_type": "markdown",
      "source": [
        "## 행렬\n"
      ],
      "metadata": {
        "id": "mxzIafURI6x5"
      }
    },
    {
      "cell_type": "code",
      "source": [
        ""
      ],
      "metadata": {
        "id": "ZFkWp1a0I8KQ"
      },
      "execution_count": null,
      "outputs": []
    },
    {
      "cell_type": "markdown",
      "source": [
        "## A -> B"
      ],
      "metadata": {
        "id": "PUOQR2PcnknH"
      }
    },
    {
      "cell_type": "code",
      "source": [
        ""
      ],
      "metadata": {
        "id": "9hjy7HXFnkqO"
      },
      "execution_count": null,
      "outputs": []
    },
    {
      "cell_type": "code",
      "source": [
        ""
      ],
      "metadata": {
        "id": "pH_uny5VnfdG"
      },
      "execution_count": null,
      "outputs": []
    }
  ]
}
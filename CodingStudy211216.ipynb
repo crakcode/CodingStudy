{
  "nbformat": 4,
  "nbformat_minor": 0,
  "metadata": {
    "colab": {
      "name": "CodingStudy211216.ipynb",
      "provenance": [],
      "collapsed_sections": [],
      "authorship_tag": "ABX9TyOdF/q1nKFrC7GqvSWWopw2",
      "include_colab_link": true
    },
    "kernelspec": {
      "name": "python3",
      "display_name": "Python 3"
    },
    "language_info": {
      "name": "python"
    }
  },
  "cells": [
    {
      "cell_type": "markdown",
      "metadata": {
        "id": "view-in-github",
        "colab_type": "text"
      },
      "source": [
        "<a href=\"https://colab.research.google.com/github/crakcode/CodingStudy/blob/main/CodingStudy211216.ipynb\" target=\"_parent\"><img src=\"https://colab.research.google.com/assets/colab-badge.svg\" alt=\"Open In Colab\"/></a>"
      ]
    },
    {
      "cell_type": "markdown",
      "source": [
        "# 백준\n"
      ],
      "metadata": {
        "id": "k1EBnjrRWkbu"
      }
    },
    {
      "cell_type": "code",
      "source": [
        ""
      ],
      "metadata": {
        "id": "apJCi6aPWpQ0"
      },
      "execution_count": null,
      "outputs": []
    },
    {
      "cell_type": "code",
      "source": [
        ""
      ],
      "metadata": {
        "id": "cUwLljBDWpTc"
      },
      "execution_count": null,
      "outputs": []
    },
    {
      "cell_type": "code",
      "source": [
        ""
      ],
      "metadata": {
        "id": "VEY4zsJVWpV9"
      },
      "execution_count": null,
      "outputs": []
    },
    {
      "cell_type": "markdown",
      "source": [
        "## 톱니바퀴"
      ],
      "metadata": {
        "id": "1XDgg_rDWpYb"
      }
    },
    {
      "cell_type": "code",
      "source": [
        "# 10 1 01111\n",
        "# 01 1 111 0 1\n",
        "# 11 0 011 1 0\n",
        "# 000000 1 0\n",
        "\n",
        "# 3, -1 \n",
        "# a[2]\n",
        "# b[7] b[2] \n",
        "# c[7] c[2] \n",
        "# d[7]\n",
        "\n",
        "def cycle(lst,d):\n",
        "  if d==-1:\n",
        "    bottom=lst.pop(0)\n",
        "    lst.append(bottom)\n",
        "  else:\n",
        "    top=lst.pop()\n",
        "    lst.insert(0,top)\n",
        "  return lst\n",
        "\n",
        "\n",
        "\n",
        "a=int(input())\n",
        "b=int(input())\n",
        "c=int(input())\n",
        "d=int(input())\n",
        "\n",
        "n=int(input())\n",
        "for _ in range(n):\n",
        "  dp=[0,0,0]\n",
        "  dynamic=True\n",
        "  num,dir=map(int,input().split())\n",
        "  dp[0]= 1 if a[2]!=b[7] else 0\n",
        "  dp[1]= 1 if b[2]!=c[7] else 0\n",
        "  dp[2]= 1 if c[2]!=d[7] else 0\n",
        "\n",
        "\n",
        "  \n",
        "\n",
        "\n",
        "\n"
      ],
      "metadata": {
        "id": "uTlo3MEqWpa7"
      },
      "execution_count": null,
      "outputs": []
    },
    {
      "cell_type": "code",
      "source": [
        "\n",
        "a,b=3,2\n",
        "\n",
        "p=1 if a==b else 0\n",
        "print(p)"
      ],
      "metadata": {
        "colab": {
          "base_uri": "https://localhost:8080/"
        },
        "id": "_yDjEdahtWY3",
        "outputId": "5b6dbf81-b279-48fd-8eb9-bca52223faed"
      },
      "execution_count": null,
      "outputs": [
        {
          "output_type": "stream",
          "name": "stdout",
          "text": [
            "0\n"
          ]
        }
      ]
    },
    {
      "cell_type": "markdown",
      "source": [
        "## 원판돌리기"
      ],
      "metadata": {
        "id": "pjOVn9RUmp18"
      }
    },
    {
      "cell_type": "code",
      "source": [
        "# 1 1 2 3\n",
        "# 3 1 1 2 시계\n",
        "\n",
        "onepan=[[0]]\n",
        "cmd=[]\n",
        "def rotate(lst,d):\n",
        "  if d==0:\n",
        "    top=lst.pop()\n",
        "    lst.insert(0,top)\n",
        "  else:\n",
        "    bot=lst.pop(0)\n",
        "    lst.append(bot)\n",
        "  \n",
        "  return lst\n",
        "\n",
        "dx=[1,-1,0,0]\n",
        "dy=[0,0,-1,1]\n",
        "\n",
        "\n",
        "def erase(pan):\n",
        "  for i in range(1,n+1):\n",
        "    for j in range(m):\n",
        "      if i==1 or i==n or j==0 or j==m:\n",
        "\n",
        "\n",
        "      \n",
        "      else:\n",
        "        for i in range(4):\n",
        "          nx=i+dx[i]\n",
        "          ny=j+dy[i]\n",
        "          if 1<nx<n and 0<ny<m and pan[nx][ny]==pan[i][j]:\n",
        "            pan[nx][ny]=0\n",
        "\n",
        "n,m,t=map(int,input().split())\n",
        "\n",
        "for _ in range(n):\n",
        "  l=list(map(int,input().split()))\n",
        "  onepan.append(l)\n",
        "\n",
        "for _ in range(t):\n",
        "  x,d,k=map(int,input().split())\n",
        "\n",
        "  temp=onepan.pop(x)\n",
        "  temp=rotate(temp,d)\n",
        "  onepan.insert(x,temp)\n",
        "\n",
        "\n",
        "print(onepan)\n",
        "\n",
        "\n",
        "\n",
        "\n",
        "\n",
        "\n",
        "\n",
        "\n",
        "\n"
      ],
      "metadata": {
        "id": "uHy4F7sUmrOQ"
      },
      "execution_count": null,
      "outputs": []
    },
    {
      "cell_type": "code",
      "source": [
        "'''\n",
        "\n",
        "1. t_num, t_sum을 설정하여 전체의 값을 넣어주기 위한값을 설정한다.\n",
        "2. 이값들은 t_num==0 이되면 종료 시킬 옵션이다.\n",
        "3. t_sum을 이용해서 겹칠때마다 겹치는 값들을 제거해준다.\n",
        "4. dfs를 이용해서 값들을 처리한다.\n",
        "\n",
        "\n",
        "'''\n",
        "from collections import deque\n",
        "\n",
        "n, m, t = map(int, input().split())\n",
        "\n",
        "board = []\n",
        "for _ in range(n):\n",
        "    board.append(deque(list(map(int, input().split()))))\n",
        "\n",
        "dxs = [1, -1, 0, 0]\n",
        "dys = [0, 0, -1, 1]\n",
        "t_sum = 0\n",
        "t_num = n * m\n",
        "\n",
        "\n",
        "def DFS(x, y):\n",
        "    global num\n",
        "    for dx, dy in zip(dxs, dys):\n",
        "        nx, ny = x + dx, (y + dy) % m\n",
        "        if 0 > nx or n <= nx:\n",
        "            continue\n",
        "        if board[nx][ny] == value:\n",
        "            board[nx][ny] = 0\n",
        "            num+=1\n",
        "            DFS(nx, ny)\n",
        "\n",
        "\n",
        "for i in range(n):\n",
        "    t_sum += sum(board[i])\n",
        "\n",
        "for _ in range(t):\n",
        "    c, d, k = map(int, input().split())\n",
        "    for i in range(c, n + 1, c):\n",
        "        if d == 0:\n",
        "            board[i - 1].rotate(k)\n",
        "        else:\n",
        "            board[i - 1].rotate(-k)\n",
        "\n",
        "    p = 0\n",
        "    for x in range(n):\n",
        "        for y in range(m):\n",
        "            if board[x][y] != 0:\n",
        "                num = 0\n",
        "                value = board[x][y]\n",
        "                DFS(x, y)\n",
        "\n",
        "                if num != 0:\n",
        "                    p = 1\n",
        "                    t_num-=1\n",
        "                    t_sum-=num*value\n",
        "\n",
        "    if t_num==0:\n",
        "      print(0)\n",
        "      break\n",
        "\n",
        "    if p == 0:\n",
        "        value = t_sum / t_num\n",
        "        for x in range(n):\n",
        "            for y in range(m):\n",
        "                if board[x][y] == value:\n",
        "                    continue\n",
        "                elif board[x][y] > value:\n",
        "                    board[x][y] -= 1\n",
        "                    t_sum += 1\n",
        "                else:\n",
        "                    board[x][y] += 1\n",
        "                    t_sum -= 1\n",
        "if t_num!=0:\n",
        "  print(t_sum)\n",
        "\n",
        "\n",
        "\n",
        "\n",
        "\n",
        "\n",
        "\n",
        "\n",
        "\n",
        "\n"
      ],
      "metadata": {
        "colab": {
          "base_uri": "https://localhost:8080/"
        },
        "id": "Ibmd83GE0U4b",
        "outputId": "5a226af7-1352-4a49-a577-16cf8c8e641a"
      },
      "execution_count": 4,
      "outputs": [
        {
          "output_type": "stream",
          "name": "stdout",
          "text": [
            "deque([2, 3, 1])\n"
          ]
        }
      ]
    },
    {
      "cell_type": "markdown",
      "source": [
        ""
      ],
      "metadata": {
        "id": "SGiHgy76Wpds"
      }
    }
  ]
}
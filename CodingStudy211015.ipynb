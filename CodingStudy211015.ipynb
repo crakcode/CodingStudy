{
  "nbformat": 4,
  "nbformat_minor": 0,
  "metadata": {
    "colab": {
      "name": "CodingStudy211015.ipynb",
      "provenance": [],
      "collapsed_sections": [],
      "authorship_tag": "ABX9TyPF9ZZ1K6a7JnRm0vJ4VXdR",
      "include_colab_link": true
    },
    "kernelspec": {
      "name": "python3",
      "display_name": "Python 3"
    },
    "language_info": {
      "name": "python"
    }
  },
  "cells": [
    {
      "cell_type": "markdown",
      "metadata": {
        "id": "view-in-github",
        "colab_type": "text"
      },
      "source": [
        "<a href=\"https://colab.research.google.com/github/crakcode/CodingStudy/blob/main/CodingStudy211015.ipynb\" target=\"_parent\"><img src=\"https://colab.research.google.com/assets/colab-badge.svg\" alt=\"Open In Colab\"/></a>"
      ]
    },
    {
      "cell_type": "code",
      "metadata": {
        "colab": {
          "base_uri": "https://localhost:8080/"
        },
        "id": "UgaaBzqluQP0",
        "outputId": "e2dc470a-315c-4bd4-b282-4ba8eee17cd6"
      },
      "source": [
        "n,m=map(int,input().split())\n",
        "arr = list(map(int, input().split()))[1:]\n",
        "\n",
        "people_arr=[]\n",
        "\n",
        "for _ in range(m):\n",
        "  temp=list(map(int,input().split()))\n",
        "  c=temp[0]\n",
        "  people=temp[1:]\n",
        "  for i in range(c):\n",
        "    if people[i] in arr:\n",
        "      arr.extend(people)\n",
        "      break \n",
        "  people_arr.append(people)\n",
        "\n",
        "\n",
        "def delete_tuple(lst):\n",
        "  new=[]\n",
        "  for i in range(len(lst)):\n",
        "    if lst[i] not in new:\n",
        "      new.append(lst[i])\n",
        "  return new \n",
        "\n",
        "arr=delete_tuple(arr)\n",
        "\n",
        "cnt=0\n",
        "\n",
        "for i in range(m):\n",
        "  flag=0\n",
        "  for j in range(len(people_arr[i])):\n",
        "    if people_arr[i][j] in arr:\n",
        "      break \n",
        "    else:\n",
        "      flag+=1\n",
        "  if flag==len(people_arr[i]):\n",
        "    cnt+=1\n",
        "\n",
        "print(cnt)"
      ],
      "execution_count": null,
      "outputs": [
        {
          "output_type": "stream",
          "name": "stdout",
          "text": [
            "8 5\n",
            "3 1 2 7\n",
            "2 3 4\n",
            "1 5\n",
            "2 5 6\n",
            "2 6 8\n",
            "1 8\n",
            "5\n"
          ]
        }
      ]
    },
    {
      "cell_type": "code",
      "metadata": {
        "colab": {
          "base_uri": "https://localhost:8080/"
        },
        "id": "ALiYR6E45VLS",
        "outputId": "f43f645e-296d-4db8-b310-bb31737f3f26"
      },
      "source": [
        "'''\n",
        "1. 참가자 리스트 만들기 \n",
        "2. 전체가 가능하다고 가정하고 1로 초기화한 리스트를 만든다.\n",
        "3. 리스트를 받은 만큼 조회 하면서 해당 위치의 인덱스를 변경\n",
        "4. 만약 해당 파티에 있는 값이 이미 존재한경우도 있으니 union하여 조합한다. \n",
        "'''\n",
        "\n",
        "cnt_party = int(sys.stdin.readline().rstrip().split()[1])\n",
        "m=cnt_party\n",
        "witness = set(sys.stdin.readline().rstrip().split()[1:])\n",
        "\n",
        "witness=set(witness)\n",
        "\n",
        "party_li=[]\n",
        "positive=[]\n",
        "\n",
        "for _ in range(m):\n",
        "  temp = list(map(int, input().split()))[1:]\n",
        "  party_li.append(temp)\n",
        "  positive.append(1)\n",
        "\n",
        "for _ in range(m):\n",
        "  for i,party in enumerate(party_li):\n",
        "    if witness.intersection(party):\n",
        "      positive[i]=0\n",
        "      witness.union(party)\n",
        "print(sum(positive))\n",
        "  \n",
        "\n",
        "\n",
        "\n",
        "\n",
        "\n"
      ],
      "execution_count": null,
      "outputs": [
        {
          "output_type": "stream",
          "name": "stdout",
          "text": [
            "4 1\n",
            "1 1\n",
            "4 1 2 3 4\n",
            "0\n"
          ]
        }
      ]
    },
    {
      "cell_type": "code",
      "metadata": {
        "id": "uBKrLuadDQaq"
      },
      "source": [
        "import sys\n",
        "\n",
        "cnt_party = int(sys.stdin.readline().rstrip().split()[1])\n",
        "witness_set = set(sys.stdin.readline().rstrip().split()[1:])\n",
        "\n",
        "party_list = []\n",
        "possible_list = []\n",
        "\n",
        "for _ in range(cnt_party):\n",
        "  party_list.append(set(sys.stdin.readline().rstrip().split()[1:]))\n",
        "  possible_list.append(1)\n",
        "\n",
        "for _ in range(cnt_party):\n",
        "  for i, party in enumerate(party_list):\n",
        "    if witness_set.intersection(party):\n",
        "      possible_list[i] = 0\n",
        "      witness_set = witness_set.union(party)\n",
        "\n",
        "print(sum(possible_list))\n"
      ],
      "execution_count": null,
      "outputs": []
    },
    {
      "cell_type": "code",
      "metadata": {
        "colab": {
          "base_uri": "https://localhost:8080/"
        },
        "id": "nrh8mDf4FWO-",
        "outputId": "93897680-3270-4fb5-83ac-c89186d1d311"
      },
      "source": [
        "from collections import deque \n",
        "\n",
        "\n",
        "n,m=map(int,input().split())\n",
        "\n",
        "\n",
        "\n",
        "visited=[False]*(m)\n",
        "dp=[1000000]*(m)\n",
        "\n",
        "dp[n]=0\n",
        "\n",
        "def BFS(x,k):\n",
        "  if x==k:\n",
        "    return\n",
        "  dq=deque()\n",
        "  dq.append(x)\n",
        "  while dq:\n",
        "    now=dq.popleft()\n",
        "    visited[now]=True\n",
        "    for next in (now+1,now-1,now*2):\n",
        "      if visited[next]:\n",
        "        continue\n",
        "      if 0<next<k:\n",
        "        if next==now+1 or now-1:\n",
        "          dp[next]=min(dp[now]+1,dp[next])\n",
        "          dq.append(next)\n",
        "        else:\n",
        "          dp[next]=min(dp[now],dp[next])\n",
        "          dq.append(next)\n",
        "\n",
        "\n",
        "\n",
        "\n",
        "\n",
        "\n",
        "  "
      ],
      "execution_count": null,
      "outputs": [
        {
          "output_type": "stream",
          "name": "stdout",
          "text": [
            "5 17\n",
            "[0, 1, 2, 3, 1, 0, 1, 1, 2, 2, 3, 3, 2]\n"
          ]
        }
      ]
    },
    {
      "cell_type": "code",
      "metadata": {
        "id": "Gh95bvzXMjWq"
      },
      "source": [
        "from collections import deque\n",
        "import sys\n",
        "input=sys.stdin.readline\n",
        "\n",
        "'''\n",
        "우선순위를 다르게 가져야 한다.\n",
        "\n",
        "1. *2 를한것은 먼저 계산되어져야 되기 때문에 \n",
        "appendleft를 통해서 먼저 노드에 넣어준다. \n",
        "2. next의 값을 0부터 로 잡아주어야 한다. n부터 잡아주면 k가 n보다 작을때는 \n",
        "생각을 하지 않기 때문이다. \n",
        "\n",
        "'''\n",
        "\n",
        "n,k=map(int,input().split())\n",
        "dq=deque()\n",
        "visited=[-1]*(100002)\n",
        "\n",
        "visited[n]=0\n",
        "dq.append(n)\n",
        "\n",
        "while dq: \n",
        "  now=dq.popleft()\n",
        "  for next in [now+1,now-1,2*now]:\n",
        "    if 0<=next<=100001:\n",
        "      if visited[next]==-1 and next==2*now:\n",
        "        visited[next]=visited[now]\n",
        "        dq.appendleft(next)\n",
        "      elif visited[next]==-1 and (next==now-1 or next==now+1):\n",
        "        visited[next]=visited[now]+1\n",
        "        dq.append(next)\n",
        "\n",
        "print(visited[k])\n"
      ],
      "execution_count": null,
      "outputs": []
    },
    {
      "cell_type": "code",
      "metadata": {
        "id": "JsJCYhWKejEb",
        "colab": {
          "base_uri": "https://localhost:8080/"
        },
        "outputId": "02d8e757-f759-435e-8f2f-5db48070154b"
      },
      "source": [
        "'''\n",
        "\n",
        "1. 트리를 구현한다.\n",
        "2. 트리에서 루트 노드에서 가장  먼 노드를 dfs 로 구한다.\n",
        "3. 2번에서 구한 가장 먼노드에서 한번더 가장 먼 노드를 dfs 로 구한다. \n",
        "\n",
        "'''\n",
        "\n",
        "n=int(input())\n",
        "graph=[[] for i in range(n+1)]\n",
        "\n",
        "distance=[-1]*(n+1)\n",
        "distance[1]=0\n",
        "\n",
        "for _ in range(n):\n",
        "  a,b,c=map(int,input().split())\n",
        "  graph[a].append((b,c))\n",
        "  graph[b].append((a,c))\n",
        "\n",
        "\n",
        "def dfs(v,weight):\n",
        "  for next,w in graph[v]:\n",
        "    if distance[next]==-1:\n",
        "      distance[next]=weight+w\n",
        "      dfs(next,distance[next])\n",
        "\n",
        "dfs(1,0)\n",
        "\n",
        "start=distance.index(max(distance))\n",
        "distance=[-1]*(n+1)\n",
        "distance[start]=0\n",
        "dfs(start,0)\n",
        "print(max(distance))\n",
        "\n",
        "\n",
        "\n",
        "\n",
        "\n",
        "\n"
      ],
      "execution_count": 2,
      "outputs": [
        {
          "output_type": "stream",
          "name": "stdout",
          "text": [
            "3\n",
            "1 2 3\n",
            "1 3 2\n",
            "2 3 1\n",
            "[]\n",
            "[(2, 3), (3, 2)]\n",
            "[(1, 3), (3, 1)]\n",
            "[(1, 2), (2, 1)]\n"
          ]
        }
      ]
    },
    {
      "cell_type": "code",
      "metadata": {
        "colab": {
          "base_uri": "https://localhost:8080/",
          "height": 316
        },
        "id": "ljEGOyv-ch0J",
        "outputId": "c5e27b47-6d71-49e4-971c-a708923b4149"
      },
      "source": [
        "\n",
        "\n",
        "'''\n",
        "\n",
        "산봉우리 문제에서 착안\n",
        "\n",
        "1. matrix에서 없애는게 아니라 2개 이상인경우  지점과 맞닿는 경우 1을 그대로 둔다.\n",
        "2. matrix에서 1이고 matrix 접하는게 1개인 경우 탐색 지점에서 +1 을 해준다.\n",
        "3. matrix에서 1이고 matrix 접하는게 0 인경우 탐색지점에서 +2 를 해준다. \n",
        "'''\n",
        "\n",
        "\n",
        "\n",
        "n,m=map(int,input().split())\n",
        "matrix=[]\n",
        "\n",
        "\n",
        "for _ in range(n):\n",
        "  matrix.append(list(map(int,input().split())))\n",
        "\n",
        "dx=[0,0,-1,1]\n",
        "dy=[1,-1,0,0]\n",
        "\n",
        "\n",
        "for i in range(n):\n",
        "  for j in range(m):\n",
        "    cnt=0\n",
        "    temp=1000000\n",
        "    if matrix[i][j]==1:\n",
        "      for i in range(4):\n",
        "        nx=i+dx[i] \n",
        "        ny=j+dy[i]\n",
        "        if 0<=nx<n and 0<=ny<m:\n",
        "          if matrix[nx][ny]==0:\n",
        "            cnt+=1\n",
        "          else:\n",
        "            if temp<matrix[nx][ny]:\n",
        "              temp=matirx[nx][ny]\n",
        "    if cnt==1:\n",
        "      matrix[i][j]=temp+1\n",
        "    elif cnt==0:\n",
        "      matrix[i][j]=temp+2\n",
        "  \n",
        "for i in matrix:\n",
        "  print(i)       \n",
        "\n",
        "\n",
        "\n",
        "\n"
      ],
      "execution_count": 4,
      "outputs": [
        {
          "name": "stdout",
          "output_type": "stream",
          "text": [
            "3 3\n",
            "0 1 0\n",
            "1 1 1\n",
            "0 1 0\n"
          ]
        },
        {
          "output_type": "error",
          "ename": "IndexError",
          "evalue": "ignored",
          "traceback": [
            "\u001b[0;31m---------------------------------------------------------------------------\u001b[0m",
            "\u001b[0;31mIndexError\u001b[0m                                Traceback (most recent call last)",
            "\u001b[0;32m<ipython-input-4-608918a58387>\u001b[0m in \u001b[0;36m<module>\u001b[0;34m()\u001b[0m\n\u001b[1;32m     38\u001b[0m               \u001b[0mtemp\u001b[0m\u001b[0;34m=\u001b[0m\u001b[0mmatirx\u001b[0m\u001b[0;34m[\u001b[0m\u001b[0mnx\u001b[0m\u001b[0;34m]\u001b[0m\u001b[0;34m[\u001b[0m\u001b[0mny\u001b[0m\u001b[0;34m]\u001b[0m\u001b[0;34m\u001b[0m\u001b[0;34m\u001b[0m\u001b[0m\n\u001b[1;32m     39\u001b[0m     \u001b[0;32mif\u001b[0m \u001b[0mcnt\u001b[0m\u001b[0;34m==\u001b[0m\u001b[0;36m1\u001b[0m\u001b[0;34m:\u001b[0m\u001b[0;34m\u001b[0m\u001b[0;34m\u001b[0m\u001b[0m\n\u001b[0;32m---> 40\u001b[0;31m       \u001b[0mmatrix\u001b[0m\u001b[0;34m[\u001b[0m\u001b[0mi\u001b[0m\u001b[0;34m]\u001b[0m\u001b[0;34m[\u001b[0m\u001b[0mj\u001b[0m\u001b[0;34m]\u001b[0m\u001b[0;34m=\u001b[0m\u001b[0mtemp\u001b[0m\u001b[0;34m+\u001b[0m\u001b[0;36m1\u001b[0m\u001b[0;34m\u001b[0m\u001b[0;34m\u001b[0m\u001b[0m\n\u001b[0m\u001b[1;32m     41\u001b[0m     \u001b[0;32melif\u001b[0m \u001b[0mcnt\u001b[0m\u001b[0;34m==\u001b[0m\u001b[0;36m0\u001b[0m\u001b[0;34m:\u001b[0m\u001b[0;34m\u001b[0m\u001b[0;34m\u001b[0m\u001b[0m\n\u001b[1;32m     42\u001b[0m       \u001b[0mmatrix\u001b[0m\u001b[0;34m[\u001b[0m\u001b[0mi\u001b[0m\u001b[0;34m]\u001b[0m\u001b[0;34m[\u001b[0m\u001b[0mj\u001b[0m\u001b[0;34m]\u001b[0m\u001b[0;34m=\u001b[0m\u001b[0mtemp\u001b[0m\u001b[0;34m+\u001b[0m\u001b[0;36m2\u001b[0m\u001b[0;34m\u001b[0m\u001b[0;34m\u001b[0m\u001b[0m\n",
            "\u001b[0;31mIndexError\u001b[0m: list index out of range"
          ]
        }
      ]
    },
    {
      "cell_type": "code",
      "metadata": {
        "id": "d6KQPV9KD-22"
      },
      "source": [
        "n,m=map(int,input().split())\n",
        "matrix=[]\n",
        "\n",
        "\n",
        "for _ in range(n):\n",
        "  matrix.append(list(map(int,input().split())))\n",
        "\n",
        "dx=[0,0,-1,1]\n",
        "dy=[1,-1,0,0]\n",
        "\n",
        "\n",
        "def BFS(x,y):\n",
        "  "
      ],
      "execution_count": null,
      "outputs": []
    },
    {
      "cell_type": "code",
      "metadata": {
        "id": "byQ1-zRp2bYZ"
      },
      "source": [
        ""
      ],
      "execution_count": null,
      "outputs": []
    },
    {
      "cell_type": "markdown",
      "metadata": {
        "id": "PAgTZqw6FKsj"
      },
      "source": [
        ""
      ]
    }
  ]
}
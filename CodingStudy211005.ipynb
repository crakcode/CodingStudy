{
  "nbformat": 4,
  "nbformat_minor": 0,
  "metadata": {
    "colab": {
      "name": "CodingStudy211005.ipynb",
      "provenance": [],
      "collapsed_sections": [],
      "authorship_tag": "ABX9TyP5ENjexdbl4uq65Uq59lLt",
      "include_colab_link": true
    },
    "kernelspec": {
      "name": "python3",
      "display_name": "Python 3"
    },
    "language_info": {
      "name": "python"
    }
  },
  "cells": [
    {
      "cell_type": "markdown",
      "metadata": {
        "id": "view-in-github",
        "colab_type": "text"
      },
      "source": [
        "<a href=\"https://colab.research.google.com/github/crakcode/CodingStudy/blob/main/CodingStudy211005.ipynb\" target=\"_parent\"><img src=\"https://colab.research.google.com/assets/colab-badge.svg\" alt=\"Open In Colab\"/></a>"
      ]
    },
    {
      "cell_type": "code",
      "metadata": {
        "colab": {
          "base_uri": "https://localhost:8080/"
        },
        "id": "9g6w_mUJpqa7",
        "outputId": "5a1f1948-28ee-4395-ae27-6f8b1f910560"
      },
      "source": [
        ""
      ],
      "execution_count": null,
      "outputs": [
        {
          "output_type": "stream",
          "name": "stdout",
          "text": [
            "4 4\n",
            "3 0 1 4\n",
            "[0] 3\n",
            "3\n"
          ]
        }
      ]
    },
    {
      "cell_type": "code",
      "metadata": {
        "colab": {
          "base_uri": "https://localhost:8080/"
        },
        "id": "QZEIaUIZ4YNs",
        "outputId": "15400100-5f94-4857-8673-d385cc28f638"
      },
      "source": [
        "\n",
        "n,m=map(int,input().split())\n",
        "arr=list(map(int,input().split()))\n",
        "\n",
        "'''\n",
        "1. \n",
        "\n",
        "'''\n",
        "result=0\n",
        "\n",
        "for i in range(1,m-1):\n",
        "  left_hight=arr[i]\n",
        "  for j in range(i,-1,-1):\n",
        "    if left_hight<arr[j]:\n",
        "      left_hight=arr[j]\n",
        "  right_hight=arr[i]\n",
        "  for j in range(i,m):\n",
        "    if right_hight<arr[j]:\n",
        "      right_hight=arr[j]\n",
        "  second=min(right_hight,left_hight)\n",
        "  print(second)\n",
        "  result+=(second-arr[i])\n",
        "\n",
        "print(result)\n",
        "\n",
        "\n",
        "\n",
        "\n",
        "\n",
        "    \n",
        "\n",
        "\n",
        "\n",
        "\n",
        "\n",
        "\n",
        "\n"
      ],
      "execution_count": null,
      "outputs": [
        {
          "output_type": "stream",
          "name": "stdout",
          "text": [
            "4 4\n",
            "3 0 1 4\n",
            "3\n",
            "3\n",
            "5\n"
          ]
        }
      ]
    },
    {
      "cell_type": "code",
      "metadata": {
        "id": "LtlxOHvR-ZmE"
      },
      "source": [
        "    area = 0\n",
        "    for i in range(1, w - 1):\n",
        "        # 현재 위치의 왼쪽 블록 중 가장 큰 높이를 찾는다.\n",
        "        left_height = height[i]\n",
        "        for j in range(i - 1, -1, -1):\n",
        "            if left_height < height[j]:\n",
        "                left_height = height[j]\n",
        "        # 현재 위치의 오른쪽 블록 중 가장 큰 높이를 찾는다.\n",
        "        right_height = height[i]\n",
        "        for j in range(i + 1, w):\n",
        "            if right_height < height[j]:\n",
        "                right_height = height[j]\n",
        "        # 왼쪽, 오른쪽 높이 중 작은 높이에서 현재 높이를 뺀 값을 더한다.\n",
        "        final_height = min(left_height, right_height)\n",
        "        area += final_height - height[i]\n"
      ],
      "execution_count": null,
      "outputs": []
    },
    {
      "cell_type": "code",
      "metadata": {
        "colab": {
          "base_uri": "https://localhost:8080/"
        },
        "id": "4zVz3P4nEWnm",
        "outputId": "380c26da-2b6e-4809-b3f2-c676d9408d8a"
      },
      "source": [
        "n,k=map(int,input().split())\n",
        "arr=[i for i in range(n+1)]\n",
        "'''\n",
        "수열공식 쓰기 노가다 문제 \n",
        "\n",
        "n,k를 2차원 배열로 만들어서 수열의 값을 예측한다. \n",
        "컬럼이 n이고 행이 k 이다. 직접 노가다해서 완성해보면\n",
        "- i>=1 and j>=1 인경우에 처리를 할수있다.\n",
        "dp[i][j]=dp[i-1][j]+dp[i][j-1]\n",
        "  0 1 2 3 4 5 \n",
        "0 1 1 1 1 1 1\n",
        "1 1 2 3 4 5 6\n",
        "2 1 3 6 10 15 21\n",
        "\n",
        "'''\n",
        "\n",
        "\n",
        "dp=[[1]*(n+1) for i in range(k)]\n",
        "\n",
        "for i in range(1,k):\n",
        "  for j in range(1,n+1):\n",
        "    dp[i][j]=dp[i-1][j]+dp[i][j-1]\n",
        "\n",
        "print(dp[k-1][n]%1000000000)\n",
        "\n",
        "\n"
      ],
      "execution_count": null,
      "outputs": [
        {
          "output_type": "stream",
          "name": "stdout",
          "text": [
            "20 2\n",
            "21\n"
          ]
        }
      ]
    },
    {
      "cell_type": "code",
      "metadata": {
        "colab": {
          "base_uri": "https://localhost:8080/"
        },
        "id": "CFf6V-V0DiCD",
        "outputId": "64ea538a-0c3a-487a-8fad-088b9638239b"
      },
      "source": [
        "# 1. 끝에서 부터 뒤로가면서 차례대로 비교한다.\n",
        "# 2. 걸리는 시간(t) 를 비교하여 최대값이 되도록 계속적으로 갱신한다.\n",
        "# 3. 끝에서 부터 시작하여 dp를 갱신해준다. \n",
        "\n",
        "# \" 핵심 기준이 되는지점을 찾아라!!\"\n",
        "# : 기준이되는지점은 걸리는기간을 더했을때 n을 넘어서는 안된다. \n",
        "\n",
        "n=int(input())\n",
        "t=[]\n",
        "p=[]\n",
        "dp=[0]*(n+1)\n",
        "\n",
        "for _ in range(n):\n",
        "  a,b=map(int,input().split())\n",
        "  t.append(a)\n",
        "  p.append(b)\n",
        "\n",
        "for i in range(n-1,-1,-1):\n",
        "  if t[i]>n-i:\n",
        "    dp[i]=dp[i+1]\n",
        "  else:\n",
        "    dp[i]=max(p[i]+dp[i+t[i]],dp[i+1])\n",
        "print(max(dp))\n",
        "\n"
      ],
      "execution_count": null,
      "outputs": [
        {
          "output_type": "stream",
          "name": "stdout",
          "text": [
            "7\n",
            "3 10\n",
            "5 20\n",
            "1 10\n",
            "1 20\n",
            "2 15\n",
            "4 40\n",
            "2 200\n",
            "6\n",
            "5\n",
            "4\n",
            "3\n",
            "2\n",
            "1\n",
            "0\n",
            "[45, 45, 45, 35, 15, 0, 0, 0]\n"
          ]
        }
      ]
    },
    {
      "cell_type": "code",
      "metadata": {
        "colab": {
          "base_uri": "https://localhost:8080/"
        },
        "id": "utb6hqnhNUbw",
        "outputId": "51474293-8b48-4b3c-ea73-d20c387152cb"
      },
      "source": [
        "from collections import deque\n",
        "\n",
        "'''\n",
        "1. i j가 0인경우 계속적으로 확인해서 1로 초기화 시켜준다.\n",
        "2. 해당 위치에 matrix[i-1][j], matrix[i][j-1]과 matrix[i][j]의 값을 비교한다. \n",
        "2-1. 두개 보다 모두 작다면 두개의 값을 더해준다.\n",
        "2-2. 두개 보다 크다면 0으로 초기화 시켜준다.\n",
        "2-3. 한개보다 크다면 그값을 넣어준다.\n",
        "\n",
        "\n",
        "'''\n",
        "n,m=map(int,input().split())\n",
        "\n",
        "dp=[[0]*m for i in range(n)]\n",
        "matrix=[]\n",
        "\n",
        "for _ in range(n):\n",
        "  temp=list(map(int,input().split()))\n",
        "  matrix.append(temp)\n",
        "\n",
        "for i in range(n):\n",
        "  for j in range(m):\n",
        "    if i==0 and j>0:\n",
        "      if matrix[i][j]<matrix[i][j-1]:\n",
        "        dp[i][j]=1\n",
        "    elif j==0 and i>0:\n",
        "      if matrix[i][j]<matrix[i-1][j]:\n",
        "        dp[i][j]=1\n",
        "      \n",
        "for i in range(1,n):\n",
        "  for j in range(1,m):\n",
        "    if matrix[i][j-1]>matrix[i][j] and matrix[i-1][j]>matrix[i][j]:\n",
        "      dp[i][j]=dp[i-1][j]+dp[i][j-1]\n",
        "    elif matrix[i][j-1]<matrix[i][j] and matrix[i-1][j]<matrix[i][j]:\n",
        "      dp[i][j]=0\n",
        "    elif matrix[i][j-1]<matrix[i][j] and matrix[i-1][j]>matrix[i][j]:\n",
        "      dp[i][j]+=dp[i-1][j]\n",
        "    else:\n",
        "      dp[i][j]+=dp[i][j-1]\n",
        "\n",
        "print(dp[n-1][m-1])\n",
        "\n",
        "\n",
        "\n",
        "\n"
      ],
      "execution_count": null,
      "outputs": [
        {
          "output_type": "stream",
          "name": "stdout",
          "text": [
            "3 3\n",
            "10 9 8\n",
            "7 6 5\n",
            "4 3 2\n",
            "6\n"
          ]
        }
      ]
    },
    {
      "cell_type": "code",
      "metadata": {
        "colab": {
          "base_uri": "https://localhost:8080/"
        },
        "id": "MNNE63wNZWZR",
        "outputId": "ef758795-36eb-4311-bcb9-6a1b03b9bf71"
      },
      "source": [
        "from collections import deque\n",
        "\n",
        "\n",
        "n,m=map(int,input().split())\n",
        "\n",
        "dp=[[0]*m for i in range(n)]\n",
        "matrix=[]\n",
        "\n",
        "for _ in range(n):\n",
        "  temp=list(map(int,input().split()))\n",
        "  matrix.append(temp)\n",
        "\n",
        "for i in range(n):\n",
        "  for j in range(m):\n",
        "    if i==0 and j>0:\n",
        "      if matrix[i][j]<matrix[i][j-1]:\n",
        "        dp[i][j]=1\n",
        "    elif j==0 and i>0:\n",
        "      if matrix[i][j]<matrix[i-1][j]:\n",
        "        dp[i][j]=1\n",
        "      \n",
        "for i in range(1,n):\n",
        "  for j in range(1,m):\n",
        "    if matrix[i][j-1]>matrix[i][j] and matrix[i-1][j]>matrix[i][j]:\n",
        "      dp[i][j]=dp[i-1][j]+dp[i][j-1]\n",
        "    elif matrix[i][j-1]<matrix[i][j] and matrix[i-1][j]<matrix[i][j]:\n",
        "      dp[i][j]=0\n",
        "    elif matrix[i][j-1]<=matrix[i][j] and matrix[i-1][j]>matrix[i][j]:\n",
        "      dp[i][j]+=dp[i-1][j]\n",
        "    elif matrix[i][j-1]>matrix[i][j] and matrix[i-1][j]<=matrix[i][j]:\n",
        "      dp[i][j]+=dp[i][j-1]\n",
        "\n",
        "for i in dp:\n",
        "\n",
        "  \n",
        "  print(i)\n",
        "\n",
        "print(dp[n-1][m-1])\n",
        "\n",
        "\n",
        "\n",
        "\n"
      ],
      "execution_count": null,
      "outputs": [
        {
          "output_type": "stream",
          "name": "stdout",
          "text": [
            "4 5\n",
            "50 45 37 32 30\n",
            "35 50 40 20 25\n",
            "30 30 25 17 28\n",
            "27 24 22 15 10\n",
            "[0, 1, 1, 1, 1]\n",
            "[1, 0, 0, 1, 1]\n",
            "[1, 0, 0, 1, 0]\n",
            "[1, 1, 1, 2, 2]\n",
            "2\n"
          ]
        }
      ]
    },
    {
      "cell_type": "code",
      "metadata": {
        "id": "WOC9cgk1lcZ7"
      },
      "source": [
        "dx=[0,0,-1,1]\n",
        "dx=[1,-1,0,0]\n",
        "\n",
        "def dfs(x,y):\n",
        "  if x===m-1 and y==n-1:\n",
        "    return 1\n",
        "  if dp[x][y]==-1:\n",
        "    dp[x][y]=0\n",
        "    for i in range(4):\n",
        "      nx=x+dx[i]\n",
        "      ny=y+dy[i]\n",
        "      if 0<=nx<n and 0<=ny<m:\n",
        "        if matrix[nx][ny]<matrix[x][y]:\n",
        "          dp[nx][ny]+=dfs(x+dx,y+dy)\n",
        "  return dp[x][y]\n",
        "  \n",
        "\n",
        "\n",
        "    \n",
        "\n",
        "ACAYKP\n",
        "CAPCAK"
      ],
      "execution_count": null,
      "outputs": []
    },
    {
      "cell_type": "code",
      "metadata": {
        "colab": {
          "base_uri": "https://localhost:8080/"
        },
        "id": "sECrtmQiBi5I",
        "outputId": "66b8e7e3-f106-4d81-a205-1aedcc38f73e"
      },
      "source": [
        "string=input()\n",
        "keyword=input()\n",
        "\n",
        "n=len(string)\n",
        "m=len(keyword)\n",
        "\n",
        "matrix=[[0]*(m+1) for i in range(n+1)]\n",
        "string='0'+string\n",
        "keyword='0'+keyword\n",
        "\n",
        "\n",
        "for i in range(1,n+1):\n",
        "  for j in range(1,m+1):\n",
        "    if string[i]==keyword[j]:\n",
        "      matrix[i][j]=matrix[i-1][j-1]+1\n",
        "    else:\n",
        "      matrix[i][j]=max(matrix[i-1][j],matrix[i][j-1])\n",
        "\n",
        "index=[]\n",
        "res=matrix[1][m]\n",
        "index.append(1)\n",
        "\n",
        "for i in range(2,n+1):\n",
        "  if res!=matrix[i][m]:\n",
        "    res=matrix[i][m]\n",
        "    index.append(i)\n",
        "\n",
        "print(matrix[n][m])\n",
        "s=''\n",
        "for i in index:\n",
        "  s+=string[i]\n",
        "\n",
        "print(s)\n",
        "\n",
        "\n"
      ],
      "execution_count": null,
      "outputs": [
        {
          "output_type": "stream",
          "name": "stdout",
          "text": [
            "ACAYKP\n",
            "CAPCAK\n",
            "4\n",
            "ACAK\n"
          ]
        }
      ]
    },
    {
      "cell_type": "markdown",
      "metadata": {
        "id": "Ko3YF_GfNMDO"
      },
      "source": [
        ""
      ]
    },
    {
      "cell_type": "code",
      "metadata": {
        "colab": {
          "base_uri": "https://localhost:8080/"
        },
        "id": "sUqNvr2HLfht",
        "outputId": "b7a086ef-4ad5-4ebd-c013-a475967f68bb"
      },
      "source": [
        "\n",
        "'''\n",
        "1. 반복문을 사용하지 않고 shape 0,1,2 를 비교하여 처리한다.\n",
        "2. DFS 를 사용하여 처리하도록 한다. \n",
        "3. \n",
        "\n",
        "\n",
        "'''\n",
        "n=int(input())\n",
        "\n",
        "matrix=[]\n",
        "for _ in range(n):\n",
        "  matrix.append(list(map(int,input().split())))\n",
        "\n",
        "\n",
        "def dfs(x,y,shape):\n",
        "  global cnt \n",
        "  if x==n-1 and y==n-1:\n",
        "    cnt+=1\n",
        "    return \n",
        "  if shape==0 or shape==2:\n",
        "    if y+1<n:\n",
        "      if matrix[x][y+1]==0:\n",
        "        dfs(x,y+1,0)\n",
        "  if shape==1 or shape==2:\n",
        "    if x+1<n:\n",
        "      if matrix[x+1][y]==0:\n",
        "        dfs(x+1,y,1)\n",
        "  if shape==0 or shape==1 or shape==2:\n",
        "    if x+1<n and y+1<n:\n",
        "      if matrix[x+1][y+1]==0 and matrix[x][y+1]==0 and matrix[x+1][y]==0:\n",
        "        dfs(x+1,y+1,2)\n",
        "cnt=0\n",
        "  \n",
        "dfs(0,1,0)\n",
        "print(cnt)\n",
        "    \n",
        "\n"
      ],
      "execution_count": 9,
      "outputs": [
        {
          "output_type": "stream",
          "name": "stdout",
          "text": [
            "6\n",
            "0 0 0 0 0 0\n",
            "0 1 0 0 0 0 \n",
            "0 0 0 0 0 0\n",
            "0 0 0 0 0 0\n",
            "0 0 0 0 0 0\n",
            "0 0 0 0 0 0\n",
            "13\n"
          ]
        }
      ]
    },
    {
      "cell_type": "code",
      "metadata": {
        "id": "6rVQVLXLOS0P"
      },
      "source": [
        "def dfs(x, y, shape):\n",
        "    global ans\n",
        "    if x == n-1 and y == n-1:\n",
        "        ans += 1\n",
        "        return\n",
        "\n",
        "    if shape == 0 or shape == 2:\n",
        "        if y + 1 < n:\n",
        "            if matrix[x][y+1] == 0:\n",
        "                dfs(x, y+1, 0)\n",
        "    if shape == 1 or shape == 2:\n",
        "        if x + 1 < n:\n",
        "            if matrix[x+1][y] == 0:\n",
        "                dfs(x+1, y, 1)\n",
        "    if shape == 0 or shape == 1 or shape == 2:\n",
        "        if x + 1 < n and y + 1 < n:\n",
        "            if matrix[x+1][y] == 0 and matrix[x][y+1] == 0 and matrix[x+1][y+1] == 0:\n",
        "                dfs(x+1, y+1, 2)\n",
        "\n",
        "\n",
        "n = int(input())\n",
        "matrix = [list(map(int, input().split())) for _ in range(n)]\n",
        "ans = 0\n",
        "dfs(0, 1, 0)\n",
        "print(ans)\n"
      ],
      "execution_count": null,
      "outputs": []
    },
    {
      "cell_type": "code",
      "metadata": {
        "colab": {
          "base_uri": "https://localhost:8080/"
        },
        "id": "s_Zdng80_vD6",
        "outputId": "f92b9fa2-e6f0-413a-88c8-020e4fb9a9cc"
      },
      "source": [
        "\n",
        "\n",
        "\n",
        "n=int(input())\n",
        "small=[]\n",
        "big=[]\n",
        "for _ in range(n-1):\n",
        "  s,b=map(int,input().split())\n",
        "  small.append(s)\n",
        "  big.append(b)\n",
        "\n",
        "m=int(input())\n",
        "\n",
        "dp=[0]*(n+1)\n",
        "\n",
        "for i in range(2,n):\n",
        "  if i>=4:\n",
        "    dp[i]=min(small[i-1]+dp[i-1],big[i-2]+dp[i-2],m+dp[i-4])\n",
        "  else:\n",
        "    dp[i]=min(small[i-1]+dp[i-1],big[i-2]+dp[i-2])\n",
        "\n",
        "print(max(dp)+1)\n"
      ],
      "execution_count": 3,
      "outputs": [
        {
          "output_type": "stream",
          "name": "stdout",
          "text": [
            "5\n",
            "1 2\n",
            "2 3\n",
            "4 5\n",
            "6 7\n",
            "4\n",
            "0\n",
            "0\n",
            "2\n",
            "3\n",
            "4\n",
            "0\n"
          ]
        }
      ]
    }
  ]
}
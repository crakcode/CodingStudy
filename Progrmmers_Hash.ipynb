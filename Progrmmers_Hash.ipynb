{
  "nbformat": 4,
  "nbformat_minor": 0,
  "metadata": {
    "colab": {
      "name": "Progrmmers_Hash.ipynb",
      "provenance": [],
      "collapsed_sections": [],
      "authorship_tag": "ABX9TyP1ozEwHcLzNRXDkrXPZ5ee",
      "include_colab_link": true
    },
    "kernelspec": {
      "name": "python3",
      "display_name": "Python 3"
    },
    "language_info": {
      "name": "python"
    }
  },
  "cells": [
    {
      "cell_type": "markdown",
      "metadata": {
        "id": "view-in-github",
        "colab_type": "text"
      },
      "source": [
        "<a href=\"https://colab.research.google.com/github/crakcode/CodingStudy/blob/main/Progrmmers_Hash.ipynb\" target=\"_parent\"><img src=\"https://colab.research.google.com/assets/colab-badge.svg\" alt=\"Open In Colab\"/></a>"
      ]
    },
    {
      "cell_type": "markdown",
      "metadata": {
        "id": "s2nvfoVfC5MS"
      },
      "source": [
        "# 해시 문제 연습/ 프로그래머스\n",
        "\n",
        "- 체육복 (프로그래머스)\n",
        "- 섬연결하기( 프로그래머스)\n",
        "- 단속카메라(프로그래머스)"
      ]
    },
    {
      "cell_type": "markdown",
      "metadata": {
        "id": "UbYaRK-QfMWS"
      },
      "source": [
        "## sort\n"
      ]
    },
    {
      "cell_type": "code",
      "metadata": {
        "id": "UKPUfYkhV9NF"
      },
      "source": [
        "'''\n",
        "1. 일단 sort를 통해서 크기대로 정렬한다.\n",
        "\n",
        "2. sort 되어진것들을 이웃한것과 비교하여 처리한다. \n",
        "\n",
        "'''\n",
        "\n",
        "\n",
        "phone_book=[\"119\", \"97674223\", \"1195524421\"]\t\n",
        "\n",
        "n=len(phone_book)\n",
        "pb=phone_book\n",
        "pb.sort()\n",
        "\n",
        "for i in range(n):\n",
        "  if pb[i] in pb[i+1:]:\n",
        "    return False\n",
        "\n",
        "\n"
      ],
      "execution_count": null,
      "outputs": []
    },
    {
      "cell_type": "markdown",
      "metadata": {
        "id": "lg0Eicf6fOtS"
      },
      "source": [
        "## 위장"
      ]
    },
    {
      "cell_type": "code",
      "metadata": {
        "colab": {
          "base_uri": "https://localhost:8080/"
        },
        "id": "i9nF7XTSaZ_X",
        "outputId": "bf106832-3fe2-4cef-cf48-99965b12cae6"
      },
      "source": [
        "'''\n",
        "\n",
        "1. 경우의수를 계산해본다 \n",
        "2. face, headgear 로 종류가 나뉜다. \n",
        "2-1. face를 선택하는 경우의수 + face를 뺄때의 경우의 수 \n",
        "2-2. headgear를 선택하는 경우의수 + headgear를 뺄때의 경우의 수 \n",
        "3. 이 경우의수를 2의 경우의 수를 모두구하고 모두 안입을 경우의 수를 빼면된다\n",
        "\n",
        "\n",
        "'''\n",
        "\n",
        "clothes=[[\"crowmask\", \"face\"], [\"bluesunglasses\", \"face\"], [\"smoky_makeup\", \"face\"]]\t\n",
        "closet={}\n",
        "\n",
        "for v,k in clothes:\n",
        "  closet[k]=closet.get(k,0)+1\n",
        "\n",
        "\n",
        "temp=1\n",
        "for k,v in closet.items():\n",
        "  temp*=(v+1)\n",
        "\n",
        "answer=temp-1\n",
        "\n",
        "print(answer)\n"
      ],
      "execution_count": 25,
      "outputs": [
        {
          "output_type": "stream",
          "name": "stdout",
          "text": [
            "3\n"
          ]
        }
      ]
    },
    {
      "cell_type": "markdown",
      "metadata": {
        "id": "IopFn-Lri5Mm"
      },
      "source": [
        "## 베스트앨범\n"
      ]
    },
    {
      "cell_type": "code",
      "metadata": {
        "id": "CAgXOuSJkK6L"
      },
      "source": [
        ""
      ],
      "execution_count": null,
      "outputs": []
    }
  ]
}
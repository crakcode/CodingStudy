{
  "nbformat": 4,
  "nbformat_minor": 0,
  "metadata": {
    "colab": {
      "name": "CodingStudy220106.ipynb",
      "provenance": [],
      "collapsed_sections": [],
      "authorship_tag": "ABX9TyPtiG+Ir7qsVbyxXOzluQCI",
      "include_colab_link": true
    },
    "kernelspec": {
      "name": "python3",
      "display_name": "Python 3"
    },
    "language_info": {
      "name": "python"
    }
  },
  "cells": [
    {
      "cell_type": "markdown",
      "metadata": {
        "id": "view-in-github",
        "colab_type": "text"
      },
      "source": [
        "<a href=\"https://colab.research.google.com/github/crakcode/CodingStudy/blob/main/CodingStudy220106.ipynb\" target=\"_parent\"><img src=\"https://colab.research.google.com/assets/colab-badge.svg\" alt=\"Open In Colab\"/></a>"
      ]
    },
    {
      "cell_type": "markdown",
      "source": [
        "## 추월"
      ],
      "metadata": {
        "id": "7KUd53q33x9d"
      }
    },
    {
      "cell_type": "code",
      "source": [
        ""
      ],
      "metadata": {
        "id": "2IGdPezQWPJt"
      },
      "execution_count": null,
      "outputs": []
    },
    {
      "cell_type": "markdown",
      "source": [
        "## 단축키 지정"
      ],
      "metadata": {
        "id": "QR192TEjWPMs"
      }
    },
    {
      "cell_type": "code",
      "source": [
        "n=int(input())\n",
        "\n",
        "hash={}\n",
        "\n",
        "def designate(string):\n",
        "  arr=string.split()\n",
        "  flag=True\n",
        "  for i in range(len(arr)):\n",
        "    if arr[i][0] not in hash.items():\n",
        "      hash[arr[i][0]]=1\n",
        "      flag=False\n",
        "      return \n",
        "  if flag:\n",
        "    for elements in arr:\n",
        "      for char in elements:\n",
        "        if char not in hash.items():\n",
        "          hash[char]=1\n",
        "          return \n",
        "  \n",
        "    \n",
        "    \n",
        "\n",
        "  \n",
        "\n",
        "\n",
        "for _ in range(n):\n",
        "  arr=input().split()\n",
        "    \n",
        "\n",
        "\n"
      ],
      "metadata": {
        "id": "AMUhGFj0WPPc"
      },
      "execution_count": null,
      "outputs": []
    },
    {
      "cell_type": "code",
      "source": [
        "from collections import deque \n",
        "string=input()\n",
        "\n",
        "temp=string.split()\n",
        "\n",
        "\n",
        "\n",
        "print(temp[0][0])\n",
        "\n",
        "dq=deque(temp)\n",
        "print(dq)"
      ],
      "metadata": {
        "colab": {
          "base_uri": "https://localhost:8080/"
        },
        "id": "idlBdCNlWPSF",
        "outputId": "86f8ded5-a9c9-43d0-fd83-a86e88e75cf3"
      },
      "execution_count": 8,
      "outputs": [
        {
          "output_type": "stream",
          "name": "stdout",
          "text": [
            "qwd wqd\n",
            "q\n",
            "deque(['qwd', 'wqd'])\n"
          ]
        }
      ]
    },
    {
      "cell_type": "code",
      "execution_count": 24,
      "metadata": {
        "id": "KdWGLqawTjHg",
        "colab": {
          "base_uri": "https://localhost:8080/"
        },
        "outputId": "adeb5d67-a410-4da4-ae91-d4106ac30e97"
      },
      "outputs": [
        {
          "output_type": "stream",
          "name": "stdout",
          "text": [
            "True Save All\n",
            "dict_items([('N', 1), ('O', 1), ('S', 1), ('A', 1), ('v', 1)])\n"
          ]
        }
      ],
      "source": [
        "# n=int(input())\n",
        "import copy\n",
        "hash={}\n",
        "\n",
        "def designate(string):\n",
        "  arr=string.split()\n",
        "  flag=True\n",
        "  for i in range(len(arr)):\n",
        "    if arr[i][0] not in hash.keys():\n",
        "      hash[arr[i][0]]=1\n",
        "      flag=False\n",
        "      return\n",
        "    else:\n",
        "      continue\n",
        "  print(flag,string)\n",
        "  if flag:\n",
        "    for elements in arr:\n",
        "      for char in elements:\n",
        "        c=copy.deepcopy(char)\n",
        "        char=char.upper()\n",
        "        if char not in hash.keys():\n",
        "          if char!=c:\n",
        "            hash[c]=1\n",
        "            return\n",
        "          hash[char]=1\n",
        "          return \n",
        "\n",
        "designate(\"New\")\n",
        "designate(\"Open\")\n",
        "designate(\"Save\")\n",
        "designate(\"Save As\")\n",
        "designate(\"Save All\")\n",
        "print(hash.items())\n"
      ]
    },
    {
      "cell_type": "code",
      "source": [
        "import copy\n",
        "\n",
        "\n",
        "n=int(input())\n",
        "\n",
        "hash={}\n",
        "res=[]\n",
        "\n",
        "def designate(string):\n",
        "  arr=string.split()\n",
        "  flag=True\n",
        "  for i in range(len(arr)):\n",
        "    if arr[i][0] not in hash.keys():\n",
        "      hash[arr[i][0]]=1\n",
        "      res.append(arr[i][0])\n",
        "      flag=False\n",
        "      return\n",
        "    else:\n",
        "      continue\n",
        "  print(flag,string)\n",
        "  if flag:\n",
        "    for elements in arr:\n",
        "      for char in elements:\n",
        "        c=copy.deepcopy(char)\n",
        "        char=char.upper()\n",
        "        if char not in hash.keys():\n",
        "          if char!=c:\n",
        "            hash[c]=1\n",
        "            res.append(c)\n",
        "            return\n",
        "          hash[char]=1\n",
        "          res.append(char)\n",
        "          return \n",
        "\n",
        "for _ in range(n):\n",
        "  s=input()\n",
        "  designate(s)\n",
        "\n",
        "print(res)\n",
        "\n",
        "\n"
      ],
      "metadata": {
        "id": "AWxqiCHBRIyS",
        "colab": {
          "base_uri": "https://localhost:8080/"
        },
        "outputId": "c62520a2-f05d-4dd9-d305-9eacc78abaef"
      },
      "execution_count": 19,
      "outputs": [
        {
          "output_type": "stream",
          "name": "stdout",
          "text": [
            "hello world\n"
          ]
        }
      ]
    },
    {
      "cell_type": "markdown",
      "source": [
        "## 아우으 우아으이야!!\n"
      ],
      "metadata": {
        "id": "hCY9cYcZRI06"
      }
    },
    {
      "cell_type": "code",
      "source": [
        "from collections import deque\n",
        "\n",
        "n=int(input())\n",
        "dq=deque()\n",
        "for _ in range(n):\n",
        "  a,b=map(int,input().split())\n",
        "  dq.append((a,b))\n",
        "\n",
        "length=0\n",
        "while dq:\n",
        "  x,y=dq.popleft()\n",
        "  while len(dq)>=2:\n",
        "    if dq[0][0]<y:\n",
        "      _,y=dq.popleft()\n",
        "    else:\n",
        "      break \n",
        "  length+=abs(y-x)\n",
        "\n",
        "\n",
        "print(length)\n",
        "\n",
        "\n",
        "\n",
        "\n"
      ],
      "metadata": {
        "id": "R5T-LjivRI3S"
      },
      "execution_count": null,
      "outputs": []
    }
  ]
}
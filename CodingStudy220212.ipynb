{
  "nbformat": 4,
  "nbformat_minor": 0,
  "metadata": {
    "colab": {
      "name": "CodingStudy220212.ipynb",
      "provenance": [],
      "collapsed_sections": [],
      "authorship_tag": "ABX9TyMPZAyUGfdwG9vIAWmoop+k",
      "include_colab_link": true
    },
    "kernelspec": {
      "name": "python3",
      "display_name": "Python 3"
    },
    "language_info": {
      "name": "python"
    }
  },
  "cells": [
    {
      "cell_type": "markdown",
      "metadata": {
        "id": "view-in-github",
        "colab_type": "text"
      },
      "source": [
        "<a href=\"https://colab.research.google.com/github/crakcode/CodingStudy/blob/main/CodingStudy220212.ipynb\" target=\"_parent\"><img src=\"https://colab.research.google.com/assets/colab-badge.svg\" alt=\"Open In Colab\"/></a>"
      ]
    },
    {
      "cell_type": "markdown",
      "source": [
        "## 보물섬"
      ],
      "metadata": {
        "id": "p7F3UefEcuUq"
      }
    },
    {
      "cell_type": "code",
      "source": [
        "'''\n",
        "\n",
        "그냥 BFS 를 브루트포스를 이용해서 \n",
        "\n",
        "최단거리를 계속적으로 구했고 그 최단거리중에서 최대값을\n",
        "반환하여 거리를 구했다\n",
        "\n",
        "self complete\n",
        "\n",
        "\n",
        "''''\n",
        "\n",
        "\n",
        "from collections import deque\n",
        "n,m=map(int,input().split())\n",
        "\n",
        "for _ in range(n):\n",
        "  matrix.append(list(input()))\n",
        "\n",
        "dx=[1,-1,0,0]\n",
        "dy=[1,-1,0,0]\n",
        "def BFS(x,y):\n",
        "  visited=[[0]*(m) for _ in range(n)]\n",
        "  dq=deque()\n",
        "  visited[x][y]=1\n",
        "  dq.append((x,y))\n",
        "  ans=0\n",
        "  while dq:\n",
        "    x,y=dq.popleft()\n",
        "    for i in range(4):\n",
        "      temp=0\n",
        "      nx,ny=x+dx[i],y+dy[i]\n",
        "      if 0<=nx<n and 0<=ny<m and matrix[nx][ny]==\"L\" and visited[nx][ny]==0:\n",
        "        visited[nx][ny]=visited[x][y]+1\n",
        "        ans=max(ans,visited[nx][ny])\n",
        "        dq.append((nx,ny))\n",
        "  \n",
        "  return ans\n",
        "\n",
        "res=0\n",
        "for i in range(n):\n",
        "  for j in range(m):\n",
        "    if matrix[i][j]==\"L\":\n",
        "      temp=BFS(i,j)\n",
        "      res=max(res,temp)\n",
        "  \n",
        "print(res)\n",
        "    \n",
        "\n"
      ],
      "metadata": {
        "id": "nvmsY7wrd621"
      },
      "execution_count": null,
      "outputs": []
    },
    {
      "cell_type": "markdown",
      "source": [
        "## 암호만들기"
      ],
      "metadata": {
        "id": "ZN8DBvEJojSz"
      }
    },
    {
      "cell_type": "code",
      "source": [
        ""
      ],
      "metadata": {
        "id": "yDmpYOrhojgx"
      },
      "execution_count": null,
      "outputs": []
    },
    {
      "cell_type": "markdown",
      "source": [
        "## 소문난 칠공주\n"
      ],
      "metadata": {
        "id": "deicyF2Hqyj0"
      }
    },
    {
      "cell_type": "code",
      "source": [
        "\n",
        "\n",
        "\n",
        "\n",
        "arr=[0]*(7)\n",
        "\n",
        "n=7\n",
        "dx=[1,-1,0,0]\n",
        "dy=[0,0,1,-1]\n",
        "\n",
        "def DFS(x,y,L):\n",
        "  if L==7:\n",
        "    cnt=0\n",
        "    for i in range(n):\n",
        "      if arr[i]==\"S\":\n",
        "        cnt+=1\n",
        "    if cnt>=4:\n",
        "      return True\n",
        "    return False\n",
        "  \n",
        "  else:\n",
        "    for i in range(4):\n",
        "      nx,ny=x+dx[i],y+dy[i]\n",
        "      if 0>nx or 5<=nx or 0>ny or 5<=ny:\n",
        "        continue \n",
        "      if not visited[nx][ny]:\n",
        "        arr[L]=visited[nx][ny]\n",
        "        visited[nx][ny]=True\n",
        "        DFS(nx,ny,L+1)\n",
        "        visited[nx][ny]=False\n",
        "\n",
        "\n",
        "\n",
        "visited=[[False]*(5) for i in range(5)]\n",
        "\n",
        "for _ in range(5):\n",
        "  matrix.append(list(map(int,input().split())))\n",
        "\n"
      ],
      "metadata": {
        "id": "TfYsFG90q0kb"
      },
      "execution_count": null,
      "outputs": []
    },
    {
      "cell_type": "code",
      "source": [
        "\n",
        "n,m=map(int,input().split())\n",
        "arr=[i for i in range(1,n+1)]\n",
        "\n",
        "res=[0]*(m)\n",
        "# 1 2 3 4\n",
        "# res 1 2\n",
        "def DFS(L):\n",
        "  if L==m:\n",
        "    temp=[]\n",
        "    for i in res:\n",
        "      if i not in temp:\n",
        "        temp.append(i)\n",
        "    print(temp)\n",
        "    return\n",
        "  else:\n",
        "    for i in range(L,n):\n",
        "      res[L]=arr[i]\n",
        "      DFS(L+1)\n",
        "      res[L]=0\n",
        "      \n",
        "\n",
        "\n",
        "DFS(0)\n"
      ],
      "metadata": {
        "colab": {
          "base_uri": "https://localhost:8080/"
        },
        "id": "YDShNBo7t3_4",
        "outputId": "3f6ea6bd-7238-4a24-fdd9-8a086edf2478"
      },
      "execution_count": 3,
      "outputs": [
        {
          "output_type": "stream",
          "name": "stdout",
          "text": [
            "4 4\n",
            "[1, 2, 3, 4]\n",
            "[1, 2, 4]\n",
            "[1, 3, 4]\n",
            "[1, 3, 4]\n",
            "[1, 4, 3]\n",
            "[1, 4]\n",
            "[2, 3, 4]\n",
            "[2, 4]\n",
            "[2, 3, 4]\n",
            "[2, 3, 4]\n",
            "[2, 4, 3]\n",
            "[2, 4]\n",
            "[3, 2, 4]\n",
            "[3, 2, 4]\n",
            "[3, 4]\n",
            "[3, 4]\n",
            "[3, 4]\n",
            "[3, 4]\n",
            "[4, 2, 3]\n",
            "[4, 2]\n",
            "[4, 3]\n",
            "[4, 3]\n",
            "[4, 3]\n",
            "[4]\n"
          ]
        }
      ]
    }
  ]
}
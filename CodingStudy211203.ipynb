{
  "nbformat": 4,
  "nbformat_minor": 0,
  "metadata": {
    "colab": {
      "name": "CodingStudy211203.ipynb",
      "provenance": [],
      "collapsed_sections": [],
      "authorship_tag": "ABX9TyPPYDv43iDY2axgWW7yusUt",
      "include_colab_link": true
    },
    "kernelspec": {
      "name": "python3",
      "display_name": "Python 3"
    },
    "language_info": {
      "name": "python"
    }
  },
  "cells": [
    {
      "cell_type": "markdown",
      "metadata": {
        "id": "view-in-github",
        "colab_type": "text"
      },
      "source": [
        "<a href=\"https://colab.research.google.com/github/crakcode/CodingStudy/blob/main/CodingStudy211203.ipynb\" target=\"_parent\"><img src=\"https://colab.research.google.com/assets/colab-badge.svg\" alt=\"Open In Colab\"/></a>"
      ]
    },
    {
      "cell_type": "markdown",
      "metadata": {
        "id": "amMNNpTkJDm_"
      },
      "source": [
        "## 알고리즘테스트\n",
        "\n",
        "\n",
        "- 프로그래머스 10문제\n",
        "  - 문자열 압축\n",
        "  - 오픈채팅방\n",
        "  - 멀쩡한 사각형\n",
        "  - 124 나라의 숫자\n",
        "  - 기능개발\n",
        "  - 타겟 넘버\n",
        "  - 괄호변환\n",
        "  - 프린터\n",
        "  - 가장큰수\n",
        "  - 소수찾기 O\n",
        "\n",
        "- 백준 4문제\n"
      ]
    },
    {
      "cell_type": "code",
      "metadata": {
        "id": "XB8ox5AQLfY4"
      },
      "source": [
        "\n",
        "\n"
      ],
      "execution_count": null,
      "outputs": []
    },
    {
      "cell_type": "code",
      "metadata": {
        "id": "S0xr9iMELfxf"
      },
      "source": [
        ""
      ],
      "execution_count": null,
      "outputs": []
    },
    {
      "cell_type": "code",
      "metadata": {
        "id": "LBbOY_MPLf0P"
      },
      "source": [
        ""
      ],
      "execution_count": null,
      "outputs": []
    },
    {
      "cell_type": "code",
      "metadata": {
        "colab": {
          "base_uri": "https://localhost:8080/"
        },
        "id": "Vc9idrNkLf2m",
        "outputId": "38279bb0-e5b2-4b0a-e9b7-b494d3640e33"
      },
      "source": [
        "from itertools import permutations\n",
        "\n",
        "\n",
        "arr=[0,1,1]\n",
        "n=len(arr)\n",
        "\n",
        "res=[]\n",
        "\n",
        "def prime(num):\n",
        "  for i in range(2,num):\n",
        "    if num%i==0:\n",
        "      return False\n",
        "  return True \n",
        "\n",
        "for i in range(1,n+1):\n",
        "  for j in permutations(arr,i):\n",
        "    string=\"\"\n",
        "    for k in j:\n",
        "      string+=str(k)\n",
        "    string=int(string)\n",
        "    if string not in res:\n",
        "      if prime(string):\n",
        "        res.append(string)\n",
        "\n",
        "arr=[0,1]\n",
        "\n",
        "res.remove(0)\n",
        "res.remove(1)\n",
        "print(res)"
      ],
      "execution_count": null,
      "outputs": [
        {
          "output_type": "stream",
          "name": "stdout",
          "text": [
            "[11, 101]\n"
          ]
        }
      ]
    },
    {
      "cell_type": "markdown",
      "metadata": {
        "id": "V15UGTiWPdUE"
      },
      "source": [
        "## 소수찾기\n",
        "\n",
        "- 출처: 프로그래머스 \n",
        "- 주제: 완전탐색\n",
        "- 풀이법: combination 활용\n"
      ]
    },
    {
      "cell_type": "code",
      "metadata": {
        "colab": {
          "base_uri": "https://localhost:8080/"
        },
        "id": "8zfc6j6XOGpd",
        "outputId": "dc99cab2-d513-4fef-978f-facfe6b1cc5d"
      },
      "source": [
        "from itertools import permutations\n",
        "\n",
        "def solution(numbers):\n",
        "    arr=list(numbers)\n",
        "    n=len(arr)\n",
        "\n",
        "    def prime(num):\n",
        "      if num==0 or num==1:\n",
        "        return False \n",
        "      for i in range(2,num):\n",
        "        if num%i==0:\n",
        "          return False\n",
        "      return True \n",
        "\n",
        "    res=[]\n",
        "\n",
        "    for i in range(1,n+1):\n",
        "      for j in permutations(arr,i):\n",
        "        string=\"\"\n",
        "        for k in j:\n",
        "          string+=str(k)\n",
        "        string=int(string)\n",
        "        if string not in res:\n",
        "          if prime(string):\n",
        "            res.append(string)\n",
        "    return res\n",
        "\n",
        "solution(\"011\")"
      ],
      "execution_count": null,
      "outputs": [
        {
          "output_type": "execute_result",
          "data": {
            "text/plain": [
              "[11, 101]"
            ]
          },
          "metadata": {},
          "execution_count": 25
        }
      ]
    },
    {
      "cell_type": "markdown",
      "metadata": {
        "id": "NyosM8LDQYee"
      },
      "source": [
        "## 프린터\n",
        "\n",
        "- 출처: 프로그래머스 \n",
        "- 주제: \n",
        "- 풀이법:\n"
      ]
    },
    {
      "cell_type": "code",
      "metadata": {
        "colab": {
          "base_uri": "https://localhost:8080/"
        },
        "id": "7kSGjX4oQdBP",
        "outputId": "e2fc21fd-a1aa-48dc-e972-798c1e556123"
      },
      "source": [
        "from collections import deque \n",
        "\n",
        "\n",
        "priorities=[2, 1, 3, 2]\n",
        "location=2\n",
        "\n",
        "\n",
        "arr=[]\n",
        "for i,v in enumerate(priorities):\n",
        "  temp=[]\n",
        "  arr.append((v,i))\n",
        "print(arr)\n",
        "dq=deque(arr)\n",
        "\n",
        "\n",
        "while dq:\n",
        "  value,idx=dq.popleft()\n",
        "  if value<max(dq)[0]:\n",
        "    dq.append((value,idx))\n",
        "  else:\n",
        "    if idx==location:\n",
        "      print(time)\n",
        "  time+=1\n",
        "\n",
        "print(tom)"
      ],
      "execution_count": null,
      "outputs": [
        {
          "output_type": "stream",
          "name": "stdout",
          "text": [
            "[(1, 0), (1, 1), (9, 2), (1, 3), (1, 4), (1, 5)]\n",
            "6\n"
          ]
        }
      ]
    },
    {
      "cell_type": "code",
      "metadata": {
        "colab": {
          "base_uri": "https://localhost:8080/"
        },
        "id": "5ekHAnPEWfON",
        "outputId": "a2b5d06c-5a35-4afb-dae0-8924c7ab1709"
      },
      "source": [
        "from collections import deque \n",
        "'''\n",
        "1. 왜 if 문에 dq를 한번더 확인해주어야 하는가 \n",
        "2. time을 출력할때 큐에서 빠질때 time을 증가시키는것이 아니다 \n",
        "\n",
        "\n",
        "'''\n",
        "def solution(priorities, location):\n",
        "    arr=[]\n",
        "    for i,v in enumerate(priorities):\n",
        "        arr.append((v,i))\n",
        "    dq=deque(arr)\n",
        "    time=0\n",
        "    while len(dq):\n",
        "        value,idx=dq.popleft()\n",
        "        if dq and value<max(dq)[0]:\n",
        "            dq.append((value,idx))\n",
        "        else:\n",
        "            time+=1\n",
        "            if idx==location:\n",
        "                break\n",
        "                \n",
        "    return time \n"
      ],
      "execution_count": null,
      "outputs": [
        {
          "output_type": "execute_result",
          "data": {
            "text/plain": [
              "5"
            ]
          },
          "metadata": {},
          "execution_count": 40
        }
      ]
    },
    {
      "cell_type": "markdown",
      "metadata": {
        "id": "dLhgxF4MPQ4t"
      },
      "source": [
        "## 타겟넘버\n"
      ]
    },
    {
      "cell_type": "code",
      "metadata": {
        "colab": {
          "base_uri": "https://localhost:8080/",
          "height": 137
        },
        "id": "zh5QTGdwPR6K",
        "outputId": "cc14af76-d5ef-4d89-c15b-c17aaecdaac1"
      },
      "source": [
        "\n",
        "\n",
        "numbers=[1, 1, 1, 1, 1]\n",
        "check=[False]*(5)\n",
        "\n",
        "target=3\n",
        "\n",
        "\n",
        "cnt=0\n",
        "def DFS(s):\n",
        "  global cnt\n",
        "  if s==target:\n",
        "    cnt+=1\n",
        "    return \n",
        "  for i in range(len(numbers)):\n",
        "    if not check[i]:\n",
        "      check[i]=True\n",
        "      s+=numbers[i]\n",
        "      check[i]=False\n",
        "\n"
      ],
      "execution_count": 1,
      "outputs": [
        {
          "output_type": "error",
          "ename": "SyntaxError",
          "evalue": "ignored",
          "traceback": [
            "\u001b[0;36m  File \u001b[0;32m\"<ipython-input-1-bf3c705bb349>\"\u001b[0;36m, line \u001b[0;32m10\u001b[0m\n\u001b[0;31m    \u001b[0m\n\u001b[0m    ^\u001b[0m\n\u001b[0;31mSyntaxError\u001b[0m\u001b[0;31m:\u001b[0m unexpected EOF while parsing\n"
          ]
        }
      ]
    },
    {
      "cell_type": "code",
      "metadata": {
        "colab": {
          "base_uri": "https://localhost:8080/"
        },
        "id": "dyLZ3M1krgHo",
        "outputId": "57935d72-8e4e-45b5-ffb2-50122190f450"
      },
      "source": [
        "from collections import deque\n",
        "\n",
        "'''\n",
        "\n",
        "초반에는 그냥 백트래킹으로만 생각을 했었는데\n",
        "블로그 찾아보니 bfs 로도 풀수있어서 대충 보면서 짜봄\n",
        "\n",
        "여기서 의문이 드는점\n",
        "- 왜 분기처리해서 v==target 이 부분을 처리하는지 \n",
        "- \n",
        "\n",
        "\n",
        "'''\n",
        "\n",
        "numbers=[1, 1, 1, 1, 1]\n",
        "\n",
        "target=3\n",
        "dq=deque()\n",
        "dq.append([numbers[0],0])\n",
        "dq.append([(-1)*numbers[0],0])\n",
        "\n",
        "cnt=0\n",
        "while dq:\n",
        "  v,idx=dq.popleft()\n",
        "  idx+=1\n",
        "  if idx<len(numbers):\n",
        "    dq.append((v+numbers[idx],idx))\n",
        "    dq.append((v+(-1)*numbers[idx],idx))\n",
        "  else:\n",
        "    if v==target:\n",
        "      cnt+=1\n",
        "\n",
        "print(cnt)\n",
        "\n",
        "\n",
        "\n",
        "\n",
        "\n"
      ],
      "execution_count": 10,
      "outputs": [
        {
          "output_type": "stream",
          "name": "stdout",
          "text": [
            "5\n"
          ]
        }
      ]
    },
    {
      "cell_type": "markdown",
      "metadata": {
        "id": "Hf9hRI6JQPaK"
      },
      "source": [
        "## 문자열 압축\n",
        "\n",
        "(다시보기)"
      ]
    },
    {
      "cell_type": "code",
      "metadata": {
        "colab": {
          "base_uri": "https://localhost:8080/"
        },
        "id": "houVSgZzQ1N9",
        "outputId": "4974d683-18cc-4b8c-844f-f8d0b7d6b509"
      },
      "source": [
        "'''\n",
        "\n",
        "1. 일단 하나씩 자르고 두개씩 자르고 .... 문자열의 크기의 절반 만큼 자른다.\n",
        "\n",
        "2. cnt는 그 문자열이 반복되는 횟수를 저장하는것이다.\n",
        "\n",
        "  3. 문자열 반복이 멈추면 \n",
        "\n",
        "    3-1. b라는 문자열에 해당 문자열을 저장한다\n",
        "    3-2. 1일때는 1a 이렇게 저장안하기에 b=b+temp로 저장하고\n",
        "    3-3. 1이 아닐떄는 그 값을 \n",
        "\n",
        "  4. 마지막에 자른것으로 나누어서 저장을 해놓는다.\n",
        "    4-1. cnt==1 이면 걍 b+temp 값을 저장하고 \n",
        "    4-2. cnt 값이 1이 아니면 걍 cnt + 해서저장한다.\n",
        "\n",
        "'''\n",
        "\n",
        "\n",
        "s=\"aabbaccc\"\n",
        "\n",
        "n=len(s)\n",
        "\n",
        "\n",
        "result=[]\n",
        "for i in range(1,n):\n",
        "  b=\"\"\n",
        "  cnt=1\n",
        "  temp=s[:i]\n",
        "  for j in range(i,n,i):\n",
        "    if temp==s[j:j+i]:\n",
        "      cnt+=1\n",
        "    else:\n",
        "      if cnt!=1:\n",
        "        b=b+str(cnt)+temp\n",
        "      else:\n",
        "        b=b+temp\n",
        "      temp=s[j:j+i]\n",
        "      cnt=1\n",
        "  if cnt!=1:\n",
        "    b=b+str(cnt)+temp\n",
        "  else:\n",
        "    b=b+temp\n",
        "\n",
        "  result.append(b)\n",
        "\n",
        "print(result) \n",
        "  # if cnt!=1\n",
        "\n",
        "    \n",
        "\n",
        "\n",
        "\n",
        "\n"
      ],
      "execution_count": 5,
      "outputs": [
        {
          "output_type": "stream",
          "name": "stdout",
          "text": [
            "['2a2ba3c', 'aabbaccc', 'aabbaccc', 'aabbaccc', 'aabbaccc', 'aabbaccc', 'aabbaccc']\n"
          ]
        }
      ]
    }
  ]
}